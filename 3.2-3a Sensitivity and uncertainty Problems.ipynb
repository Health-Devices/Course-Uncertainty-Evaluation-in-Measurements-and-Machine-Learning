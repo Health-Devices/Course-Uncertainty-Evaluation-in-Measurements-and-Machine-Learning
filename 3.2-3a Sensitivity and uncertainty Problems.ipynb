{
 "cells": [
  {
   "cell_type": "markdown",
   "metadata": {},
   "source": [
    "# **ELG 7172B : **: Homework 5 Solutions"
   ]
  },
  {
   "cell_type": "markdown",
   "metadata": {},
   "source": [
    "The solution are provided by Issa Ayoub and XiaoYan Li with small changes made by Prof. Miodrag Bolic  <br>\n"
   ]
  },
  {
   "cell_type": "markdown",
   "metadata": {},
   "source": [
    "# Problem 1:\n",
    "(This problem is from the course Uncertainty Quantification in Engineering Science by Dr. Costas Papadimitriou: http://eclass.uth.gr/eclass/courses/MHXB124/ .)\n",
    "\n",
    "Consider the mathematical model of a physical process represented by the equation $Y=acos(X_{1}-1)+E$ , where $X_{1}$ is the\n",
    "uncertain parameter of the mathematical model of the system, $Y \\epsilon R$ is the output quantity of interest $(QoI)$, and \n",
    "$E \\epsilon R$ represents the model error which is quantified by a Gaussian distribution $E \\sim \\mathcal{N}(0,S)$ , where $S \\epsilon R$ . \n",
    "The variable $a$ is known constant. The uncertainty in the output $QoI$ is quantified by the simplified measures of uncertainty such as the mean $\\mu_{Y}$ and \n",
    "standard deviation $\\sigma_{Y}$. Given the uncertainty in the parameter $X_{1}$, find the uncertainty in the output $QoI Y$ in the following cases. \n",
    "\n",
    "a. The parameter $X_{1}$, has mean $\\mu_{1} = 1$ and standard deviation $\\sigma$. \n",
    "\n",
    "b. The parameter $X_{1}$ is uniform with upper and lower bounds $1 -b$ and $1+ b$. Use the analytical approximations based on \n",
    "Taylor series expansion up to the quadratic term. Also find the exact estimate of the mean ,$\\mu_{Y}$ and standard deviation \n",
    "$\\sigma_{Y}$, and investigate the effect of level of the uncertainty in $X_{1}$ on the accuracy of the Taylor series expansion \n",
    "estimate by plotting the errors \n",
    "\n",
    "$\\left | \\mu_{Y}^{apprx} - \\mu_{Y}^{exact} \\right | / \\mu_{Y}^{exact}$\n",
    "\n",
    "$\\left | \\sigma_{Y}^{apprx} - \\sigma_{Y}^{exact} \\right | / \\sigma_{Y}^{exact}$\n",
    "\n",
    "as a function of b ranging from 0 to 1. Comment on the results.\n"
   ]
  },
  {
   "cell_type": "markdown",
   "metadata": {},
   "source": [
    "$\\textbf{Solution:}$<br>\n",
    "Please note that the solution is provided for the Taylor series up to second order. The second order is used because  ${\\displaystyle f'(x_0)(x-x_0)=0}$ around the mean."
   ]
  },
  {
   "cell_type": "markdown",
   "metadata": {},
   "source": [
    "$\\textbf{Answer(a):}$<br>\n",
    "Exact estimate of the mean$\\mu_{Y}^{exact}$ and standard deviation$\\sigma_{Y}^{exact}$:<br>\n",
    "$X_1\\sim N(\\mu_1=1,\\sigma)$,<br>\n",
    "$Z=X_1-1\\sim N(\\mu_z=0,\\sigma)$<br>\n",
    "$\\mu_{Y}^{exact}=\\text{E}[Y]=a \\text{E}[\\cos (X_1-1)]+\\text{E}[E]=a\\text{E}[\\cos Z]+0=a \\int_{+\\infty}^{-\\infty}\\cos Z\\frac{1}{\\sqrt{2\\pi}\\sigma}e^{-\\frac{Z^2}{\\sigma^2}}dZ = ae^{-\\frac{\\sigma^2}{2}}$<br><br>\n",
    "$(\\sigma_{Y}^{exact})^2=var[Y]=a^2var(\\cos Z)+S^2=a^2\\frac{1}{2}(1-e^{-\\sigma^2})^2+S^2$ <br><br>\n",
    "Find the approximate estimate of the mean$\\mu_{Y}^{approx}$ and standard deviation$\\sigma_{Y}^{approx}$:<br>\n",
    "$Y\\approx a\\cos \\text{E}[Z]+E-a\\sin Z(Z-\\text{E}[Z])$, where $\\text{E}[Z]=0$.<br>\n",
    "(based on Taylor series expansion:${\\displaystyle f(x)\\approx f(x_0)+f'(x_0)(x-x_0)}$.<br><br>\n",
    "$\\mu_{Y}^{approx}=\\text{E}[Y]=\\text{E}[a\\cos \\text{E}[Z]+E-a\\sin Z(Z-\\text{E}[Z])]\\approx a+0-a\\text{E}[Z\\sin Z]\\approx a-a\\sigma^2e^{-\\frac{\\sigma^2}{2}}$<br> \n",
    "($\\text{E}[Z\\sin Z]=\\sigma^2e^{-\\frac{\\sigma^2}{2}}$ is based on Euler's formula).<br><br>\n",
    "$(\\sigma_{Y}^{approx})^2=var(Y)=(\\frac{\\partial Y}{\\partial Z}|_{Z=\\text{E}[Z]})^2var(Z) + (\\frac{\\partial Y}{\\partial E}|_{E=\\text{E}[E]})^2var(E)=-a\\sin \\text{E}[Z]\\sigma^2 + S^2=-a\\sin 0\\sigma^2 + S^2 = S^2$<br><br>"
   ]
  },
  {
   "cell_type": "markdown",
   "metadata": {},
   "source": [
    "$\\textbf{Answer(b):}$<br>\n",
    "$X_1: p(X_1)=\n",
    "\\begin{cases}\\frac{1}{2b} & [1-b, 1+b]\\\\\n",
    "0 & elsewhere\n",
    "\\end{cases}$ <br>\n",
    "$Z=X_1-1: p(Z)=\n",
    "\\begin{cases}\n",
    "\\frac{1}{2b} & [-b, b]\\\\\n",
    "0 & elsewhere\n",
    "\\end{cases}$ <br><br>\n",
    "therefore, <br>\n",
    "$\\text{E}[Z]=0$<br>\n",
    "$var(Z)=\\frac{1}{12}(b+b)^2=\\frac{1}{12}4b^2=\\frac{b^2}{3}$<br><br>\n",
    "Find the exact estimate of the mean$\\mu_{Y}^{exact}$ and standard deviation$\\sigma_{Y}^{exact}$:<br>\n",
    "$\\mu_{Y}^{exact}=\\text{E}[Y]=a\\text{E}[\\cos Z]+\\text{E}[E]=a\\int_{-b}^{b}\\cos Z\\frac{1}{2b}dZ=a\\frac{1}{2b}\\int_{-b}^{b}\\cos ZdZ=\\frac{a}{2b}[\\sin Z]_{b}^{-b}=\\frac{a}{2b}(\\sin b-\\sin (-b))=\\frac{a}{2b}2\\sin b=\\frac{a}{b}\\sin b$<br><br>\n",
    "$var(\\cos Z)=\\text{E}[(\\cos Z)^2]-(\\text{E}[\\cos Z])^2=\\text{E}[\\frac{1}{2}(1+\\cos 2Z)]-(\\text{E}[\\cos Z])^2$<br><br>\n",
    "Since $P(Z)=\n",
    "\\begin{cases}\n",
    "\\frac{1}{2b}, & [-b,b]\\\\\n",
    "0\n",
    "\\end{cases}$<br>\n",
    "therefore, $P(2Z)=\n",
    "\\begin{cases}\n",
    "\\frac{1}{4b}, & [-2b,2b]\\\\\n",
    "0\n",
    "\\end{cases}$<br>\n",
    "$\\text{E}[\\cos (2Z)]=\\int_{-b}^{b}\\cos (2Z)\\frac{1}{2b}dZ=\\frac{1}{4b}\\int_{-b}^{b}\\cos (2Z)d(2Z)=\\frac{1}{4b}\\int_{-2b}^{2b}\\cos W dW=\\frac{1}{4b}[\\sin W]_{-2b}^{2b}=\\frac{1}{4b}2\\sin 2b=\\frac{1}{2b}2\\sin b \\cos b=\\frac{1}{b}\\sin b \\cos b$ <br>\n",
    "($W=2Z,\\int_{-b}^{b}\\cos (2Z)d(2Z)=\\int_{-2b}^{2b}\\cos(W)d(W)).$<br><br>\n",
    "Hence,<br>\n",
    "$var(\\cos Z)=\\text{E}[(\\cos Z)^2]-(\\text{E}[\\cos Z])^2=\\text{E}[\\frac{1}{2}(1+\\cos2Z)]-(\\text{E}[\\cos Z])^2=\\frac{1}{2}+\\frac{1}{2}\\text{E}[\\cos2Z]-(\\text{E}[\\cos Z])^2 = \\frac{1}{2} + \\frac{\\sin b \\cos b}{2b}-\\frac{(\\sin b)^2}{b^2}$ ($\\text{E}[\\cos Z]=\\frac{\\sin b}{b}$ as above).<br><br>\n",
    "Finally, we get:<br>\n",
    "$(\\sigma_{Y}^{exact})^2=var[Y]=a^2var(\\cos Z)+S^2=a^2(\\frac{1}{2}+\\frac{\\sin b \\cos b}{2b}-\\frac{(\\sin b)^2}{b^2})+s^2$<br><br>\n",
    "Find the approximate estimate of the mean$\\mu_{Y}^{approx}$ and standard deviation$\\sigma_{Y}^{approx}$:<br>\n",
    "$Y=a\\cos Z+E, Z\\sim U(-b,b), E\\sim N(0,S)$<br>\n",
    "$Y\\approx a\\cos \\text{E}[Z]+\\text{E}[E] - a\\sin Z(Z-\\text{E}[Z])$(based on Taylor series as above).<br><br>\n",
    "$\\mu_{Y}^{approx}=\\text{E}[Y]\\approx a+0-a\\text{E}[Z\\sin Z]=a+0-a2\\sin b=a-2a(\\sin b-b \\cos b)$, where, $\\text{E}[Z\\sin Z] = \\int_{-b}^{b} Z\\sin Z \\frac{1}{2b}dZ = \\frac{1}{2b}\\int_{-b}^{b}Z \\sin Z dZ = 2\\sin b-2b\\cos b$ (integration by parts)<br><br>\n",
    "$\\frac{\\partial Y}{\\partial Z}=-a\\sin Z, \\frac{\\partial Y}{\\partial E}=1$<br>\n",
    "$(\\sigma_{Y}^{approx})^2=var(Y)=(\\frac{\\partial Y}{\\partial Z}|_{Z=\\text{E}[Z]})^2 var(Z) + (\\frac{\\partial Y}{\\partial E}|_{E=\\text{E}[E]})^2 var(E)=(-a\\sin \\text{E}[Z])^2\\frac{b^2}{3} + S^2=0 \\frac{b^2}{3}+S^2=S^2$<br><br>\n",
    "Therefore,<br>\n",
    "$\\frac{|\\mu_{Y}^{approx}-\\mu_{Y}^{exact}|}{\\mu_{Y}^{exact}}=\\frac{|a-2a(\\sin b-b \\cos b)-\\frac{a}{b}\\sin b|}{\\frac{a}{b}\\sin b}=\\frac{|1-2b\\cos b-(2+\\frac{1}{b})\\sin b|}{\\frac{1}{b}\\sin b}$<br><br>\n",
    "$\\frac{|\\sigma_{Y}^{approx}-\\sigma_{Y}^{exact}|}{\\sigma_{Y}^{exact}}=\\frac{|\\sqrt{S^2}-\\sqrt{a^2(\\frac{1}{2}+\\frac{\\sin b \\cos b}{2b}-\\frac{(\\sin b)^2}{b^2})+S^2}|}{\\sqrt{a^2(\\frac{1}{2}+\\frac{\\sin b \\cos b}{2b}-\\frac{(\\sin b)^2}{b^2})+S^2}}$"
   ]
  },
  {
   "cell_type": "code",
   "execution_count": 13,
   "metadata": {},
   "outputs": [
    {
     "data": {
      "image/png": "[encoded data removed]",
      "text/plain": [
       "<matplotlib.figure.Figure at 0x7f9f98f50e10>"
      ]
     },
     "metadata": {},
     "output_type": "display_data"
    }
   ],
   "source": [
    "#Plotting the errors:\n",
    "import numpy as np\n",
    "import matplotlib.pyplot as plt\n",
    "\n",
    "S=0.1\n",
    "a=2\n",
    "b = np.arange(0.01,1.0, 0.01)\n",
    "\n",
    "mu_error = np.abs(1-2*b*np.cos(b)-(2+1/b)*np.sin(b))/((1/b)*np.sin(b))\n",
    "sigma_error = np.abs( S- np.sqrt(a**2*(1/2 + (np.sin(b)*np.cos(b))/(2*b) - (np.sin(b)**2) / (b**2))))/np.sqrt(a**2*(1/2 + (np.sin(b)*np.cos(b))/(2*b) - (np.sin(b)**2)/(b**2))+S**2)\n",
    "\n",
    "fig = plt.figure()\n",
    "ax = fig.add_subplot(121)\n",
    "ax.plot(b, mu_error, 'k',lw=2)\n",
    "ax.set_title(\"relative mean error\")\n",
    "\n",
    "ax1 = fig.add_subplot(122)\n",
    "ax1.plot(b, sigma_error, 'b',lw=2)\n",
    "ax1.set_title(\"relative variance error\")\n",
    "plt.show()\n"
   ]
  },
  {
   "cell_type": "markdown",
   "metadata": {
    "collapsed": true
   },
   "source": [
    "Comment: We can see that as b increases from 0 to 1, the relative mean error of QoI increases almost linearly; the relative variance error of QoI decreases almost linearly and then increases."
   ]
  },
  {
   "cell_type": "code",
   "execution_count": null,
   "metadata": {},
   "outputs": [],
   "source": [
    "$\\textbf{Answer(a):}$<br>\n",
    "Exact estimate of the mean$\\mu_{Y}^{exact}$ and standard deviation$\\sigma_{Y}^{exact}$:<br>\n",
    "$X_1\\sim N(\\mu_1=1,\\sigma)$,<br>\n",
    "$Z=X_1-1\\sim N(\\mu_z=0,\\sigma)$<br>\n",
    "$\\mu_{Y}^{exact}=\\text{E}[Y]=a \\text{E}[\\cos (X_1-1)]+\\text{E}[E]=a\\text{E}[\\cos Z]+0=a \\int_{+\\infty}^{-\\infty}\\cos Z\\frac{1}{\\sqrt{2\\pi}\\sigma}e^{-\\frac{Z^2}{\\sigma^2}}dZ = ae^{-\\frac{\\sigma^2}{2}}$<br><br>\n",
    "$(\\sigma_{Y}^{exact})^2=var[Y]=a^2var(\\cos Z)+S^2=a^2\\frac{1}{2}(1-e^{-\\sigma^2})^2+S^2$ <br><br>\n",
    "Find the approximate estimate of the mean$\\mu_{Y}^{approx}$ and standard deviation$\\sigma_{Y}^{approx}$:<br>\n",
    "$Y\\approx a\\cos \\text{E}[Z]+E-a\\sin Z(Z-\\text{E}[Z])$, where $\\text{E}[Z]=0$.<br>\n",
    "(based on Taylor series expansion:${\\displaystyle f(x)\\approx f(x_0)+f'(x_0)(x-x_0)}$.<br><br>\n",
    "$\\mu_{Y}^{approx}=\\text{E}[Y]=\\text{E}[a\\cos \\text{E}[Z]+E-a\\sin Z(Z-\\text{E}[Z])]\\approx a+0-a\\text{E}[Z\\sin Z]\\approx a-a\\sigma^2e^{-\\frac{\\sigma^2}{2}}$<br> \n",
    "($\\text{E}[Z\\sin Z]=\\sigma^2e^{-\\frac{\\sigma^2}{2}}$ is based on Euler's formula).<br><br>\n",
    "$(\\sigma_{Y}^{approx})^2=var(Y)=(\\frac{\\partial Y}{\\partial Z}|_{Z=\\text{E}[Z]})^2var(Z) + (\\frac{\\partial Y}{\\partial E}|_{E=\\text{E}[E]})^2var(E)=-a\\sin \\text{E}[Z]\\sigma^2 + S^2=-a\\sin 0\\sigma^2 + S^2 = S^2$<br><br>\n",
    "\n",
    "$\\textbf{Answer(b):}$<br>\n",
    "$X_1: p(X_1)=\n",
    "\\begin{cases}\\frac{1}{2b} & [1-b, 1+b]\\\\\n",
    "0 & elsewhere\n",
    "\\end{cases}$ <br>\n",
    "$Z=X_1-1: p(Z)=\n",
    "\\begin{cases}\n",
    "\\frac{1}{2b} & [-b, b]\\\\\n",
    "0 & elsewhere\n",
    "\\end{cases}$ <br><br>\n",
    "therefore, <br>\n",
    "$\\text{E}[Z]=0$<br>\n",
    "$var(Z)=\\frac{1}{12}(b+b)^2=\\frac{1}{12}4b^2=\\frac{b^2}{3}$<br><br>\n",
    "Find the exact estimate of the mean$\\mu_{Y}^{exact}$ and standard deviation$\\sigma_{Y}^{exact}$:<br>\n",
    "$\\mu_{Y}^{exact}=\\text{E}[Y]=a\\text{E}[\\cos Z]+\\text{E}[E]=a\\int_{-b}^{b}\\cos Z\\frac{1}{2b}dZ=a\\frac{1}{2b}\\int_{-b}^{b}\\cos ZdZ=\\frac{a}{2b}[\\sin Z]_{b}^{-b}=\\frac{a}{2b}(\\sin b-\\sin (-b))=\\frac{a}{2b}2\\sin b=\\frac{a}{b}\\sin b$<br><br>\n",
    "$var(\\cos Z)=\\text{E}[(\\cos Z)^2]-(\\text{E}[\\cos Z])^2=\\text{E}[\\frac{1}{2}(1+\\cos 2Z)]-(\\text{E}[\\cos Z])^2$<br><br>\n",
    "Since $P(Z)=\n",
    "\\begin{cases}\n",
    "\\frac{1}{2b}, & [-b,b]\\\\\n",
    "0\n",
    "\\end{cases}$<br>\n",
    "therefore, $P(2Z)=\n",
    "\\begin{cases}\n",
    "\\frac{1}{4b}, & [-2b,2b]\\\\\n",
    "0\n",
    "\\end{cases}$<br>\n",
    "$\\text{E}[\\cos (2Z)]=\\int_{-b}^{b}\\cos (2Z)\\frac{1}{2b}dZ=\\frac{1}{4b}\\int_{-b}^{b}\\cos (2Z)d(2Z)=\\frac{1}{4b}\\int_{-2b}^{2b}\\cos W dW=\\frac{1}{4b}[\\sin W]_{-2b}^{2b}=\\frac{1}{4b}2\\sin 2b=\\frac{1}{2b}2\\sin b \\cos b=\\frac{1}{b}\\sin b \\cos b$ <br>\n",
    "($W=2Z,\\int_{-b}^{b}\\cos (2Z)d(2Z)=\\int_{-2b}^{2b}\\cos(W)d(W)).$<br><br>\n",
    "Hence,<br>\n",
    "$var(\\cos Z)=\\text{E}[(\\cos Z)^2]-(\\text{E}[\\cos Z])^2=\\text{E}[\\frac{1}{2}(1+\\cos2Z)]-(\\text{E}[\\cos Z])^2=\\frac{1}{2}+\\frac{1}{2}\\text{E}[\\cos2Z]-(\\text{E}[\\cos Z])^2 = \\frac{1}{2} + \\frac{\\sin b \\cos b}{2b}-\\frac{(\\sin b)^2}{b^2}$ ($\\text{E}[\\cos Z]=\\frac{\\sin b}{b}$ as above).<br><br>\n",
    "Finally, we get:<br>\n",
    "$(\\sigma_{Y}^{exact})^2=var[Y]=a^2var(\\cos Z)+S^2=a^2(\\frac{1}{2}+\\frac{\\sin b \\cos b}{2b}-\\frac{(\\sin b)^2}{b^2})+s^2$<br><br>\n",
    "Find the approximate estimate of the mean$\\mu_{Y}^{approx}$ and standard deviation$\\sigma_{Y}^{approx}$:<br>\n",
    "$Y=a\\cos Z+E, Z\\sim U(-b,b), E\\sim N(0,S)$<br>\n",
    "$Y\\approx a\\cos \\text{E}[Z]+\\text{E}[E] - a\\sin Z(Z-\\text{E}[Z])$(based on Taylor series as above).<br><br>\n",
    "$\\mu_{Y}^{approx}=\\text{E}[Y]\\approx a+0-a\\text{E}[Z\\sin Z]=a+0-a2\\sin b=a-2a(\\sin b-b \\cos b)$, where, $\\text{E}[Z\\sin Z] = \\int_{-b}^{b} Z\\sin Z \\frac{1}{2b}dZ = \\frac{1}{2b}\\int_{-b}^{b}Z \\sin Z dZ = 2\\sin b-2b\\cos b$ (integration by parts)<br><br>\n",
    "$\\frac{\\partial Y}{\\partial Z}=-a\\sin Z, \\frac{\\partial Y}{\\partial E}=1$<br>\n",
    "$(\\sigma_{Y}^{approx})^2=var(Y)=(\\frac{\\partial Y}{\\partial Z}|_{Z=\\text{E}[Z]})^2 var(Z) + (\\frac{\\partial Y}{\\partial E}|_{E=\\text{E}[E]})^2 var(E)=(-a\\sin \\text{E}[Z])^2\\frac{b^2}{3} + S^2=0 \\frac{b^2}{3}+S^2=S^2$<br><br>\n",
    "Therefore,<br>\n",
    "$\\frac{|\\mu_{Y}^{approx}-\\mu_{Y}^{exact}|}{\\mu_{Y}^{exact}}=\\frac{|a-2a(\\sin b-b \\cos b)-\\frac{a}{b}\\sin b|}{\\frac{a}{b}\\sin b}=\\frac{|1-2b\\cos b-(2+\\frac{1}{b})\\sin b|}{\\frac{1}{b}\\sin b}$<br><br>\n",
    "$\\frac{|\\sigma_{Y}^{approx}-\\sigma_{Y}^{exact}|}{\\sigma_{Y}^{exact}}=\\frac{|\\sqrt{S^2}-\\sqrt{a^2(\\frac{1}{2}+\\frac{\\sin b \\cos b}{2b}-\\frac{(\\sin b)^2}{b^2})+S^2}|}{\\sqrt{a^2(\\frac{1}{2}+\\frac{\\sin b \\cos b}{2b}-\\frac{(\\sin b)^2}{b^2})+S^2}}$\n",
    "\n",
    "#Plotting the errors:\n",
    "import numpy as np\n",
    "import matplotlib.pyplot as plt\n",
    "\n",
    "S=0.1\n",
    "a=2\n",
    "b = np.arange(0.01,1.0, 0.01)\n",
    "\n",
    "mu_error = np.abs(1-2*b*np.cos(b)-(2+1/b)*np.sin(b))/((1/b)*np.sin(b))\n",
    "sigma_error = np.abs( S- np.sqrt(a**2*(1/2 + (np.sin(b)*np.cos(b))/(2*b) - (np.sin(b)**2) / (b**2))))/np.sqrt(a**2*(1/2 + (np.sin(b)*np.cos(b))/(2*b) - (np.sin(b)**2)/(b**2))+S**2)\n",
    "\n",
    "fig = plt.figure()\n",
    "ax = fig.add_subplot(121)\n",
    "ax.plot(b, mu_error, 'k',lw=2)\n",
    "ax.set_title(\"relative mean error\")\n",
    "\n",
    "ax1 = fig.add_subplot(122)\n",
    "ax1.plot(b, sigma_error, 'b',lw=2)\n",
    "ax1.set_title(\"relative variance error\")\n",
    "plt.show()\n",
    "\n",
    "\n",
    "Comment: We can see that as b increases from 0 to 1, the relative mean error of QoI increases almost linearly; the relative variance error of QoI decreases almost linearly and then increases."
   ]
  },
  {
   "cell_type": "markdown",
   "metadata": {},
   "source": [
    "## Problem 2\n",
    "(This problem is from Chapter 9 of the book:  R.C. Smith, Uncertainty Quantification: Theory, Implementation and Applications, SIAM, 2014.)\n",
    "\n",
    " We would like compare Monte Carlo base uncertainty propagation techniques with the perturbation methods for computing variability in the response of the harmonic oscillator:\n",
    "$$ y = f(w_{F},Q) = 1/\\sqrt((k-mw_{F}^2)^2+(cw_{F})^2) $$\n",
    "                                      \n",
    "under the assumption that parameters $Q= [m,c,k]^T$ are normally distributed with mean $\\bar{q}= [2.7, 0.24, 8.5]$ and covariance matrix \n",
    "    \n",
    "$V=\n",
    "\\begin{bmatrix}\n",
    "0.002^2 & 0 & 0\\\\ \n",
    "0 & 0.065^2 & 0\\\\ \n",
    "0 & 0 & 0.001^2\n",
    "\\end{bmatrix} $\n",
    "\n",
    "The amplitude of the harmonic oscillator is $ Z_{Q} = f_{0}/\\sqrt{m^2 (w_{0}^2-w_{F}^2)^2 + c^2w_{F}^2}$ , where $w_{0}=\\sqrt{k/m}$ is the natural frequency.\n",
    "\n",
    "We note largest relative uncertainity is associated with the damping parameter c, which is often the case in damped oscillating systems.\n",
    "Finally the mean natural frequency is $w_{0}$=1.7743 Hz. \n",
    "The sensitivities as a function of the drive freqeuncy $w_{F}$ are \n",
    "\n",
    "$\\frac{\\partial f}{\\partial m} = \\frac{(k-mw_{F}^2)w_{F}^2}{{((k-mw_{F}^2)^2+{cw_{F}^2}})^{3/2}}  $ ,\n",
    "\n",
    "$\\frac{\\partial f}{\\partial c} = \\frac{cw_{F}^2}{{((k-mw_{F}^2)^2+{cw_{F}^2}})^{3/2}}$ ,\n",
    "\n",
    "$\\frac{\\partial f}{\\partial m} = \\frac{-(k-mw_{F}^2)}{{((k-mw_{F}^2)^2+{cw_{F}^2}})^{3/2}}$ ,\n",
    "                                               \n",
    "and $S\n",
    "S^{T} = [\\frac{\\partial f}{\\partial m},\\frac{\\partial f}{\\partial c},\\frac{\\partial f}{\\partial k}]$. \n",
    "Since the parameters are mutually independent, and normally distributed, it follows that the response is also normally\n",
    "distributed for each input frequency $w_{F}$ with mean $\\bar{y}_{p} = f(\\bar{q}) $ and variance $\\sigma_{p}^{2} = S^{T}VS$. \n",
    "\n",
    "a) Find uncertainty in the output y when $w_F$ is 1.66Hz using Monte Carlo and perturbation methods.\n",
    "\n",
    "b) Find uncertainty in the output y when $w_F$ is 1.77Hz using Monte Carlo and perturbation methods.\n"
   ]
  },
  {
   "cell_type": "code",
   "execution_count": 2,
   "metadata": {},
   "outputs": [],
   "source": [
    "import numpy as np\n",
    "import matplotlib.pyplot as plt"
   ]
  },
  {
   "cell_type": "markdown",
   "metadata": {},
   "source": [
    "Solution: The goal of this problem is to show that perturbation methods do not provide accurate results around the points where the functions are highly non-linear such as the point around the mean natural frequency. To observe changes, please see the results when w_f is for example 0.66 Hz and you will see that the standard deviation using Monte Carlo and using perturbation method are almost the same. Also, please note that the way uncertainty is computed in GUM will give errors in computing uncertainty here. Better approach always is to computet the variance at the output. "
   ]
  },
  {
   "cell_type": "code",
   "execution_count": 13,
   "metadata": {},
   "outputs": [
    {
     "data": {
      "image/png": "[encoded data removed]",
      "text/plain": [
       "<matplotlib.figure.Figure at 0x2b684decb00>"
      ]
     },
     "metadata": {},
     "output_type": "display_data"
    },
    {
     "name": "stdout",
     "output_type": "stream",
     "text": [
      "Mean and standard deviation using Monte Carlo method, mean y: 0.880757383721 std y: 0.0293511644887\n",
      "(3, 1)\n",
      "Standard deviation using perturbation method: std_y: [[ 0.01820116]]\n"
     ]
    }
   ],
   "source": [
    "# a\n",
    "# From the given, the covariance matrix showed that there is no dependence between the variables. \n",
    "# In this problem we are performing local sensitivity analysis, at the point of interset [2.7, 0.24, 8.5]. \n",
    "# Using Monte Carlo methods:\n",
    "\n",
    "num_samples = 10000\n",
    "\n",
    "w_f = 1.66\n",
    "\n",
    "ys = []\n",
    "for _ in range(num_samples):\n",
    "    \n",
    "    m = np.random.normal(loc=2.7, scale=0.002)\n",
    "    c = np.random.normal(loc=0.24, scale=0.065)\n",
    "    k = np.random.normal(loc=8.5, scale=0.001)\n",
    "\n",
    "    y = 1/np.sqrt((k - m*w_f**2)**2 + (c*w_f)**2)\n",
    "    ys.append(y)\n",
    "\n",
    "plt.hist(ys, bins=100, normed=1)\n",
    "plt.show()\n",
    "# Notice how the histogram follows a approximate normal distribution. \n",
    "\n",
    "mean_y = np.mean(ys)\n",
    "std_y = np.std(ys)\n",
    "print('Mean and standard deviation using Monte Carlo method, mean y:', mean_y, 'std y:', std_y)\n",
    "\n",
    "# Using Perturbation methods at the points of interest:\n",
    "\n",
    "m = 2.7\n",
    "c = 0.24\n",
    "k = 8.5\n",
    "\n",
    "df_dm = ((k - m*w_f**2)*w_f**2)/(((k - m*w_f**2)**2 + c*w_f**2)**(3/2))\n",
    "df_dc = (c*w_f**2)/(((k - m*w_f**2)**2 + c*w_f**2)**(3/2))\n",
    "df_dk = (-(k - m*w_f**2))/(((k - m*w_f**2)**2 + c*w_f**2)**(3/2))\n",
    "\n",
    "V = [[0.002**2, 0, 0], [0, 0.065**2, 0], [0, 0, 0.001**2]]\n",
    "\n",
    "S = np.array([[df_dm], [df_dc], [df_dk]])\n",
    "\n",
    "print(S.shape)\n",
    "\n",
    "ans1 = np.matmul(S.T, V) \n",
    "var_y = np.matmul(ans1, S)\n",
    "print(\"Standard deviation using perturbation method: std_y:\", np.sqrt(var_y))"
   ]
  },
  {
   "cell_type": "code",
   "execution_count": 14,
   "metadata": {},
   "outputs": [
    {
     "data": {
      "image/png": "[encoded data removed]",
      "text/plain": [
       "<matplotlib.figure.Figure at 0x2b684c450f0>"
      ]
     },
     "metadata": {},
     "output_type": "display_data"
    },
    {
     "name": "stdout",
     "output_type": "stream",
     "text": [
      "Mean and standard deviation using Monte Carlo method, mean y: 2.54633329863 std y: 0.984055471738\n",
      "Standard deviation using perturbation method: std_y: [[ 0.07470915]]\n"
     ]
    }
   ],
   "source": [
    "# b, w_f = 1.77 Hz\n",
    "\n",
    "w_f = 1.77\n",
    "num_samples = 10000\n",
    "ys = []\n",
    "\n",
    "for _ in range(num_samples):\n",
    "    \n",
    "    m = np.random.normal(loc=2.7, scale=0.002)\n",
    "    c = np.random.normal(loc=0.24, scale=0.065)\n",
    "    k = np.random.normal(loc=8.5, scale=0.001)\n",
    "\n",
    "    y = 1/np.sqrt((k - m*w_f**2)**2 + (c*w_f)**2)\n",
    "    ys.append(y)\n",
    "\n",
    "plt.hist(ys, bins=100, normed=1)\n",
    "plt.show()\n",
    "# Notice how the histogram follows a approximate normal distribution. \n",
    "\n",
    "mean_y = np.mean(ys)\n",
    "std_y = np.std(ys)\n",
    "print('Mean and standard deviation using Monte Carlo method, mean y:', mean_y, 'std y:', std_y)\n",
    "\n",
    "# Using Perturbation methods at the points of interest:\n",
    "\n",
    "m = 2.7\n",
    "c = 0.24\n",
    "k = 8.5\n",
    "\n",
    "df_dm = ((k - m*w_f**2)*w_f**2)/(((k - m*w_f**2)**2 + c*w_f**2)**(3/2))\n",
    "df_dc = (c*w_f**2)/(((k - m*w_f**2)**2 + c*w_f**2)**(3/2))\n",
    "df_dk = (-(k - m*w_f**2))/(((k - m*w_f**2)**2 + c*w_f**2)**(3/2))\n",
    "\n",
    "V = [[0.002**2, 0, 0], [0, 0.065**2, 0], [0, 0, 0.001**2]]\n",
    "\n",
    "S = np.array([[df_dm], [df_dc], [df_dk]])\n",
    "\n",
    "ans1 = np.matmul(S.T, V) \n",
    "var_y = np.matmul(ans1, S)\n",
    "print(\"Standard deviation using perturbation method: std_y:\", np.sqrt(var_y))"
   ]
  },
  {
   "cell_type": "markdown",
   "metadata": {},
   "source": [
    "## Problem 3\n",
    "(This problem is from Chapter 4 of the book: Andrea Saltelli, Debora Gatelli, Francesca Campolongo, Jessica Cariboni, Marco Ratto, Michaela Saisana, and Terry Andres, Global Sensitivity Analysis: The Primer, Wiley, 2008.)\n",
    "\n",
    "Two input factors are normally distributed in the model \n",
    " $Y = X_{1}+ X_{2}$\n",
    "with parameters $\\mu_{1}=1$, $\\mu_{2}=2$, $\\sigma_{1}=3$ , $\\sigma_{2}=2$.\n",
    "\n",
    "a) Calculate the first and second-order indices for the inputs and comment on the level of additivity of the model.\n"
   ]
  },
  {
   "cell_type": "markdown",
   "metadata": {},
   "source": [
    "Since $X_1$ and $X_2$ are normal random variable and there is no relation between them, or there is no reason for any dependency, then: $$E(Y) = E(X_1) + E(X_2) \\implies \\\\ E(Y) = 1 + 2 = 3$$ \n",
    "\n",
    "Likewise: $$var(Y) = var(X_1) + var(X_2) = 4 + 9 = 13$$\n",
    "\n",
    "To calculate the first order index we need first to calculate the $f_i(x)$ which correspond to $f_1(x)$ and $f_2(x)$.\n",
    "\n",
    "$$f_1(x) = \\int_{-\\infty}^{+\\infty} f(x)P(x_2)dx_2 = \\int_{-\\infty}^{+\\infty} (x_1 + x_2)*P(x_2)dx_2 = x_1\\int p(x_2) dx_2 + \\int x_2 p(x_2) dx_2 = x_1 + 2$$ \n",
    "\n",
    "Note that the second term is the expectation. Therefore, \n",
    "\n",
    "$$D_1 = var(f_1 (x)) = var(x_1 + 2) = var(x_1) + 0 = 9$$.\n",
    "\n",
    "In addition, $$f_2(x) = \\int_{-\\infty}^{+\\infty} f(x)P(x_1)dx_1 = \\int_{-\\infty}^{+\\infty} (x_1 + x_2)*P(x_1)dx_1 = x_2\\int p(x_1) dx_1 + \\int x_1 p(x_1) dx_1 = x_2 + 1 \\implies$$\n",
    "\n",
    "$$D_2 = var(f_2 (x)) = var(x_2 + 1) = var(x_2) + 0 = 4$$.\n",
    "\n",
    "$$f_0 = \\mu_1 + \\mu_2 = 3$$\n",
    "\n",
    "$$f_{12}(x) = f(x) - f_1 (x) - f_2 (x) - f_0 = x_1 + x_2 - x_1 - 2 - x_2 - 1 - 3 = -6\\  \\implies$$\n",
    "\n",
    "$$D_{12} = var(f_{12} (x)) = 0$$\n",
    "\n",
    "Finally,\n",
    "\n",
    "$$D = D_1 + D_2 + D_{12} = 9 + 4 = 13$$\n",
    "\n",
    "$$S_1 = \\frac{D_1}{D} = \\frac{9}{13}$$\n",
    "\n",
    "$$S_2 = \\frac{D_2}{D} = \\frac{4}{13}$$\n",
    "\n",
    "$$S_{12} = \\frac{D_{12}}{D} = \\frac{0}{13} = 0$$\n",
    "\n",
    "The model is additive since it is the addition of 2 random normal variables. Additionlly, there is no interaction since $D_{12}$ does not include $X_1$ neither $X_2$."
   ]
  },
  {
   "cell_type": "markdown",
   "metadata": {},
   "source": [
    "## Problem 4\n",
    "# Problem 4:\n",
    "(This problem is from Chapter 4 of the book: Andrea Saltelli, Debora Gatelli, Francesca Campolongo, Jessica Cariboni, Marco Ratto, Michaela Saisana, and Terry Andres, Global Sensitivity Analysis: The Primer, Wiley, 2008.)\n",
    "\n",
    "A model has eight input factors, but for computational cost's reasons we reduce the number of factors to five.\n",
    "The model is \n",
    " $Y = \\sum_{i=1}^{8} X_{i}$\n",
    " \n",
    " where $X_{i}$ is normally distributed as follows :\n",
    " \n",
    "$X_{i} \\sim N(0,1)$\n",
    "$X_{i} \\sim N(2,2)$\n",
    "$X_{i} \\sim N(1,3)$\n",
    "$X_{i} \\sim N(1,5)$\n",
    "$X_{i} \\sim N(3,1)$\n",
    "$X_{i} \\sim N(4,1)$\n",
    "$X_{i} \\sim N(1,2)$\n",
    "$X_{i} \\sim N(5,5)$\n",
    "\n",
    "(1) Calculate the first-order sensitivity indices (based on Sobol sensitivity analysis) and identify the three least important factors, in order to exclude them from the model.\n",
    "\n",
    "(2) Recalculate the first orders for the remaining five factors and find out which are the most influential: if we decide to fix them at a given value, in their range of variation, by what amount will the variance of the output be reduced? "
   ]
  },
  {
   "cell_type": "markdown",
   "metadata": {},
   "source": [
    "a) This model is almost similar to the one in problem 3. Hence, the factors that has the least effect on the model are those with the least variance. $$var(y) = \\sum_{i=1}^{n} var(x_i) = var(x_1) + var(x_2) + var(x_3) + var(x_4) + var(x_5) + var(x_6) + var(x_7) + var(x_8) = 1 + 4 + 9 + 25 + 1 + 1 + 4 + 25 = 70$$\n",
    "\n",
    "$$S_1 = \\frac{D_1}{D} = \\frac{1}{70}$$\n",
    "\n",
    "$$S_2 = \\frac{D_2}{D} = \\frac{4}{70}$$\n",
    "\n",
    "$$S_3 = \\frac{D_3}{D} = \\frac{9}{70}$$\n",
    "\n",
    "$$S_4 = \\frac{D_4}{D} = \\frac{25}{70}$$\n",
    "\n",
    "$$S_5 = \\frac{D_5}{D} = \\frac{1}{70}$$\n",
    "\n",
    "$$S_6 = \\frac{D_6}{D} = \\frac{1}{70}$$\n",
    "\n",
    "$$S_7 = \\frac{D_7}{D} = \\frac{4}{70}$$\n",
    "\n",
    "$$S_8 = \\frac{D_8}{D} = \\frac{25}{70}$$\n",
    "\n",
    "Where $D = Var(Y)$ and $D_i = V(E(Y|X_{\\sim i})$ which corresponds to the variance of the average $Y$ over all possible points of $X_i$, or the sensitivity/first order effect. Whenever this value is high, that is, close to 1 $\\implies$ $X_i$ has high effect on the output. When this value is close to 0 $\\implies$ there is no effect. Therefore, from above, variables, $X_1$, $X_5$ and $X_6$ are the least important variables. \n",
    "\n",
    "b) After removing the 3 least important factors, the new variance of the function is: \n",
    "\n",
    "$$var(y) = var(X_2) + var(X_3) + var(X_4) + var(X_7) + var(X_8) = 4 + 9 + 25 + 4 + 25 = 67$$\n",
    "\n",
    "then, the new sensitivity indecies: \n",
    "\n",
    "$$S_2 = \\frac{D_2}{D} = \\frac{4}{67}$$\n",
    "\n",
    "$$S_3 = \\frac{D_3}{D} = \\frac{9}{67}$$\n",
    "\n",
    "$$S_4 = \\frac{D_4}{D} = \\frac{25}{67}$$\n",
    "\n",
    "$$S_7 = \\frac{D_7}{D} = \\frac{4}{67}$$\n",
    "\n",
    "$$S_8 = \\frac{D_8}{D} = \\frac{25}{67}$$\n",
    "\n",
    "Hence, the most imfluential are $X_2$, $X_3$ and $X_8$. \n",
    "\n",
    "Finally, if we fixed these variables to some values in their range of variation, then the new variance will reduce to: $4 + 4 = 8$. Hence, the output variance will be reduces from 67 to 8 which is $1 - 8/67 \\approx 88$%"
   ]
  }
 ],
 "metadata": {
  "anaconda-cloud": {},
  "kernelspec": {
   "display_name": "Python [conda root]",
   "language": "python",
   "name": "conda-root-py"
  },
  "language_info": {
   "codemirror_mode": {
    "name": "ipython",
    "version": 3
   },
   "file_extension": ".py",
   "mimetype": "text/x-python",
   "name": "python",
   "nbconvert_exporter": "python",
   "pygments_lexer": "ipython3",
   "version": "3.5.2"
  }
 },
 "nbformat": 4,
 "nbformat_minor": 1
}
