{
 "cells": [
  {
   "cell_type": "markdown",
   "metadata": {},
   "source": [
    "# Lecture 5 - Confidence intervals and Bootstrap"
   ]
  },
  {
   "cell_type": "markdown",
   "metadata": {},
   "source": [
    "## Symbol List\n",
    "$\\theta$: parameter we want to estimate<br>\n",
    "$X$: Random variables<br>\n",
    "$X_1,…,X_n$  - a sample from a distribution F<br>\n",
    "$X_1^{∗},…,X_n^{*}$ - a simple random sample from the data<br>\n",
    "$\\widehat{\\theta}$ is an estimator of $\\theta$<br>\n",
    "$\\theta_{*}$   is based on $X_i^{∗}$<br>\n",
    "$\\mu$: Expection<br>\n",
    "$\\sigma$: Standard deviation<br>\n",
    "$s$: Empirical standard deviation<br>\n",
    "$\\epsilon_i$: Residuals of linear regression"
   ]
  },
  {
   "cell_type": "markdown",
   "metadata": {},
   "source": [
    "## Definition\n",
    "\n",
    "### Confidence intervals\n",
    "In statistics, a confidence interval (CI) is a type of interval estimate (of a population parameter) that is computed from the observed data. The confidence level is the frequency (i.e., the proportion) of possible confidence intervals that contain the true value of their corresponding parameter. In other words, if confidence intervals are constructed using a given confidence level in an infinite number of independent experiments, the proportion of those intervals that contain the true value of the parameter will match the confidence level.[2]"
   ]
  },
  {
   "cell_type": "markdown",
   "metadata": {},
   "source": [
    "The goal is to determine functions $\\theta_L(x)$ and $\\theta_R(x)$ that bound the location $\\theta_L(x)$< $\\theta$ <$\\theta_R(x)$ of q based on realizations $x = [x_1,x_2....x_n]$ of a random sample $X=[X_1,....X_𝑛]$.<br> \n",
    "The random interval $[\\theta_L(x),\\theta_R(x)]$ is termed as interval estimator.<br> \n",
    "The interval estimator in combination with a confidence coefficient is commonly called a confidence interval.<br> \n",
    "The confidence coefficient (1- 𝛼)x100% can be interpreted as the frequency of times, in repeated sampling, that the interval will contain the target parameter $\\theta$.[2]<br><br> \n",
    "$$P[\\theta_L(X)≤ \\theta ≤ \\theta_R(X)]=1−\\alpha $$\n",
    "\n",
    "95% confidence interval means:\n",
    "\n",
    "95% of similarly constructed confidence intervals will contain the true mean\n"
   ]
  },
  {
   "cell_type": "markdown",
   "metadata": {},
   "source": [
    "### Example:Confidence interval for the mean of Normal distribution with $\\sigma$ known<br>\n",
    "Suppose that $ X=(x_1,…,x_n) $ are samples from Normal distribution $ X$~$N(\\mu,\\sigma)$<br>\n",
    "Empirical mean $ x = \\frac{1}{n}\\sum_{i=1}^{n} x_i $ and To determine information about the unknown mean, we consider the sample mean _𝑥_. 95% of the area of a normal distribution lies within two standard deviations of the mean[2]\n",
    "$$P(x-2\\frac{\\sigma}{\\sqrt{n}}<\\mu<x+2\\frac{\\sigma}{\\sqrt{n}}) = 0.95$$\n",
    "<img src=\"img1.PNG\",width = 250,height = 250>\n",
    "\n"
   ]
  },
  {
   "cell_type": "markdown",
   "metadata": {},
   "source": [
    "### Example:Confidence interval for the mean of Normal distribution with $\\sigma$ unknown\n",
    "Empirical mean: $x = \\frac{1}{n}\\sum_{i=1}^{n} x_i $ and<br>\n",
    "Empirical standard deviation: $s^2 = \\frac{1}{n-1}\\sum_{i=1}^{n} (x_i-x)^2$\n",
    "\n",
    "Variable$\\frac{x-\\mu}{s/\\sqrt{n}}$has a Student's t-distribution with n − 1 degrees of freedom\n",
    "\n",
    "We denote by $t_{n-1,1-\\alpha/2}$to reflect the n-1 degrees of freedom and probability 1-𝛼/2. \n",
    "$p(-t_{n-1,0.025}<\\frac{X-\\mu}{s/\\sqrt{n}}<t_{n-1,0.975})=0.95$<br>\n",
    "$p(X-\\frac{t_{n-1,0.025}s}{\\sqrt{n}}<\\mu<x+\\frac{t_{n-1,0.975}s}{\\sqrt{n}})=0.95$<br>[2]\n",
    "so a 95% confidence interval for $\\mu:[X-\\frac{t_{n-1,1-\\alpha/2}s}{\\sqrt{n}},x+\\frac{t_{n-1,1-\\alpha/2}s}{\\sqrt{n}}]$"
   ]
  },
  {
   "cell_type": "markdown",
   "metadata": {},
   "source": [
    "### Expended Uncertainty\n",
    "Standard uncertainty:<br>\n",
    "uncertainty of the result of a single type of measurement includes Type A and/or Type B uncertainties<br>\n",
    "\n",
    "Expanded uncertainty:<br>\n",
    "the standard uncertainty multiplied by a coverage factor[2]<br>\n",
    "\n",
    "Standard error SE:<br>\n",
    "Standard deviation of the sample statistics\n",
    "### Example – Spike counts from a motor cortical neuron\n",
    "Button pressing task\n",
    "The number of spikes from a single neuron is measured in the period of 600 ms\n",
    "Mean: 13.6 spike per 600ms or 22.7 spikes per second\n",
    "How to calculate Confidence intervals?\n",
    "<img src=\"img2.PNG\",width = 450,height = 450>\n",
    "$P(X-2\\frac{S}{\\sqrt{n}}<\\mu<X+2\\frac{S}{\\sqrt{n}}) = 0.95$<br>\n",
    "s=7.17 spikes per second. \n",
    "This gives a standard error of SE = $\\frac{7.17}{\\sqrt{60}} = 0.93$<br>\n",
    "Reporting results:<br>\n",
    "Standard error: The firing rate of this neuron, under the particular experimental condition, to be 22.72 (±.93) spikes per second. <br>\n",
    "Uncertainty: An approximate 95% confidence interval for the firing rate is then (20.8, 24.6) spikes per second.\n"
   ]
  },
  {
   "cell_type": "markdown",
   "metadata": {},
   "source": [
    "### Other statistical intervals\t\n",
    "Prediction intervals:<br>\n",
    "An intervals that would contain a future randomly selected observation from the distribution, with a specific degree of confidence.<br>\n",
    "Example: predict sample mean of m future samples<br>\n",
    "Statistical tolerance limits create an interval that bounds a specified percentage of the population at a given level of confidence.<br>\n",
    "(such as 99% of the population with 95% confidence)<br>\n",
    "These intervals are often used to demonstrate compliance with a set of requirements or specification limits.\n"
   ]
  },
  {
   "cell_type": "markdown",
   "metadata": {},
   "source": [
    "### Bayesian inference method\n",
    "<img src=\"img3.png\",width = 450,height = 450>[2]\n"
   ]
  },
  {
   "cell_type": "markdown",
   "metadata": {},
   "source": [
    "### Credible intervals\n",
    "Interpretation: the probability that the true mean is contained within the given interval is 95%.\n",
    "<img src=\"img4.png\",width = 350,height = 350>[2]\n"
   ]
  },
  {
   "cell_type": "markdown",
   "metadata": {},
   "source": [
    "### Bootstrap\n",
    "Bootstrap (a resampling procedure) is a Monte Carlo method of simulating 'datasets' from an observed/given data,without any assumption on the underlying population.<br>\n",
    "Resampling the original data preserves (adaptively) whatever distributions are truly present.<br>\n",
    "Bootstrap helps evaluate statistical properties using data rather than an assumed Gaussian or other distributions.[2]\n"
   ]
  },
  {
   "cell_type": "markdown",
   "metadata": {
    "collapsed": true
   },
   "source": [
    "<img src=\"img5.PNG\",width = 350,height = 350>\n",
    "<img src=\"img6.PNG\",width = 350,height = 350>\n"
   ]
  },
  {
   "cell_type": "markdown",
   "metadata": {
    "collapsed": true
   },
   "source": [
    "### Bootstrap procedure\n",
    "$X = X_1,…,X_n$  - a sample from a distribution F<br>\n",
    "$X_{∗}= X_1^{∗},…,X_n^{*}$ - a simple random sample from the data<br>\n",
    "$\\widehat{\\theta}$ is an estimator of $\\theta$<br>\n",
    "$\\theta_{*}$   is based on $X_i^{∗}$<br> we have<br>\n",
    "$\\widehat{\\theta} = \\overline{X_n}    \\qquad \\theta^{*} = \\overline{X^{*}_n}$<br>\n",
    "$\\widehat{\\theta} = \\frac{1}{n}\\sum_{i=1}^{n}(X_i-\\overline{X_n})^2    \\qquad \\theta^{*} =\\frac{1}{n}\\sum_{i=1}^{n}(X_i^*-\\overline{X^{*}_n})^2 $"
   ]
  },
  {
   "attachments": {},
   "cell_type": "markdown",
   "metadata": {
    "collapsed": true
   },
   "source": [
    "### Non-parametric and parametric bootstrap\n",
    "Simple random sampling from data is equivalent to drawing a set of i.i.d. random variables from the empirical distribution. This is Nonparametric Bootstrap<br>\n",
    "Parametric Bootstrap if $X_1^{*},…,X_n^{*}$ are i.i.d. r.v. from an estimator of F based on data $X_1,…,X_𝑛$.<br>\n",
    "Example of Parametric Bootstrap:<br>\n",
    "$X_1,…,X_𝑛$  i.i.d. ~$N(\\mu,\\sigma^2)$<br>\n",
    "$X_1^{*},…,X_n^{*}$  i.i.d. ~$N(\\overline{X}_n,s_n^2)$<br>\n",
    "$s_n^2 = \\frac{1}{n}\\sum_{i=1}^{n}(X_i-\\overline{X}_n)^2$<br>\n",
    "\n",
    "$N(\\overline{X}_n,s_n^2)$ is good estimator of the distribution $N(\\mu,\\sigma^2)$\n"
   ]
  },
  {
   "cell_type": "markdown",
   "metadata": {},
   "source": [
    "### Bootstrap percentile confidence interval\n",
    "In practice:<br>\n",
    "Randomly generate 𝑀 bootstrap samples<br>\n",
    "Compute $\\theta_n^{*(j)}$ for each bootstrap sample<br>\n",
    "Arrange them in increasing order<br>\n",
    "$\\theta_1<\\theta_2<...<\\theta_n, 𝑙=0.025𝑀,ℎ=0.975𝑀$<br>\n",
    "95% Confidence Interval for the parameter 𝜃 is<br>\n",
    "$\\widehat{\\theta_l}<\\theta<\\widehat{\\theta_h}$"
   ]
  },
  {
   "cell_type": "markdown",
   "metadata": {},
   "source": [
    "### Sample median bias\n",
    "1.Suppose $X = (X_1,...,X_n)$ is an i.i.d sample of size n = 2k-1,from a real valuesd r.v. X, X ~ P with distribution function F and median m(F)<br>\n",
    "2.Interested in the bias T(X,F) = $m_{(n)}(X)-m(F)$ of the sample median $m_{(n)} = m_{(n)}(X) = X_{[k]}$<br>\n",
    "3.Observe X=x, order the data $x_{[1]}<...<x_{[i]}<...<x_{[n]}$<br>\n",
    "4.Estimate F by empirical distribution $\\widehat{F}_n$<br>\n",
    "5.For each j=1,...,B get the bootstrap sample $X^*_{(j)} = (x^*_{1j},...,x^*_{nj})$ by resampling $x^*_{ij}$ with replacement from the data x = $(x_1,...,x_n)$ such that $P^*(x^*_{ij} = x_k) = 1/n$. Let $N^*_i$ be the number of copies of $x_i$ in one bootstrap sample $x^*_j$. Then the vector$$(N^*_1,...,N^*_n) \\sim multinomial(n,1/n,...1/n)$$<br>\n",
    "6.Calculate bootstrap replications$$T^*_{(j)} = T(x^*_j,\\widehat{F}_n) = x^*_{[k],j}-m_{(n)} \\qquad j = 1,...,B$$<br>\n",
    "7.Estimate the bias of $m_{(n)}$ by the average of the bootstrap replications $T^*_{(1)},...,T^*_{(B)}:$\n",
    "$$\\frac{1}{B}\\sum_{j=1}^B(x^*_{[k],j}-m_{(n)})$$\n"
   ]
  },
  {
   "cell_type": "markdown",
   "metadata": {},
   "source": [
    "### Hypothesis testing with bootstrap example\n",
    "Stroke data<br>\n",
    "Let p1 be the probability of a success (to get a stroke) under the treatment and p2 the probability of a success in the control group.<br>\n",
    "We are interested in 𝜃 = p1/p2 , especially in testing H0 : 𝜃 = 1.<br>\n",
    "The bootstrap solution: derive a bootstrap condence interval and to check whether 1 is in the interval.<br>\n",
    "Bootstrap sampling is done by sampling from two independent binomial distributions with estimated success probability p1 = 119/11037 and p2 = 98/11034 estimated 1000 times[2]\n",
    "<img src=\"img12.PNG\",width = 350,height = 350>\n"
   ]
  },
  {
   "cell_type": "code",
   "execution_count": 69,
   "metadata": {},
   "outputs": [
    {
     "name": "stdout",
     "output_type": "stream",
     "text": [
      "the 95% confidence interval of theta is [ 1.21984029  1.24124783]\n",
      "1 is not in the interval so we deny H0\n"
     ]
    }
   ],
   "source": [
    "#code from notebook[1]\n",
    "%matplotlib inline \n",
    "import numpy as np\n",
    "import pandas as pd\n",
    "import matplotlib.pyplot as plt\n",
    "import scipy.stats as stats\n",
    "from scipy.stats import t\n",
    "import math\n",
    "from numpy import mean, std, sqrt\n",
    "from IPython.core.display import HTML\n",
    "import seaborn as sns\n",
    "p1 = 119.0/11037.0\n",
    "p2 = 98.0/11034.0\n",
    "s1 = np.random.binomial(11037, p1, 1000)\n",
    "s2 = np.random.binomial(11034, p2, 1000)\n",
    "data = s1/s2\n",
    "# Sample size\n",
    "n = 1000\n",
    "# Bootstrap replicates\n",
    "R = 1000\n",
    "# 1000 bootstrap samples of size 10\n",
    "s = [data[np.random.randint(0,n,n)].mean() for i in range(R)]\n",
    "s_sorted = np.sort(s)\n",
    "alpha = 0.05\n",
    "s_sorted[[int((R+1)*alpha/2), int((R+1)*(1-alpha/2))]]\n",
    "print(\"the 95% confidence interval of theta is\",s_sorted[[int((R+1)*alpha/2), int((R+1)*(1-alpha/2))]])\n",
    "print(\"1 is not in the interval so we deny H0\")"
   ]
  },
  {
   "cell_type": "markdown",
   "metadata": {},
   "source": [
    "### Estimating bootstrap confidence intervals in regression\n",
    "We suppose a linear model: Y = bX + $\\epsilon_i$<br>\n",
    "Perform non-linear regression and find best<br>\n",
    "Compute residuals $\\epsilon_i=(y_i)_{observed}-(y_i)_{predicted}$ at each of N data points<br>\n",
    "Resample residuals with replacement and obtain M sets of resampling residuals<br>\n",
    "For each of M set compute $Y_i^{*}=b_{est}X+\\epsilon_i^{*}$<br>\n",
    "Treat the bootstrap data set as an independent experiment and fit the model to calculate new estimates of model parameters $b_{est}^{*}$<br>\n",
    "For each parameter, calculate standard estimation. This is the standard error for that parameter<br>\n",
    "Calculate 95% bootstrap confidence intervals.[2]<br>\n"
   ]
  },
  {
   "cell_type": "markdown",
   "metadata": {},
   "source": [
    "## Using bootstrap to estimate standard error\n",
    "Let us suppose $X_1, . . . , X_n$ is a random sample from a distribution having distribution function $F_X(x)$.We write this as $X_i$ ~ $F_X$,independently, for i = 1, . . . , n. <br>\n",
    "We wish to find the standard error of a scalar statistic $T = T(X_1, . . . , X_n)$.<br> Notice that T is obtained by applying some mapping to the random variables. Let us emphasize this still further by using the function $h(x_1, x_2, . . . , x_n)$ to denote that mapping so that $T(X_1, X_2, . . . , X_n) = h(X_1, X_2, . . . , X_n)$. In the case of ML estimation, for instance,\n",
    "$h(x_1, x_2, . . . , x_n)$ would be the function that gives the value of the MLE for a particular\n",
    "set of data $x_1, . . . , x_n$. <br>In some cases the function $h(x_1, x_2, . . . , x_n)$ is explicit, as in\n",
    "ML estimation of the binomial propensity p, while in other cases it is implicit—the\n",
    "result of solving a differential equation.<br> In either situation, however, SE(T)\n",
    "is defined as the standard deviation of T = $h(X_1, X_2, . . . , X_n)$ when the $X_i$ random\n",
    "variables follow the distribution with cdf $F_X$. Now, if we were able to simulate observations\n",
    "from $F_X$ on the computer, we could simulate G samples where G is a large[3]\n",
    "number, proceeding as follows:<br>\n",
    "1. For g = 1 to G\n",
    "Generate a sample $U_1^{(g)},U_2^{(g)},...,U_n^{(g)}$ from $F_X$<br>\n",
    "Compute $W^{(g)} = h(U_1^{(g)},U_2^{(g)},...,U_n^{(g)})$\n",
    "2. Compute $\\overline{W} = \\frac{1}{G}\\sum_{i=1}^{G}W^{(g)}$ and then \n",
    "$$SE_{sim}(T) = \\sqrt{\\frac{1}{G-1}\\sum_{g=1}^{1}(W^{(g)}-\\overline{W})^2}$$\n"
   ]
  },
  {
   "cell_type": "code",
   "execution_count": 70,
   "metadata": {},
   "outputs": [
    {
     "data": {
      "image/png": "[encoded data removed]",
      "text/plain": [
       "<matplotlib.figure.Figure at 0x118b3e518>"
      ]
     },
     "metadata": {},
     "output_type": "display_data"
    }
   ],
   "source": [
    "# Sample size\n",
    "n = 30\n",
    "# Bootstrap replicates\n",
    "R = 1000\n",
    "\n",
    "# Original sample (n=10)\n",
    "data = np.random.normal(size=n)\n",
    "\n",
    "# 1000 bootstrap samples of size 10\n",
    "s = [data[np.random.randint(0,n,n)].mean() for i in range(R)]\n",
    "_ = plt.hist(s, bins=30)"
   ]
  },
  {
   "cell_type": "code",
   "execution_count": 71,
   "metadata": {},
   "outputs": [
    {
     "data": {
      "text/plain": [
       "0.15981693814206552"
      ]
     },
     "execution_count": 71,
     "metadata": {},
     "output_type": "execute_result"
    }
   ],
   "source": [
    "boot_mean = np.sum(s)/R\n",
    "standard_error = math.sqrt(((np.array(s) - boot_mean) ** 2).sum() / (R-1))\n",
    "standard_error"
   ]
  },
  {
   "cell_type": "markdown",
   "metadata": {},
   "source": [
    "## Example of Confidence Intervals for Proportions [4]\n"
   ]
  },
  {
   "cell_type": "markdown",
   "metadata": {},
   "source": [
    "The article titled \"Poll shows increasing concern, little impact with malpractice crisis\" in the February 20th, 2003 issue of the Centre Daily Times reported that n = 418 Pennsylvanians were surveyed about their opinions about insurance rates. Of the 418 surveyed, Y = 280 blamed rising insurance rates on large court settlements against doctors. That is, the sample proportion is:$$\\widehat{p} = \\frac{280}{418} = 0.67$$\n",
    "Use this sample proportion to estimate, with 95% confidence, the parameter p, that is, the proportion of all Pennsylvanians who blame rising insurance rates on large court settlements against doctors."
   ]
  },
  {
   "cell_type": "markdown",
   "metadata": {},
   "source": [
    "Let:  \n",
    "Xi = 1,  if randomly selected Pennsylvanian i blames rising insurance rates on large court settlements against doctors<br>\n",
    "Xi = 0,  if randomly selected Pennsylvanian i does not blame rising insurance rates on large court settlements against doctors\n",
    "\n",
    "Then, the number of Pennsylvanians in the random sample who blame rising insurance rates on large court settlements against doctors is:\n",
    "\n",
    "$$Y=\\sum_{i=1}^{418}X_i = 280$$\n",
    "\n",
    "and therefore, the proportion of Pennsylvanians in the random sample who blame rising insurance rates on large court settlements against doctors is:\n",
    "\n",
    "$$\\widehat{p} = \\frac{\\sum_{i=1}^{n}X_i}{n} = \\frac{280}{418} = 0.67$$\n",
    "the Central Limit Theorem tells us, for large n, that:$$Z = \\frac{\\overline{X}-\\mu}{\\sigma/\\sqrt{n}}$$\n",
    "follows N(0,1). Because $\\overline{X} = \\widehat{p}$ $\\mu = E(x_i) = p$<br>$\\sigma^2 = Var(x_i) = p(1-p)$ we have$$Z = \\frac{\\widehat{p}-p}{\\sqrt{\\frac{p(1-p)}{n}}}$$\n",
    "so $$p[-Z_{\\alpha/2}<\\frac{\\widehat{p}-p}{\\sqrt{\\frac{p(1-p)}{n}}}<Z_{\\alpha/2}] = 1-\\alpha$$\n",
    "and replace p with $\\widehat{p}$ we have $$\\widehat{p}-Z_{\\alpha/2}\\sqrt{\\frac{\\widehat{p}(1-\\widehat{p})}{n}}<p<\\widehat{p}+Z_{\\alpha/2}\\sqrt{\\frac{\\widehat{p}(1-\\widehat{p})}{n}}$$<br>\n",
    "For n = 418, a sample proportion of 0.67, and z0.025 = 1.96 into the formula for a 95% confidence interval for p, we get:$$0.67±0.045$$"
   ]
  },
  {
   "cell_type": "code",
   "execution_count": 72,
   "metadata": {},
   "outputs": [
    {
     "name": "stdout",
     "output_type": "stream",
     "text": [
      "the 95% confidence interval of theta is [ 0.64976077  0.69186603]\n"
     ]
    }
   ],
   "source": [
    "p1 = 280.0/418.0\n",
    "s1 = np.random.binomial(418.0, p1, 100)\n",
    "data = s1\n",
    "# Sample size\n",
    "n = 10\n",
    "# Bootstrap replicates\n",
    "R = 1000\n",
    "# 1000 bootstrap samples of size 10\n",
    "s = [data[np.random.randint(0,n,n)].mean() for i in range(R)]\n",
    "s_sorted = np.sort(s)\n",
    "alpha = 0.05\n",
    "s_sorted[[int((R+1)*alpha/2), int((R+1)*(1-alpha/2))]]\n",
    "print(\"the 95% confidence interval of theta is\",s_sorted[[int((R+1)*alpha/2), int((R+1)*(1-alpha/2))]]/418.0)"
   ]
  },
  {
   "cell_type": "markdown",
   "metadata": {},
   "source": [
    "## Example of MLE and confidence intervals\n",
    "Suppose the weight of soap follows normal distribution. Now we randomly pick 12 bars of soap and their weights(in grams) are [1001,1004,1003,1000,997,999,1004,1000,996,1002,998,999]\n",
    "Estimate the average weight $\\mu$ of soap and give a 95% confidence interval of $\\mu$ [5]"
   ]
  },
  {
   "cell_type": "markdown",
   "metadata": {},
   "source": [
    "For MLE, likelihood function will be\n",
    "$$L(\\mu|x_1,x_2,....x_n) = p(x_1,x_2,...,x_n|\\mu) = p(x_1|\\mu)p(x_2|\\mu)...(x_n|\\mu) = C*exp(\\frac{-(\\mu-x_1)^2-(\\mu-x_2)^2-...-(\\mu-x_n)^2}{2\\sigma^2})$$\n",
    "We want to find maximize L so\n",
    "$$lnL(\\mu|x_1,x_2,....x_n)' = \\frac{d}{d\\mu}(\\frac{-(\\mu-x_1)^2-(\\mu-x_2)^2-...-(\\mu-x_n)^2}{2\\sigma^2}) = 0$$\n",
    "so the MLE of $\\mu$ is $\\frac{x_1+x_2+...+x_n}{n}$"
   ]
  },
  {
   "cell_type": "code",
   "execution_count": 73,
   "metadata": {},
   "outputs": [
    {
     "name": "stdout",
     "output_type": "stream",
     "text": [
      "the MLE of mu is 1000.25\n"
     ]
    }
   ],
   "source": [
    "samples = np.array([1001,1004,1003,1000,997,999,1004,1000,996,1002,998,999])\n",
    "mu = np.sum(samples)/len(samples)\n",
    "print(\"the MLE of mu is\",mu)"
   ]
  },
  {
   "cell_type": "markdown",
   "metadata": {},
   "source": [
    "then we will use bootstrap to calculate the confidence interval of $\\mu$"
   ]
  },
  {
   "cell_type": "code",
   "execution_count": 74,
   "metadata": {},
   "outputs": [
    {
     "name": "stdout",
     "output_type": "stream",
     "text": [
      "the 95% confidence interval of mu is [  998.83333333  1001.66666667]\n"
     ]
    }
   ],
   "source": [
    "# Sample size\n",
    "n = len(samples)\n",
    "# Bootstrap replicates\n",
    "R = 1000\n",
    "# 1000 bootstrap samples of size 12\n",
    "s = [samples[np.random.randint(0,n,n)].mean() for i in range(R)]\n",
    "s_sorted = np.sort(s)\n",
    "alpha = 0.05\n",
    "s_sorted[[int((R+1)*alpha/2), int((R+1)*(1-alpha/2))]]\n",
    "print(\"the 95% confidence interval of mu is\",s_sorted[[int((R+1)*alpha/2), int((R+1)*(1-alpha/2))]])"
   ]
  },
  {
   "cell_type": "markdown",
   "metadata": {},
   "source": [
    "## Reference\n",
    "\n",
    "### Notebooks\n",
    "\n",
    "+ [1].  https://github.com/fonnesbeck/scipy2015_tutorial/blob/master/notebooks/4.%20Resampling%20Methods%20and%20Missing%20Data.ipynb\n",
    "\n",
    "\n",
    "### Figures and Equations\n",
    "\n",
    "+ [2]. Professor Miodrag Bolic, \"Confidence intervals and Bootstrap\", Probability slides from the course uottawa ELG 7172B\n",
    "\n",
    "+ [3]. Analysis of Neural Data - [Robert E. Kass, Uri T. Eden] E.PDF\n",
    "\n",
    "\n",
    "### Internet Documents\n",
    "\n",
    "+ [4]. https://onlinecourses.science.psu.edu/stat414/node/208\n",
    "\n",
    "### E-books\n",
    "\n",
    "+ [5] S.V Gupta, \"Statistics is Easy! Second Edition\"\n",
    "\n",
    "+ [6] Data Modeling for Metrology and - Franco Pavese.pdf\n",
    "\n",
    "\n"
   ]
  },
  {
   "cell_type": "code",
   "execution_count": null,
   "metadata": {
    "collapsed": true
   },
   "outputs": [],
   "source": []
  }
 ],
 "metadata": {
  "kernelspec": {
   "display_name": "Python 3",
   "language": "python",
   "name": "python3"
  },
  "language_info": {
   "codemirror_mode": {
    "name": "ipython",
    "version": 3
   },
   "file_extension": ".py",
   "mimetype": "text/x-python",
   "name": "python",
   "nbconvert_exporter": "python",
   "pygments_lexer": "ipython3",
   "version": "3.5.3"
  }
 },
 "nbformat": 4,
 "nbformat_minor": 2
}
