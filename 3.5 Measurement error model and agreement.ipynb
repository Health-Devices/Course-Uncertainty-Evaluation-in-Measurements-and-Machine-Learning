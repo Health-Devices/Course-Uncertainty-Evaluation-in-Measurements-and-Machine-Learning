{
 "cells": [
  {
   "cell_type": "markdown",
   "metadata": {},
   "source": [
    "# Lecture 8b scribing"
   ]
  },
  {
   "cell_type": "markdown",
   "metadata": {},
   "source": [
    "## Contents:\n",
    "\n",
    "\n",
    "+ Measurement error model – mixed effect linear\n",
    "+ Statistical experiment design: paired, repeated, linked, unlinked and models for each\n",
    "+ Fitting parameters for these models\n"
   ]
  },
  {
   "cell_type": "markdown",
   "metadata": {},
   "source": [
    "## Definitions:\n",
    "\n",
    "+ CCC metrics\n",
    "+ TDI metrics"
   ]
  },
  {
   "cell_type": "markdown",
   "metadata": {},
   "source": [
    "### List of Symbols :\n",
    "\n",
    "$-- Y_j$ is the random quantity<br>\n",
    "$-- Y_{ij}$ ,(i>=1) indicates observations from the distribution of $Y_j$.<br>\n",
    "$-- x_i$ is the true unobservable measurement for $i^{th}$ subject<br>\n",
    "$-- e_{ij}$ is the random error for $i^{th}$ subject and $j^{th}$ method <br>\n",
    "$-- \\sigma^2_x$ is the between subject variance<br>\n",
    "$-- \\sigma^2_e$ is the error variance(within subject variance)<br>\n",
    "$--\\mu_x$ is the mean<br> \n",
    "$--  D_i$ is the measurement difference<br>\n",
    "$--\\beta_{0j}$ is the fixed bias of jth method<br>\n",
    "$-- \\beta_{1j}$ is the proportional bias of the jth method<br>\n",
    "$-- \\lambda $ is the precision ratio of error variances<br>\n",
    "$-- \\zeta$ is the mean difference<br>\n",
    "\n",
    "\n"
   ]
  },
  {
   "cell_type": "markdown",
   "metadata": {},
   "source": [
    "## Measurement error  model[1]:\n",
    "Measurement error model is used to link the observed to the true value being measured and the measurement errors associated with it.<br>\n",
    "Assume $(Y_1,Y_2)$ follow the measurement error model,$$Y_1 = x +e_1, Y_2 = \\beta_{0} + \\beta_{1}x+ e_2$$ allowing various measurement scales for the methods.The Model for the paired measurements $(Y_{i1},Y_{i2})$ can be written as $$Y_{i1} =x_i + e_{i1},Y_{i2} = \\beta_{0} + \\beta_{1}x_i + e_{i2},i=1,2,,,,,,,n,---->(1)$$. Here $x_i$ is the true unobservable measurement for the ith subject and $e_{ij}$ is the random error of jth method(j=1,2).Other than the assumptions listed in equation-1, assume x and $e_j$ are normally distributed, where x$\\approx N_1(\\mu_x,\\sigma^2_x)$ and$ e_j\\approx N_1(0,\\sigma^2_{ej})$. Pairs $(Y_{i1},Y_{i2})$ are independently and identically distributed as $(Y_{1},Y_{2})$ follows a bivariate normal distribution with mean vector and the covariance matrix given as below\n",
    "  $$\\left(\\begin{array}{cccc}\\mu_1\\\\ \\mu_2\\\\ \\end{array}\\right)= \\left(\\begin{array}{cccc}\\mu_x\\\\ \\beta_0+ \\beta_1\\mu_x\\\\ \\end{array}\\right)$$ and covariance matrix $$\\left(\\begin{array}{cccc}\\sigma^2_1 & \\sigma_{12}\\\\ \\sigma_{12}& \\sigma^2_2\\\\ \\end{array}\\right)= \\left(\\begin{array}{cccc}\\sigma^2_x+\\sigma^2_{e1}&\\beta_1\\sigma^2_x\\\\ \\beta_1\\sigma^2_x& \\beta^2_1\\sigma^2_x+\\sigma^2_{e2}\\\\ \\end{array}\\right)$$<br>From the above matrices, the measurement difference $D_i$ and D can be written as $$D_i = \\beta_0 + (\\beta_1 - 1)x_i + e_{i2}-e{i1}, D=\\beta_0 +(\\beta_1-1)x + e_2-e_1$$\n",
    "  \n",
    "  Above depends on true measurement and differences in fixed biases and the measurement errors.Here $D_i$ increase or decrease in proportion to the true values.As $D_i$ are independently and identically distributed $D\\approx N_1(\\zeta,\\tau^2)$ where $ \\zeta = \\beta _0 + (\\beta_1-1)\\mu_x$ and $\\tau^2 = (\\beta_1-1)^2\\sigma^2_x+\\sigma^2_{e1}+\\sigma^2_{e2}.$<br>According to the model given in equation-1 all four measures fixed bias, proportional bias,precision and sensitivity are used to compare characteristics of the methods.It is unfortune that this measurement model can not be identified and so the estimation of the parameters cannot be done.As there are 6 unrelated parameters in the model and we are having only 5 sufficient statistics i.e 2 sample means ,2 sample varainces and one sample covariance under the bivariate normality of the data the actual problem exists and this problem can be resolved by making assumption about one of the parameters and decreasing the unknown parameters number to 5.By using maximum likelihood method these parameters can be estimated. $\\beta_1 = 1$ is one possibility to assume which means the methods have the same scale.Assumtion can also be done by taking precision ratio as known which means precision of one method is a known multiple of the other precision. By taking this assumption, the fitting of the model is known as Deming regression.\n",
    "  \n",
    "### Fixed and Proportional bias :\n",
    " In the equation--1, $\\beta_0$ which is a intercept is called the fixed bias of the measurement method which is a constant such that regardless of the true value the method adds to its measurements.If $\\beta_0$=0, the fixed bias is same in the methods <br>In the equation--1,$\\beta_1$ which is a slope is called proportional bias or level-independent bias.It is the amount  of change observed by the method if the true x changes by 1 unit(differnence in scales of methods).If $\\beta_1$ =1, same scale is observed in the methods. <br>The fixed bias $\\beta_0$ and the proportional bias $\\beta_1$ cause systematic errors in measurement. "
   ]
  },
  {
   "cell_type": "markdown",
   "metadata": {},
   "source": [
    "### Precision :\n",
    "The precision of a measurement method is linked with the size of the random errors in measurement. The error variances $\\sigma^2_e$ measures variability in the observed Y around the error-free value of the method and so $\\sigma^2_e$ is measure of precision of method and is also some times defined as reciprocal of error variance and also the method is said to be fully prcise if$\\sigma^2_e$=0.<br>The diffrence in methods precisions is measured by precision ratio. \n",
    "$$\\lambda = \\frac{ method 2 precision}{ method 1 precision}$$ \n",
    "$$=\\frac{\\frac{1}{\\sigma^2_{e2}}}{\\frac{1}{\\sigma^2_{e1}}}=\\frac{\\sigma^2_{e1}}{\\sigma^2_{e2}}$$\n",
    "\n",
    "If $\\lambda = 1$, methods considered to be equally precise,If $\\lambda < 1$, method 1 is more precise than method 2 and vice versa if $\\lambda > 1$\n",
    "\n",
    "\n",
    "### Sensitivity : \n",
    " The ability of a method to discern small changes is measured by a relative measure of precision known as sensitivity.The sensitivity notion combines combines the rate of change and the precision of a measurement in a single index. The larger is the sensitivity, more effective is the method of measurement.<br>\n",
    " The sensitivities of methods can be compared using squared sensitivity ratio,\n",
    " $$\\gamma^2 =  \\frac{ method 2 sensitivity^2}{ method 1 sensitivity^2}$$ \n",
    "$$=\\frac{\\frac{\\beta^2_1}{\\sigma^2_{e2}}}{\\frac{1}{\\sigma^2_{e1}}}=\\beta^2_1\\frac{\\sigma^2_{e1}}{\\sigma^2_{e2}}= \\beta^2_1\\lambda$$"
   ]
  },
  {
   "cell_type": "markdown",
   "metadata": {},
   "source": [
    "### Deming Regression : \n",
    " Deming regression is a popular approach for fitting a line through the paired measurements $(Y_{i1};Y_{i2})$, i = 1; : : : ; n, when both the response variable $Y_2$ and the explanatory variable $Y_1$\n",
    "are measured with error.In Deming regression,an assumption is made such that the data follow the measurement error model in the equation-1 and the ratio of error variances,$\\lambda = \\frac{\\sigma^2_{e1}}{\\sigma^2_{e2}}$ is known.The line $Y^-_2= \\beta^-_0+\\beta^-_1Y_1$ is called the Deming regression line and also the orthogonal regression line.Here $( \\beta^-_0, \\beta^-_1)$ is an estimate of  $( \\beta_0, \\beta_1)$ in the model in equation-1 and$Y^-_2$ is the value of $Y_2$ predicted by the line when the other variable is $Y_1$."
   ]
  },
  {
   "cell_type": "markdown",
   "metadata": {},
   "source": [
    "### Mixed Effects Model (Grubbs model)[2]:\n",
    "It is consudered to be special case of equation-->1 which is obtained by taking $\\beta_1 = 1$ which assumes that 2 methods have measurement scale to be same,from which we obtain $$Y_{i1} =x_i + e_{i1},Y_{i2} = \\beta_{0} + x_i + e_{i2},i=1,2,,,,,,,n--->(2)$$\n",
    "    Interpretations and assumptions of equation-2 model are identical to the model in equation-1.and hence this model is well known as Grubbs model.This model is a variance component model with three components of variances,$\\sigma^2_b,\\sigma^2_{e1}$ and $\\sigma^2_{e2}.$ and can also be called a mixed effects model as $\\beta_0$ is a fixed effect and $x_i$ is a subject specific random effect.Assuming no loss of generality,i.e E(x)=0 and written as $Y_{ij}=\\mu_j +x_i + e_{ij}$,where $\\mu_1=\\mu_x$ and $\\mu_2=\\mu_x + \\beta_0.$<br>The measurement pairs $(Y_{i1},Y_{i2})$ are independently and identically distributed as $(Y_1,Y_2)$, which follows a bivariate normal disytribution with mean vector $$\\left(\\begin{array}{cccc}\\mu_x\\\\ \\mu_x+\\beta_0\\\\ \\end{array}\\right)$$ and covariance matrix $$\\left(\\begin{array}{cccc}\\sigma^2_x+\\sigma^2_{e1} & \\sigma^2_{x}\\\\ \\sigma^2_{x}& \\sigma^2_b+\\sigma^2_{e2}\\\\ \\end{array}\\right)$$\n",
    "    The correlation between the methods is $$\\frac{\\sigma^2_x}{(\\sigma^2_x+\\sigma^2_{e1})^{1/2} (\\sigma^2_x+\\sigma^2_{e2})^{1/2}}$$\n",
    "   \n",
    "  \n",
    "  \n",
    "  $$\\left(\\begin{array}{cccc}\\mu_1\\\\ \\mu_2\\\\ \\end{array}\\right)= \\left(\\begin{array}{cccc}\\mu_x\\\\ \\beta_0+ \\beta_1\\mu_x\\\\ \\end{array}\\right)--->(a)$$ and covariance matrix $$\\left(\\begin{array}{cccc}\\sigma^2_1 & \\sigma_{12}\\\\ \\sigma_{12}& \\sigma^2_2\\\\ \\end{array}\\right)= \\left(\\begin{array}{cccc}\\sigma^2_x+\\sigma^2_{e1}&\\beta_1\\sigma^2_x\\\\ \\beta_1\\sigma^2_x& \\beta^2_1\\sigma^2_x+\\sigma^2_{e2}\\\\ \\end{array}\\right)--->(b)$$ $$p =\\frac{\\sigma^2_x\\beta_1}{(\\sigma^2_x+\\sigma^2_{e1})^{1/2} (\\sigma^2_x\\beta^2_1+\\sigma^2_{e2})^{1/2}}-->(c)$$\n",
    "  By setting $\\beta_1 = 1$ in equations a,b and c the above expressions can be obtained.Here we have a non-negative correlation.\n",
    "  The differences of measurement $D_i$ and $D$ is written as $$D_i = \\beta_0 + e_{i2}-e_{i1}, D=\\beta_0  + e_1-e_2.$$The $D_i$ are independent and identical distribution as D$\\approx N_1(\\zeta,\\tau^2)$, where $ \\zeta = \\beta_0,\\tau^2=\\sigma^2_{e1}+\\sigma^2_{e2}. $ \n",
    "  As the measurement methods follow the mixed effects model having same scale, their error-free measurements differ only by a constant.The methods differ only on two characteristics i.e fixed bias and precision.Like not in the case of error measurement model $$Y_1 = x +e_1, Y_2 = \\beta_{0} + \\beta_{1}x+ e_2--->(2)$$, the measure $\\beta_0$ for this mixed effects model is actually the mean difference$\\zeta.$ <br>ML method can be used to fit the mixed-effects model.Ml method is considered to be a more efficient method of estimation compared to method of moments.Even it is possible to get the estimates of ML of the error variances $\\sigma^2_{ej}$ from the paired measurements, there may be unreliable estimates as they may have unrealistically large standard errors.It can be possible that the smallest possible value for the variance can be zero or near zero and other can be larger by more orders of magnitude.<br>If the possibility that precisions of methods are ruled out which truly differ by large orders of magnitude,this phenomenon indicates one of two possibilities:a)A wrong model is being fit to the data entirely or b)The data may not have enough information to estimate the variances of errors reliably.In a regular practice,instead of ML method mixed effects models are fit by method of restricted maximum likelihood.\n",
    "  \n",
    "  #### Limitation : \n",
    "  The assumption of a common scale of measurements is the limitation of mixed-effects model.Instead of having same nominal unit of measurement the methods may have different scales. \n",
    "  \n",
    "  \n",
    "  "
   ]
  },
  {
   "cell_type": "markdown",
   "metadata": {},
   "source": [
    "## Example[3] :"
   ]
  },
  {
   "cell_type": "code",
   "execution_count": 3,
   "metadata": {},
   "outputs": [
    {
     "data": {
      "image/png": "[encoded data removed]",
      "text/plain": [
       "<IPython.core.display.Image object>"
      ]
     },
     "execution_count": 3,
     "metadata": {},
     "output_type": "execute_result"
    }
   ],
   "source": [
    "from IPython.display import Image\n",
    "Image(filename='question.PNG')\n",
    "\n",
    "\n"
   ]
  },
  {
   "cell_type": "markdown",
   "metadata": {},
   "source": [
    "The above table represents a data set containing (grams) of 15 packets of potatoes measured using two kitchen scales, A and B.Compute the Grubbs estimates for these data?"
   ]
  },
  {
   "cell_type": "code",
   "execution_count": 7,
   "metadata": {},
   "outputs": [
    {
     "name": "stdout",
     "output_type": "stream",
     "text": [
      "1211.33333333\n",
      "1194.33333333\n",
      "560911.555556\n",
      "534242.888889\n"
     ]
    }
   ],
   "source": [
    "import numpy as np\n",
    "Y1=np.array([135,940,1075,925,2330,2870,1490,2110,650,1380,970,1000,1640,345,310])\n",
    "Y2=np.array([165,910,1060,925,2290,2850,1425,2050,630,1370,1000,1000,1575,345,320])\n",
    "\n",
    "mu_Y1=np.mean(Y1)\n",
    "mu_Y2=np.mean(Y2)\n",
    "var_Y1=np.var(Y1)\n",
    "var_Y2=np.var(Y2)\n",
    "print(mu_Y1)\n",
    "print(mu_Y2)\n",
    "print(var_Y1)\n",
    "print(var_Y2)"
   ]
  },
  {
   "cell_type": "code",
   "execution_count": 8,
   "metadata": {},
   "outputs": [
    {
     "data": {
      "text/plain": [
       "array([[ 600976.66666667,  586217.02380952],\n",
       "       [ 586217.02380952,  572403.0952381 ]])"
      ]
     },
     "execution_count": 8,
     "metadata": {},
     "output_type": "execute_result"
    }
   ],
   "source": [
    "covariance_Y1Y2= np.cov(Y1,Y2)\n",
    "covariance_Y1Y2"
   ]
  },
  {
   "cell_type": "code",
   "execution_count": 9,
   "metadata": {},
   "outputs": [
    {
     "name": "stdout",
     "output_type": "stream",
     "text": [
      "#1 Mean of Y or b is 1211.33333333\n",
      "#2 beta0 value is 17.0\n",
      "#3 variance of b value is 586217.02381\n",
      "#4 variance of error estimator 1 is 14759.6428571\n",
      "#5 variance of error estimator 2 is -13813.9285714\n"
     ]
    }
   ],
   "source": [
    "from numpy import matrix\n",
    "   \n",
    "mu_b=mu_Y1\n",
    "print('#1 Mean of Y or b is '+str(mu_b))\n",
    "\n",
    "beta_0=mu_Y1-mu_Y2\n",
    "print('#2 beta0 value is '+str(beta_0))\n",
    "\n",
    "var_b=covariance_Y1Y2.item(1)\n",
    "print('#3 variance of b value is '+str(var_b))\n",
    "\n",
    "var_e1=covariance_Y1Y2.item(0)-covariance_Y1Y2.item(1)\n",
    "print('#4 variance of error estimator 1 is '+str(var_e1))\n",
    "\n",
    "var_e2=covariance_Y1Y2.item(3)-covariance_Y1Y2.item(2)\n",
    "print('#5 variance of error estimator 2 is '+str(var_e2))\n",
    "\n",
    "\n"
   ]
  },
  {
   "cell_type": "markdown",
   "metadata": {},
   "source": [
    "### Repeated measurement[4]:\n",
    "\n",
    "Repeatability of a measurement method refers to the variability in its repeated measurements made on the same subject under identical conditions.There are two types of repeated measurements :linked and unlinked.\n",
    "\n",
    "#### Unlinked measurement:\n",
    "The repeated measurements on a subject are unlinked (or unpaired) if the measurements from the two methods are obtained separately, and a method’s multiple measurements on a subject are independent replications of the same underlying measurement.The true value of the subject remains unchanged during the measurement period.\n",
    "\n",
    "#### Linked measurement:\n",
    " The repeated measurements on a subject are linked (or paired) when the measurements from the two methods are made together in pairs as $(Y_{i1k},Y_{i2k}), k =1.....m_i$. Not like the unlinked case, the methods surel have equal number of measurements on a subject.Linked repeated measurements can arise when the quantity being measured itself changes every time.\n",
    " \n"
   ]
  },
  {
   "cell_type": "markdown",
   "metadata": {},
   "source": [
    "### Modeling unlinked data:\n",
    "Consider,$(Y_{i1k},Y{i2k}),k= 1,...m_i$ where $Y_{i1k}=x_i+x_{i1}+e_{i1k},Y{i2k}=\\beta_0+x_{i}+x_{i2}+e_{i2k}$, here $x_{i1},x_{i2}$ are interaction terms and $x_{i1}$ represents effects of method 1 on subject i.<br>x_i follow independent $N_1(\\mu_x,\\sigma^2_x)$ distributions,$x_{ij}$ follow independent $N_1(0,\\psi^2)$,$e_{ijk}$ follow independent $N_1(0,\\sigma^2_{ej})$ and $x_i,_{ij} and e_{ijk}$ are mutually dependent."
   ]
  },
  {
   "cell_type": "markdown",
   "metadata": {},
   "source": [
    "### Modeling linked data:\n",
    "Consider,$Y_{i1k}=x_i+x_{i1}+x^*_{ik}+e_{i1k},Y{i2k}=\\beta_0+x_{i}+x_{i2}+x^*_{ik}+e_{i2k}$<br>The effect $x^*_{ik}$ can also be interpreted as a subject × time interaction. In other words, $x^*_{ik}$ is a subject-speciﬁc bias that gets introduced in the measurements at time k. It follows the distribution $N_1(0,\\sigma^2_{x})$<br>Hence,\n",
    "$\\left(\\begin{array}{cccc}Y_1\\\\ Y_2\\\\ \\end{array}\\right) \\approx N_2({\\left(\\begin{array}{cccc}\\mu_x\\\\ \\beta_0+ \\mu_x\\\\ \\end{array}\\right)},$$\\left(\\begin{array}{cccc}\\sigma^2_x+\\sigma^2_{e1}&\\beta_1\\sigma^2_x\\\\ \\beta_1\\sigma^2_x& \\beta^2_1\\sigma^2_x+\\sigma^2_{e2}\\\\ \\end{array}\\right))$\n"
   ]
  },
  {
   "cell_type": "markdown",
   "metadata": {},
   "source": [
    "#### CCC(Concordance Correlation Coefficient):\n",
    "ccc for unlinked data = $\\frac{2\\sigma^2_x}{\\beta^2_0+2(\\sigma^2_b+\\psi^2)+\\sigma^2_{e1}+\\sigma^2_{e2}}$<br>\n",
    "ccc for linked data = $\\frac{2(\\sigma^2_x+\\sigma^2_{x*})}{\\beta^2_0+2(\\sigma^2_b+\\psi^2)+\\sigma^2_{e1}+\\sigma^2_{e2}}$\n",
    "#### Uses :\n",
    "1.CCC is used to measure the agreement between two variables, for producing reproducibility and for inter-rater reliability<br>\n",
    "2.CCC is used in a comparision of analysis method for functional magnetic resonance imaging brain scans[4].\n",
    "\n",
    "#### TDI(Total Deviation Index):\n",
    "For a specified large proportion p, the TDI measure is defined as,<br>\n",
    "                  TDI(p) = 100pth percentile of |D|.\n",
    "TDI for linked and unlinked data remains same as it is based on the difference D.<br>TDI = $(2\\psi^2+\\sigma^2_{e1}+\\sigma^2_{e2})^{1/2}X_{1,p}\\frac{\\beta_0}{{(2\\psi^2+\\sigma^2_{e1}+\\sigma^2_{e2})}^{1/2}}$\n",
    "#### Uses:\n",
    "The main advantage of TDI is that it results in the same measurement scale as that of the variable of interest, allowing a straightforward interpretation[5]\n"
   ]
  },
  {
   "cell_type": "code",
   "execution_count": null,
   "metadata": {
    "collapsed": true
   },
   "outputs": [],
   "source": [
    "import numpy as np\n",
    "import seaborn as sns\n",
    "import pandas as pd\n",
    "import matplotlib.pyplot as plt\n",
    "%matplotlib inline"
   ]
  },
  {
   "cell_type": "code",
   "execution_count": 1,
   "metadata": {},
   "outputs": [
    {
     "name": "stderr",
     "output_type": "stream",
     "text": [
      "C:\\New folder\\lib\\site-packages\\statsmodels\\compat\\pandas.py:56: FutureWarning: The pandas.core.datetools module is deprecated and will be removed in a future version. Please use the pandas.tseries module instead.\n",
      "  from pandas.core import datetools\n"
     ]
    }
   ],
   "source": [
    "import numpy as np\n",
    "import scipy\n",
    "from scipy import stats\n",
    "from astroML.stats import fit_bivariate_normal\n",
    "from astroML.stats.random import bivariate_normal\n",
    "\n",
    "\n",
    "import numpy as np\n",
    "import scipy.io as sio\n",
    "import pandas as pd\n",
    "\n",
    "import statsmodels.api as sm\n",
    "import statsmodels.formula.api as smf\n",
    "import scipy as sp\n",
    "\n",
    "import scipy.stats as st\n",
    "import statsmodels.stats.api as sms\n",
    "\n",
    " "
   ]
  },
  {
   "cell_type": "code",
   "execution_count": null,
   "metadata": {
    "collapsed": true
   },
   "outputs": [],
   "source": [
    "import statsmodels.api as sm\n",
    "\n",
    "import statsmodels.formula.api as smf\n",
    "\n",
    "df=pd.read_csv('data1.csv', sep='\\t', header = 0)\n",
    "# data frame with two columns --- second = method 1, first = method 2\n",
    "z=df.as_matrix(columns=None)\n",
    "x,y=z[:,1],z[:,0]\n"
   ]
  },
  {
   "cell_type": "markdown",
   "metadata": {},
   "source": [
    "### Example[5]: \n",
    "Evaluate CCC and TDI before and after recalibration using the oxygen saturation data as given below and also show scatter plot and Bland-Altman plot for the below data."
   ]
  },
  {
   "cell_type": "code",
   "execution_count": 1,
   "metadata": {},
   "outputs": [
    {
     "data": {
      "image/png": "[encoded data removed]",
      "text/plain": [
       "<IPython.core.display.Image object>"
      ]
     },
     "execution_count": 1,
     "metadata": {},
     "output_type": "execute_result"
    }
   ],
   "source": [
    "from IPython.display import Image\n",
    "Image(filename='oxygen saturation data.PNG')\n"
   ]
  },
  {
   "cell_type": "code",
   "execution_count": 5,
   "metadata": {},
   "outputs": [
    {
     "name": "stdout",
     "output_type": "stream",
     "text": [
      "######################\n",
      "Similarity Evaluation\n",
      "######################\n",
      "89.0833333333\n",
      "89.4958333333\n",
      "('mu1-mu2:', -0.41250000000000853)\n",
      "('sigma^2/sigma1^2:', 0.98483880583325711)\n",
      "######################\n",
      "Agreement Evaluation\n",
      "######################\n",
      "('CCC', 0.98925927293539861)\n",
      "('TDI', 2.2000000000000028)\n",
      "######################\n",
      "%95 Confidence interval:\n",
      "######################\n",
      "(array([ 89.21051399,  89.21192066]), array([ 89.55002965,  89.54862299]))\n",
      "##################################################################\n",
      "Agreement Evaluation after recalibration\n",
      "##################################################################\n",
      "('CCC2', 0.99037935353054107)\n",
      "('TDI2', 1.8462500000000028)\n"
     ]
    }
   ],
   "source": [
    "import pandas as pd\n",
    "from astroML.stats import fit_bivariate_normal\n",
    "from astroML.stats.random import bivariate_normal\n",
    "import scipy.stats as st\n",
    "import numpy as np\n",
    "import scipy as sp\n",
    "from scipy import stats\n",
    "import statsmodels.stats.api as sms\n",
    "import statsmodels.formula.api as smf\n",
    "\n",
    "\n",
    "oxy=pd.read_csv('oxygen_saturation.txt', sep='\\t', header = 0)\n",
    "# data frame with two columns --- second = method 1, first = method 2\n",
    "z=oxy.as_matrix(columns=None)\n",
    "x,y=z[:,0],z[:,1]\n",
    "#x=np.log(data1)\n",
    "#y=np.log(data2)\n",
    "\n",
    "\n",
    "(mu_nr, sigma1_nr,sigma2_nr, alpha_nr) = fit_bivariate_normal(x, y, robust=False)\n",
    "\n",
    "np.random.seed(0)\n",
    "xx, cov = bivariate_normal(mu_nr, sigma1_nr, sigma2_nr, alpha_nr, size=10000,\n",
    "                          return_cov=True)\n",
    "\n",
    "\n",
    "sigma1 = np.sqrt(cov[0, 0])\n",
    "sigma2 = np.sqrt(cov[1, 1])\n",
    "sigma12 = cov[0, 1]\n",
    "corr=sigma12/(sigma1*sigma2)\n",
    "Mu1=mu_nr[0]\n",
    "Mu2=mu_nr[1]\n",
    "\n",
    "###############################################################################\n",
    "# Agreement Evaluation #\n",
    "###############################################################################\n",
    "## Computing CCC  #\n",
    "###################\n",
    "CCC=(2*(sigma12))/((Mu1-Mu2)**2+sigma1**2+sigma2**2)\n",
    "D=np.abs(x-y)\n",
    "TDI=np.percentile(D, (100*0.95))\n",
    "print(\"######################\")  \n",
    "print(\"Similarity Evaluation\") \n",
    "print(\"######################\") \n",
    "print(Mu1)\n",
    "print(Mu2)\n",
    "print(\"mu1-mu2:\",Mu1-Mu2) \n",
    "print(\"sigma^2/sigma1^2:\",sigma2**2/sigma1**2) \n",
    "print(\"######################\")  \n",
    "print(\"Agreement Evaluation\") \n",
    "print(\"######################\")  \n",
    "print(\"CCC\",CCC) \n",
    "print(\"TDI\",TDI) \n",
    "\n",
    "###############################################################################\n",
    "# confidence intervals\n",
    "###############################################################################\n",
    "\n",
    "\n",
    "\n",
    "def mean_confidence_interval(data, confidence=0.95):\n",
    "    a = 1.0*np.array(data)\n",
    "    n = len(a)\n",
    "    m, se = np.mean(a), scipy.stats.sem(a)\n",
    "    h = se * sp.stats.t._ppf((1+confidence)/2., n-1)\n",
    "    return (m-h, m+h)\n",
    "print(\"######################\")  \n",
    "print(\"%95 Confidence interval:\")\n",
    "print(\"######################\")\n",
    "print(mean_confidence_interval (xx, confidence=0.95))\n",
    "\n",
    "\n",
    "a = xx\n",
    "mean_confidence_interval(a)\n",
    "st.t.interval(0.95, len(a)-1, loc=np.mean(a), scale=st.sem(a))\n",
    "sms.DescrStatsW(a).tconfint_mean()\n",
    "\n",
    "###############################################################################\n",
    "# after recalibration #\n",
    "###############################################################################\n",
    "difMu=Mu2-Mu1\n",
    "y_recalib=y-difMu\n",
    "\n",
    "(mu_nr2, sigma1_nr2,sigma2_nr2, alpha_nr2) = fit_bivariate_normal(x, y_recalib, robust=False)\n",
    "\n",
    "np.random.seed(0)\n",
    "xx2, cov2 = bivariate_normal(mu_nr2, sigma1_nr2, sigma2_nr2, alpha_nr2, size=1000,\n",
    "                          return_cov=True)\n",
    "\n",
    "\n",
    "sigma1_recalib = np.sqrt(cov2[0, 0])\n",
    "sigma2_recalib= np.sqrt(cov2[1, 1])\n",
    "sigma12_recalib= cov2[0, 1]\n",
    "corr_recalib=sigma12_recalib/(sigma1_recalib*sigma2_recalib)\n",
    "Mu1_recalib=mu_nr2[0]\n",
    "Mu2_recalib=mu_nr2[1]\n",
    "\n",
    "###############################################################################\n",
    "# evaluation of agreement after recalibration #\n",
    "###############################################################################\n",
    "## Computing CCC  #\n",
    "###################\n",
    "CCC2=(2*(sigma12_recalib))/((Mu1_recalib-Mu2_recalib)**2+sigma1_recalib**2+sigma2_recalib**2)\n",
    "D2=np.abs(x-y_recalib)\n",
    "TDI2=np.percentile(D2, (100*0.95))\n",
    "\n",
    "print(\"##################################################################\")  \n",
    "print(\"Agreement Evaluation after recalibration\") \n",
    "print(\"##################################################################\")  \n",
    "print(\"CCC2\",CCC2) \n",
    "print(\"TDI2\",TDI2)\n"
   ]
  },
  {
   "cell_type": "code",
   "execution_count": 7,
   "metadata": {},
   "outputs": [
    {
     "data": {
      "image/png": "[encoded data removed]",
      "text/plain": [
       "<matplotlib.figure.Figure at 0x6a22400>"
      ]
     },
     "metadata": {},
     "output_type": "display_data"
    },
    {
     "data": {
      "image/png": "[encoded data removed]",
      "text/plain": [
       "<matplotlib.figure.Figure at 0xfb170b8>"
      ]
     },
     "metadata": {},
     "output_type": "display_data"
    }
   ],
   "source": [
    "import numpy as np\n",
    "import matplotlib.pyplot as plt\n",
    "import statsmodels.api as sm\n",
    "\n",
    "\n",
    "def bland_altman_plot(data1, data2, *args, **kwargs):\n",
    "    \n",
    "    mean      = np.mean([data1, data2], axis=0)\n",
    "    diff      = data1 - data2               \n",
    "    md        = np.mean(diff)   \n",
    "    sd        = np.std(diff, axis=0) \n",
    "    \n",
    " #   model = sm.OLS(diff,mean)\n",
    "  #  results = model.fit()\n",
    "   # print (results.summary())\n",
    "\n",
    "\n",
    "    plt.scatter(mean, diff, *args, **kwargs)\n",
    "    plt.axhline(md, color='gray', linestyle='--')\n",
    "    plt.axhline(md + 1.96*sd, color='gray', linestyle='--')\n",
    "    plt.axhline(md - 1.96*sd, color='gray', linestyle='--')\n",
    "\n",
    "\n",
    "data_1 = np.array([100,100,99,99,99,98,98,99,94,96,97,95,96,72,98,85,98,98,93,93,96,80,97,93,99,99,95,97,97,99,93,96,98,99,94,90,89,94,95,75,81,82,82,81,83,81,83,82,84,93,89])\n",
    "data_2 = np.array([99.7,99.8,99.1,99.7,98.5,97.2,98,98.1,94.6,97.1,97.3,95.7,98.2,70.9,96.8,83.8,97.7,99.2,93.7,92,94.7,82.3,96,94.3,98.9,98.8,96.6,96.3,96.8,98.7,93.9,96.8,98.6,98.6,94.6,91.2,90,92.6,96.9,72.5,83.1,82.6,83.6,83.2,84.5,82.6,84.9,82.3,84.5,94.6,91])\n",
    "plt.scatter(data_1,data_2)\n",
    "plt.xlabel('data_1')\n",
    "plt.ylabel('data_2')\n",
    "plt.title('Scatter plot')\n",
    "plt.show()\n",
    "\n",
    "\n",
    "\n",
    "\n",
    "bland_altman_plot(data_1, data_2)\n",
    "plt.title('Bland-Altman Plot')\n",
    "plt.legend()\n",
    "plt.show()"
   ]
  },
  {
   "cell_type": "markdown",
   "metadata": {
    "collapsed": true
   },
   "source": [
    "## References:\n",
    "1,2.Measuring Agreement: Models, Methods, and Applications, First Edition,chapter-1.Author(s): Pankaj K Choudhary, Haikady N Nagaraja.<br>\n",
    "3.Problem no.1.6 from Measuring Agreement: Models, Methods, and Applications, First Edition,chapter-1.Author(s): Pankaj K Choudhary, Haikady N Nagaraja.<br>\n",
    "4.Measuring Agreement: Models, Methods, and Applications, First Edition,chapter-5.Author(s): Pankaj K Choudhary, Haikady N Nagaraja.<br>\n",
    "5.Oxygen saturation data from chapter 4 Measuring Agreement: Models, Methods, and Applications, First Edition,chapter-5.Author(s): Pankaj K Choudhary, Haikady N Nagaraja<br> \n",
    "6.https://en.wikipedia.org/wiki/Concordance_correlation_coefficient.<br>\n",
    "7.https://upcommons.upc.edu/handle/2099.1/23304\n",
    "\n"
   ]
  },
  {
   "cell_type": "code",
   "execution_count": null,
   "metadata": {
    "collapsed": true
   },
   "outputs": [],
   "source": []
  }
 ],
 "metadata": {
  "anaconda-cloud": {},
  "celltoolbar": "Slideshow",
  "kernelspec": {
   "display_name": "Python 2",
   "language": "python",
   "name": "python2"
  },
  "language_info": {
   "codemirror_mode": {
    "name": "ipython",
    "version": 2
   },
   "file_extension": ".py",
   "mimetype": "text/x-python",
   "name": "python",
   "nbconvert_exporter": "python",
   "pygments_lexer": "ipython2",
   "version": "2.7.14"
  }
 },
 "nbformat": 4,
 "nbformat_minor": 2
}
