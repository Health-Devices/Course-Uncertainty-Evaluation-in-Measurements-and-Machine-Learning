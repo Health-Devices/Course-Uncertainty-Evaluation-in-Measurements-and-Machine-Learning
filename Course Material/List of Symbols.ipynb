{
 "cells": [
  {
   "cell_type": "markdown",
   "metadata": {},
   "source": [
    "### List of Symbols :\n",
    "$--\\mu$ is the mean<br>\n",
    "$-- \\sigma^2$ is the variance<br>\n",
    "$-- y_i$ represents the random variable $i$<br>\n",
    "$-- y_i$ represents the random variable $i$<br>\n",
    "$--\\large\\epsilon_i$ is the individual error term<br>\n",
    "$--\\ $X is the set of states<br>\n",
    "$--x_t$ is the current state at time instant $t$ <br>\n",
    "$--x_{t+1}$ is the next state at time instant $t+1$ <br>\n",
    "$--\\normalsize\\rho$ is the acceptance ratio<br>\n",
    "$--θ$ is the vector of parameters <br>\n",
    "$--q$ is the importance distribution <br>\n",
    "$--W$ weights <br>"
   ]
  }
 ],
 "metadata": {
  "anaconda-cloud": {},
  "kernelspec": {
   "display_name": "Python [default]",
   "language": "python",
   "name": "python3"
  },
  "language_info": {
   "codemirror_mode": {
    "name": "ipython",
    "version": 3
   },
   "file_extension": ".py",
   "mimetype": "text/x-python",
   "name": "python",
   "nbconvert_exporter": "python",
   "pygments_lexer": "ipython3",
   "version": "3.5.2"
  }
 },
 "nbformat": 4,
 "nbformat_minor": 2
}
