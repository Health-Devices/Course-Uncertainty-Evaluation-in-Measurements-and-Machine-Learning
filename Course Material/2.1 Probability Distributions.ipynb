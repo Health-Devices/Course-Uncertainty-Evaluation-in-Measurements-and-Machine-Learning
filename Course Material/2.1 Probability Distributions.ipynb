{
 "cells": [
  {
   "cell_type": "markdown",
   "metadata": {},
   "source": [
    "# Lecture 2 Scribing\n",
    "\n",
    "## Contents\n",
    "\n",
    "+ What is probability distribution? \n",
    "+ Types of probability distributions\n",
    "+ Examples \n",
    " \n"
   ]
  },
  {
   "cell_type": "markdown",
   "metadata": {},
   "source": [
    "### What is probability distribution?\n",
    "\n",
    "   A probability distribution is a mathematical function that, stated in simple terms, can be thought of as providing the probabilities of occurrence of different possible outcomes in an experiment. \n",
    "\n",
    "For instance, if the random variable X is used to denote the outcome of a coin toss (\"the experiment\"), then the probability distribution of X would take the value 0.5 for X = heads, and 0.5 for X = tails (assuming the coin is fair).\n",
    "\n",
    "In more technical terms, the probability distribution is a description of a random phenomenon in terms of the probabilities of events."
   ]
  },
  {
   "cell_type": "markdown",
   "metadata": {},
   "source": [
    "## Types "
   ]
  },
  {
   "cell_type": "markdown",
   "metadata": {},
   "source": [
    "(a)Distribution of Discrete Variables\n",
    "- Binomial dsitribution \n",
    "- Geometric distribution\n",
    "- Poisson distribution\n",
    "\n",
    "(b)Distribution of Discrete Variables\n",
    "- Normal(Gaussian) distribution\n",
    "- Student t distribution\n",
    "- Lognormal distribution\n",
    "- gamma distribution\n",
    "- Exponential distribution\n",
    "- Weibull distribution\n",
    "- F-distribution\n",
    "- uniform distribution\n",
    "- Beta Distribution"
   ]
  },
  {
   "cell_type": "markdown",
   "metadata": {},
   "source": [
    "---\n",
    "### 1)Bernouilli Process\n",
    "Consider an experiment involving repeated trials where only two complementary outcomes are\n",
    "possible which can be labeled either as a “success” or a “failure”. Such a process is called a Bernouilli process:\n",
    "\n",
    "   (i) if the successive trials are independent\n",
    "   (ii) if the probabilityof success p remains constant from one trial to the next. Notethat the number of partitions or combinations of n outcomes\n",
    "into two groups with x in one group and (n-x) in the other is\n",
    "equal to\n",
    "\n",
    "$$C(n,x)=\\big(\\frac{n}{x}\\big)$$"
   ]
  },
  {
   "cell_type": "markdown",
   "metadata": {},
   "source": [
    "---\n",
    "### 2) Binomial Distribution\n",
    "\n"
   ]
  },
  {
   "cell_type": "markdown",
   "metadata": {},
   "source": [
    "The number of successes in n\n",
    "Bernouilli trials is called a binomial random variable. Its\n",
    "PDF is called a Binomial distribution (so named because of\n",
    "its association with the terms of the binomial expansion). It\n",
    "is a unimodal distribution which gives the probability of x\n",
    "successes in n independent trials, if the probability of success\n",
    "in any one trial is p. Note that the outcomes must be\n",
    "Bernouilli trials.\n",
    "\n",
    "\n",
    "$$ B(x\\,;n,p) = \\big( \\frac {n}{x} \\big) p^x (1-p)^{n-x}$$\n",
    "\n",
    "   where $ \\mu =(n.p)$ and varience  is $\\sigma^2=np(1-p)$\n",
    "   \n",
    "   When n is small it is easy to compute the binomial probabilities using above equation\n",
    "   \n",
    "\n",
    "If large values of n, it is convenient to refer to tables for corresponding cumulative distribution functions. It is referred as *Binomial probability sums*\n",
    "\n",
    "$$ B(r \\,;n,p)= \\sum_{x=0}^r B(x\\,;n,p)$$"
   ]
  },
  {
   "cell_type": "markdown",
   "metadata": {},
   "source": [
    "**Example 2.4.2**\n",
    "\n",
    "The probability that a patient recovers from\n",
    "a type of cancer is 0.6. If 15 people are known to have contracted\n",
    "this disease, then one can determine probabilities of\n",
    "various types of cases using Table A1. Let X be the number\n",
    "of people who survive."
   ]
  },
  {
   "cell_type": "markdown",
   "metadata": {},
   "source": [
    "(a) The probability that at least 5 survive is \n",
    "\n",
    "$$ p(X \\geq 5) \\, = 1-p(X \\geq 5) = 1 - \\sum_{x=0}^4  B(x\\,; 15,0.6) $$\n",
    "\n",
    " $$= 1 -  0.0094 = 0.9906$$"
   ]
  },
  {
   "cell_type": "code",
   "execution_count": 74,
   "metadata": {
    "collapsed": true
   },
   "outputs": [],
   "source": [
    "import numpy as np\n",
    "import matplotlib\n",
    "import matplotlib.pyplot as plt\n",
    "from mpl_toolkits.mplot3d import Axes3D\n",
    "%matplotlib inline\n",
    "\n",
    "import seaborn as sns\n",
    "sns.set_style(\"white\")\n",
    "\n",
    "import time\n",
    "\n",
    "import scipy.stats "
   ]
  },
  {
   "cell_type": "code",
   "execution_count": 75,
   "metadata": {
    "collapsed": true
   },
   "outputs": [],
   "source": [
    ">>> import scipy.stats \n",
    ">>> import pylab as pl\n",
    ">>> import math\n",
    "import operator as op\n",
    "import math\n",
    "\n",
    "def nCr(n,r):\n",
    "    f = math.factorial\n",
    "    return f(n)//f(r)//f(n-r)\n"
   ]
  },
  {
   "cell_type": "code",
   "execution_count": 76,
   "metadata": {},
   "outputs": [
    {
     "name": "stdout",
     "output_type": "stream",
     "text": [
      "Probability that atleast 5 people survive is  0.990652339224576\n"
     ]
    }
   ],
   "source": [
    "## Example 2.4.2 (a)\n",
    "n=15   #Number of diseased people\n",
    "p=0.6  #Probability that an individual is deseased with the disease \n",
    "final=0\n",
    "for x in range(0,5):\n",
    "    ans=nCr(n,x)*p**x*(1-p)**(n-x) #Computing the probability\n",
    "    final=final+ans\n",
    "   \n",
    "print('Probability that atleast 5 people survive is ',1-final)"
   ]
  },
  {
   "cell_type": "markdown",
   "metadata": {},
   "source": [
    "(b) The probability that there will be 5 to 8 survivors is \n",
    "\n",
    "$$ p(5 \\leq X \\leq 8) \\, = \\sum_{x=0}^8 B(x\\,; 15,0.6) - \\sum_{x=0}^4  B(x\\,; 15,0.6) $$\n",
    "\n",
    " $$= 0.3902 -  0.0094 = 0.3808$$"
   ]
  },
  {
   "cell_type": "code",
   "execution_count": 77,
   "metadata": {},
   "outputs": [
    {
     "name": "stdout",
     "output_type": "stream",
     "text": [
      "Probability that atleast 5 to 8 people survive is  0.3808391835156481\n"
     ]
    }
   ],
   "source": [
    "## Example 2.4.2 (b)\n",
    "n=15   #Number of diseased people\n",
    "p=0.6  #Probability that an individual is deseased with the disease \n",
    "final1=0\n",
    "final2=0\n",
    "for x in range(0,9):\n",
    "    ans1=nCr(n,x)*p**x*(1-p)**(n-x) #Computing the probability\n",
    "    final1=final1+ans1\n",
    "    \n",
    "for x2 in range(0,5):\n",
    "    ans2=nCr(n,x2)*p**x2*(1-p)**(n-x2) #Computing the probability\n",
    "    final2=final2+ans2\n",
    "\n",
    "print('Probability that atleast 5 to 8 people survive is ',final1-final2)"
   ]
  },
  {
   "cell_type": "markdown",
   "metadata": {},
   "source": [
    "(c) The probability that exactly 5 survive \n",
    "\n",
    "$$ p (X = 8) \\, = \\sum_{x=0}^5 B(x\\,; 15,0.6) - \\sum_{x=0}^4  B(x\\,; 15,0.6) $$\n",
    "\n",
    " $$= 0.0338 -  0.0094 = 0.0244$$"
   ]
  },
  {
   "cell_type": "code",
   "execution_count": 78,
   "metadata": {},
   "outputs": [
    {
     "name": "stdout",
     "output_type": "stream",
     "text": [
      "Probability that atleast 5 to 8 people survive is  0.024485642108928007\n"
     ]
    }
   ],
   "source": [
    "## Example 2.4.2 (c)\n",
    "n=15   #Number of diseased people\n",
    "p=0.6  #Probability that an individual is deseased with the disease \n",
    "final1=0\n",
    "final2=0\n",
    "for x in range(0,6):\n",
    "    ans1=nCr(n,x)*p**x*(1-p)**(n-x) #Computing the probability\n",
    "    final1=final1+ans1\n",
    "    \n",
    "for x2 in range(0,5):\n",
    "    ans2=nCr(n,x2)*p**x2*(1-p)**(n-x2) #Computing the probability\n",
    "    final2=final2+ans2\n",
    "\n",
    "print('Probability that atleast 5 to 8 people survive is ',final1-final2)"
   ]
  },
  {
   "cell_type": "markdown",
   "metadata": {},
   "source": [
    "### 2) Geometric Distribution"
   ]
  },
  {
   "cell_type": "markdown",
   "metadata": {},
   "source": [
    "Rather than considering the number of successful outcomes, there are several physical instances where one would like to ascertain the time interval for a certain probability event to occur the first time. This probability (p) is given by the geometric distribution which can be derived from the Binomial distribution.\n",
    "\n",
    "Consider N to be the random variable representing the number of trials until\n",
    "the event does occur. Note that if an event occurs the first time during the nth trial then it did not occur during the previous (n−1) trials. Then, the geometric distribution is given by:\n",
    "\n",
    "$$G(n;p)=p.(1-p)^{n-1}\\,\\,\\, n=1,2,3....$$\n",
    "\n",
    "The time between the two successive events is called the **reoccurence time**.\n",
    "\n",
    "Since the events are assumed to be independent the mean reoccurence time denoted by random variable T between two consecutive events is the expected value of **Bernouilli Distribution**\n",
    "\n",
    "$$\\bar T=E(T)=\\sum_{t=1}^\\infty t.p(1-p)^{t-1} $$\n",
    "\n",
    "$$=p(1+2(1-p)+3(1-p^2)\\approx \\frac{1}{p}$$\n"
   ]
  },
  {
   "cell_type": "markdown",
   "metadata": {},
   "source": [
    "**Applications of geometric distribution**\n",
    "+ In sports, particularly in baseball, a geometric distribution is useful in analyzing the probability a batter earns a hit before he receives three strikes; here, the goal is to reach a success within 3 trials.\n",
    "\n",
    "\n",
    "+ In cost-benefit analyses, such as a company deciding whether to fund research trials that, if successful, will earn the company some estimated profit. In this case, the goal is to reach a success before the cost outweighs the potential gain.\n",
    "\n",
    "\n",
    "+ In time management, in which the goal is to complete a task before some set amount of time."
   ]
  },
  {
   "cell_type": "markdown",
   "metadata": {},
   "source": [
    "#### Example 2.4.3 \n",
    "\n",
    "The design code for buildings in a certain coastal region specifies the 50-year wind as the “design wind”, i.e., a wind velocity with a return period of 50 years, or one which may be expected to occur once every 50 years. What are the prbabilities that:\n",
    "\n",
    "(a)The design wind is encountered in any given year.\n",
    "\n",
    "$$p=\\frac{1}{\\bar T}=\\frac{1}{50}=0.02$$\n",
    "\n",
    "(b)the design wind is encountered during the fifth year of a newly constructed building\n",
    "\n",
    "$$G(5;0.02)=(0.02).(1-0.02)^4 =0.018$$\n",
    "\n",
    "(C) The design wind is encountered within the first 5 years\n",
    "\n",
    "$$G(n\\leq 5;p)=\\sum_{t=1}^{5} (0.02)(1-0.02)^{t-1} = 0.02+0.0196+0.0192+0.0188+0.0184=0.0.96$$"
   ]
  },
  {
   "cell_type": "code",
   "execution_count": 101,
   "metadata": {},
   "outputs": [
    {
     "data": {
      "text/plain": [
       "Text(0,0.5,'PDF')"
      ]
     },
     "execution_count": 101,
     "metadata": {},
     "output_type": "execute_result"
    },
    {
     "data": {
      "image/png": "[encoded data removed]",
      "text/plain": [
       "<matplotlib.figure.Figure at 0x19696d35eb8>"
      ]
     },
     "metadata": {},
     "output_type": "display_data"
    }
   ],
   "source": [
    "from scipy.stats import geom\n",
    "p=0.02\n",
    "ans=[]\n",
    "for t in range(0,500):\n",
    "    ans.append(p*(1-p)**(t-1)) #Manually computed using the formula\n",
    "    #ans.append(geom.rvs(x,0.02))\n",
    "x =np.linspace(0,500,500) # Assigning the input x \n",
    "plt.plot(x,ans,'g',linewidth=2)\n",
    "\n",
    "plt.xlabel('x')\n",
    "plt.ylabel('PDF')"
   ]
  },
  {
   "cell_type": "code",
   "execution_count": 102,
   "metadata": {},
   "outputs": [
    {
     "data": {
      "text/plain": [
       "Text(0,0.5,'CDF')"
      ]
     },
     "execution_count": 102,
     "metadata": {},
     "output_type": "execute_result"
    },
    {
     "data": {
      "image/png": "[encoded data removed]",
      "text/plain": [
       "<matplotlib.figure.Figure at 0x196985c68d0>"
      ]
     },
     "metadata": {},
     "output_type": "display_data"
    }
   ],
   "source": [
    "from scipy.stats import geom\n",
    "ans1=[]\n",
    "for x in range(0,500):\n",
    "    ans1.append(geom.cdf(x,0.02))\n",
    "x =np.linspace(0,500,500) # Assigning the input x \n",
    "plt.plot(x,(ans1),'r',linewidth=2)\n",
    "\n",
    "plt.xlabel('x')\n",
    "plt.ylabel('CDF')"
   ]
  },
  {
   "cell_type": "markdown",
   "metadata": {},
   "source": [
    "----\n",
    "###  3) Poisson distribution\n",
    "\n",
    "The Poisson distribution is another discrete distribution, it expresses the probability of a given number of events occurring in a fixed interval of time (or space, volume, etc.). One assumption made is that these events occur with a known average rate and independently of each other. \n",
    "\n",
    "An example is the number of electrons detected by a sensor in an electron microscope during a time interval, or the number of soldiers in the Prussian army killed accidentally by horse kicks.\n",
    "\n",
    "The Poisson distribution is defined as:\n",
    "\n",
    "$$p(k;\\mu)=\\frac{\\mu^k e^{-\\mu}}{k!}$$\n",
    "$$\\mu=-\\lambda t$$\n",
    "\n",
    "Where $\\lambda$ is called the “mean occurrence rate” for a period '$t$'\n",
    "\n",
    " $k$ : Number of events\n",
    " \n",
    " $\\mu$ : Positive real number\n",
    " \n",
    " $e$ : 2.7182, Euler's number\n",
    "\n",
    "$$\\mu(X)=\\sigma^2 (X)=\\lambda t=n.p$$\n",
    "\n",
    "Akin to Binomial distribution, certain combination of the two parameters allow cumulative poisson distribution to be read of directly with the latter being defined as \n",
    "\n",
    "$$P(r,\\lambda t)=\\sum_{x=0}^r P(x;\\lambda t)$$\n",
    "\n",
    "\n",
    "CDF for poisson is calculated using the formula\n",
    "$$p=F(\\frac{x}{\\lambda})=e^{-\\lambda}\\sum_{i=0}^{floor(x)} \\frac{\\lambda^i}{i!}$$"
   ]
  },
  {
   "cell_type": "markdown",
   "metadata": {},
   "source": [
    "Applications of the Poisson distribution: \n",
    "+ The number of faults in a length of cable.\n",
    "+ Number of suspended particles in a volume of gas\n",
    "+ Number of cars in a fixed length of roadway or number of cars passing a point in a fixed time interval (traffic flow)\n",
    "+ Counts of a-particles in radio-active decay \n",
    "+ Number of arrivals in an interval of time (queuing theory) \n",
    "+ The number of noticeable surface defects found by quality inspectors on a new automobile,..."
   ]
  },
  {
   "cell_type": "markdown",
   "metadata": {},
   "source": [
    "#### Example 2.4.6\n",
    "\n",
    "During a laboratory experiment, the ave-\n",
    "rage number of radioactive particles passing through a coun-\n",
    "ter in 1 millisecond is 4. What is the probability that 6 particles enter the counter in any given millisecond? Using the poisson distribution function with $x=6$ and $\\lambda t=4$\n",
    "\n",
    "$$P(6;4)=\\frac{4^6 e^{-4}}{6!}=0.1042$$"
   ]
  },
  {
   "cell_type": "code",
   "execution_count": 81,
   "metadata": {},
   "outputs": [
    {
     "name": "stdout",
     "output_type": "stream",
     "text": [
      "The probability that six partlicles enter the counter in any given millisecond is : 0.104195634567\n"
     ]
    }
   ],
   "source": [
    "from scipy.stats import poisson\n",
    "mu=4\n",
    "y=poisson.pmf(6,mu) #poisson.pmf(k,mu)\n",
    "print('The probability that six partlicles enter the counter in any given millisecond is :',y)"
   ]
  },
  {
   "cell_type": "markdown",
   "metadata": {},
   "source": [
    "##### Example 2.4.7\n",
    "The average number of planes landing at\n",
    "an airport each hour is 10 while the maximum number it can\n",
    "handle is 15. What is the probability that on a given hour\n",
    "some planes will have to be put on a holding pattern?\n",
    "\n",
    "$\\lambda t$ = 10\n",
    "\n",
    "$$P(X>15)=1-P(X \\leq 15)=1-\\sum_{x=0}^{15} P(x;10)$$\n",
    "$$=1-0.9513=0.0487$$"
   ]
  },
  {
   "cell_type": "code",
   "execution_count": 82,
   "metadata": {},
   "outputs": [
    {
     "name": "stdout",
     "output_type": "stream",
     "text": [
      "Probability that atleast 5 people survive is  0.990652339224576\n"
     ]
    }
   ],
   "source": [
    "## Example 2.4.7\n",
    "mu=10   #Number of diseased people\n",
    "p=0.6  #Probability that an individual is deseased with the disease \n",
    "final=0\n",
    "for x in range(0,5):\n",
    "    ans=nCr(n,x)*p**x*(1-p)**(n-x) #Computing the probability\n",
    "    final=final+ans\n",
    "   \n",
    "print('Probability that atleast 5 people survive is ',1-final)"
   ]
  },
  {
   "cell_type": "markdown",
   "metadata": {
    "collapsed": true
   },
   "source": [
    "##### Example 2.4.8: \n",
    "Using Poisson PDF for assessing storm frequency Historical records at Phoenix, AZ indicate that on an average there are 4 dust storms per year. Assuming a Poisson distribution, compute the probabilities of the following events using Eq. 2.37a:\n",
    "\n"
   ]
  },
  {
   "cell_type": "markdown",
   "metadata": {},
   "source": [
    "(a) that there would not be any storms at all during a year:\n",
    "    $$p(X=0)=\\frac{(4)^0 .e^{-4}}{0!}=0.018$$"
   ]
  },
  {
   "cell_type": "code",
   "execution_count": 83,
   "metadata": {},
   "outputs": [
    {
     "name": "stdout",
     "output_type": "stream",
     "text": [
      "The probability that there would not be any storms during a year is : 0.0183156388887\n"
     ]
    }
   ],
   "source": [
    "##(a)\n",
    "from scipy.stats import poisson\n",
    "mu=4\n",
    "k=0\n",
    "y=poisson.pmf(k,mu) #poisson.pmf(k,mu)\n",
    "print('The probability that there would not be any storms during a year is :',y)"
   ]
  },
  {
   "cell_type": "markdown",
   "metadata": {},
   "source": [
    "(b) the probability that there will be four storms during a year:\n",
    "\n",
    " $$p(X=4)=\\frac{(4)^4 .e^{-4}}{4!}=0.195$$"
   ]
  },
  {
   "cell_type": "code",
   "execution_count": 84,
   "metadata": {},
   "outputs": [
    {
     "name": "stdout",
     "output_type": "stream",
     "text": [
      "The probability that there will be four storms in the year is : 0.195366814813\n"
     ]
    }
   ],
   "source": [
    "##(b)\n",
    "from scipy.stats import poisson\n",
    "mu=4\n",
    "k=4\n",
    "y=poisson.pmf(k,mu) #poisson.pmf(k,mu)\n",
    "print('The probability that there will be four storms in the year is :',y)"
   ]
  },
  {
   "cell_type": "code",
   "execution_count": 91,
   "metadata": {},
   "outputs": [
    {
     "data": {
      "text/plain": [
       "Text(0,0.5,'PDF')"
      ]
     },
     "execution_count": 91,
     "metadata": {},
     "output_type": "execute_result"
    },
    {
     "data": {
      "image/png": "[encoded data removed]",
      "text/plain": [
       "<matplotlib.figure.Figure at 0x1969708ec18>"
      ]
     },
     "metadata": {},
     "output_type": "display_data"
    }
   ],
   "source": [
    "## PDF of the above example for various x (i.e 'k') values\n",
    "from scipy.stats import poisson\n",
    "mu=4\n",
    "y=[]\n",
    "for k in range(0,15):\n",
    "    y.append(poisson.pmf(k,mu)) #poisson.pmf(k,mu)\n",
    "\n",
    "x =np.linspace(0,15,15) # Assigning the input x \n",
    "plt.plot(x,(y),'ko',linewidth=0.5)\n",
    "\n",
    "plt.xlabel('x')\n",
    "plt.ylabel('PDF')"
   ]
  },
  {
   "cell_type": "code",
   "execution_count": 90,
   "metadata": {},
   "outputs": [
    {
     "data": {
      "text/plain": [
       "Text(0,0.5,'CDF')"
      ]
     },
     "execution_count": 90,
     "metadata": {},
     "output_type": "execute_result"
    },
    {
     "data": {
      "image/png": "[encoded data removed]",
      "text/plain": [
       "<matplotlib.figure.Figure at 0x196971112e8>"
      ]
     },
     "metadata": {},
     "output_type": "display_data"
    }
   ],
   "source": [
    "## CDF of the above example for various x (i.e 'k') values\n",
    "from scipy.stats import poisson\n",
    "mu=4\n",
    "y=[]\n",
    "for k in range(0,15):\n",
    "    y.append(poisson.cdf(k,mu)) #poisson.pmf(k,mu)\n",
    "\n",
    "x =np.linspace(0,15,15) # Assigning the input x \n",
    "plt.plot(x,(y),'bo',linewidth=0.5)\n",
    "\n",
    "plt.xlabel('x')\n",
    "plt.ylabel('CDF')"
   ]
  },
  {
   "cell_type": "markdown",
   "metadata": {},
   "source": [
    "## Distributions for continous Variables"
   ]
  },
  {
   "cell_type": "markdown",
   "metadata": {},
   "source": [
    "### 1) Gaussian Distribution\n",
    "\n",
    "The Gaussian distribution or normal error function is the best known of all continuous distributions. It is a special case of the Binomial distribution\n",
    "with the same values of mean and variance but applicable when n is sufficiently large (n>30).\n",
    "\n",
    "It is a two-parameter distribution given by:\n",
    "\n",
    "$$N(x \\,;\\,\\mu,\\sigma)=\\, \\frac{1}{\\sigma (2\\pi)^{\\frac{1}{2}}} exp\\big[ -\\frac{(x-\\mu)}{\\sigma}\\big]^2$$\n",
    "\n",
    "$\\mu$ and $\\sigma$ are the mean and standard deviation of the random variable X\n",
    "\n",
    "Further, it is the parent distribution for several important continuous distributions\n",
    "\n",
    "It is used to model events which occur **by chance** such as variation of dimensions of mass-produced items during manufacturing, experimental errors, variability in measurable biological characteristics such as people’s height or weight,... Of great practical import is that normal distributions apply in situations where the random variable is the result of a sum of several other variable quantities acting independently on the system.\n",
    "\n",
    "- Gaussian functions appear as the density function of the normal distribution\n",
    "- Gaussian function is the wave function of the ground state of the quantum harmonic oscillator\n",
    "- In fluorescence microscopy a 2D Gaussian function is used to approximation of the Airy disk in flourescence microscopy using a 2D gaussian function, which describes the intensity distribution produced by a point source."
   ]
  },
  {
   "cell_type": "code",
   "execution_count": 92,
   "metadata": {},
   "outputs": [
    {
     "name": "stdout",
     "output_type": "stream",
     "text": [
      "[-1.97885611 -1.73116764 -2.60601235 -3.81079751  1.99463098  0.90956667\n",
      "  3.48030355  0.42157535  1.25075333  0.90386037]\n"
     ]
    },
    {
     "data": {
      "text/plain": [
       "[<matplotlib.lines.Line2D at 0x19696c9c470>]"
      ]
     },
     "execution_count": 92,
     "metadata": {},
     "output_type": "execute_result"
    },
    {
     "data": {
      "image/png": "[encoded data removed]",
      "text/plain": [
       "<matplotlib.figure.Figure at 0x19696cc8860>"
      ]
     },
     "metadata": {},
     "output_type": "display_data"
    }
   ],
   "source": [
    "from scipy.stats import norm\n",
    "X = scipy.stats.norm(loc=0.5, scale=2.)\n",
    "print(X.rvs(10))\n",
    "plt.hist(X.rvs(2000), normed=True)\n",
    "x = np.linspace(-5, 6, 100)\n",
    "\n",
    "plt.plot(x, X.pdf(x), lw=2)\n"
   ]
  },
  {
   "cell_type": "markdown",
   "metadata": {},
   "source": [
    "##### Example 2.4.9:\n",
    "Graphical interpretation of probability using the standard normal table\n",
    "Resistors made by a certain manufacturer have a nominal value of 100 ohms but their actual values are normally distributed with a mean of $\\mu \\,=100.6$ ohms and standard deviation $\\sigma=3$ ohms. Find the percentage of resistors that will have\n",
    "values:"
   ]
  },
  {
   "cell_type": "markdown",
   "metadata": {},
   "source": [
    "(i) higher than the nominal rating. The standard normal\n",
    "variable \n",
    "$$z(x=100)=\\frac{(100-100.6)}{3}=-0.2$$\n",
    "$$(1-0.4207)=0.5793$$ "
   ]
  },
  {
   "cell_type": "code",
   "execution_count": 64,
   "metadata": {},
   "outputs": [
    {
     "data": {
      "text/plain": [
       "0.38138781546052414"
      ]
     },
     "execution_count": 64,
     "metadata": {},
     "output_type": "execute_result"
    }
   ],
   "source": [
    "from scipy.stats import norm\n",
    "norm.pdf(0.3)"
   ]
  },
  {
   "cell_type": "markdown",
   "metadata": {},
   "source": [
    "---\n",
    "### 2) Student t Distribution\n",
    "\n",
    "In case the random samples are small (n<30) then the t-student distribution, rather than the normal distribution, should be used.\n",
    "\n",
    "If one assumes that the sampled population is approximately normally distributed, then the random variable \n",
    "$$t=\\frac{x-\\mu}{x\\sqrt n}$$\n",
    "\n",
    "has the Student $t$ Distribution $t(\\mu,s,v)$ where $s$ is the sample standard deviation and $v$ is the degrees of freedim $(n-1)$\n",
    "\n",
    "When to use Student t\n",
    "\n",
    "The t distribution can be used with any statistic having a bell-shaped distribution. The sampling distribution of a statistic should be bell-shaped if any one of the following conditions are met.\n",
    "\n",
    "- The population distribution is normal.\n",
    "- The population distribution is symmetric, unimodal, without outliers, and the sample size is at least 30.\n",
    "- The population distribution is moderately skewed, unimodal, without outliers, and the sample size is at least 40.\n",
    "- The sample size is greater than 40, without outliers.\n",
    "- The t distribution should not be used with small samples from populations that are not approximately normal."
   ]
  },
  {
   "cell_type": "markdown",
   "metadata": {},
   "source": [
    "### 3) Lognormal Distribution\n",
    "\n",
    "This distribution is appropriate for non-negative outcomes which are the product of a number of quantities. In such cases, the data are skewed and\n",
    "the symmetrical normal distribution is no longer appropriate.\n",
    "\n",
    "If a variate $X$ is such that $\\log(X)$ is normally distributed, then the distribution of $X$ is said to be lognormal. With $X$ ranging from $-\\infty$ to $+\\infty$, $\\log(X)$ would range from 0 $-\\infty$ to $+\\infty$. Not only does the lognormal model accommodate skewness, but it also captures the non-negative nature of many variables  which occur in practice. It is characterized by two parameters, the mean and variance $(\\mu,\\sigma)$, as follows:\n",
    "\n",
    "when $x \\geq 0$\n",
    "$$L(x;\\mu,\\sigma)=\\frac{1}{\\sigma x \\sqrt{2\\pi}} exp\\big[-\\frac{(\\ln x-\\mu)^2}{s\\sigma^2}\\big]$$ \n",
    "\n",
    "$=0$ otherwise\n",
    "\n",
    "- Mean\tis $$e^{0.5\\sigma^{2}}$$\n",
    "- Median is Scale parameter m (= 1 if scale parameter not specified).\n",
    "- Mode\tis \n",
    "$$\\frac{1} {e^{\\sigma^{2}}}$$\n",
    "- Range\tis 0 to ∞\n",
    "- Standard Deviation is $$\\sqrt{e^{\\sigma^{2}} (e^{\\sigma^{2}} - 1)}$$\n",
    "- Skewness is $$(e^{\\sigma^{2}}+2) \\sqrt{e^{\\sigma^{2}} - 1}$$\n",
    "- Coefficient of Variation is $$\\sqrt{e^{\\sigma^{2}} - 1}$$\n",
    "- The formula for the cumulative distribution function of the lognormal distribution is\n",
    "$$F(x) = \\Phi\\big[\\frac{\\ln(x)} {\\sigma}\\big] \\hspace{.2in}  x \\ge 0; \\sigma > 0$$\n",
    "\n",
    "\n",
    "\n",
    "\n",
    "##### Applications\n",
    "\n",
    "+ Typical applications in civil engineering involve flood frequency, in mechanical engineering with crack growth and mechanical wear and tear.\n",
    "+ In environmental engineering with pollutants produced by chemical plants\n",
    "+ In Medical sciences, threshold values for drug dosage.\n",
    "- In biology, the logarithm of various variables tend to have a normal distribution, that is, they tend to have a log-normal distribution, some of the examples includes:\n",
    "- Measures of size of living tissue (dimensions like length, height, skin area, weight);\n",
    "- The length of inert appendages (hair, claws, nails, teeth) of biological specimens, in the direction of growth; presumably the thickness of tree bark also falls under this category;\n",
    "- Certain physiological measurements, such as blood pressure of adult humans.\n",
    "\n",
    "- In finance, in particular the Black–Scholes model, changes in the logarithm of exchange rates, price indices, and stock market indices are assumed normal. Some mathematicians such as Benoit Mandelbrot have argued that log-Levy distributions, which possesses heavy tails would be a more appropriate model, in particular for the analysis for stock market crashes. The use of the assumption of normal distribution occurring in financial models has also been criticized by Nassim Nicholas Taleb in his works."
   ]
  },
  {
   "cell_type": "markdown",
   "metadata": {},
   "source": [
    "##### Example 2.4.11\n",
    "Concentration of pollutants produced by chemical plants is known to resemble lognormal distributions and is used to evaluate issues regarding compliance of government regulations. The concentration of a certain pollutant, in parts\n",
    "per million (ppm), is assumed lognormal with parameters $\\mu$ = 4.6 and $\\sigma$ = 1.5. What is the probability that the concentration exceeds 10 ppm?\n",
    "\n",
    "$$L(X > 10)=N[\\ln(10),4.6,1.5]=N\\big[\\frac{\\ln(10)-4.6}{1.5}\\big]$$\n",
    "$$N(-1.531)=0.0630$$"
   ]
  },
  {
   "cell_type": "code",
   "execution_count": 65,
   "metadata": {},
   "outputs": [
    {
     "data": {
      "text/plain": [
       "0.0081871591091337882"
      ]
     },
     "execution_count": 65,
     "metadata": {},
     "output_type": "execute_result"
    }
   ],
   "source": [
    "from scipy.stats import lognorm\n",
    "sigma=1.5\n",
    "mu=4.6\n",
    "x=10\n",
    "#lognorm.pdf(10,1.5,-2,np.exp(mu))\n",
    "lognorm.pdf(10,1.5)"
   ]
  },
  {
   "cell_type": "markdown",
   "metadata": {},
   "source": [
    "---\n",
    "### 4) Gamma Distribution\n",
    "There are several processes where distributions other than the normal distribution are warranted. A distribution which is useful since it is versatile in the shapes it can generate is the gamma distribution (also\n",
    "called the **Erlang distribution**).\n",
    "\n",
    "It is a good candidate for modeling random phenomena which can only be positive and are unimodal.\n",
    "\n",
    "The gamma distribution is derived from the gamma function for positive values of $\\alpha$, which one may recall from mathematics, is defined by the integral:\n",
    "\n",
    "$$\\Gamma_x (\\alpha)=\\int_0^x x^{\\alpha-1} .\\exp^{-x} dx$$\n",
    "\n",
    "for non negative integers of k\n",
    "$$|Gamma(k+1)=k!$$\n",
    "\n",
    "The continous random variable X has gamma distribution with positive parameters $a$ and $\\lambda$ if its density function is given by\n",
    "\n",
    "$$G(x;\\alpha,\\lambda)=\\lambda^{\\alpha} \\exp^{-\\Lambda x} \\frac{x^{\\alpha-1}}{(\\alpha-1)!} x>0$$\n",
    "\n",
    "Mean is given by $\\mu =\\frac{\\alpha}{\\lambda}$\n",
    "\n",
    "Varience is given by $\\sigma^2=\\frac{\\alpha}{\\lambda^2}$\n",
    "\n",
    "##### Applications\n",
    "The gamma distribution can be used a range of disciplines including queuing models, climatology, and financial services. Examples of events that may be modeled by gamma distribution include:\n",
    "\n",
    "- The amount of rainfall accumulated in a reservoir\n",
    "- The size of loan defaults or aggregate insurance claims\n",
    "- The flow of items through manufacturing and distribution processes\n",
    "- The load on web servers\n",
    "- The many and varied forms of telecom exchange\n",
    "- The gamma distribution is also used to model errors in a multi-level Poisson regression model because the combination of a Poisson distribution and a gamma distribution is a negative binomial distribution."
   ]
  },
  {
   "cell_type": "markdown",
   "metadata": {},
   "source": [
    "---\n",
    "### 5) Exponential Distribution\n",
    "\n",
    "A special case of the gamma distribution for α=1 is the exponential distribution. It is the continuous distribution analogue to the geometric distribution which applied to the discrete case.\n",
    "\n",
    "It is used to model the interval between two occurrences, e.g. the distance\n",
    "between consecutive faults in a cable, or the time betweenchance failures of a component (such as a fuse) or a system,or the time between consecutive emissions of α-particles, or the time between successive arrivals at a service facility.\n",
    "\n",
    "Exponential failure laws apply to products whose current age does not have much effect on their remaining lifetimes. Hence, this distribution is\n",
    "said to be **“memoryless”**.\n",
    "\n",
    "Poisson distribution represents the number of failures per unit time, the exponential represents the time between successive failures.\n",
    "\n",
    "Its PDF is given by\n",
    "\n",
    "$$E(x;\\lambda)=\\lambda .\\exp ^{-\\lambda x} if x>0$$\n",
    "$$=0 \\, \\, \\, otherwise$$\n",
    "\n",
    "Where $\\lambda$ is the mean value per unit time or distance\n",
    "\n",
    "Mean is given by $\\mu =\\frac{1}{\\lambda}$\n",
    "\n",
    "Varience is given by $\\sigma^2=\\frac{1}{\\lambda^2}$\n",
    "\n",
    "Its CDF is given by\n",
    "\n",
    "$$CDF[E(a,\\lambda)]=\\int_0^a \\lambda.\\exp^{-\\lambda x} dx=1-\\exp^{-\\lambda a}$$\n",
    "\n",
    "\n",
    "#### Applications\n",
    " The applications of exponential distribution have been widespread, which include\n",
    "- models to determine about criteria for analysis of animal behaviour.\n",
    "- design rainfall estimation in the Coast of Chiapas (analysis of Los Angeles rainfall data)\n",
    "- Software reliability growth models for vital quality metrics \n",
    "- Models for episode peak and duration for ecohydroclimatic applications \n",
    "- Eestimating mean life of power system equipment with limited end-of-life failure data \n",
    "- Cure rate modeling\n"
   ]
  },
  {
   "cell_type": "markdown",
   "metadata": {},
   "source": [
    "##### Example 2.4.12:\n",
    "Temporary disruptions to the power grid can occur due to random events such as lightning, transformer failures, forest fires,.. The Poisson distribution has been known to be a good function to model such failures.\n",
    "If these occur, on average, say, once every 2.5 years, then $\\lambda$\n",
    "=1/2.5=0.40 per year.\n",
    "\n"
   ]
  },
  {
   "cell_type": "markdown",
   "metadata": {},
   "source": [
    "(a) What is the probability that there will be at least one\n",
    "disruption next year?\n",
    "\n",
    "$$CDF[E(X \\leq 1,\\lambda)]=1-\\exp^{-0.4(1)}=1-0.6703$$\n",
    "$$=0.3297$$"
   ]
  },
  {
   "cell_type": "code",
   "execution_count": 66,
   "metadata": {},
   "outputs": [
    {
     "name": "stdout",
     "output_type": "stream",
     "text": [
      "probability that there will be atleast one distrution next year is 0.329679953964\n"
     ]
    }
   ],
   "source": [
    "from scipy.stats import expon\n",
    "x=expon.cdf(0.4)\n",
    "print('probability that there will be atleast one distrution next year is',x)"
   ]
  },
  {
   "cell_type": "markdown",
   "metadata": {},
   "source": [
    "(b) What is the probability that there will be no more than\n",
    "two disruptions next year?\n",
    "\n",
    "This is the complement of at least two disruptions.\n",
    "\n",
    "$$Probability= 1-CDF[E(X \\leq 2,\\lambda)]$$\n",
    "$$=1-[1-\\exp^{-0.4(2)}]=0.4493$$"
   ]
  },
  {
   "cell_type": "code",
   "execution_count": 67,
   "metadata": {},
   "outputs": [
    {
     "name": "stdout",
     "output_type": "stream",
     "text": [
      "probability that there will be atleast one distrution next year is 0.449328964117\n"
     ]
    }
   ],
   "source": [
    "from scipy.stats import expon\n",
    "xx=expon.cdf(0.4*2)\n",
    "print('probability that there will be atleast one distrution next year is',1-xx)"
   ]
  },
  {
   "cell_type": "code",
   "execution_count": 95,
   "metadata": {},
   "outputs": [
    {
     "name": "stderr",
     "output_type": "stream",
     "text": [
      "C:\\ProgramData\\Anaconda3\\lib\\site-packages\\matplotlib\\__init__.py:830: MatplotlibDeprecationWarning: axes.color_cycle is deprecated and replaced with axes.prop_cycle; please use the latter.\n",
      "  mplDeprecation)\n"
     ]
    },
    {
     "data": {
      "image/png": "[encoded data removed]",
      "text/plain": [
       "<matplotlib.figure.Figure at 0x19697428438>"
      ]
     },
     "metadata": {},
     "output_type": "display_data"
    }
   ],
   "source": [
    "import scipy.stats\n",
    "import matplotlib\n",
    "import matplotlib.pyplot as plt\n",
    "x = np.linspace(0,4, 100)\n",
    "colors = matplotlib.rcParams['axes.color_cycle']\n",
    "expo = scipy.stats.expon\n",
    "r = [0.5, 1, 2, 4]\n",
    "plt.figure(figsize=(12,4))\n",
    "for l,c in zip(r,colors):\n",
    "    plt.plot(x, expo.pdf(x, scale=1./l), lw=2, \n",
    "                color=c, label = \"$r = %.1f$\"%l)\n",
    "    plt.fill_between(x, expo.pdf(x, scale=1./l), color=c, alpha = .33)\n",
    "    \n",
    "plt.legend()\n",
    "plt.ylabel(\"PDF at $x$\")\n",
    "plt.xlabel(\"$x$\")\n",
    "plt.title(\"Probability density function of an Exponential random variable;\\\n",
    " differing $r$\");\n"
   ]
  },
  {
   "cell_type": "markdown",
   "metadata": {},
   "source": [
    "---\n",
    "### 6) Weibull Distribution\n",
    "\n",
    "Another versatile and widely used distribution is the Weibull distribution which is used in applications involving reliability and life testing; for example,to model the time of failure or life of a component. The continuous random variable X has a Weibull distribution with parameters $\\alpha$ and $\\beta$ (shape and scale factors respectively) if its density function is given by:\n",
    "\n",
    "$$W(;\\alpha,\\beta)=\\frac{\\alpha}{\\beta^\\alpha}.x^{\\alpha-1}.exp[-(\\frac{x}{\\beta})^{\\alpha}] \\,\\,\\,\\, for\\,\\,\\,\\, x>0 $$\n",
    "$$=0 \\,\\,\\,\\,\\,elsewhere$$\n",
    "\n",
    "mean $\\mu=\\beta.\\Gamma \\big(1+\\frac{1}{\\alpha}\\big)$\n",
    "\n",
    "#### Applications\n",
    "The Weibull distribution is used\n",
    "\n",
    "- In survival analysis\n",
    "- In reliability engineering and failure analysis\n",
    "- In electrical engineering to represent overvoltage occurring in an electrical system\n",
    "- In industrial engineering to represent manufacturing and delivery times\n",
    "- In extreme value theory Fitted cumulative Weibull distribution to maximum one-day rainfalls.\n",
    "- In weather forecasting and the wind power industry to describe wind speed distributions, as the natural distribution often matches the Weibull shape\n",
    "- In communications systems engineering\n",
    "- In radar systems to model the dispersion of the received signals level produced by some types of clutters\n",
    "- To model fading channels in wireless communications, as the Weibull fading model seems to exhibit good fit to experimental fading channel measurements\n",
    "- In general insurance to model the size of reinsurance claims, and the cumulative development of asbestosis losses\n",
    "- In forecasting technological change (also known as the Sharif-Islam model)\n",
    "- In hydrology the Weibull distribution is applied to extreme events such as annual maximum one-day rainfalls and river discharges. \n"
   ]
  },
  {
   "cell_type": "code",
   "execution_count": 96,
   "metadata": {},
   "outputs": [
    {
     "data": {
      "image/png": "[encoded data removed]",
      "text/plain": [
       "<matplotlib.figure.Figure at 0x1969704a668>"
      ]
     },
     "metadata": {},
     "output_type": "display_data"
    }
   ],
   "source": [
    "from scipy.stats import dweibull\n",
    "from matplotlib import pyplot as plt\n",
    "k_values = [0.5, 1, 2, 2]\n",
    "lam_values = [1, 1, 1, 2]\n",
    "linecolors = ['r', 'b', 'g', 'k', 'k']\n",
    "mu = 0\n",
    "x = np.linspace(-10, 10, 1000)\n",
    "fig, ax = plt.subplots(figsize=(5, 3.75))\n",
    "\n",
    "for (k, lam,c) in zip(k_values, lam_values, linecolors):\n",
    "    dist = dweibull(k, mu, lam)\n",
    "    plt.plot(x, dist.pdf(x), c=c,\n",
    "             label=r'$k=%.1f,\\ \\lambda=%i$' % (k, lam))\n",
    "\n",
    "plt.xlim(0, 5)\n",
    "plt.ylim(0, 0.6)\n",
    "\n",
    "plt.xlabel('$x$')\n",
    "plt.ylabel(r'$p(x|k,\\lambda)$')\n",
    "plt.title('Weibull Distribution')\n",
    "\n",
    "plt.legend()\n",
    "plt.show()"
   ]
  },
  {
   "cell_type": "markdown",
   "metadata": {},
   "source": [
    "---\n",
    "### 7) F Distribution\n",
    "\n",
    "F-Distribution. While the t-distribution allows comparison between two sample means, the F distribution allows comparison between two or more sample variances. It is defined as the ratio of two independent chi-square ran-\n",
    "dom variables, each divided by its degrees of freedom. TheF distribution is also represented by a family of plots where each plot is specific to a set of numbers representing the degrees of freedom of the two random variab-\n",
    "les (v1, v2). "
   ]
  },
  {
   "cell_type": "code",
   "execution_count": 97,
   "metadata": {},
   "outputs": [
    {
     "data": {
      "image/png": "[encoded data removed]",
      "text/plain": [
       "<matplotlib.figure.Figure at 0x196985132e8>"
      ]
     },
     "metadata": {},
     "output_type": "display_data"
    }
   ],
   "source": [
    "import numpy as np\n",
    "from scipy.stats import f as fisher_f\n",
    "from matplotlib import pyplot as plt\n",
    "mu = 0\n",
    "d1_values = [1, 5, 2, 10]\n",
    "d2_values = [1, 2, 5, 50]\n",
    "linestyles = ['-', '--', ':', '-.']\n",
    "x = np.linspace(0, 5, 1001)[1:]\n",
    "linecolors = ['r', 'b', 'g', 'k']\n",
    "\n",
    "fig, ax = plt.subplots(figsize=(5, 3.75))\n",
    "\n",
    "for (d1, d2, ls,lc) in zip(d1_values, d2_values, linestyles,linecolors):\n",
    "    dist = fisher_f(d1, d2, mu)\n",
    "\n",
    "    plt.plot(x, dist.pdf(x), ls=ls, c=lc,\n",
    "             label=r'$d_1=%i,\\ d_2=%i$' % (d1, d2))\n",
    "\n",
    "plt.xlim(0, 4)\n",
    "plt.ylim(0.0, 1.0)\n",
    "\n",
    "plt.xlabel('$x$')\n",
    "plt.ylabel(r'$p(x|d_1, d_2)$')\n",
    "plt.title(\"Fisher's Distribution\")\n",
    "\n",
    "plt.legend()\n",
    "plt.show()"
   ]
  },
  {
   "cell_type": "markdown",
   "metadata": {},
   "source": [
    "----\n",
    "### 8) Uniform Distribution\n",
    "\n",
    "The uniform probability distribution is the simplest of all PDFs and applies to both continuous and discrete data whose outcomes are all equally likely,\n",
    "i.e. have equal probabilities.\n",
    "\n",
    "examples which come readily to mind. The probability density function for the discrete case where X can assume values\n",
    "\n",
    "x1,x2,...xk is given by:\n",
    "\n",
    "$$U(x;k)=\\frac{1}{k}$$\n",
    "\n",
    "with mean \n",
    "$$\\mu=\\frac{\\sum_{i=1} ^k x_i}{k}$$ \n",
    "\n",
    "\n",
    "varience\n",
    "$$\\sigma^2=\\frac{\\sum_{i=1}^k (x_i -\\mu)^2}{k}$$\n",
    "\n",
    "For random variables that are continuous over an interval(c,d)\n",
    "$$U(x)=\\frac{1}{d-c} \\,\\, when c,x,d$$\n",
    "\n",
    "$$=0 \\,\\,\\, otherwise$$\n",
    "\n",
    "mean $$\\mu=\\frac{c+d}{2}$$ and varience $$\\sigma^2 = \\frac{(d-c)^2}{12}$$\n",
    "\n",
    "The probability of random variable X being between say x1 and x2\n",
    "is:\n",
    "$$U(x_1 \\leq X \\leq x_2)=\\frac{x_2-x_1}{d-c}$$\n",
    "\n",
    "#### Applications\n",
    "- **Sampling from a uniform distribution**:Many programming languages have the ability to generate pseudo-random numbers which are effectively distributed according to the standard uniform distribution.\n",
    "- **Sampling from an arbitrary distribution**: The uniform distribution is useful for sampling from arbitrary distributions. A general method is the inverse transform sampling method, which uses the cumulative distribution function (CDF) of the target random variable\n",
    "- **Quantization error**: n analog-to-digital conversion a quantization error occurs. This error is either due to rounding or truncation. When the original signal is much larger than one least significant bit (LSB), the quantization error is not significantly correlated with the signal, and has an approximately uniform distribution. The RMS error therefore follows from the variance of this distribution."
   ]
  },
  {
   "cell_type": "code",
   "execution_count": 99,
   "metadata": {},
   "outputs": [
    {
     "data": {
      "image/png": "[encoded data removed]",
      "text/plain": [
       "<matplotlib.figure.Figure at 0x196984cb9e8>"
      ]
     },
     "metadata": {},
     "output_type": "display_data"
    }
   ],
   "source": [
    "from scipy.stats import uniform\n",
    "W_values=[1.0,2.0,3.0]\n",
    "linestyles=['-','--',':']\n",
    "linecolors=['r','k','b']\n",
    "mu-=0\n",
    "x=np.linspace(-2,2,1000)\n",
    "fig, ax = plt.subplots(figsize=(5, 3.75))\n",
    "\n",
    "for W, ls,lc in zip(W_values, linestyles,linecolors):\n",
    "    left = mu - 0.5 * W\n",
    "    dist = uniform(left, W)\n",
    "\n",
    "    plt.plot(x, dist.pdf(x), ls=ls, c=lc,\n",
    "             label=r'$\\mu=%i,\\ W=%i$' % (mu, W))\n",
    "\n",
    "plt.xlim(-1.7, 1.7)\n",
    "plt.ylim(0, 1.2)\n",
    "\n",
    "plt.xlabel('$x$')\n",
    "plt.ylabel(r'$p(x|\\mu, W)$')\n",
    "plt.title('Uniform Distribution')\n",
    "\n",
    "plt.legend()\n",
    "plt.show()"
   ]
  },
  {
   "cell_type": "markdown",
   "metadata": {},
   "source": [
    "----\n",
    "### 9) Beta Distribution\n",
    "\n",
    "A very versatile distribution is the Beta distribution which is appropriate for discrete random variables between 0 and 1 such as representing proportions.\n",
    "\n",
    "It is a two parameter model which is given by:\n",
    "\n",
    "$$Beta(x;p,q)=\\frac{(p+q+1)!}{(p-1)!(q-1)!} x^{p-1} (1-x)^{q-1}$$\n",
    "\n",
    "Depending on the values of p and q, one can model a wide variety of curves from u shaped ones to skewed distributions. The distributions are symmetrical when p and q are equal, with the curves becoming peakier as the numerical values of the two parameters increase. \n",
    "\n",
    "Skewed distributions are obtained when the parameters are unequal.\n",
    "\n",
    "The mean of the beta distribution \n",
    "\n",
    "$$\\mu=\\frac{p}{p+q}$$\n",
    "\n",
    "varience \n",
    "\n",
    "$$\\sigma^2=\\frac{pq}{(p+q)^2 (p+q+1)}$$\n",
    "\n",
    "#### Applications\n",
    "\n",
    "- **Order Statistics**:The beta distribution has an important application in the theory of order statistics. A basic result is that the distribution of the kth smallest of a sample of size n from a continuous uniform distribution has a beta distribution.\n",
    "- **Rule of succession**: A classic application of the beta distribution is the rule of succession, introduced in the 18th century by Pierre-Simon Laplace in the course of treating the sunrise problem. It states that, given s successes in n conditionally independent Bernoulli trials with probability p.\n",
    "- **Bayesian inference**: The use of Beta distributions in Bayesian inference is due to the fact that they provide a family of conjugate prior probability distributions for binomial (including Bernoulli) and geometric distributions."
   ]
  },
  {
   "cell_type": "code",
   "execution_count": 100,
   "metadata": {},
   "outputs": [
    {
     "data": {
      "image/png": "[encoded data removed]",
      "text/plain": [
       "<matplotlib.figure.Figure at 0x19696e0f710>"
      ]
     },
     "metadata": {},
     "output_type": "display_data"
    }
   ],
   "source": [
    "from scipy.stats import beta\n",
    "# Define the distribution parameters to be plotted\n",
    "alpha_values = [0.5, 1.5, 3.0, 0.5]\n",
    "beta_values = [0.5, 1.5, 3.0, 1.5]\n",
    "linestyles = ['-', '--', ':', '-.']\n",
    "linecolors=['r','k','b','g']\n",
    "x = np.linspace(0, 1, 1002)[1:-1]\n",
    "\n",
    "\n",
    "# plot the distributions\n",
    "fig, ax = plt.subplots(figsize=(5, 3.75))\n",
    "\n",
    "for a, b, ls,lc in zip(alpha_values, beta_values, linestyles,linecolors):\n",
    "    dist = beta(a, b)\n",
    "\n",
    "    plt.plot(x, dist.pdf(x), ls=ls, c=lc,\n",
    "             label=r'$\\alpha=%.1f,\\ \\beta=%.1f$' % (a, b))\n",
    "\n",
    "plt.xlim(0, 1)\n",
    "plt.ylim(0, 3)\n",
    "\n",
    "plt.xlabel('$x$')\n",
    "plt.ylabel(r'$p(x|\\alpha,\\beta)$')\n",
    "plt.title('Beta Distribution')\n",
    "\n",
    "plt.legend(loc=0)\n",
    "plt.show()"
   ]
  },
  {
   "cell_type": "markdown",
   "metadata": {},
   "source": [
    "## References\n",
    "[1] R C. Smith, Uncertainty Quantification: Theory, Implementation, and Applications, Siam, 2014.\n",
    "\n",
    "[2] AstroML: Machine Learning and Data Mining for Astronomy' 2012[online], Jake Vanderplas. Created using Sphinx 1.1.3 http://www.astroml.org/index.html\n",
    "\n",
    "[3] 'BRILLIANT', math, science, and engineering community , accessed 2018 [online]https://brilliant.org/wiki/geometric-distribution/#practical-applications\n",
    "\n",
    "[4] 'Wikipedia', List of all distributions[online]https://en.wikipedia.org/wiki/List_of_probability_distributions\n",
    "\n",
    "[5] T.Agami Reddy,Applied Data Analysis and Modeling for Energy Engineers and Scientists,2011\n",
    "\n",
    "[6] 'SciPy.org'SciPy v1.0.0 refernce guide[online],https://docs.scipy.org/doc/scipy/reference/tutorial/stats.html"
   ]
  },
  {
   "cell_type": "code",
   "execution_count": null,
   "metadata": {
    "collapsed": true
   },
   "outputs": [],
   "source": []
  }
 ],
 "metadata": {
  "kernelspec": {
   "display_name": "Python 3",
   "language": "python",
   "name": "python3"
  },
  "language_info": {
   "codemirror_mode": {
    "name": "ipython",
    "version": 3
   },
   "file_extension": ".py",
   "mimetype": "text/x-python",
   "name": "python",
   "nbconvert_exporter": "python",
   "pygments_lexer": "ipython3",
   "version": "3.6.3"
  }
 },
 "nbformat": 4,
 "nbformat_minor": 2
}
