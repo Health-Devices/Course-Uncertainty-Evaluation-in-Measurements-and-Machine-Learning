{
 "cells": [
  {
   "cell_type": "markdown",
   "metadata": {
    "slideshow": {
     "slide_type": "-"
    }
   },
   "source": [
    "# 4.5 Hierarchical models"
   ]
  },
  {
   "cell_type": "markdown",
   "metadata": {},
   "source": [
    "## Objectives\n",
    "\n",
    "+ Bayes factors and their implementation for hypothesis testing in Python\n",
    "+ Hierarchical models and their applications\n",
    "\n",
    " \n"
   ]
  },
  {
   "cell_type": "markdown",
   "metadata": {},
   "source": [
    "## List of Symbols:\n",
    "$--\\mu$ is the mean<br>\n",
    "$-- \\sigma^2$ is the variance<br>\n",
    "$--P$ is the probability<br>\n",
    "$--θ$ is the vector of parameters <br>\n",
    "$--BF$ is the Bayes Factor <br>\n",
    "$--H_0$ is the null Hypothesis <br>\n",
    "$--H_1$ is the alternate Hypothesis <br>\n"
   ]
  },
  {
   "cell_type": "markdown",
   "metadata": {},
   "source": [
    "## Definitions\n",
    "\n",
    "+ **Bayes factors** - The Bayes factor is a ratio of the likelihood probability of two hypotheses, a null and an alternative hypothesis. It presents a new approach for hypothesis testing[1].\n",
    "\n",
    "\\begin{align}\n",
    "\\text{Bayes Factor} &= \\frac{\\text{Likelihood of data given Hypothesis } H_0}{\\text{Likelihood of data given Hypothesis } H_1} \\\\\n",
    "&= \\frac{P(D \\mid H_0)}{P(D \\mid H_1)}\n",
    "\\end{align}\n",
    "\n",
    "+ ** Hierarchical Models** - They are statistical models which are used to estimate various parameters of distributions using bayesian statistical methods where different but related parameters are used for each group. Various sub-models are combined to form the hierarchical model, and Bayes' theorem is used to integrate them with the observed data and account for all the uncertainty that is present[4].\n",
    "\n",
    "In this notebook, we will go into detail for both of the above topics."
   ]
  },
  {
   "cell_type": "markdown",
   "metadata": {},
   "source": [
    "## Bayes Factors\n",
    "Bayesian statisitcal methods are gaining more support now-a-days in the research community. Bayes factor provide an alternative to the p-value approach for hypothesis testing. P‐values present a problem that they can be used to make claims of ‘no effect’. P‐values signal the extremeness of the data under the assumption of the null hypothesis and so only tell us the probability of a test statistic at least as extreme as the one observed. P > 0.05 may reflect evidence for ‘no effect’ or data insensitivity, i.e. a failure to distinguish the null hypothesis from the alternative because, for example, the standard error (SE) is high.\n",
    "It only tells us whether the hypothesis can be accepted or not.\n",
    "Bayes factor is a measure of likelood ratio for two hypothesis. It gives the evidence of how better is one hypothesis from the other. The formula for Bayes Factors is mentioned in the previous cell. \n",
    "$$\\text{Bayes Factor (BF) }= \\frac{P(D \\mid H_0)}{P(D \\mid H_1)}$$\n",
    "\n",
    "where $H_0$ and $H_1$ are two hyposthesis being compared, and BF gives us the evidence of $H_0$ being better than $H_1$.\n",
    "It can be interpreted as below:\n",
    "+ If, BF $< 3 $, No Evidence\n",
    "+ If, 3 < BF < 10, Moderate Evidence\n",
    "+ If, 10 < BF < 30, Strong evidence\n",
    "+ If, BF > 30, very strong evidence\n",
    "\n",
    "Below, we will do do an example implementation for hypothesis testing"
   ]
  },
  {
   "cell_type": "code",
   "execution_count": 114,
   "metadata": {},
   "outputs": [],
   "source": [
    "%matplotlib inline\n",
    "import pymc3 as pm\n",
    "import math\n",
    "import warnings\n",
    "warnings.filterwarnings('ignore')\n",
    "import numpy as np\n",
    "from matplotlib import pyplot as plt\n",
    "plt.style.use('seaborn-darkgrid')\n",
    "from pymc3.step_methods import smc\n",
    "from tempfile import mkdtemp\n",
    "from scipy.special import betaln\n",
    "from scipy.stats import beta\n",
    "import pandas as pd"
   ]
  },
  {
   "cell_type": "markdown",
   "metadata": {},
   "source": [
    "We will use the coin-flipping problem[3] as example. We will have two models and compare them using the Bayes Factor.\n",
    "\n",
    "+ B is the Beta function\n",
    "+ n is the number of trials\n",
    "+ h is the number of success(heads)\n",
    "\n",
    "We will consider 100 flips of coin and compare two models, one with uniform prior and one with a more concentrated prior around $\\theta$ = 0.5 \n",
    "\n",
    "$M_1$ = With a prior of $\\theta$ = 0.5<br>\n",
    "$M_2$ = With no prior (uniform distribution which can be realized by beta distribution using $\\alpha = \\beta = 1$) <br>\n",
    "\n",
    "The equations for the solution are as shown under:\n",
    "\n",
    "the evidence can be found using the below equation:\n",
    "\n",
    "![Image01](4.5/scribing_11_4.PNG \"\")\n",
    "\n",
    "![Image01](4.5/equations_11.3.PNG \"\")\n",
    "\n",
    "![Image01](4.5/scribing_11_4.PNG \"\")\n",
    "Now we will use the above equations ( 11.14) to find out the Bayes factor for comparison of $M_1$ and $M_2$. For this initially we will consider n = 100 tosses of the coin and assume head comes 61 times out of those. keeping the prior for $M_1$ as o.5 , we get the Bayes factor as below"
   ]
  },
  {
   "cell_type": "code",
   "execution_count": 88,
   "metadata": {},
   "outputs": [
    {
     "name": "stdout",
     "output_type": "stream",
     "text": [
      "0.7181839592625815\n"
     ]
    }
   ],
   "source": [
    "\n",
    "n=100\n",
    "r=61\n",
    "phi=0.5\n",
    "alpha = beta =1\n",
    "\n",
    "BFu = (math.factorial(n)/(math.factorial(r) * math.factorial(n-r)))*pow(phi,r)*pow((1-phi),(n-r)) * (n+1)\n",
    "print (BFu)\n"
   ]
  },
  {
   "cell_type": "markdown",
   "metadata": {},
   "source": [
    "We see from aboce that we get bayes factor of 0.71, which is less than 3. So according the criteria defined earlier, we will say that there is no evidence of $M_1$ being better than $M_2$\n",
    "\n",
    "Now we will see what happens, if for the same models, we provide the input data as having 100 heads out of 200 tosses."
   ]
  },
  {
   "cell_type": "code",
   "execution_count": 95,
   "metadata": {},
   "outputs": [
    {
     "name": "stdout",
     "output_type": "stream",
     "text": [
      "11.326044280860541\n"
     ]
    }
   ],
   "source": [
    "n=200\n",
    "r=100\n",
    "phi=0.5\n",
    "alpha = beta =1\n",
    "\n",
    "BFu = (math.factorial(n)/(math.factorial(r) * math.factorial(n-r)))*pow(phi,r)*pow((1-phi),(n-r)) * (n+1)\n",
    "print (BFu)"
   ]
  },
  {
   "cell_type": "markdown",
   "metadata": {},
   "source": [
    "Here we get BF = 11.32, which is more than 10. Hence from this result, we can say that $M_1$ is better than $M_2$ for the given data. We see this increase in BF due the fact, that the number of data increased and also heads and tails are equal in the distribution thus close to the prior of $M_1$\n",
    "\n",
    "Now we below we have plotted the $log_{10}(BF)$ for various values of r and n. On the X-axis we have $f = \\frac{r}{n}$ "
   ]
  },
  {
   "cell_type": "code",
   "execution_count": 107,
   "metadata": {},
   "outputs": [
    {
     "data": {
      "image/png": "[encoded data removed]",
      "text/plain": [
       "<matplotlib.figure.Figure at 0x23d1d5008d0>"
      ]
     },
     "metadata": {},
     "output_type": "display_data"
    }
   ],
   "source": [
    "n = [5,10,25,50,100]\n",
    "k = [.10,.2,.3,.4,.5,.6,.7,.8,.9,1]\n",
    "for i in n:\n",
    "    f_m=[]\n",
    "    BF_m=[]\n",
    "    for j in k:\n",
    "        r=int(i*j)\n",
    "        f=r/i\n",
    "        BFu = (math.factorial(i)/(math.factorial(r) * math.factorial(i-r)))*pow(phi,r)*pow((1-phi),(i-r)) * (i+1)\n",
    "        BF_m.append(BFu)\n",
    "        f_m.append(f)\n",
    "   \n",
    "    plt.plot(f_m,BF_m,label=r'n = {:d}'.format(i))\n",
    "    plt.legend()\n",
    "    plt.xlabel(\"f\")\n",
    "    plt.ylabel(\"BF\")\n",
    "plt.show()\n"
   ]
  },
  {
   "cell_type": "markdown",
   "metadata": {},
   "source": [
    "The curves are symmetric around $f = \\frac{1}{2}$, because getting r heads has thesame probability as getting n − r heads when p = 1/2. We also see the BF increases as we increase the number of coin tosses. And within each n, it is highest around f = 0.5. That is the model $M_1$ with prior is better most when we take many data points and the heads are almost equal to tails in that"
   ]
  },
  {
   "cell_type": "markdown",
   "metadata": {},
   "source": [
    "\n",
    "## Hierarchical Models\n",
    "\n",
    "Hierarchical modeling is used when information is available on several different levels of observational units. Various models involve multiple parameters that can be regarded as related or connected in such a way that the problem implies dependence of the joint probability model for these parameters. Hierarchical Models come into play in these scenarios.\n",
    "\n",
    "\n",
    "![Image01](4.5/heirarchical_model.PNG \"\")\n",
    "\n",
    "In the picture above, we have different parameters $x_1$, $x_2$,.... $x_n$, which are are related to each other by $\\theta$. From these different parameters, we get different but similar data points $D_i$\n"
   ]
  },
  {
   "cell_type": "markdown",
   "metadata": {},
   "source": [
    "Below we will solve an example using hierarchical models.\n",
    "\n",
    "The problem is to assess the performance of 18 different Sales Agents from two sales regions.\n",
    "We will use the following binomial equation to simulate successful sales for agent k[6]:\n",
    "$$\n",
    "X_k \\sim BINOM(n_k,\\pi_k) \\tag{1}\\\\\n",
    "$$\n",
    "\n",
    "where,\n",
    "+ k = 1,2,3,.... 18 (sales agents) \\\\\n",
    "+ $\\pi_k$ is the success probability for agent k \\\\\n",
    "+ $x_k$ is the successful number sales for agent k\\\\\n",
    "+ $n_k$ is the number of sales tried for agent k \\\\\n",
    "\n",
    "\n",
    "We can use heirarchical models to solve this problem and find the individual 90% credible intervals for each agent. We will pool the data within each region and compute an estimate of the probability of a successful sale within each region.\n",
    "We will use the beta distribution to model the probabiility of success, as it outputs numbers between 0 and 1 with\n",
    "a wide range of shapes depending on the parameters a and b.\n",
    "\n",
    "$$\\pi_k \\sim BETA(a,b) \\text{  for k =1,2,3,4...18} \\tag{2}$$\n",
    "\n",
    "(1) and (2) combined form a beta-binomial hierarchical model. The unknown model parameters a and b can be estimated from the available data.\n",
    "To implement Bayesian estimation for this model, prior is defined using the beta distribution parameters a and b given by equations as $a \\sim GAMMA(0.001,0.001)$ and $b \\sim GAMMA(0.001,0.001)$ (as from book [6]).\n",
    "\n",
    "Below figure is taken from the book [6] which has the problem data. We will take this data as the actual data\n",
    "\n",
    "![Image01](4.5/scribing_sample_data_17.3.png \"\")"
   ]
  },
  {
   "cell_type": "code",
   "execution_count": 118,
   "metadata": {},
   "outputs": [
    {
     "name": "stdout",
     "output_type": "stream",
     "text": [
      "18\n",
      "18\n",
      "18\n",
      "18\n"
     ]
    },
    {
     "data": {
      "text/html": [
       "<div>\n",
       "<style>\n",
       "    .dataframe thead tr:only-child th {\n",
       "        text-align: right;\n",
       "    }\n",
       "\n",
       "    .dataframe thead th {\n",
       "        text-align: left;\n",
       "    }\n",
       "\n",
       "    .dataframe tbody tr th {\n",
       "        vertical-align: top;\n",
       "    }\n",
       "</style>\n",
       "<table border=\"1\" class=\"dataframe\">\n",
       "  <thead>\n",
       "    <tr style=\"text-align: right;\">\n",
       "      <th></th>\n",
       "      <th>agents</th>\n",
       "      <th>n_k</th>\n",
       "      <th>p_k</th>\n",
       "      <th>regions</th>\n",
       "    </tr>\n",
       "  </thead>\n",
       "  <tbody>\n",
       "    <tr>\n",
       "      <th>0</th>\n",
       "      <td>A</td>\n",
       "      <td>12</td>\n",
       "      <td>0.50</td>\n",
       "      <td>Region 1</td>\n",
       "    </tr>\n",
       "    <tr>\n",
       "      <th>1</th>\n",
       "      <td>B</td>\n",
       "      <td>30</td>\n",
       "      <td>0.70</td>\n",
       "      <td>Region 1</td>\n",
       "    </tr>\n",
       "    <tr>\n",
       "      <th>2</th>\n",
       "      <td>C</td>\n",
       "      <td>20</td>\n",
       "      <td>0.90</td>\n",
       "      <td>Region 1</td>\n",
       "    </tr>\n",
       "    <tr>\n",
       "      <th>3</th>\n",
       "      <td>D</td>\n",
       "      <td>26</td>\n",
       "      <td>0.58</td>\n",
       "      <td>Region 1</td>\n",
       "    </tr>\n",
       "    <tr>\n",
       "      <th>4</th>\n",
       "      <td>E</td>\n",
       "      <td>24</td>\n",
       "      <td>0.71</td>\n",
       "      <td>Region 1</td>\n",
       "    </tr>\n",
       "    <tr>\n",
       "      <th>5</th>\n",
       "      <td>F</td>\n",
       "      <td>17</td>\n",
       "      <td>0.65</td>\n",
       "      <td>Region 1</td>\n",
       "    </tr>\n",
       "    <tr>\n",
       "      <th>6</th>\n",
       "      <td>G</td>\n",
       "      <td>38</td>\n",
       "      <td>0.66</td>\n",
       "      <td>Region 1</td>\n",
       "    </tr>\n",
       "    <tr>\n",
       "      <th>7</th>\n",
       "      <td>H</td>\n",
       "      <td>20</td>\n",
       "      <td>0.80</td>\n",
       "      <td>Region 1</td>\n",
       "    </tr>\n",
       "    <tr>\n",
       "      <th>8</th>\n",
       "      <td>I</td>\n",
       "      <td>17</td>\n",
       "      <td>0.71</td>\n",
       "      <td>Region 1</td>\n",
       "    </tr>\n",
       "    <tr>\n",
       "      <th>9</th>\n",
       "      <td>J</td>\n",
       "      <td>24</td>\n",
       "      <td>0.67</td>\n",
       "      <td>Region 2</td>\n",
       "    </tr>\n",
       "    <tr>\n",
       "      <th>10</th>\n",
       "      <td>K</td>\n",
       "      <td>27</td>\n",
       "      <td>0.67</td>\n",
       "      <td>Region 2</td>\n",
       "    </tr>\n",
       "    <tr>\n",
       "      <th>11</th>\n",
       "      <td>L</td>\n",
       "      <td>19</td>\n",
       "      <td>0.58</td>\n",
       "      <td>Region 2</td>\n",
       "    </tr>\n",
       "    <tr>\n",
       "      <th>12</th>\n",
       "      <td>M</td>\n",
       "      <td>14</td>\n",
       "      <td>0.64</td>\n",
       "      <td>Region 2</td>\n",
       "    </tr>\n",
       "    <tr>\n",
       "      <th>13</th>\n",
       "      <td>N</td>\n",
       "      <td>10</td>\n",
       "      <td>0.80</td>\n",
       "      <td>Region 2</td>\n",
       "    </tr>\n",
       "    <tr>\n",
       "      <th>14</th>\n",
       "      <td>O</td>\n",
       "      <td>17</td>\n",
       "      <td>0.76</td>\n",
       "      <td>Region 2</td>\n",
       "    </tr>\n",
       "    <tr>\n",
       "      <th>15</th>\n",
       "      <td>P</td>\n",
       "      <td>33</td>\n",
       "      <td>0.64</td>\n",
       "      <td>Region 2</td>\n",
       "    </tr>\n",
       "    <tr>\n",
       "      <th>16</th>\n",
       "      <td>Q</td>\n",
       "      <td>28</td>\n",
       "      <td>0.71</td>\n",
       "      <td>Region 2</td>\n",
       "    </tr>\n",
       "    <tr>\n",
       "      <th>17</th>\n",
       "      <td>R</td>\n",
       "      <td>14</td>\n",
       "      <td>0.50</td>\n",
       "      <td>Region 2</td>\n",
       "    </tr>\n",
       "  </tbody>\n",
       "</table>\n",
       "</div>"
      ],
      "text/plain": [
       "   agents  n_k   p_k   regions\n",
       "0       A   12  0.50  Region 1\n",
       "1       B   30  0.70  Region 1\n",
       "2       C   20  0.90  Region 1\n",
       "3       D   26  0.58  Region 1\n",
       "4       E   24  0.71  Region 1\n",
       "5       F   17  0.65  Region 1\n",
       "6       G   38  0.66  Region 1\n",
       "7       H   20  0.80  Region 1\n",
       "8       I   17  0.71  Region 1\n",
       "9       J   24  0.67  Region 2\n",
       "10      K   27  0.67  Region 2\n",
       "11      L   19  0.58  Region 2\n",
       "12      M   14  0.64  Region 2\n",
       "13      N   10  0.80  Region 2\n",
       "14      O   17  0.76  Region 2\n",
       "15      P   33  0.64  Region 2\n",
       "16      Q   28  0.71  Region 2\n",
       "17      R   14  0.50  Region 2"
      ]
     },
     "execution_count": 118,
     "metadata": {},
     "output_type": "execute_result"
    }
   ],
   "source": [
    "## creating actual data for agents from the problem\n",
    "regions = [\"Region 1\",\"Region 1\",\"Region 1\",\"Region 1\",\"Region 1\",\"Region 1\",\"Region 1\",\"Region 1\",\"Region 1\",\"Region 2\",\"Region 2\",\"Region 2\",\"Region 2\",\"Region 2\",\"Region 2\",\"Region 2\",\"Region 2\",\"Region 2\"]\n",
    "agents = [\"A\",\"B\",\"C\",\"D\",\"E\",\"F\",\"G\",\"H\",\"I\",\"J\",\"K\",\"L\",\"M\",\"N\",\"O\",\"P\",\"Q\",\"R\"]\n",
    "n_k = [12,30,20,26,24,17,38,20,17,24,27,19,14,10,17,33,28,14]\n",
    "p_k = [.5,.7,.9,.58,.71,.65,.66,.8,.71,.67,.67,.58,.64,.80,.76,.64,.71,.5]\n",
    "print(len(regions))\n",
    "print(len(agents))\n",
    "print(len(n_k))\n",
    "print(len(p_k))\n",
    "data = pd.DataFrame({'p_k':p_k, 'n_k':n_k,'agents':agents,'regions':regions},)\n",
    "data"
   ]
  },
  {
   "cell_type": "code",
   "execution_count": 120,
   "metadata": {},
   "outputs": [
    {
     "name": "stdout",
     "output_type": "stream",
     "text": [
      "2\n"
     ]
    }
   ],
   "source": [
    "data.region = data.regions.map(str.strip)\n",
    "region_unique = data.region.unique()\n",
    "print(len(region_unique))\n",
    "region_lookup = dict(zip(region_unique, range(len(region_unique))))"
   ]
  },
  {
   "cell_type": "markdown",
   "metadata": {},
   "source": [
    "This problem can conventionaly be done in two ways:\n",
    "+ Treat all the agents in same way and fit a single model to all the agents\n",
    "+ Model each agent separately, thus we will have 18 models in total\n",
    "\n",
    "These are both extremites. What we can do is build a heirarchical model on tha basis of 2 regions. So we will end up having 2 models which will fit each region. "
   ]
  },
  {
   "cell_type": "code",
   "execution_count": 121,
   "metadata": {
    "collapsed": true
   },
   "outputs": [],
   "source": [
    "\n",
    "with pm.Model() as heirarchical_model:\n",
    "    ## a and b\n",
    "    a = pm.Gamma(\"a\",0.001,0.001)\n",
    "    b = pm.Gamma(\"b\",0.001,0.001)\n",
    "    ## pi from a and b\n",
    "    pi = pm.Beta(\"pi\",a,b)\n",
    "    n = pm.Normal(\"n\",24,10)\n",
    "    ## noise\n",
    "    #eps = pm.HalfNormal('eps', sd=1)\n",
    "    \n",
    "    x = pm.Binomial(\"x\",n, pi)\n",
    "    "
   ]
  },
  {
   "cell_type": "code",
   "execution_count": 122,
   "metadata": {},
   "outputs": [
    {
     "name": "stderr",
     "output_type": "stream",
     "text": [
      "Multiprocess sampling (2 chains in 2 jobs)\n",
      "CompoundStep\n",
      ">NUTS: [n, pi_logodds__, b_log__, a_log__]\n",
      ">Metropolis: [x]\n",
      "Tuning was enabled throughout the whole trace.\n",
      "Tuning was enabled throughout the whole trace.\n",
      "The estimated number of effective samples is smaller than 200 for some parameters.\n"
     ]
    }
   ],
   "source": [
    "with heirarchical_model:\n",
    "    hierarchical_trace = pm.sample(draws=10000)"
   ]
  },
  {
   "cell_type": "code",
   "execution_count": 126,
   "metadata": {},
   "outputs": [
    {
     "data": {
      "text/plain": [
       "<matplotlib.gridspec.GridSpec at 0x23d1e1721d0>"
      ]
     },
     "execution_count": 126,
     "metadata": {},
     "output_type": "execute_result"
    },
    {
     "data": {
      "image/png": "[encoded data removed]",
      "text/plain": [
       "<matplotlib.figure.Figure at 0x23d1dba7ac8>"
      ]
     },
     "metadata": {},
     "output_type": "display_data"
    }
   ],
   "source": [
    "from pymc3 import forestplot, traceplot, plot_posterior\n",
    "\n",
    "plt.figure(figsize=(14,14))\n",
    "forestplot(hierarchical_trace)"
   ]
  },
  {
   "cell_type": "code",
   "execution_count": 124,
   "metadata": {},
   "outputs": [
    {
     "data": {
      "text/html": [
       "<div>\n",
       "<style>\n",
       "    .dataframe thead tr:only-child th {\n",
       "        text-align: right;\n",
       "    }\n",
       "\n",
       "    .dataframe thead th {\n",
       "        text-align: left;\n",
       "    }\n",
       "\n",
       "    .dataframe tbody tr th {\n",
       "        vertical-align: top;\n",
       "    }\n",
       "</style>\n",
       "<table border=\"1\" class=\"dataframe\">\n",
       "  <thead>\n",
       "    <tr style=\"text-align: right;\">\n",
       "      <th></th>\n",
       "      <th>mean</th>\n",
       "      <th>sd</th>\n",
       "      <th>mc_error</th>\n",
       "      <th>hpd_2.5</th>\n",
       "      <th>hpd_97.5</th>\n",
       "      <th>n_eff</th>\n",
       "      <th>Rhat</th>\n",
       "    </tr>\n",
       "  </thead>\n",
       "  <tbody>\n",
       "    <tr>\n",
       "      <th>n</th>\n",
       "      <td>24.147355</td>\n",
       "      <td>10.074902</td>\n",
       "      <td>0.348284</td>\n",
       "      <td>4.993046e+00</td>\n",
       "      <td>43.706229</td>\n",
       "      <td>587.0</td>\n",
       "      <td>1.001266</td>\n",
       "    </tr>\n",
       "    <tr>\n",
       "      <th>x</th>\n",
       "      <td>4.197100</td>\n",
       "      <td>8.882097</td>\n",
       "      <td>0.798349</td>\n",
       "      <td>0.000000e+00</td>\n",
       "      <td>25.000000</td>\n",
       "      <td>51.0</td>\n",
       "      <td>1.002344</td>\n",
       "    </tr>\n",
       "    <tr>\n",
       "      <th>pi</th>\n",
       "      <td>0.171935</td>\n",
       "      <td>0.312334</td>\n",
       "      <td>0.026122</td>\n",
       "      <td>9.370181e-14</td>\n",
       "      <td>0.961816</td>\n",
       "      <td>51.0</td>\n",
       "      <td>1.008672</td>\n",
       "    </tr>\n",
       "    <tr>\n",
       "      <th>a</th>\n",
       "      <td>13.340624</td>\n",
       "      <td>78.392103</td>\n",
       "      <td>4.660789</td>\n",
       "      <td>2.041582e-05</td>\n",
       "      <td>38.585128</td>\n",
       "      <td>246.0</td>\n",
       "      <td>1.000157</td>\n",
       "    </tr>\n",
       "    <tr>\n",
       "      <th>b</th>\n",
       "      <td>109.443203</td>\n",
       "      <td>302.443890</td>\n",
       "      <td>5.511326</td>\n",
       "      <td>2.888897e-05</td>\n",
       "      <td>562.326893</td>\n",
       "      <td>2877.0</td>\n",
       "      <td>1.000609</td>\n",
       "    </tr>\n",
       "  </tbody>\n",
       "</table>\n",
       "</div>"
      ],
      "text/plain": [
       "          mean          sd  mc_error       hpd_2.5    hpd_97.5   n_eff  \\\n",
       "n    24.147355   10.074902  0.348284  4.993046e+00   43.706229   587.0   \n",
       "x     4.197100    8.882097  0.798349  0.000000e+00   25.000000    51.0   \n",
       "pi    0.171935    0.312334  0.026122  9.370181e-14    0.961816    51.0   \n",
       "a    13.340624   78.392103  4.660789  2.041582e-05   38.585128   246.0   \n",
       "b   109.443203  302.443890  5.511326  2.888897e-05  562.326893  2877.0   \n",
       "\n",
       "        Rhat  \n",
       "n   1.001266  \n",
       "x   1.002344  \n",
       "pi  1.008672  \n",
       "a   1.000157  \n",
       "b   1.000609  "
      ]
     },
     "execution_count": 124,
     "metadata": {},
     "output_type": "execute_result"
    }
   ],
   "source": [
    "var = ['n', 'x', 'pi','a','b']\n",
    "pm.df_summary(hierarchical_trace, var)"
   ]
  },
  {
   "cell_type": "code",
   "execution_count": 125,
   "metadata": {},
   "outputs": [
    {
     "data": {
      "image/png": "[encoded data removed]",
      "text/plain": [
       "<matplotlib.figure.Figure at 0x23d1b5c7b00>"
      ]
     },
     "metadata": {},
     "output_type": "display_data"
    }
   ],
   "source": [
    "pm.autocorrplot(hierarchical_trace, var);"
   ]
  },
  {
   "cell_type": "markdown",
   "metadata": {},
   "source": [
    "\n",
    "## References\n",
    "\n",
    "[1] https://en.wikipedia.org/wiki/Bayes_factor <br>\n",
    "[2] https://www.ncbi.nlm.nih.gov/pmc/articles/PMC5111611/<br>\n",
    "[3] https://docs.pymc.io/notebooks/Bayes_factor.html<br>\n",
    "[4] https://en.wikipedia.org/wiki/Bayesian_hierarchical_modeling<br>\n",
    "[5] http://twiecki.github.io/blog/2014/03/17/bayesian-glms-3/<br>\n",
    "[6] W. Meeker, G. Hahn and L. Escobar, STATISTICAL INTERVALS A Guide for Practitioners and Researchers, 2nd ed. John Wiley & Sons Inc., 2017, pp. 353-360.<br>\n",
    "[7] C. A.L and B. Jones, Practical Bayesian inference - A primer for Physical students. Cambridge: Cambridge University Press, 2017, p. Chapter 11.<br>"
   ]
  },
  {
   "cell_type": "code",
   "execution_count": null,
   "metadata": {
    "collapsed": true
   },
   "outputs": [],
   "source": []
  }
 ],
 "metadata": {
  "anaconda-cloud": {},
  "celltoolbar": "Slideshow",
  "kernelspec": {
   "display_name": "Python [default]",
   "language": "python",
   "name": "python3"
  },
  "language_info": {
   "codemirror_mode": {
    "name": "ipython",
    "version": 3
   },
   "file_extension": ".py",
   "mimetype": "text/x-python",
   "name": "python",
   "nbconvert_exporter": "python",
   "pygments_lexer": "ipython3",
   "version": "3.5.2"
  }
 },
 "nbformat": 4,
 "nbformat_minor": 2
}
