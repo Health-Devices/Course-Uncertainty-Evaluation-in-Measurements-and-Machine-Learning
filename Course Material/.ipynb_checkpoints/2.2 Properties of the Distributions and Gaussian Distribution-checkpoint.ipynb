{
 "cells": [
  {
   "cell_type": "markdown",
   "metadata": {},
   "source": [
    "# 2.2 Properties of the Distributions and Gaussian Distribution"
   ]
  },
  {
   "cell_type": "markdown",
   "metadata": {},
   "source": [
    "## Objectives\n",
    "\n",
    "+ Introduction\n",
    "    + Random variables\n",
    "    + Probability Distribution,\n",
    "    + Mean, Median and Mode of a Random variable\n",
    "    + Expected Value of a Random Variable\n",
    "    + Variance of a Random Variable\n",
    "    + Calculation of statistics using python\n",
    "        + Mean\n",
    "        + Mode\n",
    "        + Range\n",
    "        + Standard deviation\n",
    "        + Standard Error\n",
    "+ Expectation/means of a Continuous Random Variable\n",
    "+ Properties of Expectations\n",
    "+ Variance and it's properties\n",
    "+ Continuous Uniform Random variable; Parameter a,b\n",
    "+ An example of A/D Converter\n",
    "    + Quantization of signal\n",
    "        + Introduction\n",
    "        + Model of Quantization Process\n",
    "        + Example - Quantization of a sine signal\n",
    "        + Properties\n",
    "        + Applications\n",
    "    + Characteristic of linear uniform quantization\n",
    "        + Quantization Error of a Linear Uniform Quantizer\n",
    "+ Computing SNR(Signal-to-Noise Ratio)\n",
    "    + Model for the Quantization Error\n",
    "    + Uniformly Distributed Signal\n",
    "    + Example - Quantization of a uniformly distributed signal\n",
    "+ Cumulative distributive function\n",
    "    + Probability Mass and Distribution Function\n",
    "    + A continuous example: the Uniform Distribution\n",
    "+ General Normal(Gaussian) random variables\n",
    "    + Gaussian Distrubutions\n",
    "    + Variance and Belief\n",
    "    + The Central Limit Theorem\n",
    "    + The 68-95-99.7 Rule\n",
    "    + Computing Probabilities with scipy.stats\n",
    "+ Calculating normal probabilities\n",
    "    + Standardisation of Normal distrubution\n",
    "    + Example : Crowd size\n",
    "+ Linear functions of a random variable \n",
    "+ Conditional Expectation of X,given an event A \n",
    "+ Total probability and Expectation theorem\n",
    "+ Uses in measurement theory\n",
    "+ References\n"
   ]
  },
  {
   "cell_type": "markdown",
   "metadata": {},
   "source": [
    "## Introduction\n",
    "\n",
    "The last part finished by examining diffrent probability distrubutions. Likewise how these distrubutions function in demonstrating our day to day life occasions. For an istance, Gaussian noise is statistical noise having a probability density function (PDF) varies like bell curve.\n",
    "\n",
    "In this part , we will talk about on the highlights of desires, mean, change, aggregate distributive capacity and restrictive desire of occasion. The vast majority of you will have information on basic statistcs however I will explain anyway[2]"
   ]
  },
  {
   "cell_type": "markdown",
   "metadata": {},
   "source": [
    "### Random Variables\n",
    "\n",
    "The phrase '_Random_' method in dictionary means that an unknown, unspecified, or abnormal character i.e. you'll no longer have any information on its outcome. for instance, every time you roll a dice the *outcome* will be constantly between 1 and six. If we rolled a truthful dice one million times we'd expect to get a one 1/6 of the time. thus we say the *probability* of any final results 1 is 1/6.\n",
    "\n",
    "The variable whose outcome can not be prdicted is known as a random variable. Sample space is the variety of values that an outcome can take , example {1,2,3,4,5,6} is the smaple area for a dice can take."
   ]
  },
  {
   "cell_type": "markdown",
   "metadata": {},
   "source": [
    "### Probability Distribution\n",
    "\n",
    "\n",
    "The probability distribution gives the probability for the random variable to occure or take any value in a sample space[2]. Lets roll a dice and then predict the outcome of each value.\n",
    "\n",
    "Below table is the probability of each outcome (This table is copied from [2])\n",
    "\n",
    "|Value|Probability|\n",
    "|-----|-----------|\n",
    "|1|1/6|\n",
    "|2|1/6|\n",
    "|3|1/6|\n",
    "|4|1/6|\n",
    "|5|1/6|\n",
    "|6|1/6|\n",
    "\n",
    "\n",
    "$P(X{=}1) = f(1) = \\frac{1}{6}$, This states that the probability of dice can taken value 1 is $\\frac{1}{6}$. \n",
    "\n",
    "The probabilities for all values of a *discrete random value* is known as the *discrete probability distribution* [2]and the probabilities for all values of a continuous random value is known as the continuous probability distribution[2].\n",
    "\n",
    "We formulize this requirement [2] as\n",
    "\n",
    "$$\\sum\\limits_u P(X{=}u)= 1 \\quad \\textrm{for discrete distributions}$$\n",
    "\n",
    "$$\\int\\limits_u P(X{=}u) \\,du= 1  \\quad \\textrm{for continuous distributions.}$$\n"
   ]
  },
  {
   "cell_type": "markdown",
   "metadata": {},
   "source": [
    "### The Mean, Median, and Mode of a Random Variable\n",
    "\n",
    "Given a fixed information we frequently need to recognise a centre of gravity or average data for the set. This data we caled as mean. Its necessory that we should have knowledge of mean because it will supply us to set limits so that every factor or variety can achive it easiliy. for example[2] we'd need to know the average height of the students in a class. we all know the way to find the average, We compute the suggest via summing the values and dividing by number of the values [2].\n",
    "\n",
    "Example (This example is copied from [2]):\n",
    "\n",
    "If the heights of the students in meters is \n",
    "\n",
    "$$X = \\{1.8, 2.0, 1.7, 1.9, 1.6\\}$$\n",
    "\n",
    "we compute the mean as\n",
    "\n",
    "$$\\mu = \\frac{1.8 + 2.0 + 1.7 + 1.9 + 1.6}{5} = 1.8$$\n",
    "\n",
    "We can use the symbol $\\mu$ (mu) to denote the mean and We can formalize this computation with the equation[2]\n",
    "\n",
    "$$ \\mu = \\frac{1}{n}\\sum^n_{i=1} x_i$$\n",
    "\n",
    "In python, NumPy provides `numpy.mean()` for computing the mean."
   ]
  },
  {
   "cell_type": "code",
   "execution_count": 1,
   "metadata": {},
   "outputs": [
    {
     "name": "stdout",
     "output_type": "stream",
     "text": [
      "1.83333333333\n"
     ]
    }
   ],
   "source": [
    "import numpy as np\n",
    "x = [1.8, 2.0, 2.0,1.7, 1.9, 1.6]\n",
    "print(np.mean(x))"
   ]
  },
  {
   "cell_type": "markdown",
   "metadata": {},
   "source": [
    "The *mode* of a set of numbers is the most repeated number. If a number repeats two times than any other number then its uni modal. If two numbers repeats most number of times then its multimodel\n",
    "\n",
    "For example, the set {1, 2, 2, 2, 3, 4, 4, 4} has modes 2 and 4, which is multimodal, and the set {5, 7, 7, 13} has the mode 7, and so it is unimodal. \n",
    "\n",
    "Finally, the *median* of a set of numbers is the middle point of the set so that half the values are below the median and half are above the median[2]. \n",
    "\n",
    "Under Numpy library, mode(array_name) and median(array_name) will gives you mode and median in python \n"
   ]
  },
  {
   "cell_type": "code",
   "execution_count": 2,
   "metadata": {},
   "outputs": [
    {
     "data": {
      "text/plain": [
       "2.0"
      ]
     },
     "execution_count": 2,
     "metadata": {},
     "output_type": "execute_result"
    }
   ],
   "source": [
    "from statistics import mode\n",
    "mode(x)"
   ]
  },
  {
   "cell_type": "code",
   "execution_count": 39,
   "metadata": {},
   "outputs": [
    {
     "name": "stdout",
     "output_type": "stream",
     "text": [
      "1.85\n"
     ]
    }
   ],
   "source": [
    "print(np.median(x))\n"
   ]
  },
  {
   "cell_type": "markdown",
   "metadata": {},
   "source": [
    "### Expected Value of a Random Variable\n",
    "\n",
    "The expected value of a random variable is mean or average value of the sample space and is genrally calculated as summing the all numbers and devide it by the number of values in sample space. \n",
    "\n",
    "Let's say we have $x=[4,8,12]$ and each value is equiprobable. Expected value would be the average of 4, 8, and 12, which is 8. In other words, here the expected value is the *mean* of the sample space. Now, Imagine that above 3 numbers are not equiprobable. i.e. 4 ,8,12 have probability of occuring that 20%,40% and 40% respectivly then expected value is not just mean of three numbers, we should also consider its probability of occurance[2].\n",
    "\n",
    "For this case we could compute,$ E[X] = (4)(0.2) + (8)(0.4) + (12)(0.4) = 8.8$\n",
    "\n",
    "We can formalize[2] by taking general scenario of $x_i$ and probability as $p_ix_i$\n",
    "\n",
    "$$\\mathbb E[X] = \\sum_{i=1}^n p_ix_i$$\n",
    "\n",
    "If the probabilities are all equal, the expected value is the same as the mean [2]:\n",
    "\n",
    "$$\\mathbb E[X] = \\sum_{i=1}^n p_ix_i = \\frac{1}{n}\\sum_{i=1}^n x_i = \\mu_x$$\n",
    "\n",
    "If $x$ is continuous we substitute the sum for an integral, like so\n",
    "\n",
    "$$\\mathbb E[X] = \\int_{-\\infty}^\\infty x\\, f(x) \\,dx$$\n",
    "\n",
    "where $f(x)$ is the probability distribution function of $x$. "
   ]
  },
  {
   "cell_type": "markdown",
   "metadata": {},
   "source": [
    "### Variance of a Random Variable\n",
    "\n",
    "Variance means it will tell the dispersion from mean. Even if we have zero mean or non zero mean, it doesn't tell us everything we might want to know. \n",
    "\n",
    "For example (This has been adapted from [2]), suppose we have three classes of students, which we label $X$, $Y$, and $Z$, with these heights:\n",
    "\n",
    "Note: \n",
    "NumPy provides the function `var()` to compute the variance:"
   ]
  },
  {
   "cell_type": "code",
   "execution_count": 3,
   "metadata": {
    "collapsed": true
   },
   "outputs": [],
   "source": [
    "X = [1.8, 1.8, 1.8, 1.8, 1.8]\n",
    "Y = [2.2, 1.5, 2.3, 1.7, 1.3]\n",
    "Z = [1.7, 1.6, 1.4, 1.4, 1.3]"
   ]
  },
  {
   "cell_type": "markdown",
   "metadata": {},
   "source": [
    "Using NumPy we see that the mean height of each class"
   ]
  },
  {
   "cell_type": "code",
   "execution_count": 4,
   "metadata": {
    "scrolled": true
   },
   "outputs": [
    {
     "name": "stdout",
     "output_type": "stream",
     "text": [
      "Mean\n",
      "1.8\n",
      "1.8\n",
      "1.48\n",
      "Variance\n",
      "0.0\n",
      "0.152\n",
      "0.0216\n"
     ]
    }
   ],
   "source": [
    "print(\"Mean\")\n",
    "print(np.mean(X))\n",
    "print(np.mean(Y))\n",
    "print(np.mean(Z))\n",
    "\n",
    "print(\"Variance\")\n",
    "print(np.var(X))\n",
    "print(np.var(Y))\n",
    "print(np.var(Z))"
   ]
  },
  {
   "cell_type": "markdown",
   "metadata": {},
   "source": [
    "In first class mean of all students height is 1.8 but it wont tell the full story as variance is zero. there is no dispersion in the values, where as in the second class , the variance is 0.152. It means there will be variation of height values from mean is 0.152. Same goes to third class with variation of 0.026. If variance is close to zero then there is less dispersion and if variance is high number then there will be huge dieference in each number when compared to mean\n",
    "\n",
    "The equation[2] for computing the variance is\n",
    "\n",
    "$$\\mathit{VAR}(X) = E[(X - \\mu)^2]$$\n",
    "\n",
    "Substituting the expected value as $E[X] = \\sum\\limits_{i=1}^n p_ix_i$, and we will assume all heights are equally probable, \n",
    "so we can substitute to get below formula[2]. \n",
    "$$\\mathit{VAR}(X) = \\frac{1}{n}\\sum_{i=1}^n (x_i - \\mu)^2$$\n",
    "\n",
    "Due to the change in parameter unit value like variance is in square meters where as mean is in meters, we can also quantify our dispersion interms of standard deviation. which can be given as \n",
    "\n",
    "$$ std(x) = \\sqrt {VAR(X)}$$\n",
    " \n"
   ]
  },
  {
   "cell_type": "code",
   "execution_count": 5,
   "metadata": {},
   "outputs": [
    {
     "name": "stdout",
     "output_type": "stream",
     "text": [
      "0.152 meters squared\n"
     ]
    }
   ],
   "source": [
    "print(np.var(Y), \"meters squared\")"
   ]
  },
  {
   "cell_type": "markdown",
   "metadata": {},
   "source": [
    "\n",
    "It is typical to use $\\sigma$ for the *standard deviation* and $\\sigma^2$ for the *variance*. \n",
    "\n",
    "For the second class Y class we compute the standard deviation with\n",
    "\n",
    "$$ \n",
    "\\begin{aligned}\n",
    "\\sigma_y &=\\sqrt{\\frac{(2.2-1.8)^2 + (1.5-1.8)^2 + (2.3-1.8)^2 + (1.7-1.8)^2 + (1.3-1.8)^2} {5}} \\\\\n",
    "&= \\sqrt{\\frac{0.16 + 0.09 + 0.25 + 0.01 + 0.25}{5}} \\\\\n",
    "\\sigma_y&= \\sqrt{0.152}=0.3899\n",
    "\\end{aligned}$$\n",
    "\n",
    "We can verify the standard deviation using `np.std()` which computes the standard deviation. 'std' is a common abbreviation for standard deviation."
   ]
  },
  {
   "cell_type": "code",
   "execution_count": 6,
   "metadata": {},
   "outputs": [
    {
     "name": "stdout",
     "output_type": "stream",
     "text": [
      "std 0.3899\n",
      "var 0.1520\n"
     ]
    }
   ],
   "source": [
    "print('std {:.4f}'.format(np.std(Y)))\n",
    "print('var {:.4f}'.format(np.std(Y)**2))"
   ]
  },
  {
   "cell_type": "markdown",
   "metadata": {},
   "source": [
    "Let’s create a dataset to work with and plot a histogram to visualise (this example is adapted from [2]):"
   ]
  },
  {
   "cell_type": "code",
   "execution_count": 7,
   "metadata": {
    "scrolled": true
   },
   "outputs": [
    {
     "data": {
      "image/png": "[encoded data removed]",
      "text/plain": [
       "<matplotlib.figure.Figure at 0x4dcdb50>"
      ]
     },
     "metadata": {},
     "output_type": "display_data"
    }
   ],
   "source": [
    "import numpy as np\n",
    "from scipy import stats\n",
    "import scipy.stats\n",
    "import matplotlib\n",
    "import matplotlib.pyplot as plt\n",
    "%matplotlib inline\n",
    "matplotlib.style.use('ggplot')\n",
    "\n",
    "np.random.seed(1)\n",
    "data = np.round(np.random.normal(5, 2, 10000))\n",
    "plt.hist(data, bins=10, range=(0,10), edgecolor='black')\n",
    "plt.show()"
   ]
  },
  {
   "cell_type": "code",
   "execution_count": 8,
   "metadata": {},
   "outputs": [
    {
     "data": {
      "text/plain": [
       "0.020167394685006741"
      ]
     },
     "execution_count": 8,
     "metadata": {},
     "output_type": "execute_result"
    }
   ],
   "source": [
    "stats.sem(data)"
   ]
  },
  {
   "cell_type": "markdown",
   "metadata": {
    "collapsed": true
   },
   "source": [
    "### Calculation of statistics using python"
   ]
  },
  {
   "cell_type": "markdown",
   "metadata": {},
   "source": [
    "#### Mean\n",
    "\n",
    "Mean is calculated as below[2]\n",
    "$$\\mu = \\dfrac{\\sum_{i=1}^{N} x_i}{N}$$\n",
    "\n",
    "Numpy implements a mean function for calculating the mean:"
   ]
  },
  {
   "cell_type": "code",
   "execution_count": 9,
   "metadata": {
    "scrolled": true
   },
   "outputs": [
    {
     "data": {
      "text/plain": [
       "5.0191999999999997"
      ]
     },
     "execution_count": 9,
     "metadata": {},
     "output_type": "execute_result"
    }
   ],
   "source": [
    "mean = np.mean(data)\n",
    "mean\n"
   ]
  },
  {
   "cell_type": "markdown",
   "metadata": {},
   "source": [
    "#### Median\n",
    "The median value[2] is the middlemost value, you take the value in the position of\n",
    "$$\\dfrac{n+1}{2}$$\n",
    "of the sorted data. If its even number then its the average among middle point value.\n",
    "\n",
    "Using the library Numpy, we can also calculate the median:"
   ]
  },
  {
   "cell_type": "code",
   "execution_count": 48,
   "metadata": {},
   "outputs": [
    {
     "data": {
      "text/plain": [
       "5.0"
      ]
     },
     "execution_count": 48,
     "metadata": {},
     "output_type": "execute_result"
    }
   ],
   "source": [
    "np.median(data)"
   ]
  },
  {
   "cell_type": "markdown",
   "metadata": {},
   "source": [
    "#### Mode\n",
    "The mode is the most frequent value.\n",
    "We can see from our histogram already that 5 is the modal value.\n",
    "\n",
    "another example,"
   ]
  },
  {
   "cell_type": "code",
   "execution_count": 10,
   "metadata": {},
   "outputs": [
    {
     "data": {
      "text/plain": [
       "4"
      ]
     },
     "execution_count": 10,
     "metadata": {},
     "output_type": "execute_result"
    }
   ],
   "source": [
    "from statistics import mode\n",
    "##mode([1,2,3,43,5,6,7,7,7,3,3])No uniquemode available and it will give an error\n",
    "mode([1,2,3,4,4,5,4,5,4,7,8,7])"
   ]
  },
  {
   "cell_type": "markdown",
   "metadata": {},
   "source": [
    "#### Range\n",
    "The range gives a measure of how spread apart the values are[2].\n",
    "\n",
    "The range is simply calculated as the maximum value – minimum value\n",
    "$$Max(x_i) – Min(x_i)$$\n",
    "\n",
    "Numpy implements this as a point to point function np.ptp()"
   ]
  },
  {
   "cell_type": "code",
   "execution_count": 50,
   "metadata": {},
   "outputs": [
    {
     "data": {
      "text/plain": [
       "15.0"
      ]
     },
     "execution_count": 50,
     "metadata": {},
     "output_type": "execute_result"
    }
   ],
   "source": [
    "np.ptp(data)"
   ]
  },
  {
   "cell_type": "markdown",
   "metadata": {},
   "source": [
    "#### Variance\n",
    "Variance is a measure of how variable the data is, it is calculated [2] as:\n",
    "$$\\sigma^2 = \\dfrac{\\sum_{i=1}^{N} (x_i – \\mu)^2}{N}$$\n",
    "Numpy implements the variance as a function np.var()"
   ]
  },
  {
   "cell_type": "code",
   "execution_count": 11,
   "metadata": {},
   "outputs": [
    {
     "data": {
      "text/plain": [
       "4.0668313600000001"
      ]
     },
     "execution_count": 11,
     "metadata": {},
     "output_type": "execute_result"
    }
   ],
   "source": [
    "np.var(data)"
   ]
  },
  {
   "cell_type": "markdown",
   "metadata": {},
   "source": [
    "#### Standard Deviation\n",
    "The variance can get very large for large data sets and so we will often use the standard deviation, which is the square root of the variance:\n",
    "\n",
    "$$\\sigma = \\sqrt{\\sigma^2}$$\n",
    "\n",
    "\n",
    "This is implemented in Numpy as np.std()"
   ]
  },
  {
   "cell_type": "code",
   "execution_count": 52,
   "metadata": {},
   "outputs": [
    {
     "data": {
      "text/plain": [
       "2.0166386290061986"
      ]
     },
     "execution_count": 52,
     "metadata": {},
     "output_type": "execute_result"
    }
   ],
   "source": [
    "\n",
    "np.std(data)\n"
   ]
  },
  {
   "cell_type": "markdown",
   "metadata": {},
   "source": [
    "#### Standard Error\n",
    "The standard error of the mean (SE of the mean) estimates the variability between sample means that you would obtain if you took multiple samples from the same population. \n",
    "\n",
    "The standard error of the mean estimates the variability between samples whereas the standard deviation measures the variability within a single sample(This definition is copied from [2]).\n",
    "\n",
    "It is calculated as below formula[2]:\n",
    "$$SE = \\dfrac{s}{\\sqrt{n}}$$    \n",
    "Where s is the sample standard deviation."
   ]
  },
  {
   "cell_type": "code",
   "execution_count": 12,
   "metadata": {},
   "outputs": [
    {
     "data": {
      "text/plain": [
       "1.2893796958227628"
      ]
     },
     "execution_count": 12,
     "metadata": {},
     "output_type": "execute_result"
    }
   ],
   "source": [
    ">>> from scipy import stats\n",
    ">>> a = np.arange(20).reshape(5,4)\n",
    ">>> stats.sem(a)\n",
    ">>> stats.sem(a, axis=None, ddof=0)\n"
   ]
  },
  {
   "cell_type": "markdown",
   "metadata": {},
   "source": [
    "## Expectation / Mean of continuous random variable\n",
    "\n",
    "\n",
    "![Image01](2.2/Image01.PNG \"Probability mass function\")\n",
    "\n",
    "In picture (This image is copied from[4]) above, First one on left side indicates probability mass function of discrte random variable and second one on right side indicates probability distrubution function of continuous random variable.\n",
    "\n",
    "The expectation value of a quantity in regards to the a density(PDF) or probability mass function(PMF) is the weighted sum of the quantity where the weights are probabilties from the distribution[2]. For example, for the discrete random variable X and observation x:\n",
    "$$E_f[X] = \\sum_x x\\,f(x)$$\n",
    "In the continuous case the sum($\\sum$) is replaced by an integral of the density:\n",
    "$$E_f[X] =  \\int_{-\\infty}^{\\infty} x\\,f_X(x)\\;dx$$\n",
    "\n",
    "Thus, the expected value, or mean  of X is defined[2] to be \n",
    "$$% <![CDATA[\n",
    "E_{f}{X} = \\int x dF(x) = \n",
    "\\begin{cases}\n",
    "\\sum_x x f(x) & \\text{if X is discrete}\\\\\n",
    "\\int_{-\\infty}^{\\infty} x\\,f_X(x)\\;dx & \\text{if X is continuous}\n",
    "\\end{cases} %]]>$$\n",
    "\n",
    "\n"
   ]
  },
  {
   "cell_type": "markdown",
   "metadata": {},
   "source": [
    "## Properties of expectations\n",
    "\n",
    "Below are the important properties of expectations[4].\n",
    "\n",
    "1.  Non Zero expectation\n",
    "$$\\space \\quad \\textrm{If} \\quad X \\geq 0 \\quad \\textrm{then} \\quad E(X) \\geq 0$$\n",
    "\n",
    "2.  Expectation with in interval [a,b]\n",
    "$$\\space \\quad \\textrm{If} \\quad a \\leq X \\leq b \\quad \\textrm{then} \\quad a \\leq E(X) \\leq b$$\n",
    "\n",
    "3.  Expected value rule\n",
    "$$E[g(X)] = \\sum_x g(x)\\,p_X(x) \\quad \\textrm{and} \\quad E[g(X)] = \\int_{-\\infty}^{\\infty} g(x)\\,f_X(x)\\;dx$$ \n",
    "\n",
    "4. Linearity\n",
    "Let X be a continuous random variable with mean $μ_X$ and for any real numbers a,b Then\n",
    "\n",
    "$$\\mathrm{E}(aX + b) = a\\,\\mathrm{E}(X) + b = a\\mu_X + b$$\n",
    "\n",
    "   __Proof :__\n",
    "For a continuous random variable X, the mean of a function of X, say g(X), is given by\n",
    "$$\\mathrm{E}[g(X)] = \\int_{-\\infty}^{\\infty} g(x)\\,f_X(x)\\;dx.$$\n",
    "\n",
    "$$\\quad \\textrm{So, for}\\quad g(X) = aX + b \\quad \\textrm{we find that}\\quad$$\n",
    "\n",
    "\\begin{align*}\n",
    "  \\mathrm{E}(aX+b) &= \\int_{-\\infty}^{\\infty} (ax+b)\\,f_X(x)\\;dx \\\\\\\\\n",
    "  &= \\int_{-\\infty}^{\\infty} ax\\,f_X(x)\\;dx + \\int_{-\\infty}^{\\infty} b\\,f_X(x)\\;dx \\\\\\\\\n",
    "  &= a \\int_{-\\infty}^{\\infty} x\\,f_X(x)\\;dx + b \\int_{-\\infty}^{\\infty} f_X(x)\\;dx \\\\\\\\\n",
    "  &= a\\,\\mathrm{E}(X) + b=a\\mu_X + b. \n",
    "  \\end{align*}\n",
    "   "
   ]
  },
  {
   "cell_type": "markdown",
   "metadata": {},
   "source": [
    "__Proof for linearity with python coding : __\n",
    "Lets take two arrays x and y.\n",
    "As per linearity take equation as zxy=10*x+y where zxy is the result array with x and y.\n",
    "Verify the mean zxy with x mean and y mean\n",
    "It should be $$\\overline zxy = 10* \\overline x + \\overline y$$\n"
   ]
  },
  {
   "cell_type": "code",
   "execution_count": 13,
   "metadata": {},
   "outputs": [
    {
     "name": "stdout",
     "output_type": "stream",
     "text": [
      "The expected value is array[x] E(x): 5.33333333333\n"
     ]
    }
   ],
   "source": [
    "from numpy import average\n",
    "x = [1, 2, 3, 4, 5, 6, 8, 9, 10]\n",
    "E_x=(average(x))\n",
    "print( 'The expected value is array[x] E(x): ' +str(E_x ))"
   ]
  },
  {
   "cell_type": "code",
   "execution_count": 14,
   "metadata": {},
   "outputs": [
    {
     "name": "stdout",
     "output_type": "stream",
     "text": [
      "The expected value is array[y] E(y): 57.5555555556\n"
     ]
    }
   ],
   "source": [
    "y = [11, 22, 33, 44, 55, 66, 88, 99, 100]\n",
    "E_y=(average(y))\n",
    "print( 'The expected value is array[y] E(y): ' +str(E_y ))"
   ]
  },
  {
   "cell_type": "code",
   "execution_count": 15,
   "metadata": {},
   "outputs": [
    {
     "name": "stdout",
     "output_type": "stream",
     "text": [
      "[ 21  42  63  84 105 126 168 189 200]\n",
      "The expected value is array[zxy] E(zxy): 110.888888889\n"
     ]
    }
   ],
   "source": [
    "##linearity zxy=zx+y=z*10+y  which should lead to E(zxy)=10E(x)+E(y)\n",
    "import numpy as np\n",
    "zx = [i * 10 for i in x]  ##multiplying each array element of x with 10 ==> zx\n",
    "zxy=np.add(zx,y)        ##adding each array elements of zx with y ==> zxy\n",
    "\n",
    "print(zxy)   ##print elements\n",
    "E_zxy=(average(zxy)) ##check for expected value\n",
    "print( 'The expected value is array[zxy] E(zxy): ' +str(E_zxy ))"
   ]
  },
  {
   "cell_type": "code",
   "execution_count": 16,
   "metadata": {},
   "outputs": [
    {
     "name": "stdout",
     "output_type": "stream",
     "text": [
      "110.888888889\n",
      "110.888888889\n",
      "Linearity on expectation is prooved\n"
     ]
    }
   ],
   "source": [
    "##check linearity for expectations E(zxy)=10E(x)+E(y)\n",
    "Exp1= E_zxy\n",
    "Exp2 = 10*E_x+E_y\n",
    "print(Exp1)\n",
    "print(Exp2)\n",
    "if Exp1==Exp2: print(\"Linearity on expectation is prooved\")  ##comparing both expected values before and after applying linearity"
   ]
  },
  {
   "cell_type": "markdown",
   "metadata": {},
   "source": [
    "## Variance and its properties\n",
    "\n",
    "Below are the definition and properties of Variance[4].\n",
    "\n",
    "+ Definition \n",
    "$$\\mathit{VAR}(X) = E[(X - \\mu)^2]$$\n",
    "+ Calculation using expected value rule\n",
    "$$E[g(X)] = \\int_{-\\infty}^{\\infty} g(x)\\,f_X(x)\\;dx$$ \n",
    "\n",
    "$$\\mathit{VAR}(X)= \\sigma_X^2 = \\mathrm{E}[(X - \\mu_X)^2] $$\n",
    "\n",
    "$$\\mathit{VAR}(X)= \\int_{-\\infty}^{\\infty} (x-\\mu_X)^2 f_X(x)\\;dx.$$\n",
    "\n",
    "$$\\mathit{VAR}(X)=E(X^2)-[E(X)]^2$$\n",
    "\n",
    "$$\\mathit{VAR}(X)=E(X^2)-\\mu_X^2$$\n",
    "+ standard deviation \n",
    "$$\\sigma = \\sqrt{\\mathit{VAR}(X)}=\\sqrt{\\frac{1}{n}\\sum_{i=1}^n(x_i - \\mu)^2}$$\n",
    "+ Linearity\n",
    "Let X be a random variable. Then\n",
    "$$\\mathit{VAR}(aX + b) = a^2\\,\\mathit{VAR}(X) = a^2\\,\\sigma_X^2,$$\n",
    "**proof**\n",
    "$$\\begin{align*}\n",
    "  \\mathit{VAR}(aX+b) &= \\mathrm{E}\\bigl[\\bigl(aX+b - (a\\mu_X + b)\\bigr)^2\\bigr] \\\\\\\\\n",
    "  &= \\mathrm{E}\\bigl[a^2(X - \\mu_X)^2\\bigr] \\\\\\\\\n",
    "  &= a^2\\,\\mathrm{E}[(X - \\mu_X)^2] \\\\\\\\\n",
    "  &= a^2\\,\\mathit{VAR}(X) \\\\\\\\\n",
    "  &= a^2\\,\\sigma_X^2. \n",
    "  \\end{align*}$$\n"
   ]
  },
  {
   "cell_type": "markdown",
   "metadata": {},
   "source": [
    "Lets take an example with python code\n",
    "\n",
    "$x = [1,2,3,4], $ $z =2x+4$ then $var(z) = 4*var(x)$"
   ]
  },
  {
   "cell_type": "code",
   "execution_count": 17,
   "metadata": {},
   "outputs": [
    {
     "name": "stdout",
     "output_type": "stream",
     "text": [
      "1.04\n",
      "4.16\n",
      "4.16\n"
     ]
    }
   ],
   "source": [
    "import scipy.stats \n",
    "import numpy as np\n",
    "x=[1,2,3,4,3]\n",
    "\n",
    "##z= 2x+4\n",
    "z = [i * 2 for i in x]  ##multiplying each array element of x with 2 ==> z\n",
    "z=np.add(z,4) ## adding array each element of z with 4 ==>z\n",
    "\n",
    "V_x = np.var(x)\n",
    "V_z = np.var(z)\n",
    "\n",
    "print(V_x)\n",
    "print(V_z)\n",
    "Vx=4*V_x\n",
    "\n",
    "print(Vx)\n"
   ]
  },
  {
   "cell_type": "markdown",
   "metadata": {},
   "source": [
    "## Continuous uniform random variable ; parameters a,b\n",
    "\n",
    "![Image02](2.2/Image02.PNG \"Uniform distribution\")\n",
    "\n",
    "The picture(This image is copied from [4]) on left side shows that continuous uniform random variable X with parameters a,b. This unifrom random variable has uniform(same) probabibility of occurance over the range[a , b]. Expected value for this can be given as $$E[X] = \\int_{-\\infty}^{\\infty} x\\,f_X(x)\\;dx$$\n",
    "\n",
    "+ Expected value\n",
    "$$E[X] = \\int_{a}^{b} x\\,\\frac{1}{(b-a)}\\;dx$$\n",
    "\n",
    "$$E[X] = \\frac {1}{(b-a)} \\Bigg | \\frac{x^2}{2}\\Bigg |_{a}^{b}$$\n",
    "\n",
    "$$E[X] = \\frac {b^2-a^2}{2(b-a)}$$\n",
    "\n",
    "$$E[X] = \\frac{a+b}{2}$$\n",
    "\n",
    "+ Variance \n",
    "$$\\mathit{VAR}(X)=E(X^2)-\\mu_X^2$$\n",
    "\n",
    "$$ \\quad \\textrm {Lets find out the} \\quad E[X^2] = \\int_{a}^{b} x^2\\,\\frac{1}{(b-a)}\\;dx$$ \n",
    "\n",
    "$$ E[X^2] = \\frac {1}{(b-a)} \\Bigg | \\frac{x^3}{3}\\Bigg |_{a}^{b}$$\n",
    "\n",
    "$$ E[X^2] = \\frac {1}{(b-a)} \\frac {(b^3-a^3)}{3}$$\n",
    "\n",
    "$$ \\quad \\textrm {substituting this value, we will get  }\\mathit{VAR}(X)=E(X^2)-\\mu_X^2$$ \n",
    "\n",
    "$$\\mathit{VAR}(X)= \\frac {1}{(b-a)} \\frac {(b^3-a^3)}{3} - \\bigg[\\frac {a+b}{2}\\bigg]^2$$\n",
    "\n",
    "$$\\mathit{VAR}(X)= \\frac {1}{(b-a)} \\frac {(b-a)(b^2-ab-a^2)}{3} - \\bigg[\\frac {a+b}{2}\\bigg]^2$$\n",
    "\n",
    "$$\\mathit{VAR}(X)=  \\frac {(b^2-ab-a^2)}{3} - \\bigg[\\frac {(a+b)^2}{4}\\bigg]$$\n",
    "\n",
    "$$\\mathit{VAR}(X) = \\frac {(b-a)^2}{12}$$\n",
    "\n",
    "The picture[4] on right side shows the discrete uniform random variable with interval [a,b]. Expected value for this can be easily given as centre of gravity between these intervals.\n",
    "$$E[X]=\\frac{a+b}{2}$$\n",
    "\n",
    "Variance $$\\mathit{VAR}(X) = \\frac {(b-a)(b-a+2)}{12}$$\n",
    "\n",
    "\n",
    "\n",
    "   \n",
    "\n"
   ]
  },
  {
   "cell_type": "markdown",
   "metadata": {},
   "source": [
    "## An example of A/D Converter\n",
    "\n",
    "\n",
    "![Image03](2.2/Image03.png \"A/D Converter\")\n",
    "\n",
    "\n",
    "We are living in a world where signals often measured in digital rather in analog due to analog signal processing limitations.\n",
    "All natural signals what we get are analog and its necessory that we should convert these signals to digital before processing them. Analog to Digital convertor will convert analog to digital through the process of sampling and quantization. this process of will be taken as a staircase function to the input signal. through this we can represnt a continuous analog values as discrete digitized  values.\n",
    "\n",
    "The total number of steps N of the staircase function depends on the resolution k of the AD converter[5]:\n",
    "$$N=2^k$$\n",
    "\n",
    "For example(this has been adpated from [5]), a 4 bit Analog to Digital converter maps the input signal to a total of 64 ($2^4$) steps, while a 12-bit AD converter maps to 4096 steps. For a typical input voltage range of 10 volts (-5V to +5V) a single step of an 8-bit converter corresponds to approx. 40 mV, while a 12-bit converter shows a step size of 2.5 mV.\n",
    "\n",
    "There are some limitation of A/D convertoris that it will only take or measure the values at certain descrete intervals and it has to hold the same value till next interval(Holding). SO there will be diferenece in actual and quantized singal. This error which is commonly called quantization noise. This quantization noise is the difference between the actual and the digitized signal and will decrease with increasing converter resolution k and increasing sampling frequency $f=\\frac{1}{Ts}$. \n",
    "\n",
    "![Image04](2.2/Image04.png \"Quantization error\")\n",
    "\n",
    "\n",
    "Above figure (This is copied from [5]) is explains the quantization and its relative error with actual amplitude.\n",
    "\n",
    "__Drawbacks__\n",
    "\n",
    "There are some limitation of A/D convertoris that it will only take or measure the values at certain descrete intervals and it has to hold the same value till next interval(Holding). SO there will be diferenece in actual and quantized singal. This error will be less if your descrte interval time is less which can be acheieved by increasing number of bits in A/D convertor.\n",
    "\n",
    "The costs for an AD converter approximately doubles with each additional bit, and the conversion speed decrays with higher resolutions(This is adapted from [5]). Thus each application of an AD converter always requires a compromise. Typical resolutions are 8 and 16 bits."
   ]
  },
  {
   "cell_type": "markdown",
   "metadata": {
    "collapsed": true
   },
   "source": [
    "### Quantization of Signals\n",
    "\n",
    "#### Introduction\n",
    "\n",
    "We are surounded by analog signals and processing of these signals for each value will be dificult and costly.\n",
    "So these analog signals will be converted to digital in multiple steps.\n",
    "+ Sampling : It decides the minimum interval that a sample can be taken from input. If sampling interval is less then the number of samples will be more.\n",
    "+ Holding : After you take one sample, you should hold that value till next interval and it forms staircase like figure as showed above.\n",
    "+ Quantization: Its the droping or hitting of sample value to the nearest level.\n",
    "+ Coding : Send the quantized signal in terms of coding(0 and 1 bits)\n",
    "\n",
    "This can be illustrated in the following figure[6].\n",
    "\n",
    "\n",
    "![Image05](2.2/Image05.png \"Quantization\")"
   ]
  },
  {
   "cell_type": "markdown",
   "metadata": {
    "collapsed": true
   },
   "source": [
    "#### Model of the Quantization Process\n",
    "\n",
    "The quantization error (quantization noise) $e[k]$ is defined as below formula (This is copied from [13]) \n",
    "\\begin{equation}\n",
    "e[k] = x_Q[k] - x[k]\n",
    "\\end{equation}\n",
    "\n",
    "where x_Q[k] is value of quantized signal and x[k] is actual input value.\n",
    "\n",
    "Below is the quantization process(Image is copied from [5]) that can be modeled by adding the quantization error to the discrete signal.\n",
    "\n",
    "![Image06](2.2/Image06.png \"Quantization error model\")"
   ]
  },
  {
   "cell_type": "markdown",
   "metadata": {
    "collapsed": true
   },
   "source": [
    "#### Example - Quantization of a sine signal    \n",
    "\n",
    "\n",
    "In order to illustrate the introduced model, the quantization of one period of a sine signal is considered (this example is adapted from [13])\n",
    "\n",
    "\\begin{equation}\n",
    "x[k] = \\sin[\\Omega_0 k]\n",
    "\\end{equation}\n",
    "\n",
    "using \n",
    "\n",
    "\\begin{align}\n",
    "f(x[k]) &= 5 \\cdot x[k] \\\\\n",
    "i &= \\lfloor \\, f(x[k]) \\, \\rfloor \\\\\n",
    "g(i) &= \\frac{1}{5} \\cdot i\n",
    "\\end{align}\n",
    "\n",
    "where $\\lfloor \\cdot \\rfloor$ denotes the nearest intiger function and $i$ the quantization index. The quantized signal is then given as\n",
    "\n",
    "\\begin{equation}\n",
    "x_Q[k] = \\frac{1}{5} \\cdot \\lfloor \\, 5 \\cdot \\sin[\\Omega_0 k] \\, \\rfloor\n",
    "\\end{equation}\n"
   ]
  },
  {
   "cell_type": "code",
   "execution_count": 18,
   "metadata": {},
   "outputs": [
    {
     "data": {
      "image/png": "[encoded data removed]",
      "text/plain": [
       "<matplotlib.figure.Figure at 0x7984fb0>"
      ]
     },
     "metadata": {},
     "output_type": "display_data"
    }
   ],
   "source": [
    "\n",
    "%matplotlib inline\n",
    "import numpy as np\n",
    "import matplotlib.pyplot as plt\n",
    "\n",
    "N = 1024  # length of signal\n",
    "\n",
    "# generate signal\n",
    "x = np.sin(2*np.pi/N * np.arange(N))\n",
    "# quantize signal\n",
    "xi = np.round(5 * x)\n",
    "xQ = 1/5 * xi\n",
    "e = xQ - x\n",
    "\n",
    "# plot (quantized) signals\n",
    "fig, ax1 = plt.subplots(figsize=(10,4))\n",
    "ax2 = ax1.twinx()\n",
    "\n",
    "ax1.plot(x, 'r', label=r'signal $x[k]$')\n",
    "ax1.plot(xQ, 'b', label=r'quantized signal $x_Q[k]$')\n",
    "ax1.plot(e, 'g', label=r'quantization error $e[k]$')\n",
    "ax1.set_xlabel('k')\n",
    "ax1.set_ylabel(r'$x[k]$, $x_Q[k]$, $e[k]$')\n",
    "ax1.axis([0, N, -1.2, 1.2])\n",
    "ax1.legend()\n",
    "\n",
    "ax2.set_ylim([-3.6, 3.6])\n",
    "ax2.set_ylabel('quantization index')\n",
    "ax2.grid()"
   ]
  },
  {
   "cell_type": "markdown",
   "metadata": {
    "collapsed": true
   },
   "source": [
    "#### Properties\n",
    "\n",
    "+ Quantization process is irreversible process and you cant reconstruct the exact original signal from quantized signal\n",
    "+ Quantization process is depends on input signal and noise or error depends on qualization levels set for the process\n"
   ]
  },
  {
   "cell_type": "markdown",
   "metadata": {
    "collapsed": true
   },
   "source": [
    "#### Applications\n",
    "\n",
    "Quantization has many applications[adapted from 13] such as\n",
    "* Analog-to-Digital conversion]\n",
    "* [Lossy compression]\n",
    "* Storage and transmission \n"
   ]
  },
  {
   "cell_type": "markdown",
   "metadata": {
    "collapsed": true
   },
   "source": [
    "### Characteristic of a Linear Uniform Quantizer\n",
    "\n",
    "A uniform quantizer splits the mapped input signal into quantization steps of equal size[13]. \n",
    "\n",
    "It means that input signals are devided into equal steps and quantized on each level."
   ]
  },
  {
   "cell_type": "markdown",
   "metadata": {
    "collapsed": true
   },
   "source": [
    "#### Quantization Error of a Linear Uniform Quantizer\n",
    "\n",
    "Quantization results in many kinds of distortions. *Overload* distortions are a the one where its exceeding the minimal/most amplitude of the quantizer. *Granular distortions* are the one where no clipping occurs in quantization procedure. Numerous measures are used to quantify the distortions of a quantizer. We typically use the signal-to-noise ratio(This defnition has been adapoted from[13]."
   ]
  },
  {
   "cell_type": "markdown",
   "metadata": {
    "collapsed": true
   },
   "source": [
    "## Computing SNR(Signal-to-Noise Ratio)\n",
    "\n",
    "A quantizer can be evaluated by its [signal-to-noise ratio](https://en.wikipedia.org/wiki/Signal-to-noise_ratio) (SNR), which is defined as the ration of power of the continuous amplitude signal $x[k]$ to the power of the quantization error $e[k]$, provided signals have been originated through a zero-mean wide-sense stationary (WSS) process.\n",
    "\n",
    "The average SNR is given as below formula (copied from [7],[14])\n",
    "\n",
    "\\begin{equation}\n",
    "SNR = 10 \\cdot \\log_{10} \\left( \\frac{\\sigma_x^2}{\\sigma_e^2} \\right) \\quad \\text{ in dB}\n",
    "\\end{equation}\n",
    "\n",
    "where $\\sigma_x^2$ and $\\sigma_e^2$ denote the variances of the signals $x[k]$ and $e[k]$, respectively. \n"
   ]
  },
  {
   "cell_type": "markdown",
   "metadata": {
    "collapsed": true
   },
   "source": [
    "### Model for the Quantization Error\n",
    "\n",
    "The variance of the quantization error is then derived later by its mean as\n",
    "\n",
    "\\begin{equation}\n",
    "\\sigma_e^2 = \\frac{Q^2}{12}\n",
    "\\end{equation}\n",
    "\n",
    "Let's assume that the quantization index is represented as binary with $w$-bits. Quantizer $x_\\text{min}$ can be represented as half of the $2^w$ quantization indexes is used for the negative signal values, the other half for the positive ones including zero. The quantization step is then given[14] as\n",
    "\n",
    "\\begin{equation}\n",
    "Q = \\frac{ |x_\\text{min}|}{2^{w-1}} = \\frac{ x_\\text{max}}{2^{w-1} - 1}\n",
    "\\end{equation}\n",
    "\n",
    "where $x_\\text{max} = |x_\\text{min}| - Q$. Introducing the quantization step, the variance of the quantization error[14]can be expressed by the word length $w$ as\n",
    "\n",
    "\\begin{equation}\n",
    "\\sigma_e^2 = \\frac{x^2_\\text{max}}{3 \\cdot 2^{2w}}\n",
    "\\end{equation}\n",
    "\n",
    "The average power of the quantization error[14] quarters per additional bit spend. Introducing the variance into the definition of the SNR yields\n",
    "\n",
    "\\begin{equation}\n",
    "\\begin{split}\n",
    "SNR &= 10 \\cdot \\log_{10} \\left( \\frac{3 \\sigma_x^2}{x^2_\\text{max}}  \\right) + 10 \\cdot \\log_{10} \\left( 2^{2w} \\right) \\\\\n",
    "& \\approx 10 \\cdot \\log_{10} \\left( \\frac{3 \\sigma_x^2}{x^2_\\text{max}}  \\right) + 6.02 w \\quad \\text{in dB}\n",
    "\\end{split}\n",
    "\\end{equation}\n",
    "\n",
    "Referring above equation, it can be shown that always SNR decays approximately by 6 dB per additional bit spend. This is often referred to as the 6 dB per bit rule of thumb for linear uniform quantization[14]."
   ]
  },
  {
   "cell_type": "markdown",
   "metadata": {
    "collapsed": true
   },
   "source": [
    "### Uniformly Distributed Signal\n",
    "\n",
    "As shown above, the statistical model for the input signal $x[k]$ is very important to calculate the average SNR of a linear uniform quantizer. For a signal that having a zero-mean uniform distribution[9,14] and under the assumption $x_\\text{max} \\gg Q$ its PDF is given by below formula[14]\n",
    "\n",
    "\\begin{equation}\n",
    "p_x(\\theta) = \\frac{1}{2 x_\\text{max}} \\text{rect}\\left( \\frac{\\theta}{2 x_\\text{max}} \\right)\n",
    "\\end{equation}\n",
    "\n",
    "Thus, all amplitudes between $-x_\\text{max}$ and $x_\\text{max}$ will have same occurance probability. The variance of the signal[14] is then calculated to\n",
    "\n",
    "\\begin{equation}\n",
    "\\sigma_x^2 = \\frac{4 x_\\text{max}^2}{12} = \\frac {\\delta ^2}{12} \\quad \\textrm{where }\\delta = x_\\text{max} + {x_\\text{max}} \n",
    "\\end{equation}\n",
    "\n",
    "Aproximating the equation, which gives us\n",
    "\n",
    "\\begin{equation}\n",
    "SNR = 10 \\cdot \\log_{10} \\left( 2^{2 w} \\right) \\approx 6.02 \\, w \\quad \\text{in dB}\n",
    "\\end{equation}\n",
    "\n",
    "The word length $w$ and resulting SNRs for some typical digital signal representations are given as below (This table is copied from [14])\n",
    "\n",
    "| | $w$ | SNR |\n",
    "|----|:----:|:----:|\n",
    "| Compact Disc (CD) | 16 bit | 96 dB |\n",
    "| Digital Video Disc (DVD) | 24 bit | 144 dB |\n",
    "| Video Signals | 8 bit | 48 dB |\n",
    "\n",
    "For $x_\\text{min} \\leq \\frac{x[k]}{A} < x_\\text{max}$. The resulting variance is given as\n",
    "\n",
    "\\begin{equation}\n",
    "\\sigma_x^2 = \\frac{4 x_\\text{max}^2 A^2}{12}\n",
    "\\end{equation}\n",
    "\n",
    "introduced into the definition of the SNR yields\n",
    "\n",
    "\\begin{equation}\n",
    "SNR = 10 \\cdot \\log_{10} \\left( 2^{2 w} \\right) + 20 \\cdot \\log_{10} ( A ) \\approx 6.02 \\, w + 20 \\cdot \\log_{10} ( A ) \\quad \\text{in dB}\n",
    "\\end{equation}\n",
    "\n",
    "From this it can be concluded that a level of -6 dB is equivalent to a loss of one bit in terms of SNR of the quantized signal."
   ]
  },
  {
   "cell_type": "markdown",
   "metadata": {
    "collapsed": true
   },
   "source": [
    "#### Example - Quantization of a uniformly distributed signal [14]\n",
    "\n",
    "In this example the linear uniform quantization of a random signal drawn from a uniform distribution is evaluated. The amplitude range of the quantizer is $x_\\text{min} = -1$ and $x_\\text{max} = 1 - Q$."
   ]
  },
  {
   "cell_type": "code",
   "execution_count": 19,
   "metadata": {},
   "outputs": [
    {
     "name": "stdout",
     "output_type": "stream",
     "text": [
      "SNR = 48.090272 in dB\n"
     ]
    },
    {
     "data": {
      "image/png": "[encoded data removed]",
      "text/plain": [
       "<matplotlib.figure.Figure at 0x8413610>"
      ]
     },
     "metadata": {},
     "output_type": "display_data"
    },
    {
     "data": {
      "image/png": "[encoded data removed]",
      "text/plain": [
       "<matplotlib.figure.Figure at 0x8549e50>"
      ]
     },
     "metadata": {},
     "output_type": "display_data"
    }
   ],
   "source": [
    "%matplotlib inline\n",
    "import numpy as np\n",
    "import matplotlib.pyplot as plt\n",
    "import scipy.signal as sig\n",
    "\n",
    "w = 8  # wordlength of the quantized signal\n",
    "xmin = -1  # mimimum amplitude of input signal\n",
    "N = 8192 # number of samples\n",
    "K = 20  # maximum lag for cross-correlation\n",
    "\n",
    "## Defining the uniform midtread quantizer : where x[k] will have middle value between xmin and xmax\n",
    "def uniform_midtread_quantizer(x, Q):\n",
    "    # limiter\n",
    "    x = np.copy(x)\n",
    "    idx = np.where(x <= -1)\n",
    "    x[idx] = -1\n",
    "    idx = np.where(x > 1 - Q)\n",
    "    x[idx] = 1 - Q\n",
    "    # linear uniform quantization\n",
    "    xQ = Q * np.floor(x/Q + 1/2)\n",
    "    \n",
    "    return xQ\n",
    "\n",
    "def analyze_quantizer(x, e):\n",
    "    # estimated PDF of error signal\n",
    "    pe, bins = np.histogram(e, bins=20, normed=True, range=(-Q, Q))\n",
    "    # estimate cross-correlation between input and error\n",
    "    ccf = 1/len(x) * np.correlate(x, e, mode='full')\n",
    "    # estimate PSD of error signal\n",
    "    nf, Pee = sig.welch(e, nperseg=128)\n",
    "    # estimate SNR\n",
    "    SNR = 10*np.log10((np.var(x)/np.var(e)))\n",
    "    print('SNR = %f in dB' %SNR)\n",
    "\n",
    "    # plot statistical properties of error signal\n",
    "    plt.figure(figsize=(9,4))\n",
    "\n",
    "    plt.subplot(121)\n",
    "    plt.bar(bins[:-1]/Q, pe*Q, width = 2/len(pe))\n",
    "    plt.title('Estimated histogram of quantization error')\n",
    "    plt.xlabel(r'$\\theta / Q$')\n",
    "    plt.ylabel(r'$\\hat{p}_x(\\theta) / Q$')\n",
    "    plt.axis([-1, 1, 0, 1.2])\n",
    "\n",
    "    plt.subplot(122)\n",
    "    plt.plot(nf*2*np.pi, Pee*6/Q**2)\n",
    "    plt.title('Estimated PSD of quantization error')\n",
    "    plt.xlabel(r'$\\Omega$')\n",
    "    plt.ylabel(r'$\\hat{\\Phi}_{ee}(e^{j \\Omega}) / \\sigma_e^2$')\n",
    "    plt.axis([0, np.pi, 0, 2])\n",
    "    plt.tight_layout()\n",
    "    \n",
    "    plt.figure(figsize=(10,6))\n",
    "    ccf = ccf[N-K-1:N+K-1]\n",
    "    kappa = np.arange(-len(ccf)//2,len(ccf)//2)\n",
    "    plt.stem(kappa, ccf)\n",
    "    plt.title('Cross-correlation function between input signal and error')\n",
    "    plt.xlabel(r'$\\kappa$')\n",
    "    plt.ylabel(r'$\\varphi_{xe}[\\kappa]$')\n",
    "\n",
    "\n",
    "# quantization step\n",
    "Q = 1/(2**(w-1))\n",
    "# compute input signal\n",
    "np.random.seed(1)\n",
    "x = np.random.uniform(size=N, low=xmin, high=(-xmin-Q))\n",
    "# quantize signal\n",
    "xQ = uniform_midtread_quantizer(x, Q)\n",
    "e = xQ - x\n",
    "# analyze quantizer\n",
    "analyze_quantizer(x, e)"
   ]
  },
  {
   "cell_type": "markdown",
   "metadata": {},
   "source": [
    "Above histograms one shows , the quantization error which is uniform i.e. same quantization error for all values.\n",
    "Second one shows the PSD of error and third one shows the cross correlationship between input signal and the error. "
   ]
  },
  {
   "cell_type": "markdown",
   "metadata": {
    "collapsed": true
   },
   "source": [
    "## Cumulative Distribution Function\n",
    "\n",
    "The cumulative distribution function[10], or the CDF, is a function, $$F_X : \\mathbb{R} → [0, 1]$$ defined by, $$F_X (x) = p(X \\le x)$$\n",
    "\n",
    "A note on notation: X is a random variable while xx is a particular value of the random variable.\n",
    "\n",
    "For example(This is copied from [10]), X be the random variable representing the number of heads in two coin tosses. Then $x$ can take on values 0, 1 and 2. \n",
    "\n",
    "The CDF for this random variable can be drawn thus (taken from All of Stats) can be showed as below figure (This is copied from [10])\n",
    "![Image08](2.2/Image08.png \"Cumulative Distribution Function\")\n",
    "\n",
    "Notice that this function is right-continuous and defined for all x, even if xxdoes not take real values in-between the integers."
   ]
  },
  {
   "cell_type": "markdown",
   "metadata": {},
   "source": [
    "### Probability Mass and Distribution Function\n",
    "X is called a discrete random variable which can takes values such as  x1,x2,…x1,x2,…. Then the probability function or the probability mass function[2,10] (pmf) for X by:\n",
    "$$f_X(x) = p(X=x)$$\n",
    "$f_X$  is a probability.\n",
    "\n",
    "The pmf for the number of heads in two coin tosses (taken from All of Stats) looks like below figure:\n",
    "![Image09](2.2/Image09.PNG \"The pmf for the number of heads in two coin tosses\")\n",
    "\n",
    "\n",
    "If a random variable is continuous then we can write formula for continuous random variable [10] if there exists a function fX such that\n",
    "$$\\int_{-\\infty}^{\\infty} f_X (x) dx = 1 \\quad \\textrm {and for every } a ≤ b,$$\n",
    "\n",
    "$$% <![CDATA[\n",
    "p(a < X < b) = \\int_{a}^{b} f_X (x) dx %]]>$$\n",
    "\n",
    "The function fX is called the probability density function (pdf). We have the CDF:\n",
    "$$F_X (x) = \\int_{-\\infty}^{x}f_X (t) dt$$\n"
   ]
  },
  {
   "cell_type": "markdown",
   "metadata": {},
   "source": [
    "### A continuous example: the Uniform Distribution\n",
    "Suppose that X has pdf\n",
    "$$% <![CDATA[\n",
    "f_X (x) =\n",
    "\\begin{cases}\n",
    "1 & \\text{for } 0 \\leq x\\leq 1\\\\\n",
    "    0             & \\text{otherwise.}\n",
    "\\end{cases} %]]>$$\n",
    "\n",
    "A random variable[4] with this density is said to have a Uniform (0,1) distribution. This is meant to capture the idea of choosing a point at random between 0 and 1. \n",
    "\n",
    "The cdf is given by below example(this is copied from [2],[4])\n",
    "$$% <![CDATA[\n",
    "F_X (x) =\n",
    "\\begin{cases}\n",
    "0 & x \\le 0\\\\\n",
    "x & 0 \\leq x \\leq 1\\\\\n",
    "1 & x > 1.\n",
    "\\end{cases} %]]>$$\n",
    "\n",
    "CDF of above function is looks as below[4]:\n",
    "![Image11_FX](2.2/Image11_FX.PNG \"Uniform\")"
   ]
  },
  {
   "cell_type": "markdown",
   "metadata": {},
   "source": [
    "## General Normal (Gaussian) random variables\n",
    "\n",
    "Difnition says, the normal (or Gaussian) distribution is a very common continuous probability distribution. Normal distributions are important in statistics and are often used in the natural and social sciences to represent real-valued random variables whose distributions are not known. A random variable with a Gaussian distribution is said to be normally distributed and is called a normal deviate [16]. \n",
    "\n",
    "Lets plot the gaussian distribution over python.\n"
   ]
  },
  {
   "cell_type": "code",
   "execution_count": 20,
   "metadata": {},
   "outputs": [
    {
     "data": {
      "image/png": "[encoded data removed]",
      "text/plain": [
       "<matplotlib.figure.Figure at 0x85007f0>"
      ]
     },
     "metadata": {},
     "output_type": "display_data"
    }
   ],
   "source": [
    "import numpy as np\n",
    "from scipy import stats\n",
    "import matplotlib.pyplot as plt\n",
    "from filterpy.stats import plot_gaussian_pdf\n",
    "plt.figure()\n",
    "plot_gaussian_pdf(mean=1.8, variance=0.1414**2, \n",
    "                  xlabel='Student Height', ylabel='pdf');\n",
    "plt.show()\n"
   ]
  },
  {
   "cell_type": "markdown",
   "metadata": {
    "collapsed": true
   },
   "source": [
    "This curve is a PDF. It shows the relative likelihood  for the random variable to take on a value. \n",
    "\n",
    "In the example [2] chart above, a student is more probability for having height near 1.8 m than 1.7 m, and same goes to hight of 1.9 m vs 1.4 m.\n",
    "\n",
    "\n",
    "Above one is a 'bell curve'. In real world conditions many observations are distributed in such a manner. This curve has peak at the means indicates there is more probability of occurance of numbers around mean compared extreme ends.\n"
   ]
  },
  {
   "cell_type": "markdown",
   "metadata": {},
   "source": [
    "### Gaussian Distributions\n",
    "\n",
    "Let's explore how Gaussians work. A Gaussian is a *continuous probability distribution* that is completely described with two parameters, the mean ($\\mu$) and the variance ($\\sigma^2$). It is defined as below [2]:\n",
    "\n",
    "$$ \n",
    "f(x, \\mu, \\sigma) = \\frac{1}{\\sigma\\sqrt{2\\pi}} \\exp\\big [{-\\frac{(x-\\mu)^2}{2\\sigma^2} }\\big ]\n",
    "$$\n",
    "\n",
    "$\\exp[x]$ is notation for $e^x$.\n",
    "\n",
    "<p> \n",
    "\n",
    "below is the example code[2] for plotting gaussian curve\n",
    "```python\n",
    "%load -s gaussian stats.py\n",
    "\n",
    "def gaussian(x, mean, var):\n",
    "    \"\"\"returns normal distribution for x given a \n",
    "    gaussian with the specified mean and variance. \n",
    "    \"\"\"\n",
    "    return (np.exp((-0.5*(np.asarray(x)-mean)**2)/var) /\n",
    "            math.sqrt(2*math.pi*var))\n",
    "\n",
    "```\n",
    "\n",
    "<p><p><p><p>We will plot a Gaussian with a mean of 10 $(\\mu=10)$, with a variance of 5 $(\\sigma^2=2.5)$, and then discuss what this means. "
   ]
  },
  {
   "cell_type": "code",
   "execution_count": 21,
   "metadata": {},
   "outputs": [
    {
     "data": {
      "image/png": "[encoded data removed]",
      "text/plain": [
       "<matplotlib.figure.Figure at 0x89a58d0>"
      ]
     },
     "metadata": {},
     "output_type": "display_data"
    }
   ],
   "source": [
    "from filterpy.stats import plot_gaussian_pdf\n",
    "plot_gaussian_pdf(10, 2.5, mean_line=True, xlabel='$^{\\circ}C$');\n"
   ]
  },
  {
   "cell_type": "markdown",
   "metadata": {},
   "source": [
    "Above curve indicates that thermometer which reads 10'C. All thermometers are not accurate but we expect that each reading will be nearer to the actual value. \n",
    "\n",
    "In order to find the area under the curve , integrate the equation for the Gaussian (Copied from [2]) \n",
    "\n",
    "$$ \\int^{x_1}_{x_0}  \\frac{1}{\\sigma\\sqrt{2\\pi}} e^{-\\frac{1}{2}{(x-\\mu)^2}/\\sigma^2 } dx$$\n",
    "\n",
    "Use library as `filterpy.stats.norm_cdf` which computes the integral for you. For example, we can compute"
   ]
  },
  {
   "cell_type": "code",
   "execution_count": 22,
   "metadata": {},
   "outputs": [
    {
     "name": "stdout",
     "output_type": "stream",
     "text": [
      "Probability of range 5 to 6 is 34.13%\n",
      "Probability of range 6 to 10 is 15.87%\n"
     ]
    }
   ],
   "source": [
    "from filterpy.stats import norm_cdf\n",
    "print('Probability of range 5 to 6 is {:.2f}%'.format(\n",
    "      norm_cdf((5, 6), 5)*100))\n",
    "print('Probability of range 6 to 10 is {:.2f}%'.format(\n",
    "      norm_cdf((6, 10), 5)*100))"
   ]
  },
  {
   "cell_type": "markdown",
   "metadata": {},
   "source": [
    "### The Variance and Belief\n",
    "\n",
    "Variance decides the sharpness of the curve, if its high then then large dispersion of values around mean and less sharp.\n",
    "If its low then its more sharp.\n",
    "\n",
    "Please find the below python code to illustrate above thing."
   ]
  },
  {
   "cell_type": "code",
   "execution_count": 23,
   "metadata": {},
   "outputs": [
    {
     "data": {
      "image/png": "[encoded data removed]",
      "text/plain": [
       "<matplotlib.figure.Figure at 0x89b0390>"
      ]
     },
     "metadata": {},
     "output_type": "display_data"
    }
   ],
   "source": [
    "from filterpy.stats import gaussian\n",
    "\n",
    "xs = np.arange(15, 30, 0.05)\n",
    "plt.plot(xs, gaussian(xs, 23, 0.05), label='$\\sigma^2$=0.05')\n",
    "plt.plot(xs, gaussian(xs, 23, 2), label='$\\sigma^2$=2', ls=':')\n",
    "plt.plot(xs, gaussian(xs, 23, 20), label='$\\sigma^2$=20', ls='--')\n",
    "plt.axis([16,28,0.000,1.8])##zooming the graph\n",
    "plt.legend()\n",
    "plt.show()"
   ]
  },
  {
   "cell_type": "markdown",
   "metadata": {},
   "source": [
    "### The Central Limit Theorem\n",
    "\n",
    "Mean of all distribution follows the cental limit theorem and its them most important theorem in the statistics.\n",
    "\n",
    "The sum of $N$ independent and identically distributed (iid) random variables will look similerto a Gaussian for large $N$.\n",
    "Mathematically, let $X_1,X_2,\\dots$ be iid random variables with mean $\\mu$ and variance $\\sigma^2$ and define the running average of the random variables (This defnition is copied from [10]):\n",
    "$$\n",
    "S_N = \\frac{X_1+\\dots+X_N}{N}.\n",
    "$$\n",
    "The Central Limit Theorem (CLT), states that:\n",
    "$$\n",
    "S_N \\sim \\mathcal{N}(S_N|\\mu, \\frac{\\sigma^2}{N}),\n",
    "$$\n",
    "for large $N$.\n",
    "We are not going to prove this, but let us test it numerically:\n"
   ]
  },
  {
   "cell_type": "markdown",
   "metadata": {},
   "source": [
    "### The  68-95-99.7 Rule\n",
    "\n",
    "In the thory of linear regression, we know that we need to find the confidence interval where the probability of getting the value is high(Close to 100%). In practical, we wont get 100% confidence. In practical we can have derive upto 99.7 to 95% confidence interval.\n",
    "\n",
    "+ 99.7% confidence will be lies in the interval of $\\mu-3\\sigma$\n",
    "+ 95% confidence will be lies in the interval of $\\mu-2\\sigma$\n",
    "+ 68% confidence will be lies in the interval of $\\mu-1\\sigma$\n",
    "\n",
    "The following graph depicts the relationship between the standard deviation and the normal distribution[1]. "
   ]
  },
  {
   "cell_type": "code",
   "execution_count": 37,
   "metadata": {},
   "outputs": [
    {
     "data": {
      "image/png": "[encoded data removed]",
      "text/plain": [
       "<matplotlib.figure.Figure at 0x7d5b430>"
      ]
     },
     "metadata": {},
     "output_type": "display_data"
    }
   ],
   "source": [
    "from gaussian_internal import display_stddev_plot  ##make sure the gausian internal file in your directory \n",
    "display_stddev_plot()\n",
    "##(below plotting has been copied from [2]) "
   ]
  },
  {
   "cell_type": "markdown",
   "metadata": {},
   "source": [
    "### Computing Probabilities with scipy.stats\n",
    "\n",
    "Below are the coding examples for computing probability in python which includes normal and standard normal"
   ]
  },
  {
   "cell_type": "code",
   "execution_count": 26,
   "metadata": {},
   "outputs": [
    {
     "name": "stdout",
     "output_type": "stream",
     "text": [
      "0.131146572034\n",
      "0.131146572034\n"
     ]
    }
   ],
   "source": [
    "from scipy.stats import norm\n",
    "import filterpy.stats\n",
    "print(norm(2, 3).pdf(1.5))\n",
    "print(filterpy.stats.gaussian(x=1.5, mean=2, var=3*3))"
   ]
  },
  {
   "cell_type": "markdown",
   "metadata": {},
   "source": [
    "The call `norm(2, 3)`calls scipy and creats one random distribution withg mean of 2 and a standard deviation of 3. and returns its object. (This is adapted from [17]):"
   ]
  },
  {
   "cell_type": "code",
   "execution_count": 27,
   "metadata": {},
   "outputs": [
    {
     "name": "stdout",
     "output_type": "stream",
     "text": [
      "pdf of 1.5 is       0.1311\n",
      "pdf of 2.5 is also  0.1311\n",
      "pdf of 2 is         0.1330\n"
     ]
    }
   ],
   "source": [
    "import scipy.stats\n",
    "from scipy.stats import norm\n",
    "n23 = norm(2, 3)\n",
    "print('pdf of 1.5 is       %.4f' % n23.pdf(1.5))\n",
    "print('pdf of 2.5 is also  %.4f' % n23.pdf(2.5))\n",
    "print('pdf of 2 is         %.4f' % n23.pdf(2))"
   ]
  },
  {
   "cell_type": "markdown",
   "metadata": {},
   "source": [
    "The documentation for  [scipy.stats.norm] [3] lists many other functions. For example, we can generate $n$ samples from the distribution with the `rvs()` function [17]."
   ]
  },
  {
   "cell_type": "code",
   "execution_count": 28,
   "metadata": {},
   "outputs": [
    {
     "name": "stdout",
     "output_type": "stream",
     "text": [
      "[-0.077  2.479 -2.54   2.48   5.23  -4.18   0.242\n",
      "  4.336  1.814  7.314 -1.269 -1.053  1.797  1.877\n",
      "  7.538]\n"
     ]
    }
   ],
   "source": [
    "np.set_printoptions(precision=3, linewidth=50)\n",
    "print(n23.rvs(size=15))"
   ]
  },
  {
   "cell_type": "code",
   "execution_count": 29,
   "metadata": {},
   "outputs": [
    {
     "name": "stdout",
     "output_type": "stream",
     "text": [
      "0.5\n"
     ]
    }
   ],
   "source": [
    "# probability that a random value is less than the mean 2\n",
    "print(n23.cdf(2))"
   ]
  },
  {
   "cell_type": "code",
   "execution_count": 30,
   "metadata": {},
   "outputs": [
    {
     "name": "stdout",
     "output_type": "stream",
     "text": [
      "variance is 9.0\n",
      "standard deviation is 3.0\n",
      "mean is 2.0\n"
     ]
    }
   ],
   "source": [
    "print('variance is', n23.var())\n",
    "print('standard deviation is', n23.std())\n",
    "print('mean is', n23.mean())"
   ]
  },
  {
   "cell_type": "markdown",
   "metadata": {},
   "source": [
    "##  Calculating Normal probabilities\n",
    "\n",
    "For continuous random variables, PDF means that its the total area under the curve. To find the probability in an interval we need to use cumulative distribution.\n",
    "\n",
    "The standard normal distribution will have zero mean and one variance denoted by $Z\\sim N(0,1)$ .\n",
    "\n",
    "That is $$Z \\stackrel{\\mathrm{d}}{=} \\mathrm{N}(0,1)$$\n",
    "$$f_Z(z) = \\dfrac{1}{\\sqrt{2\\pi}} \\exp\\bigl(-\\tfrac{1}{2} z^2\\bigr), \\qquad\\text{for } z \\in \\mathbb{R}.$$\n",
    "\n",
    "We genreally the normalise our distribution just becuase we need zero as our mean and eases our calculations."
   ]
  },
  {
   "cell_type": "markdown",
   "metadata": {},
   "source": [
    "## Standardisation of a Normal distribution\n",
    "\n",
    "$$\\quad \\textrm {If} \\quad X \\stackrel{\\mathrm{d}}{=} \\mathrm{N}(\\mu,\\sigma^2) \\quad \\textrm {and} \\quad X_s = \\dfrac{X-\\mu}{\\sigma} \\quad \\textrm {then} \\quad X_s \\stackrel{\\mathrm{d}}{=} \\mathrm{N}(0,1)$$\n",
    "\n",
    "\n",
    "** Proof **\n",
    "The result is established by first considering the cdf of Xs. We have\n",
    "$$\\begin{align*}\n",
    "  F_{X_s}(z) &= \\Pr(X_s \\leq z) \\\\\\\\\n",
    "  &= \\Pr\\Bigl(\\dfrac{X-\\mu}{\\sigma} \\leq z\\Bigr) \\\\\\\\\n",
    "  &= \\Pr(X \\leq \\sigma z + \\mu) \\\\\\\\\n",
    "  &= F_X(\\sigma z + \\mu).\n",
    "  \\end{align*}$$\n",
    "Hence\n",
    "$$\\begin{align*}\n",
    "  f_{X_s}(z) &= \\dfrac{d}{dz} F_{X_s}(z) \\\\\\\\\n",
    "  &= \\dfrac{d}{dz} F_X(\\sigma z + \\mu) \\\\\\\\\n",
    "  &= \\sigma f_X(\\sigma z + \\mu) \\qquad\\qquad \\text{(by the chain rule)} \\\\\\\\\n",
    "  &= \\dfrac{1}{\\sqrt{2\\pi}} \\exp\\bigl(-\\tfrac{1}{2} z^2\\bigr).\n",
    "  \\end{align*}$$\n",
    "$$\\quad \\textrm {It follows that}\\quad X_s \\stackrel{\\mathrm{d}{=} \\mathrm{N}(0,1)} \\quad  X_s \\stackrel{\\mathrm{d}}{=} \\mathrm{N}(0,1)$$\n",
    "$$ \\quad \\textrm{Finding probabilities for the standard Normal distributions requires technology: the cdf of}\\quad Z \\stackrel{\\mathrm{d}}{=} \\mathrm{N}(0,1)$$\n",
    "$$F_Z(z) = \\int_{-\\infty}^z \\dfrac{1}{\\sqrt{2\\pi}} \\exp\\bigl(-\\tfrac{1}{2}t^2\\bigr) \\;dt.$$\n",
    "\n",
    "$$\\quad \\textrm {Ex. Use Excel to find the value of Fz(1.5), the cdf of the standard Normal distribution when z=1.5,} \\textrm {Enter }=NORM.S.DIST(1.5, 1)\\quad \\textrm {in a cell and hit return. You should obtain the value 0.9332.}\\quad$$\n",
    "\n"
   ]
  },
  {
   "cell_type": "markdown",
   "metadata": {
    "collapsed": true
   },
   "source": [
    "## Example: Crowd size\n",
    "Suppose that crowd size at home games for a particular football club follows a Normal distribution with mean 26 000 and standard deviation 5000. What percentage of crowds are between 31000 and 36000 (This example is copied from [11])?\n",
    "\n",
    "**Answer **\n",
    "$$X \\stackrel{\\mathrm{d}}{=} \\mathrm{N}(26\\;000, 5000^2)$$\n",
    "\n",
    "$$X_s = \\dfrac{X - 26\\;000}{5000} \\stackrel{\\mathrm{d}}{=} \\mathrm{N}(0,1)$$\n",
    "\n",
    "$$\\begin{align*}\n",
    "  \\Pr(31\\;000 < X < 36\\;000) &= \\Pr\\Bigl(\\dfrac{31\\;000 - 26\\;000}{5000} < \\dfrac{X - 26\\;000}{5000} < \\dfrac{36\\;000 - 26\\;000}{5000}\\Bigr) \\\\\\\\\n",
    "  &= \\Pr(1 < X_s < 2) \\\\\\\\\n",
    "  &= F_{X_s}(2) - F_{X_s}(1) \\\\\\\\\n",
    "  &= 0.9772 - 0.8413 \\\\\\\\\n",
    "  &= 0.1359.\n",
    "  \\end{align*}$$\n",
    "  \n"
   ]
  },
  {
   "cell_type": "code",
   "execution_count": 31,
   "metadata": {
    "collapsed": true
   },
   "outputs": [],
   "source": [
    ">>> import numpy as np\n",
    ">>> mu, sigma = 0, 0.1 # mean and standard deviation\n",
    ">>> s = np.random.normal(mu, sigma, 1000)"
   ]
  },
  {
   "cell_type": "markdown",
   "metadata": {
    "collapsed": true
   },
   "source": [
    "Display the histogram of the samples, along with the probability density function:"
   ]
  },
  {
   "cell_type": "code",
   "execution_count": 32,
   "metadata": {},
   "outputs": [
    {
     "data": {
      "image/png": "[encoded data removed]",
      "text/plain": [
       "<matplotlib.figure.Figure at 0x89aa190>"
      ]
     },
     "metadata": {},
     "output_type": "display_data"
    }
   ],
   "source": [
    ">>> import matplotlib.pyplot as plt\n",
    ">>> count, bins, ignored = plt.hist(s, 30, normed=True)\n",
    ">>> plt.plot(bins, 1/(sigma * np.sqrt(2 * np.pi)) *\n",
    "...                np.exp( - (bins - mu)**2 / (2 * sigma**2) ),\n",
    "...          linewidth=2, color='r')\n",
    ">>> plt.show()"
   ]
  },
  {
   "cell_type": "code",
   "execution_count": 33,
   "metadata": {},
   "outputs": [
    {
     "data": {
      "text/plain": [
       "0.5"
      ]
     },
     "execution_count": 33,
     "metadata": {},
     "output_type": "execute_result"
    }
   ],
   "source": [
    ">>> import scipy.stats\n",
    "\n",
    ">>> scipy.stats.norm(100, 12).cdf(100)\n"
   ]
  },
  {
   "cell_type": "code",
   "execution_count": null,
   "metadata": {
    "collapsed": true
   },
   "outputs": [],
   "source": []
  },
  {
   "cell_type": "code",
   "execution_count": 34,
   "metadata": {},
   "outputs": [
    {
     "name": "stdout",
     "output_type": "stream",
     "text": [
      "1.64485362695\n",
      "0.949497416526\n"
     ]
    }
   ],
   "source": [
    ">>> import scipy.stats as st\n",
    ">>> print(st.norm.ppf(0.95)) ## gives reverse of CDF\n",
    "\n",
    ">>> print(st.norm.cdf(1.64))  \n"
   ]
  },
  {
   "cell_type": "markdown",
   "metadata": {},
   "source": [
    "## Linear functions of a random variable\n",
    "\n",
    "Let Function Y as linear function of $X$  as below equation [4]\n",
    "$$ Y = aX+b, \\quad X\\sim N(\\mu,\\sigma^2) $$ \n",
    "As we know that\n",
    "$$E(Y) = aE(X)+b$$\n",
    "Output function Y can be expressed as \n",
    "$$Y \\sim (a\\mu_X+b , a^2\\sigma_X^2)$$\n",
    "$$\\mu_Y=a\\mu_X+b \\quad \\sigma_Y^2 = a^2\\sigma_X^2$$"
   ]
  },
  {
   "cell_type": "code",
   "execution_count": 48,
   "metadata": {},
   "outputs": [
    {
     "name": "stdout",
     "output_type": "stream",
     "text": [
      "The expected value is array[x] E(x): 5.33333333333\n"
     ]
    }
   ],
   "source": [
    "from numpy import average\n",
    "x = [1, 2, 3, 4, 5, 6, 8, 9, 10]\n",
    "E_x=(average(x))\n",
    "print( 'The expected value is array[x] E(x): ' +str(E_x ))\n",
    "\n"
   ]
  },
  {
   "cell_type": "code",
   "execution_count": 49,
   "metadata": {},
   "outputs": [
    {
     "name": "stdout",
     "output_type": "stream",
     "text": [
      "[ 12  22  32  42  52  62  82  92 102]\n",
      "The expected value is array[y] E(y): 55.3333333333\n"
     ]
    }
   ],
   "source": [
    "##linearity y=ax+b, let a=10 and b=2\n",
    "import numpy as np\n",
    "yx = [i * 10 for i in x]  ##multiplying each array element of x with 10\n",
    "y=np.add(yx,2)        ##adding each array elements of zx with 2\n",
    "\n",
    "print(y)   ##print elements\n",
    "E_y=(average(y)) ##check for expected value\n",
    "print( 'The expected value is array[y] E(y): ' +str(E_y ))"
   ]
  },
  {
   "cell_type": "markdown",
   "metadata": {},
   "source": [
    "To check linearity lets calculate mean and variance of Y and compare it with x\n",
    "$$\\mu_Y= 55.33 $$\n",
    "\n",
    "$$\\textrm{lets calculate } a\\mu_X+b=10*5.33+2=55.33$$\n",
    "\n",
    "$$\\sigma_Y^2 = 888.888 \\quad \\textrm {  And  } \\quad a^2\\sigma_X^2= 10^2*8.888 = 888.88$$\n",
    "\n",
    "$$\\textrm {Hence prooved } \\mu_Y=a\\mu_X+b \\quad \\sigma_Y^2 = a^2\\sigma_X^2$$ "
   ]
  },
  {
   "cell_type": "code",
   "execution_count": 66,
   "metadata": {},
   "outputs": [
    {
     "name": "stdout",
     "output_type": "stream",
     "text": [
      "5.33333333333\n",
      "8.88888888889\n",
      "55.3333333333\n",
      "888.888888889\n"
     ]
    }
   ],
   "source": [
    "\n",
    "print(np.mean(x))\n",
    "print(np.var(x))\n",
    "print(np.mean(y)) \n",
    "print(np.var(y))\n"
   ]
  },
  {
   "cell_type": "code",
   "execution_count": 35,
   "metadata": {},
   "outputs": [
    {
     "data": {
      "image/png": "[encoded data removed]",
      "text/plain": [
       "<matplotlib.figure.Figure at 0x8540b70>"
      ]
     },
     "metadata": {},
     "output_type": "display_data"
    },
    {
     "data": {
      "image/png": "[encoded data removed]",
      "text/plain": [
       "<matplotlib.figure.Figure at 0x8b35b30>"
      ]
     },
     "metadata": {},
     "output_type": "display_data"
    }
   ],
   "source": [
    ">>> import numpy as np\n",
    ">>> from scipy.stats import norm\n",
    ">>> import matplotlib.pyplot as plt\n",
    ">>> import pylab as pl\n",
    ">>> import math\n",
    ">>> mu= 5.33 # mean and standard deviation\n",
    ">>> variance =8.88\n",
    ">>> plt.title(\"Normal distribution curve\")\n",
    ">>> sigma =math.sqrt(variance) #caluculating sigma as square root og variance\n",
    ">>> x =np.linspace(mu - 3 * sigma, mu + 3 *sigma, 1000) # Assigning the input x values depending upon the bin\n",
    "plt.plot(x, norm.pdf(x,mu,sigma)) #plotting  normal curve\n",
    "plt.show()\n",
    "\n",
    "##plotting standard Normal pdf of x\n",
    "mu = 0\n",
    "variance = 1\n",
    "sigma = math.sqrt(variance)\n",
    "x = np.linspace(mu - 3*sigma, mu + 3*sigma, 100)\n",
    "plt.title(\"Standrad Normal distribution curve\")\n",
    "plt.plot(x,norm.pdf(x, mu, sigma))\n",
    "plt.show()"
   ]
  },
  {
   "cell_type": "code",
   "execution_count": 36,
   "metadata": {},
   "outputs": [
    {
     "data": {
      "image/png": "[encoded data removed]",
      "text/plain": [
       "<matplotlib.figure.Figure at 0x89aaf90>"
      ]
     },
     "metadata": {},
     "output_type": "display_data"
    },
    {
     "data": {
      "image/png": "[encoded data removed]",
      "text/plain": [
       "<matplotlib.figure.Figure at 0x8562eb0>"
      ]
     },
     "metadata": {},
     "output_type": "display_data"
    }
   ],
   "source": [
    ">>> import numpy as np\n",
    ">>> from scipy.stats import norm\n",
    ">>> import matplotlib.pyplot as plt\n",
    ">>> import pylab as pl\n",
    ">>> import math\n",
    ">>> mu= 55.33 # mean and standard deviation\n",
    ">>> variance =888.88\n",
    ">>> sigma =math.sqrt(variance) #calculating sigma as square root og variance\n",
    ">>> y =np.linspace(mu - 3 * sigma, mu + 3 *sigma, 100) # Assigning the input y values depending upon the bin\n",
    "plt.title(\" Normal distribution curve\")\n",
    ">>> plt.plot(y, norm.pdf(y,mu,sigma)) #plotting normal curve\n",
    ">>> plt.show()\n",
    "\n",
    "##plotting standard Normal pdf of Y\n",
    "mu = 0\n",
    "variance = 1\n",
    "sigma = math.sqrt(variance)\n",
    "y = np.linspace(mu - 3*sigma, mu + 3*sigma, 100)\n",
    "plt.title(\"Standrad Normal distribution curve\")\n",
    "plt.plot(y,norm.pdf(y, mu, sigma))\n",
    "plt.show()"
   ]
  },
  {
   "cell_type": "markdown",
   "metadata": {},
   "source": [
    "## Conditional Expectaion of X, given an event A\n",
    "\n",
    "The conditional expectation, conditional expected value, or conditional mean of a random variable is its expected value given that a certain set of \"conditions\" is known to occur. In the case when the random variable is defined over a discrete probability space, the \"conditions\" are a partition of this probability space. (This definition is copied from [4]).\n",
    "\n",
    "With two random variables X and A, if one random variable X is having mean which is independent of A, then conditional expectation of X given A is equals to the random variable's (unconditional) expected value. This always true if the variables are independent.\n",
    "\n",
    "If there is a probability of occurance of one random variable with other then conditional expectation is given by the individual product of their expected values and probability as explained above.\n",
    "\n",
    "Below are some useful statistics equations(copied from [4])\n",
    "\n",
    "$$ E(X) = \\sum_x xp_X(x)\\quad \\quad \\quad \\quad \\quad \\quad E(X) =  \\int_{-\\infty}^{\\infty} { xf_X(x) dx }$$\n",
    "\n",
    "$$ E(X | A) = \\sum_x xp_{X|A}(x)\\quad \\quad \\quad \\quad \\quad E(X|A) =  \\int_{-\\infty}^{\\infty} { xf_{X | A}(x) dx }$$\n",
    "\n",
    "__Expected Value Rule__\n",
    "$$E[g(X)] = \\sum_x g(x)\\,p_X(x) \\quad \\quad \\quad \\quad E[g(X)] = \\int_{-\\infty}^{\\infty} g(x)\\,f_X(x)\\;dx$$\n",
    "\n",
    "$$E[g(X | A)] = \\sum_x g(x)\\,p_{X|A}(x) \\quad \\quad \\quad \\quad E[g(X|A)] = \\int_{-\\infty}^{\\infty} g(x)\\,f_{X|A}(x)\\;dx$$\n"
   ]
  },
  {
   "cell_type": "markdown",
   "metadata": {},
   "source": [
    "## Total probability and Expectation theorem\n",
    "\n",
    "![Image13_PX.PNG](2.2/Image13_PX.PNG \"Probability tree\")\n",
    "![Image14_PX_A](2.2/Image14_PX_A.PNG \"Probability tree\")\n",
    "\n",
    "(Above figures are copied from[4])\n",
    "\n",
    "In probability theory, the law (or formula) of total probability is a fundamental rule relating marginal probabilities to conditional probabilities. It expresses the total probability of an outcome which can be realized via several distinct events—hence the name(Definition is copied from [18]).\n",
    "\n",
    "Lets $A_1,A_2... A_n$ are the probabilities and B is marginal probability then It is given the sum of individual probabilities and their conditional probabilities. \n",
    "\n",
    "$$p(B)= p(A_1)p(B \\mid A_1)+p(A_2)p(B \\mid A_2)+......+p(A_n)p(B\\mid A_n)$$\n",
    "\n",
    "$$p_X(x)= p(A_1)p_{X\\mid A_1}(x) +p(A_2)p_{X\\mid A_2}(x)+......+p(A_n)p_{X\\mid A_n}(x)$$\n",
    "\n",
    "$$f_X(x)= p(A_1)f(X \\mid A_1)+p(A_2)f(X \\mid A_2)+......+p(A_n)f(X\\mid A_n)$$\n",
    "\n",
    "$$E[X]= p(A_1)E[X\\mid A_1] +p(A_2)E[X\\mid A_2]+......+p(A_n)E[X\\mid A_n]$$\n",
    "\n",
    "In other words,For Discrete random variables[4],\n",
    "$$p_X(x)= \\sum_yp_Y(y)p_{X\\mid Y}(x\\mid y)$$\n",
    "$$E[X \\mid Y=y]= \\sum_x x p_{X\\mid Y}(x\\mid y)$$\n",
    "$$E[X]= \\sum_y p_Y(y)E[X \\mid Y=y]$$\n",
    "\n",
    "For Continuous random variables[4]\n",
    "$$f_X(x) = \\int_{-\\infty}^{\\infty} f_Y(y)\\,f_{X\\mid Y}(x \\mid y)\\;dy$$\n",
    "$$E[X \\mid Y=y] = \\int_{-\\infty}^{\\infty} xf_{X\\mid Y}(x \\mid y)\\;dx$$\n",
    "$$E[X] = \\int_{-\\infty}^{\\infty} f_Y(y)E(X\\mid Y= y)\\;dy$$"
   ]
  },
  {
   "cell_type": "markdown",
   "metadata": {
    "collapsed": true
   },
   "source": [
    "__Example:__ \n",
    "\n",
    "(this example is copied from [4])\n",
    "\n",
    "![Image10](2.2/Image10.png \"Expectation\")\n",
    "\n",
    "\n",
    "$$\\textrm{In the above figure, Function } f_X(x) \\quad \\textrm {is given and an event } A = \\frac {a+b}{2}\\leq X \\leq b \\quad \\textrm { what is }E(X|A) \\textrm{ and } {VAR(X^2|A)}\\quad ?$$ \n",
    "\n",
    "__Answer__\n",
    "\n",
    "__a.__\n",
    "\n",
    "As we know that \n",
    "$$E[X \\mid A =y]= \\sum_x x p_{X\\mid A}(x\\mid y)$$\n",
    "\n",
    "$$E[X \\mid A ] = \\sum_{\\frac{a+b}{2}}^{b} \\frac {1}{2} $$\n",
    "\n",
    "$$E[X \\mid A ] = \\frac{1}{2} [\\frac {a+b}{2}+b ]$$\n",
    "\n",
    "$$E[X \\mid A ] = \\frac{a}{4} +\\frac {3b}{4} $$\n",
    "\n",
    "\n",
    "__b.__\n",
    "\n",
    "Variance \n",
    "$$\\mathit{VAR}(X \\mid A)=E(X^2 \\mid A)-\\mu_{X \\mid A}^2$$\n",
    "\n",
    "$$ \\quad \\textrm {Lets find out the} \\quad E[X^2 \\mid A] = \\int_{\\frac {a+b} {2}}^{b} x^2\\,\\frac{2}{(b-a)}\\;dx$$ \n",
    "\n",
    "$$ E[X^2 \\mid A] = \\frac {2}{(b-a)} \\Bigg | \\frac{x^3}{3}\\Bigg |_{\\frac {a+b} {2}}^{b}$$\n",
    "\n",
    "$$ E[X^2 \\mid A] = \\frac {1}{12(b-a)} {[b^3-(a+b)^3]}$$\n",
    "\n",
    "Substituting in above equation of _VAR(X)_\n",
    "\n",
    "$$\\mathit{VAR}(X \\mid A)=E(X^2 \\mid A)-\\mu_{X \\mid A}^2$$\n",
    "\n",
    "$$\\mathit{VAR}(X \\mid A)= \\frac {1}{12(b-a)} {[b^3-(a+b)^3]} - [\\frac{a}{4} +\\frac {3b}{4}]^2$$"
   ]
  },
  {
   "cell_type": "markdown",
   "metadata": {
    "collapsed": true
   },
   "source": [
    "## Uses in Measurement thoery\n",
    "\n",
    "Lets find out the how the important statistics have been calculated in measurement theory.\n",
    "Although its just recap on what we just went so far.\n",
    "\n",
    "- __Mean__ \n",
    "The mean (or average) is the most popular and well known measure of central tendency. It can be used with both discrete and continuous data, if we have n values in a data set and they have values x1, x2, ..., xn, the sample mean, usually denoted by  (pronounced x bar), is [12]:\n",
    "\n",
    "$$  \\overline{x} = \\sum_{p=1}^{p=n}\\frac {x_p}{n}$$\n",
    "\n",
    "- __Probability density function__\n",
    "Its just the area under the curve of probability distribution plot of random variable X, in other words its the total probability of occurance of random variable X in the sample space[12]\n",
    "\n",
    "   if p(x) is the probability of happening of any random variable x within the given interval (a, b) then\n",
    "$$p(x) = \\int_{a}^{b}p(x) dx =1$$\n",
    "\n",
    "- __Epected value of a random variable__\n",
    "The best estimate of the expected value of a random variable of n independent\n",
    "observations x1; x2; x3; : : :; xn obtained under same conditions of measurement is\n",
    "the arithmetic mean of n observations[12].\n",
    "\n",
    "$$  \\overline{x} = \\sum_{p=1}^{p=n}\\frac {x_p}{n}$$\n",
    "\n",
    "- __Variance__\n",
    "The measure of dispersion is variance. The best estimate of the population variance\n",
    "from the sample of size n is given[12]\n",
    "\n",
    "$$ s^2 = \\frac{\\sum_{p=1}^{p=n}{(x_p -  \\overline{x})^2}}{n-1}$$\n",
    "\n",
    "- __Standard deviation__ – the positive square root of variance is given by\n",
    "The standard deviation is a measure of the spread of scores within a set of data. Usually, we are interested in the standard deviation of a population. However, as we are often presented with data from a sample only, we can estimate the population standard deviation from a sample standard deviation[12].\n",
    "\n",
    "$$ s = \\Bigg\\{\\frac{\\sum_{p=1}^{p=n}{(x_p -  \\overline{x})^2}}{n-1}\\Bigg\\}^\\frac{1}{2}$$\n",
    "\n",
    "- __Standard Error__\n",
    "standard error is the standard deviation of the sampling distribution of a statistic. Standard error is a statistical term that measures the accuracy with which a sample represents a population. In statistics, a sample mean deviates from the actual mean of a population; this deviation is the standard error[12].\n",
    "\n",
    "$$ S_E = \\frac {s}{\\sqrt n} =  \\Bigg\\{\\frac{\\sum_{p=1}^{p=n}{(x_p -  \\overline{x})^2}}{n(n-1)}\\Bigg\\}^\\frac{1}{2}$$\n",
    "\n",
    "(Above equations are copied from [12])\n"
   ]
  },
  {
   "cell_type": "markdown",
   "metadata": {},
   "source": [
    "## Reference\n",
    "\n",
    "### Notebooks\n",
    "\n",
    "+ [1].  https://github.com/rlabbe/Kalman-and-Bayesian-Filters-in-Python/blob/master/Supporting_Notebooks/Computing_and_plotting_PDFs.ipynb\n",
    "\n",
    "+ [2].  Roger Labbe, Jupyter notebook, https://github.com/rlabbe/Kalman-and-Bayesian-Filters-in-Python/blob/master/03-Gaussians.ipynb\n",
    "\n",
    "+ [3].  http://docs.scipy.org/doc/scipy/reference/generated/scipy.stats.norm.html [Accessed January 24, 2018]\n",
    "\n",
    "+ [6]  https://github.com/spatialaudio/digital-signal-processing-lecture [Accessed January 24, 2018]\n",
    "\n",
    "+ [14] https://github.com/spatialaudio/digital-signal-processing-lecture/blob/master/quantization/linear_uniform_quantization_error.ipynb\n",
    "\n",
    "\n",
    "\n",
    "### Figures and Equations\n",
    "\n",
    "+ [4] Professor Nikos Tsitsiklis, \"Introduction to Probability - The Science of Uncertainty\", Probability slides from the course MITx:6.041x \n",
    "\n",
    "+ [7] https://en.wikipedia.org/wiki/Signal-to-noise_ratio [Accessed January 24, 2018]\n",
    "\n",
    "+ [8] https://en.wikipedia.org/wiki/Quantization_(signal_processing) [Accessed January 24, 2018]\n",
    "\n",
    "+ [9] https://en.wikipedia.org/wiki/Uniform_distribution_(continuous) [Accessed January 24, 2018]\n",
    "\n",
    "+ [13] https://github.com/spatialaudio/digital-signal-processing-lecture/blob/master/quantization/introduction.ipynb [Accessed January 24, 2018]\n",
    "\n",
    "+ [15] http://dsp-nbsphinx.readthedocs.io/en/nbsphinx-experiment/quantization/linear_uniform_characteristic.html\n",
    "\n",
    "### Internet Documents\n",
    "\n",
    "+ [5]. H. Lohninger, \"Fundamentals of Statistics data analysis and chemometrics\", lectures and courses of on statistics.\n",
    "http://www.statistics4u.com/fundstat_eng/ee_analog_dig_conversion.html [Accessed January 24, 2018]\n",
    "\n",
    "+ [10]. Rahul Dave, Lecture course on Statistics and Data. https://am207.github.io/2017/terms.html#probability [Accessed January 24, 2018]\n",
    "\n",
    "+ [11] http://amsi.org.au/ESA_Senior_Years/SeniorTopic4/4f/4f_2content_3.html [Accessed January 24, 2018]\n",
    "\n",
    "+ [16] https://en.wikipedia.org/wiki/Normal_distribution\n",
    "\n",
    "+ [17] (http://docs.scipy.org/doc/scipy/reference/generated/scipy.stats.norm.html#scipy.stats.normfor)\n",
    "\n",
    "+ [18] https://en.wikipedia.org/wiki/Law_of_total_probability\n",
    "\n",
    "### E-books\n",
    "\n",
    "+ [12] S.V Gupta, \" Measurement Uncertainties\",Physical Parameters and Calibration of Instruments, e-ISBN 978-3-642-20989-5\n",
    "\n",
    "\n",
    "\n",
    "\n"
   ]
  },
  {
   "cell_type": "code",
   "execution_count": null,
   "metadata": {
    "collapsed": true
   },
   "outputs": [],
   "source": []
  }
 ],
 "metadata": {
  "anaconda-cloud": {},
  "kernelspec": {
   "display_name": "Python [default]",
   "language": "python",
   "name": "python3"
  },
  "language_info": {
   "codemirror_mode": {
    "name": "ipython",
    "version": 3
   },
   "file_extension": ".py",
   "mimetype": "text/x-python",
   "name": "python",
   "nbconvert_exporter": "python",
   "pygments_lexer": "ipython3",
   "version": "3.5.2"
  }
 },
 "nbformat": 4,
 "nbformat_minor": 2
}
