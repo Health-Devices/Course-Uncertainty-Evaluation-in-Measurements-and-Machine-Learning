{
 "cells": [
  {
   "cell_type": "markdown",
   "metadata": {},
   "source": [
    "# **ELG 7172B : **: Homework 6 Solutions"
   ]
  },
  {
   "cell_type": "markdown",
   "metadata": {},
   "source": [
    "Prof. Miodrag Bolic included solutions provided  by the following students: Gong Jin Zhang, Srinivasan Yachitula, Issa Ayoub and Xiaoyan Li.  <br>\n",
    "**Due: March , 2018** <br>\n",
    "Total number of points is . Please solve  out of  question. <br>\n",
    "Please select 3 problems out of the following\n",
    "problems (2 problems from chapter 1, and 1 problems from chapters 4 or 5):"
   ]
  },
  {
   "cell_type": "code",
   "execution_count": null,
   "metadata": {},
   "outputs": [],
   "source": [
    "import numpy as np\n",
    "import matplotlib\n",
    "import matplotlib.pyplot as plt\n",
    "from mpl_toolkits.mplot3d import Axes3D\n",
    "%matplotlib inline\n",
    "\n",
    "import seaborn as sns\n",
    "sns.set_style(\"white\")\n",
    "\n",
    "import time\n",
    "\n",
    "import scipy.stats"
   ]
  },
  {
   "cell_type": "markdown",
   "metadata": {},
   "source": [
    "# Problem 1: Q 1.5\n",
    "Consider the Grubbs model:\n",
    "\n",
    "$$ Y_{i_1}=b_i+e_{i_1} $$\n",
    "\n",
    "$$ Y_{i_2}= \\beta_{0}+b_i+e_{i_2} $$\n",
    "\n",
    "(a) Show that the method of moments provides the following estimators of its parameters:\n",
    "$ \\hat{\\mu_{b}} = \\bar{Y_{.1}} , \\hat{\\beta_{0}} = \\bar{Y_{.1}} , \\hat{\\sigma_{b}^{2}} = S_{12} , \\hat{\\sigma_{e1}^{2}} = S_{1}^2 - S_{12}, \\hat{\\sigma_{e2}^{2}} = S_{2}^2 - S_{12} $\n",
    "\n",
    "These estimators do not require the normality assumption and are called Grubbs\n",
    "estimators.\n",
    "[Hint: Equate the mean vector and covariance matrix of (Y1; Y2), given by\n",
    "(1.20) and (1.21), to their sample counterparts, and solve.]\n",
    "\n",
    "(b) Under what conditions are the error variance estimators positive? Do these conditions always hold?\n",
    "\n",
    "\n"
   ]
  },
  {
   "cell_type": "markdown",
   "metadata": {},
   "source": [
    "## Solutions: 1.5 (a)\n",
    "\n",
    "$$ Y_{i_1}=b_i+e_{i_1} $$\n",
    "\n",
    "$$ Y_{i_2}= \\beta_{0}+b_i+e_{i_2} $$\n",
    "\n",
    "true observable measurement for ith subject is $b_i$ $sim$ $N(\\mu_b,{\\sigma_b}^2)$\n",
    "\n",
    "random error $e_{i_1}$ $\\sim$ $N(\\mu_b,{\\sigma_{e_1}}^2)$\n",
    "\n",
    "\n",
    "The given models implies that the measurement pairs (Yi1; Yi2) are i.i.d. as (Y1; Y2), which follows a bivariate normal distribution with mean vector\n",
    "\n",
    "$$\\begin{pmatrix} \\bar Y_{i_1}\\\\\\bar Y_{i_1}\\end{pmatrix} = \\begin{pmatrix} \\mu_b \\\\ \\mu_b+ \\beta_{0} \\end{pmatrix}$$\n",
    "\n",
    "here $\\bar Y_1$ is the mean of the model Y1 or $Y_{i_1}$,  $\\bar Y_2$ is the mean of the model Y2 or $Y_{i_2}$\n",
    "\n",
    "$$ \\textrm{From the mean matrix we can write} \\quad  \\bar Y_{i_1} = \\mu_b  \\textrm{which shows} \\quad \\mu_b=\\bar Y_{i_1} $$\n",
    "\n",
    "$$  \\textrm{By mean matrix} \\quad\\bar Y_{i_2} = \\mu_b + \\beta_{0} $$\n",
    "\n",
    "$$ \\textrm{Therefore} \\quad  \\bar Y_{i_2} = \\bar Y_{i_1} + \\beta_{0} $$\n",
    "\n",
    "$$ \\textrm{from the above} \\quad \\beta_{0}=\\bar Y_{i_2} - \\bar Y_{i_1}  $$\n",
    "\n",
    "The given models implies that the measurement pairs (Yi1; Yi2) are i.i.d. as (Y1; Y2), which follows a bivariate normal distribution with covariance matrix \n",
    "\n",
    "$$\\begin{pmatrix} {S_1}^2 & S_{12} \\\\ S_{12} & {S_2}^2 \\end{pmatrix} = \\begin{pmatrix} \\sigma_b^2+\\sigma_{e_1}^2 & \\sigma_b^2 \\\\ \\sigma_b^2 & \\sigma_b^2+\\sigma_{e_2}^2  \\end{pmatrix}$$\n",
    "\n",
    "here ${S_1}^2$ is the variance of the model Y1 or $Y_{i_1}$ , ${S_2}^2$ is the variance of the model Y2 or $Y_{i_2}$ and \n",
    "\n",
    "$S_{12}$ is the Covariance of the model Y1 and Y2 ($Y_{i_1}$ and $Y_{i_2}$) \n",
    "\n",
    "$$ \\textrm{From the covariance matrix we can write } \\quad {S_1}^2 = {\\sigma_b}^2+\\sigma_{e_1}^2  \\textrm{which shows} \\quad \n",
    "\\sigma_{e_1}^2=\\quad {S_1}^2 - {\\sigma_b}^2$$\n",
    "\n",
    "$$ \\textrm{By covariance matrix } \\quad S_{12} = {\\sigma_b}^2 \\textrm{from which we can write} \\quad {\\sigma_b}^2 = \\quad S_{12}$$\n",
    "\n",
    "$$ \\textrm{In the same way by using the matrix } \\quad {S_2}^2 = {\\sigma_b}^2+\\sigma_{e_2}^2 $$\n",
    "\n",
    "$$ \\textrm{from the above} \\quad \\sigma_{e_2}^2= {S_2}^2 - {\\sigma_b}^2 $$\n",
    "\n",
    "\n",
    "\n",
    "\n",
    "\n"
   ]
  },
  {
   "cell_type": "markdown",
   "metadata": {},
   "source": [
    "## 1.5(b)"
   ]
  },
  {
   "cell_type": "markdown",
   "metadata": {},
   "source": [
    "The condition when the error variance conditions will be positive are i.e\n",
    "\n",
    "$$ \\sigma_{e_1}^2 >0 \\textrm{ and } \\sigma_{e_2}^2 >0 $$ \n",
    "\n",
    "$$ \\textrm{ is when } {S_1}^2 > S_{12} \\textrm{ and } {S_2}^2 > S_{12} $$\n",
    "\n",
    "$$ \\textrm{ where } {S_1}^2 = {\\sigma_b}^2+\\sigma_{e_1}^2 \\textrm{ and } {S_2}^2 = \\sigma_b^2+\\sigma_{e_2}^2   \\textrm{ from 1.5(a)} $$\n",
    "\n",
    "This Condition holds when the variance w.r.t $Y_1$ is greater than the covariance between $Y_1$ and $Y_2$ and \n",
    " variance of $Y_2$ is greater than the covariance between $Y_1$ and $Y_2$\n",
    "\n",
    "We can also say that this condition holds true if Correlation coefficient of  $Y_1$ and  $Y_2$ is less than 1\n",
    "\n",
    "Generally if the error variance is equal to zero then the method is fully precise and there is no measurement error.This means the observed values equals to its error free value\n",
    "\n",
    "The error variance will be positive when the observed measurement is not fully precise and sensitivity will be not that large.This will happen when the system will not be completely effective\n",
    "\n",
    "If the error variance is 0 then we can say that the method is fully precise , there is no measurement error and the observed values equals to its error free values"
   ]
  },
  {
   "cell_type": "markdown",
   "metadata": {},
   "source": [
    "# Problem 2: Q 1.6\n",
    "\n",
    "Table 1.3 presents a dataset containing weights (grams) of 15 packets of potatoes measured using two kitchen scales, A and B.\n",
    "\n",
    "\n",
    "(a) Use Exercise 1.5 formulas to compute the Grubbs estimates for these data. What do you notice about the error variance estimates?\n",
    "\n",
    "(b) Use a statistical software to fit the mixedeffects model (1.19) to these data using the ML method. What do you notice about the error variance estimates?\n",
    "\n",
    "(c) Comment on the results.\n",
    "\n",
    "Refer table 1.3 on Page 48\n",
    "   "
   ]
  },
  {
   "cell_type": "markdown",
   "metadata": {
    "collapsed": true
   },
   "source": [
    "## Solutions:"
   ]
  },
  {
   "cell_type": "markdown",
   "metadata": {},
   "source": [
    "# 1.6 (a)"
   ]
  },
  {
   "cell_type": "markdown",
   "metadata": {},
   "source": [
    "From the table 1.3 Let us consider the data A as the ouput of the model $Y_{i_1}$ and data B as the output of the model $Y_{i_2}$\n",
    "\n",
    "where $$ Y_{i_1}=b_i+e_{i_1} $$\n",
    "\n",
    "$$ Y_{i_2}= \\beta_{0}+b_i+e_{i_2} $$\n",
    "\n",
    "The given models implies that the measurement pairs (Yi1; Yi2) are i.i.d. as (Y1; Y2), which follows a bivariate normal distribution\n",
    "\n",
    "From the grubbs model parameters of the exercise 1.5 \n",
    "\n",
    "$$\\mu_b=\\bar Y_{i_1}$$\n",
    "\n",
    "$$\\beta_{0}=\\bar Y_{i_2} - \\bar Y_{i_1}$$\n",
    "\n",
    "$$\\sigma_{e_1}^2= {S_1}^2 - {\\sigma_b}^2$$\n",
    "\n",
    "$${\\sigma_b}^2 = S_{12}$$\n",
    "\n",
    "$$\\sigma_{e_2}^2= {S_2}^2 - {\\sigma_b}^2$$\n",
    "\n",
    "Mean of the data A i.e $Y_1$ is \n",
    "\n",
    "$$\\bar Y_{1}= \\frac {\\sum_{i=1}^{n} Y_1}{n}$$\n",
    "\n",
    "$$\\bar Y_{1}= 1211.33333333$$\n",
    "\n",
    "\n",
    "Mean of the data B i.e $Y_2$ is \n",
    "\n",
    "$$\\bar Y_{2}= \\sum_{i=1}^{n} \\frac{Y_2}{n}$$\n",
    "\n",
    "$$\\bar Y_{2}= 1194.33333333$$\n",
    "\n",
    "Variance of the data A  i.e $ {S_1}^2$ is\n",
    "$${S_1}^2= \\frac {\\sum_{i=1}^{n} {Y_1- \\bar Y_{1_i}}^2} {n-1}$$\n",
    "\n",
    "$${S_1}^2=600976.666667$$\n",
    "\n",
    "572403.095238\n",
    "The Covariance of A and B is  586217.02381\n",
    "Grubbs parameter :\n",
    "mean of the b  1211.33333333\n",
    "The mean of beta is  17.0\n",
    "The variance of b is  586217.02381\n",
    "The variance of error variance of A is 14759.6428571\n",
    "The variance of Error variance of B is -13813.9285714\n",
    "\n",
    "Variance of the data B i.e $ {S_2}^2$ is\n",
    "\n",
    "$${S_2}^2= \\frac {\\sum_{i=1}^{n} {Y_i- \\bar Y_{2_i}}^2}{n-1}$$\n",
    "\n",
    "$${S_2}^2= 572403.095238 $$\n",
    "\n",
    "Covariance of the data A and B i.e $S_{12}$ is\n",
    "\n",
    "$$S_{12} = \\frac {\\sum_{i=1}^{n} (Y_1- \\bar Y_{1_i}) (Y_i- \\bar Y_{2_i})}{n-1}$$\n",
    "\n",
    "$$S_{12} = 586217.02381 $$\n",
    "\n",
    "Now Substitute mean of the data A i.e $\\bar Y_1$ in $\\mu_b=\\bar Y_{i_1}$ then we get\n",
    "\n",
    "$$\\mu_b= 1211.33333333 $$\n",
    "\n",
    "From $\\beta_{0}=\\bar Y_{i_2} - \\bar Y_{i_1}$\n",
    "\n",
    "$$\\beta_{0}= 1211.33333333 - 1194.33333333 $$\n",
    "\n",
    "$$\\beta_{0}= 17$$.0\n",
    "\n",
    "From $\\sigma_{e_1}^2= {S_1}^2 - S_{12}$\n",
    "\n",
    "$$\\sigma_{e_1}^2= 600976.666667 - 586217.02381 $$\n",
    "\n",
    "$$\\sigma_{e_1}^2= 14759.6428571$$\n",
    "\n",
    "From ${\\sigma_b}^2 = S_{12}$\n",
    "\n",
    "$${\\sigma_b}^2 = 586217.02381 $$\n",
    "\n",
    "From $\\sigma_{e_2}^2= {S_2}^2 - S_{12}$\n",
    "\n",
    "$$\\sigma_{e_2}^2= 572403.095238  -586217.02381  $$\n",
    "\n",
    "$$\\sigma_{e_2}^2= -13813.9285714$$\n",
    "\n",
    "\n",
    "From the calculations we can observe that the error variance of A is 14759.6428571 and Error variance of B is -13813.9285714\n",
    "by this we can tell that the error variance of A is very large which tells that the method is not precise, effective, we cam tell that the effect of noise increases the original value and from the error variance of B we can tell that the effect of noise decreases the original value because the error variance is negative and even this is not precise because the value of error variance of B is large in terms of negative"
   ]
  },
  {
   "cell_type": "markdown",
   "metadata": {},
   "source": [
    "## Python code for 1.6(a)"
   ]
  },
  {
   "cell_type": "code",
   "execution_count": 39,
   "metadata": {},
   "outputs": [
    {
     "name": "stdout",
     "output_type": "stream",
     "text": [
      "The mean of A is  1211.33333333\n",
      "The mean of B is  1194.33333333\n",
      "The Variance of A is  600976.666667\n",
      "The Variance of B is  572403.095238\n",
      "The Covariance of A and B is  586217.02381\n",
      "Grubbs parameter :\n",
      "mean of the b  1211.33333333\n",
      "The mean of beta is  17.0\n",
      "The variance of b is  586217.02381\n",
      "The variance of error variance of A is 14759.6428571\n",
      "The variance of Error variance of B is -13813.9285714\n"
     ]
    }
   ],
   "source": [
    "import numpy as np\n",
    "\n",
    "Y_1=np.array([135,940,1075,925,2330,2870,1490,2110,650,1380,970,1000,1640,345,310])\n",
    "\n",
    "Y_2=np.array([165,910,1060,925,2290,2850,1425,2050,630,1370,1000,1000,1575,345,320])\n",
    "\n",
    "m_y1=np.mean(Y_1)\n",
    "\n",
    "m_y2=np.mean(Y_2)\n",
    "\n",
    "Var_y1=np.var(Y_1)\n",
    "\n",
    "Var_y2=np.var(Y_2)\n",
    "\n",
    "Covarm_y12=np.cov(Y_1,Y_2)\n",
    "\n",
    "Covar_y12=Covarm_y12[0][1]\n",
    "\n",
    "Var_y1=Covarm_y12[0][0]\n",
    "\n",
    "Var_y2=Covarm_y12[1][1]\n",
    "\n",
    "# from grubbs model\n",
    "\n",
    "mu_b=m_y1\n",
    "\n",
    "beta_0=m_y1-m_y2\n",
    "\n",
    "Var_e1=Var_y1-Covar_y12\n",
    "\n",
    "Var_e2=Var_y2-Covar_y12\n",
    "\n",
    "Var_b=Covar_y12\n",
    "\n",
    "\n",
    "print('The mean of A is ',m_y1)\n",
    "\n",
    "print('The mean of B is ',m_y2)\n",
    "\n",
    "print('The Variance of A is ',Var_y1)\n",
    "\n",
    "print('The Variance of B is ',Var_y2)\n",
    "\n",
    "print('The Covariance of A and B is ',Covar_y12)\n",
    "\n",
    "print('Grubbs parameter :')\n",
    "print('mean of the b ',m_y1)\n",
    "print('The mean of beta is ',beta_0)\n",
    "print('The variance of b is ',Var_b)\n",
    "print('The variance of error variance of A is', Var_e1)\n",
    "\n",
    "print('The variance of Error variance of B is', Var_e2)\n",
    "\n",
    "\n"
   ]
  },
  {
   "cell_type": "markdown",
   "metadata": {},
   "source": [
    "## 1.6 (b)\n",
    "\n",
    "We know that the Maximum likelihood estimation of the paramters for linear regression model $Y=\\beta_0+\\beta_1 x + \\epsilon $\n",
    "\n",
    "where $\\epsilon$ is random noise variable x is arbitary and   $\\beta_0$  and $beta_1$ are some constants\n",
    "\n",
    "and $\\epsilon$ $\\sim$ $(0,\\sigma^2)$ then \n",
    "\n",
    "$$ \\bar \\beta_1 = \\frac {\\sum_{i=1}^{n} (x_i- \\bar x) (Y_i- \\bar Y)}{\\sum_{i=1}^{n} (x_i- \\bar x)^2} $$\n",
    "\n",
    "$$ \\bar \\beta_0 = \\bar y - \\bar \\beta_1 \\bar x $$\n",
    "\n",
    "$$ \\sigma ^2 = \\frac{1}{n} \\sum_{i=1}^{n} {( y_i - (\\bar \\beta_0 + \\bar \\beta_1 x_i))}^2 $$\n",
    "\n",
    "\n",
    "By using the above equations of maximum likelihood estimators we find the ML estimators for the A, B which have models\n",
    "\n",
    "$$ Y_{i_1}=b_i+e_{i_1} $$\n",
    "\n",
    "$$ Y_{i_2}= \\beta_{0}+b_i+e_{i_2} $$\n",
    "\n",
    "If we take the model of A  which is $ Y_{i_1}=b_i+e_{i_1} $ which can be written as $ Y_1=b+e_1 $ by taking i=1\n",
    "\n",
    "If we compare $ Y_1=b_i+e_1 $ with $Y=\\beta_0+\\beta_1 x + \\epsilon $ we can say that in our model $\\beta_0=0$ and $\\beta_1=1$\n",
    "\n",
    "and $b=x$, $y=y_1$\n",
    "\n",
    "if we substitute $\\beta_0=0$ , $\\beta_1=1$ and $b=x$ in\n",
    "$$ \\sigma ^2 = \\frac{1}{n} \\sum_{i=1}^{n} {( y_i - (\\bar \\beta_0 + \\bar \\beta_1 x_i))}^2 $$ \n",
    "\n",
    "we get $\\sigma ^2 = \\frac{1}{n} \\sum_{i=1}^{n} {( y_{1_i} + b_i)}^2$\n",
    "\n",
    "$$ \\textrm{this means } {\\sigma_{e_1}}^2 = \\frac{1}{n} \\sum_{i=1}^{n} {( y_{1_i} + b_i)}^2 $$\n",
    "\n",
    "$${\\sigma_{e_1}}^2 = 8112960.0 $$\n",
    "\n",
    "\n",
    "If we take the model of B  which is $ Y_{i_1}=\\beta_0+b_i+e_{i_2} $ which can be written as $ Y_2=\\beta_0+b+e_2 $ by taking i=2\n",
    "\n",
    "If we compare $ Y_2=\\beta_0+b+e_2 $ with $Y=\\beta_0+\\beta_1 x + \\epsilon $ we can say that in our model $\\beta_1=1$\n",
    "\n",
    "and $b=x$\n",
    "\n",
    "if we substitute $\\beta_1=1$ and $b=x$ , $Y_2=Y$ in $ \\bar \\beta_0 = \\bar y - \\bar \\beta_1 \\bar x $\n",
    "\n",
    "$$ \\bar \\beta_0 = \\bar y_2 - \\bar b $$\n",
    "\n",
    "where $\\bar b = \\bar Y_1$\n",
    "\n",
    "So $ \\bar \\beta_0 = \\bar y_2 - \\bar Y_1 $\n",
    "\n",
    "$$\\bar \\beta_0 = 17.0 $$\n",
    "\n",
    "From the equation $ \\sigma ^2 = \\frac{1}{n} \\sum_{i=1}^{n} {( y_i - (\\bar \\beta_0 + \\bar \\beta_1 x_i))}^2 $ if we substitute $\\beta_1=1$ and $b=x$ , $Y_2=Y$\n",
    "\n",
    "we get $\\sigma ^2 = \\frac{1}{n} \\sum_{i=1}^{n} {( y_{2_i} - (\\bar \\beta_0 + b_i)}^2$\n",
    "\n",
    "$$ \\textrm{this means } {\\sigma_{e_2}}^2 = \\sum_{i=1}^{n} {( y_{2_i} - (\\bar \\beta_0 + b_i)}^2 $$\n",
    "\n",
    "$${\\sigma_{e_2}}^2 = 289.0 $$\n",
    "\n",
    "\n",
    "\n",
    "From the ML estimates of Error variances we got the error variance of w.r.t A i.e e1 is 8112960 which is large that means the observed value will be very large than the actual value .So we can tell that the system is not precise and sensitivity is less.\n",
    "\n",
    "In the same way if We take the error variance w.r.t B i.e e2 is 289 which is less compared to the ML estimate of error variance of A i.e e1 so we can tell that the difference between the observed value and the actual value of A is very less compared to B.This means that the SYstem B is more precise and Effective than A.\n",
    " \n",
    "\n",
    "\n"
   ]
  },
  {
   "cell_type": "code",
   "execution_count": 40,
   "metadata": {},
   "outputs": [
    {
     "name": "stdout",
     "output_type": "stream",
     "text": [
      "The error variance of the estimator e1 by ML method is 1229236.36\n",
      "The estimate of beta_0 by ML method is  17.0\n",
      "The error variance of the estimator e2 by ML method is 43.79\n"
     ]
    }
   ],
   "source": [
    "import numpy as np\n",
    "\n",
    "Y_1=np.array([135,940,1075,925,2330,2870,1490,2110,650,1380,970,1000,1640,345,310])\n",
    "\n",
    "Y_2=np.array([165,910,1060,925,2290,2850,1425,2050,630,1370,1000,1000,1575,345,320])\n",
    "\n",
    "\n",
    "m_y1=np.mean(Y_1)\n",
    "var_e1=(round(sum((y_i + y_i)**2 for y_i in Y_1)/ (n),2))\n",
    "\n",
    "print('The error variance of the estimator e1 by ML method is', var_e1)\n",
    "\n",
    "m_y2=np.mean(Y_2)\n",
    "\n",
    "beta_0=m_y1-m_y2 \n",
    "\n",
    "print('The estimate of beta_0 by ML method is ',beta_0)\n",
    "\n",
    "var_e2=(round(sum((y_i - (beta_0+ y_i))**2 for y_i in Y_2)/(n),2))\n",
    "\n",
    "print('The error variance of the estimator e2 by ML method is', var_e2)\n"
   ]
  },
  {
   "cell_type": "markdown",
   "metadata": {},
   "source": [
    "## 1.6 (c)\n",
    "\n",
    "Although it is possible to get ML estimates of the error variances $\\sigma {ej}^2$ from the paired measurements, the estimates may be unreliable as they may have unrealistically large standard errors.\n",
    "\n",
    "In practice, it often happens that one estimate is zero (the smallest possible value for the variance) or near zero and the other is larger by several orders of magnitude (From the Exercise 1.6 (b) calculations we can see this). \n",
    "\n",
    "This gives the false impression that one method has nearperfect precision whereas the other is substantially worse. If we rule out the possibility that the precisions of the methods may truly differ by several orders of magnitude, then this phenomenon usually indicates one of two possibilities: \n",
    "either (1) an entirely wrong model is being fit to the data (e.g., the assumption of equal scales is incorrect), \n",
    "or\n",
    "(2) the model is reasonable, but the data do not have enough information to reliably estimate the error variances."
   ]
  },
  {
   "cell_type": "markdown",
   "metadata": {},
   "source": []
  },
  {
   "cell_type": "markdown",
   "metadata": {},
   "source": []
  },
  {
   "cell_type": "markdown",
   "metadata": {},
   "source": [
    "# Problem 3: Q 1.8\n",
    "\n",
    "Measurements of inferior pelvic infundibular (IPI) angle in degrees taken from 52 kidneys using computerized tomography (method 1) and urography (method 2) are given below. Urography offers a cheaper alternative to tomography for diagnosis and\n",
    "treatment of kidney stones (renal lithiasis).\n",
    "\n",
    "(a) Make a scatterplot and a BlandAltman plot.\n",
    "\n",
    "(b) Do these plots show any evidence of differences in fixed and proportional biases and precisions of the two methods?\n",
    "\n",
    "(c) Is there any evidence of heteroscedasticity or of outliers?\n",
    "\n",
    "\n"
   ]
  },
  {
   "cell_type": "markdown",
   "metadata": {},
   "source": [
    "## Solutions:"
   ]
  },
  {
   "cell_type": "code",
   "execution_count": 27,
   "metadata": {
    "scrolled": true
   },
   "outputs": [
    {
     "data": {
      "image/png": "[encoded data removed]",
      "text/plain": [
       "<matplotlib.figure.Figure at 0x16410e83470>"
      ]
     },
     "metadata": {},
     "output_type": "display_data"
    },
    {
     "data": {
      "image/png": "[encoded data removed]",
      "text/plain": [
       "<matplotlib.figure.Figure at 0x1640fb20a90>"
      ]
     },
     "metadata": {},
     "output_type": "display_data"
    },
    {
     "name": "stdout",
     "output_type": "stream",
     "text": [
      "systematic_error: -1.67307692308\n"
     ]
    }
   ],
   "source": [
    "method1 = [97, 77, 74, 59, 79, 85, 78, 78, 68, 96, 74, 64, 76, 60, 78, 71, 67,\n",
    "           103, 95, 78, 70, 80, 78, 102, 102, 77, 45, 60, 50, 94, 91, 66, 63, \n",
    "           65, 58, 75, 105, 65, 80, 90, 58, 75, 83, 78, 85, 65, 90, 76, 100, 65, 40, 53]\n",
    "\n",
    "method2 = [100, 58, 95, 55, 79, 95, 60, 88, 68, 94, 60, 64, 88, 57, 66, 67, 76, 95,\n",
    "          85, 105, 80, 85, 82, 102, 100, 75, 40, 70, 63, 103, 95, 80, 72, 68, 48, 70,\n",
    "          90, 60, 80, 96, 54, 80, 88, 70, 90, 79, 100, 85, 108, 53, 58, 49]\n",
    "\n",
    "# Scatter plot\n",
    "plt.scatter(method1, method2, color=\"red\")\n",
    "plt.plot((30, 120), (30, 120), 'b--')\n",
    "plt.title(\"Scatter plot\")\n",
    "plt.show()\n",
    "\n",
    "#Bland Altman plot\n",
    "means = np.mean([method1, method2], axis=0)\n",
    "differences = np.array(method1) - np.array(method2)\n",
    "mean_of_difference = np.mean(differences)\n",
    "std_of_difference = np.std(differences, axis=0)\n",
    "\n",
    "plt.figure()\n",
    "plt.title(\"Bland Altman plot\")\n",
    "plt.scatter(means, differences, color=\"green\")\n",
    "plt.axhline(mean_of_difference, color=\"gray\", linestyle=\"--\")\n",
    "plt.axhline(mean_of_difference + 2 * std_of_difference, color=\"blue\", linestyle=\"--\")\n",
    "plt.axhline(mean_of_difference - 2 * std_of_difference, color=\"blue\", linestyle=\"--\")\n",
    "plt.axhline(0, color=\"black\", linestyle=\"--\")\n",
    "plt.show()\n",
    "\n",
    "systematic_error = mean_of_difference\n",
    "print(\"systematic_error:\", systematic_error)"
   ]
  },
  {
   "cell_type": "markdown",
   "metadata": {},
   "source": [
    "b- From the first scatter plot, we might think that there is a correlation between the 2 methods, but in reality, this doesn't tell us anything about the systematic error and the random error. Having similar characteristics is not enough for good agreement between methods. In other words, having a cluster of points around a line makes it hard to see any patterns that may be present. On the other, with scatter plot differences vs. means, helps in realizing key features of disagreement such as fixed and proportional biases. From the above figure, we can see that we have a fixed bias of -1.67. This is not obvious from the scatter plot alone. On the other hand, it seems that there is no proportional bias.\n",
    "\n",
    "c- From Bland Altman plot, we cannot see any evidence of heteroscedasticity. On the other hand, we can assume the existance of outliers, especially for those lying outside mean +/- 2*std. "
   ]
  },
  {
   "cell_type": "markdown",
   "metadata": {},
   "source": [
    "# Problem 4: Q 1.9 \n",
    "Table 1.5 shows the estimated fat content (g/100 ml) of human milk measured using the standard Gerber method (method 1) and a procedure that measures the\n",
    "amount of glycerol released by enzymic hydrolysis of triglycerides (method 2). The second method requires only 10–50 microliters of milk and is suitable for use with\n",
    "autoanalyzers, permitting rapid sample throughput.\n",
    "\n",
    "(a) Make a scatterplot and the BlandAltman plot for these data.\n",
    "\n",
    "(b) Do these plots show any evidence of differences in fixed and proportional biases and precisions of the two methods? Explain.\n",
    "\n",
    "(c) Is there any evidence of heteroscedasticity or of outliers? Explain.\n",
    "\n",
    "(d) You should notice a linear trend in the BlandAltman plot. Discuss whether the trend may be due to a difference in proportional biases or precisions or both.\n",
    "\n",
    "(e) Make a ratio plot of these data. Does this plot also show a linear trend? If yes, explain what this may suggest about the cause of the trend.\n",
    "\n",
    "(f) Make a BlandAltman plot of logtransformed data. Does this plot also show a linear trend? Explain.\n",
    "    \n",
    "Refer table 1.5 on Page 50"
   ]
  },
  {
   "cell_type": "markdown",
   "metadata": {},
   "source": [
    "## Solutions:"
   ]
  },
  {
   "cell_type": "code",
   "execution_count": null,
   "metadata": {},
   "outputs": [],
   "source": [
    "#First we store the data in a list\n",
    "\n",
    "fat_content = [[0.85,0.96],[1.0,1.16],[1.0,0.97],[1.0,1.01],[1.2,1.25],[1.2,1.22],[1.38,1.46],[1.65,1.66],[1.68,1.75],[1.7,1.72],[1.7,1.67],[1.7,1.67],[1.88,1.93],[2.0,1.99],[2.05,2.01],\n",
    "               [2.17,2.28],[2.2,2.15],[2.28,2.29],[2.43,2.45],[2.55,2.4],[2.6,2.79],[2.65,2.77],[2.67,2.64],[2.7,2.73],[2.7,2.67],[2.7,2.61],[3.0,3.01],[3.02,2.93],[3.03,3.18],[3.11,3.18],\n",
    "               [3.15,3.19],[3.15,3.12],[3.4,3.33],[3.42,3.51],[3.62,3.66],[3.95,3.95],[4.27,4.2],[4.3,4.05],[4.35,4.3],[4.75,4.74],[4.79,4.71],[4.8,4.71],[4.8,4.74],[5.42,5.23],[6.2,6.21]]\n",
    "\n",
    "method1 = []\n",
    "method2 = []\n",
    "diff = []\n",
    "aver = []\n",
    "x = np.arange(8)\n",
    "for fc in fat_content:\n",
    "    method1.append(fc[0])\n",
    "    method2.append(fc[1])\n",
    "    diff.append(fc[1] - fc[0])\n",
    "    aver.append((fc[0]+fc[1])/2)\n",
    "\n",
    "plt.figure(1)\n",
    "plt.subplot(211)\n",
    "plt.plot(method1, method2, 'ro',x,'b--')\n",
    "plt.title('Scatterplot')\n",
    "\n",
    "plt.subplot(212)\n",
    "plt.plot(aver,diff,'bo')\n",
    "plt.hlines(y = 0,xmin = 0, xmax = 8)\n",
    "plt.title('Bland-Altman Plot')\n",
    "plt.show()\n",
    "### (b) Does the plots show any evidence of differences in fixed and proportional biases and precisions of the two methods? Explain.\n",
    "\n",
    "+ From the scatterplot, we can see that the two methods have a perfect agreement, thebivariate distribution of (Y1, Y2)is concentrated on the line.\n",
    "\n",
    "+ There is a downward linear trend in the Bland-Altman plot, so the second method (Gerber method) is more precise than the first method.\n",
    "\n",
    "### (c) Is there any evidence of heteroscedasticity or of outliers? Explain.\n",
    "\n",
    "+ Heteroscedasticity refers to a change in the vertical scatter of the plot as the average increases, which likes a fan shape. But we can not find the change in the figure. So there is no evidence of heteroscedasticity. \n",
    "\n",
    "### (d) You should notice a linear trend in the Bland-Altman plot. Discuss whether the trend may be due to a difference in proportional biases or precisions or both.\n",
    "\n",
    "+ The linear trend in the Bland-Altman plot suggest that the difference may be in proportional biases.\n",
    "\n",
    "### (e) Make a ratio plot of these data. Does this plot also show a linear trend? If yes, explain what this may suggest about the cause of the trend.\n",
    "\n",
    "\n",
    "# Calculate the Y2/Y1 ratio\n",
    "ratio = np.divide(method2,method1)\n",
    "\n",
    "# Draw the ratio plot\n",
    "plt.plot(aver,ratio,'bo')\n",
    "plt.hlines(y = 0,xmin = 0, xmax = 6)\n",
    "plt.title('Ratio Bland-Altman Plot')\n",
    "plt.show()+ It can be indicated from the above ratio plot, there is still a linear trend. The points are not centered at zeros, it suggest that after the ratio transform the difference is in **fixed biases**.\n",
    "\n",
    "### (f) Make a Bland-Altman plot of log-transformed data. Does this plot also show a linear trend? Explain\n",
    "\n",
    "log_method1 = np.log(method1)\n",
    "log_method2 = np.log(method2)\n",
    "log_diff = []\n",
    "log_aver = []\n",
    "for i in range(len(method1)):\n",
    "    log_diff.append(log_method2[i] - log_method1[i])\n",
    "    log_aver.append((log_method2[i] + log_method1[i])/2)\n",
    "\n",
    "\n",
    "# Draw the ratio plot\n",
    "plt.plot(log_aver,log_diff,'bo')\n",
    "plt.hlines(y = 0,xmin = 0, xmax = 3)\n",
    "plt.title('Log Bland-Altman Plot')\n",
    "plt.show()\n",
    "\n",
    "+ There is still a linear trend in the plot and the points are not centered at zeros\n",
    "\n",
    "+ It indicates that, after the log-transformed, the difference is caused by **proportional bias**."
   ]
  },
  {
   "cell_type": "markdown",
   "metadata": {},
   "source": [
    "### (b) Does the plots show any evidence of differences in fixed and proportional biases and precisions of the two methods? Explain.\n",
    "\n",
    "+ From the scatterplot, we can see that the two methods have a perfect agreement, thebivariate distribution of (Y1, Y2)is concentrated on the line.\n",
    "\n",
    "+ There is a downward linear trend in the Bland-Altman plot, so the second method (Gerber method) is more precise than the first method.\n",
    "\n",
    "### (c) Is there any evidence of heteroscedasticity or of outliers? Explain.\n",
    "\n",
    "+ Heteroscedasticity refers to a change in the vertical scatter of the plot as the average increases, which likes a fan shape. But we can not find the change in the figure. So there is no evidence of heteroscedasticity. \n",
    "\n",
    "### (d) You should notice a linear trend in the Bland-Altman plot. Discuss whether the trend may be due to a difference in proportional biases or precisions or both.\n",
    "\n",
    "+ The linear trend in the Bland-Altman plot suggest that the difference may be in proportional biases.\n",
    "\n",
    "### (e) Make a ratio plot of these data. Does this plot also show a linear trend? If yes, explain what this may suggest about the cause of the trend.\n",
    "\n",
    "\n"
   ]
  },
  {
   "cell_type": "code",
   "execution_count": 44,
   "metadata": {},
   "outputs": [
    {
     "data": {
      "image/png": "[encoded data removed]",
      "text/plain": [
       "<matplotlib.figure.Figure at 0x1160fedd8>"
      ]
     },
     "metadata": {},
     "output_type": "display_data"
    }
   ],
   "source": [
    "# Calculate the Y2/Y1 ratio\n",
    "ratio = np.divide(method2,method1)\n",
    "\n",
    "# Draw the ratio plot\n",
    "plt.plot(aver,ratio,'bo')\n",
    "plt.hlines(y = 0,xmin = 0, xmax = 6)\n",
    "plt.title('Ratio Bland-Altman Plot')\n",
    "plt.show()"
   ]
  },
  {
   "cell_type": "markdown",
   "metadata": {},
   "source": [
    "+ It can be indicated from the above ratio plot, there is still a linear trend. The points are not centered at zeros, it suggest that after the ratio transform the difference is in **fixed biases**."
   ]
  },
  {
   "cell_type": "markdown",
   "metadata": {},
   "source": [
    "### (f) Make a Bland-Altman plot of log-transformed data. Does this plot also show a linear trend? Explain"
   ]
  },
  {
   "cell_type": "code",
   "execution_count": 45,
   "metadata": {},
   "outputs": [
    {
     "data": {
      "image/png": "[encoded data removed]",
      "text/plain": [
       "<matplotlib.figure.Figure at 0x118ea0eb8>"
      ]
     },
     "metadata": {},
     "output_type": "display_data"
    }
   ],
   "source": [
    "log_method1 = np.log(method1)\n",
    "log_method2 = np.log(method2)\n",
    "log_diff = []\n",
    "log_aver = []\n",
    "for i in range(len(method1)):\n",
    "    log_diff.append(log_method2[i] - log_method1[i])\n",
    "    log_aver.append((log_method2[i] + log_method1[i])/2)\n",
    "\n",
    "\n",
    "# Draw the ratio plot\n",
    "plt.plot(log_aver,log_diff,'bo')\n",
    "plt.hlines(y = 0,xmin = 0, xmax = 3)\n",
    "plt.title('Log Bland-Altman Plot')\n",
    "plt.show()"
   ]
  },
  {
   "cell_type": "markdown",
   "metadata": {},
   "source": [
    "+ There is still a linear trend in the plot and the points are not centered at zeros\n",
    "\n",
    "+ It indicates that, after the log-transformed, the difference is caused by **proportional bias**."
   ]
  },
  {
   "cell_type": "markdown",
   "metadata": {},
   "source": []
  },
  {
   "cell_type": "markdown",
   "metadata": {},
   "source": [
    "# Problem 5: Q 4.2 \n",
    "Consider the mixed effects model:\n",
    "$$Y_{i1} = b_i + e_{i1}$$\n",
    "\n",
    "$$Y_{i2} = \\beta_0 + b_i + e_{i2} \\\\ for \\ i=1,\\dots,n$$\n",
    "\n",
    "\n",
    "\n",
    "(a) Show that ML estimators of $\\beta_{0}$ and $\\mu_{b}$ are given by (4.3).\n",
    "\n",
    "(b) Show that if $\\hat{\\sigma_{1}^{2}} , \\hat{\\sigma_{2}^{2}} , \\hat{\\sigma_{12}}$ defined in (4.8) are such that  \n",
    "$\\hat{\\sigma_{12}} > 0 $ and  $\\hat{\\sigma_{1}^{2}} - \\hat{\\sigma_{12}} $ , $\\hat{\\sigma_{2}^{2}} - \\hat{\\sigma_{12}}\\geq 0$ \n",
    "then ML estimators of $(\\hat{\\sigma_{b}^{2}}, \\hat{\\sigma_{e1}^{2}},\\hat{\\sigma_{e2}^{2}}$ are \n",
    "$ \\hat{\\sigma_{b}^{2}}=\\hat{\\sigma_{12}}$ , $\\hat{\\sigma_{e1}^{2}}=\\hat{\\sigma_{1}^{2}} - \\hat{\\sigma_{12}}$\n",
    "$ \\hat{\\sigma_{e2}^{2}}=\\hat{\\sigma_{2}^{2}} - \\hat{\\sigma_{12}}$                                                                        \n",
    "    \n",
    "(c) Can these $(\\hat{\\sigma_{b}^{2}},\\hat{\\sigma_{e1}^{2}},\\hat{\\sigma_{e2}^{2}})$ still be ML estimators if the non-negativity\n",
    "restriction does not hold? If not, how can they be obtained? <br>\n",
    "\n"
   ]
  },
  {
   "cell_type": "markdown",
   "metadata": {},
   "source": [
    "## Solutions:"
   ]
  },
  {
   "cell_type": "markdown",
   "metadata": {},
   "source": [
    "a)\n",
    "From the definition of the mixed-effect model, we can have $Y_1 \\sim N(\\mu_b, \\sigma_b^2+\\sigma_{e1}^2)$. Thus, the likelihood is is\n",
    "\\begin{align}\n",
    "L=\\prod_{i=1}^n \\frac{1}{\\sqrt{2\\pi(\\sigma_b^2+\\sigma_{e1}^2)}}e^{-\\frac{(Y_{i1}-\\mu_b)^2}{2(\\sigma_b^2+\\sigma_{e1}^2)}}=\\frac{1}{(2\\pi(\\sigma_b^2+\\sigma_{e1}^2))^{\\frac{n}{2}}} e^{-\\frac{1}{2(\\sigma_b^2+\\sigma_{e1}^2)}\\sum_{i=1}^n (Y_{i1}-\\mu_b)^2}.\n",
    "\\end{align}\n",
    "Thus, the log-likelihood is\n",
    "\\begin{align}\n",
    "LL=-\\frac{n}{2}\\log(2\\pi\\sigma_b^2+\\sigma_{e1}^2) - \\frac{1}{2(\\sigma_b^2+\\sigma_{e1}^2)}\\sum_{i=1}^n (Y_{i1}-\\mu_b)^2.\n",
    "\\end{align}\n",
    "\n",
    "Take the partial derivative of LL w.r.t. $\\mu_b$, we have\n",
    "\\begin{align}\n",
    "\\frac{\\partial LL}{\\partial \\mu_b} = \\frac{1}{\\sigma_b^2 + \\sigma_{e1}^2}(\\sum_{i=1}^n (Y_{i1}) - n\\mu_b).\n",
    "\\end{align}\n",
    "Letting it equal to zero, we thus have $\\hat{\\mu}_b = \\frac{1}{n} \\sum_{i=1}^n Y_{i1} = \\bar{Y_{1}}$ \n",
    "\n",
    "Similarly, we know that $Y_2 \\sim N(\\beta_0 + \\mu_b, \\sigma_b^2 + \\sigma_{e2}^2)$. The log-likelihood is\n",
    "\\begin{align}\n",
    "LL=-\\frac{n}{2}\\log(2\\pi\\sigma_b^2+\\sigma_{e1}^2) - \\frac{1}{2(\\sigma_b^2+\\sigma_{e1}^2)}\\sum_{i=1}^n (Y_{i1}-\\beta_0-\\mu_b)^2.\n",
    "\\end{align}\n",
    "Take its partial derivative w.r.t. $\\beta_0$ and make it zero, we thus have\n",
    "\\begin{align}\n",
    "\\hat{\\beta}_0 = \\frac{1}{n} \\sum_{i=1}^n (Y_{i2}) - \\hat{\\mu}_b = \\bar{Y}_{2} - \\hat{\\mu}_b.\n",
    "\\end{align}\n"
   ]
  },
  {
   "cell_type": "markdown",
   "metadata": {},
   "source": [
    "b) \n",
    "\n",
    "if we follow the aformentioned assumption, then the model follow a bivariate normal distribution. Hence from:\n",
    "\n",
    "$\\begin{bmatrix} \\overline{Y_{i1}}\\\\ \\overline{Y_{i2}} \\end{bmatrix} = \\begin{bmatrix}\n",
    "\\mu_b \\\\\n",
    "\\mu_b + \\beta_0 \\\\\n",
    "\\end{bmatrix}$\n",
    "\n",
    "And a covariance matrix:\n",
    "\n",
    "$\\begin{bmatrix}\n",
    "S_1^2 & S_{12}\\\\ S_{12} & S_2^2 \n",
    "\\end{bmatrix} =\n",
    "\\begin{bmatrix}\n",
    "\\sigma_b^2 + \\sigma_{e_1}^2 & \\sigma_b^2 \\\\\n",
    "\\sigma_b^2 & \\sigma_b^2 + \\sigma_{e_1}^2\\\\\n",
    "\\end{bmatrix}$\n",
    "\n",
    "Therefore, we can conclude that: $$\\hat{\\sigma}_b^2 = S_{12} = \\hat{\\sigma}_{12}$$\n",
    "\n",
    "Likewise,\n",
    "\n",
    "$$\\hat{\\sigma}_{e1}^2 = \\hat{\\sigma}_1^2 - \\hat{S}_{12} = \\hat{\\sigma}_1^2 - \\hat{\\sigma}_{12}$$\n",
    "\n",
    "And \n",
    "\n",
    "$$\\hat{\\sigma}_{e2}^2 = \\hat{\\sigma}_2^2 - \\hat{S}_{12} = \\hat{\\sigma}_2^2 - \\hat{\\sigma}_{12}$$"
   ]
  },
  {
   "cell_type": "code",
   "execution_count": 29,
   "metadata": {},
   "outputs": [],
   "source": [
    "import numpy as np\n",
    "import scipy\n",
    "from scipy import stats\n",
    "from astroML.stats import fit_bivariate_normal\n",
    "from astroML.stats.random import bivariate_normal\n",
    "\n",
    "\n",
    "import numpy as np\n",
    "import scipy.io as sio\n",
    "import pandas as pd\n",
    "\n",
    "import statsmodels.api as sm\n",
    "import statsmodels.formula.api as smf\n",
    "import scipy as sp\n",
    "\n",
    "import scipy.stats as st\n",
    "import statsmodels.stats.api as sms"
   ]
  },
  {
   "cell_type": "code",
   "execution_count": 37,
   "metadata": {
    "scrolled": false
   },
   "outputs": [
    {
     "name": "stdout",
     "output_type": "stream",
     "text": [
      "S_12: 74.41840277777779\n",
      "S_1^2: 74.56734375\n",
      "S_2^2: 75.71527777777777\n",
      "\n",
      "var_b: 74.41840277777779\n",
      "var_e1: 0.14894097222222058\n",
      "var_e2: 1.2968749999999858\n"
     ]
    }
   ],
   "source": [
    "oxy=pd.read_csv('oxygen_saturation.txt', sep='\\t', header = 0)\n",
    "# data frame with two columns --- second = method 1, first = method 2\n",
    "z=oxy.as_matrix(columns=None)\n",
    "x,y=z[:,1],z[:,0]\n",
    "\n",
    "# alpha: The rotation angle in radians of the uncorrelated frame\n",
    "(mu_nr, sigma1_nr,sigma2_nr, alpha_nr) = fit_bivariate_normal(x, y, robust=False)\n",
    "\n",
    "np.random.seed(0)\n",
    "xx, cov = bivariate_normal(mu_nr, sigma1_nr, sigma2_nr, alpha_nr, size=10000,\n",
    "                          return_cov=True)\n",
    "\n",
    "# Note that these estimated values are for Y_1 and Y_2\n",
    "sigma1 = np.sqrt(cov[0, 0])\n",
    "sigma2 = np.sqrt(cov[1, 1])\n",
    "sigma12 = cov[0, 1]\n",
    "corr=sigma12/(sigma1*sigma2)\n",
    "Mu1=mu_nr[0]\n",
    "Mu2=mu_nr[1]\n",
    "\n",
    "print(\"S_12: {}\".format(sigma12))\n",
    "print(\"S_1^2: {}\".format(sigma1**2))\n",
    "print(\"S_2^2: {}\".format(sigma2**2))\n",
    "\n",
    "# Therefore, our assumption hold => var_y_1 > S_12, and var_y_2 > S_12\n",
    "# Therefore, variance of true data:\n",
    "var_b = sigma12\n",
    "var_e1 = sigma1**2 - sigma12\n",
    "var_e2 = sigma2**2 - sigma12\n",
    "\n",
    "print()\n",
    "print(\"var_b: {}\".format(var_b))\n",
    "print(\"var_e1: {}\".format(var_e1))\n",
    "print(\"var_e2: {}\".format(var_e2))"
   ]
  },
  {
   "cell_type": "code",
   "execution_count": null,
   "metadata": {},
   "outputs": [],
   "source": []
  },
  {
   "cell_type": "markdown",
   "metadata": {},
   "source": [
    "# Problem 6: Q 4.5 \n",
    "Consider the log scale plasma volume data (Sections 1.13.2 and 4.4.2).\n",
    "\n",
    "(a) Fit both models (4.1) and (4.6), and verify the results in Table 4.2.\n",
    "\n",
    "(b) Find the standard error of estimated precision ratio  $\\hat{\\lambda}$. Do you think  $\\lambda$ is estimated well? Explain.\n",
    "\n",
    "(c) Check adequacy of both models. Be sure to evaluate the normality assumption."
   ]
  },
  {
   "cell_type": "markdown",
   "metadata": {
    "collapsed": true
   },
   "source": [
    "## Solutions:4.5 (a)"
   ]
  },
  {
   "cell_type": "code",
   "execution_count": 42,
   "metadata": {},
   "outputs": [
    {
     "name": "stdout",
     "output_type": "stream",
     "text": [
      "Bivariate Normal Model Parameter estimate\n",
      "#########################################\n",
      "Mu1= 4.47891769355\n",
      "Mu2= 4.57781752869\n",
      "log(sig_1_sq)= -3.67473698574\n",
      "log(sig_2_sq)= -3.68107099658\n",
      "#########################################\n",
      "\n",
      "\n",
      "######################\n",
      "Similarity Evaluation\n",
      "######################\n",
      "beta0 or mu2-mu21: 0.0988998351464\n",
      "sigma2^2/sigma1^2: 0.993686006724\n",
      "\n",
      "######################\n",
      "Agreement Evaluation\n",
      "######################\n",
      "CCC 0.830154174874\n",
      "TDI 0.134216413886\n",
      "\n",
      "######################\n",
      "%95 Confidence interval:\n",
      "######################\n",
      "(array([ 4.52693416,  4.52692641]), array([ 4.53312761,  4.53313536]))\n",
      "\n",
      "##################################################################\n",
      "Agreement Evaluation after recalibration\n",
      "##################################################################\n",
      "CCC after recalibration 0.558515725093\n",
      "TDI after recalibration 0.233116249033\n"
     ]
    }
   ],
   "source": [
    "################################################\n",
    "# Plasma Volume Data        #\n",
    "################################################\n",
    "import numpy as np\n",
    "import scipy\n",
    "from scipy import stats\n",
    "from astroML.stats import fit_bivariate_normal\n",
    "from astroML.stats.random import bivariate_normal\n",
    "\n",
    "\n",
    "import numpy as np\n",
    "import scipy.io as sio\n",
    "import pandas as pd\n",
    "\n",
    "import statsmodels.api as sm\n",
    "import statsmodels.formula.api as smf\n",
    "import scipy as sp\n",
    "\n",
    "import scipy.stats as st\n",
    "import statsmodels.stats.api as sms\n",
    "################################################\n",
    "# plasma volume Data        #\n",
    "################################################\n",
    "plasma=np.log(pd.read_csv('plasma_volume.txt', sep='\\t', header = 0))\n",
    "# data frame with two columns --- second = method 1, first = method 2\n",
    "z=plasma.as_matrix(columns=None)\n",
    "#x-method2, y-method1\n",
    "x,y=z[:,0],z[:,1]\n",
    "\n",
    "\n",
    "\n",
    "########################################################################\n",
    "# Analysis based on bivariate normal model     #\n",
    "########################################################################\n",
    "(mu_nr, sigma1_nr,sigma2_nr, alpha_nr) = fit_bivariate_normal(x, y, robust=False)\n",
    "\n",
    "np.random.seed(0)\n",
    "xx, cov = bivariate_normal(mu_nr, sigma1_nr, sigma2_nr, alpha_nr, size=10000,\n",
    "                          return_cov=True)\n",
    "\n",
    "\n",
    "sigma2 = np.sqrt(cov[0, 0])\n",
    "sigma1 = np.sqrt(cov[1, 1])\n",
    "sigma12 = cov[0, 1]\n",
    "corr=sigma12/(sigma1*sigma2)\n",
    "Mu2=mu_nr[0]\n",
    "Mu1=mu_nr[1]\n",
    "\n",
    "###########\n",
    "\n",
    "print('Bivariate Normal Model Parameter estimate')\n",
    "print('#########################################')\n",
    "print('Mu1=',Mu1)\n",
    "print('Mu2=',Mu2)\n",
    "print('log(sig_1_sq)=',np.log(cov[1,1]))\n",
    "print('log(sig_2_sq)=',np.log(cov[0,0]))\n",
    "                         \n",
    "print('#########################################')\n",
    "print('')\n",
    "###############################################################################\n",
    "# Agreement Evaluation #\n",
    "###############################################################################\n",
    "## Computing CCC  #\n",
    "###################\n",
    "CCC=(2*(sigma12))/((Mu1-Mu2)**2+sigma1**2+sigma2**2)\n",
    "D=np.abs(x-y)\n",
    "TDI=np.percentile(D, (100*0.95))\n",
    "print('')\n",
    "print(\"######################\")  \n",
    "print(\"Similarity Evaluation\") \n",
    "print(\"######################\")  \n",
    "print(\"beta0 or mu2-mu21:\",Mu2-Mu1) \n",
    "print(\"sigma2^2/sigma1^2:\",sigma2**2/sigma1**2) \n",
    "print('')\n",
    "print(\"######################\")  \n",
    "print(\"Agreement Evaluation\") \n",
    "print(\"######################\")  \n",
    "print(\"CCC\",CCC) \n",
    "print(\"TDI\",TDI) \n",
    "\n",
    "###############################################################################\n",
    "# confidence intervals\n",
    "###############################################################################\n",
    "\n",
    "\n",
    "\n",
    "def mean_confidence_interval(data, confidence=0.95):\n",
    "    a = 1.0*np.array(data)\n",
    "    n = len(a)\n",
    "    m, se = np.mean(a), scipy.stats.sem(a)\n",
    "    h = se * sp.stats.t._ppf((1+confidence)/2., n-1)\n",
    "    return (m-h, m+h)\n",
    "print('')\n",
    "print(\"######################\")  \n",
    "print(\"%95 Confidence interval:\")\n",
    "print(\"######################\")\n",
    "print(mean_confidence_interval(xx, confidence=0.95))\n",
    "\n",
    "\n",
    "a = xx\n",
    "mean_confidence_interval(a)\n",
    "st.t.interval(0.95, len(a)-1, loc=np.mean(a), scale=st.sem(a))\n",
    "sms.DescrStatsW(a).tconfint_mean()\n",
    "\n",
    "###############################################################################\n",
    "# after recalibration #\n",
    "###############################################################################\n",
    "difMu=Mu2-Mu1\n",
    "y_recalib=y-difMu\n",
    "\n",
    "(mu_nr2, sigma1_nr2,sigma2_nr2, alpha_nr2) = fit_bivariate_normal(x, y_recalib, robust=False)\n",
    "\n",
    "np.random.seed(0)\n",
    "xx2, cov2 = bivariate_normal(mu_nr2, sigma1_nr2, sigma2_nr2, alpha_nr2, size=1000,\n",
    "                          return_cov=True)\n",
    "\n",
    "\n",
    "sigma1_recalib = np.sqrt(cov2[0, 0])\n",
    "sigma2_recalib= np.sqrt(cov2[1, 1])\n",
    "sigma12_recalib= cov2[0, 1]\n",
    "corr_recalib=sigma12_recalib/(sigma1_recalib*sigma2_recalib)\n",
    "Mu1_recalib=mu_nr2[0]\n",
    "Mu2_recalib=mu_nr2[1]\n",
    "\n",
    "###############################################################################\n",
    "# evaluation of agreement after recalibration #\n",
    "###############################################################################\n",
    "## Computing CCC  #\n",
    "###################\n",
    "CCC2=(2*(sigma12_recalib))/((Mu1_recalib-Mu2_recalib)**2+sigma1_recalib**2+sigma2_recalib**2)\n",
    "D2=np.abs(x-y_recalib)\n",
    "TDI2=np.percentile(D2, (100*0.95))\n",
    "print('')\n",
    "print(\"##################################################################\")  \n",
    "print(\"Agreement Evaluation after recalibration\") \n",
    "print(\"##################################################################\")  \n",
    "print(\"CCC after recalibration\",CCC2) \n",
    "print(\"TDI after recalibration\",TDI2)"
   ]
  },
  {
   "cell_type": "code",
   "execution_count": 43,
   "metadata": {},
   "outputs": [
    {
     "name": "stdout",
     "output_type": "stream",
     "text": [
      "        Mixed Linear Model Regression Results\n",
      "======================================================\n",
      "Model:            MixedLM Dependent Variable: NObs    \n",
      "No. Observations: 99      Method:             REML    \n",
      "No. Groups:       87      Scale:              0.0005  \n",
      "Min. group size:  1       Likelihood:         231.0610\n",
      "Max. group size:  3       Converged:          Yes     \n",
      "Mean group size:  1.1                                 \n",
      "------------------------------------------------------\n",
      "             Coef. Std.Err.   z    P>|z| [0.025 0.975]\n",
      "------------------------------------------------------\n",
      "Intercept    0.154    0.062  2.500 0.012  0.033  0.275\n",
      "HObs         0.988    0.014 71.741 0.000  0.961  1.015\n",
      "groups RE    0.000    0.009                           \n",
      "======================================================\n",
      "\n"
     ]
    },
    {
     "name": "stderr",
     "output_type": "stream",
     "text": [
      "C:\\Users\\HP\\Anaconda3\\lib\\site-packages\\statsmodels\\regression\\mixed_linear_model.py:2019: ConvergenceWarning: The MLE may be on the boundary of the parameter space.\n",
      "  warnings.warn(msg, ConvergenceWarning)\n"
     ]
    }
   ],
   "source": [
    "################################################\n",
    "# Analysis based on mixed-effects model       #\n",
    "# Please note that this part does not work    #\n",
    "################################################\n",
    "  # model fitting\n",
    "\n",
    "#%%R\n",
    "#results<-bvn.fit(oxy)\n",
    "md = smf.mixedlm(\"NObs ~ HObs\", plasma, groups=plasma[\"HObs\"])\n",
    "mdf = md.fit()\n",
    "#mdl=md.loglike()\n",
    "print(mdf.summary())\n",
    "#print(mdl.summary())"
   ]
  },
  {
   "cell_type": "code",
   "execution_count": 44,
   "metadata": {},
   "outputs": [
    {
     "name": "stdout",
     "output_type": "stream",
     "text": [
      "Mixed-Effects model fitting\n",
      "\n",
      "u_b= 4.47891769355\n",
      "beta0= 0.0988998351464\n",
      "log(sig_b_sq)= -3.67701095675\n",
      "log(sig_1_sq)= -8.05872801864\n",
      "log(sig_2_sq)= -8.77468765251\n"
     ]
    }
   ],
   "source": [
    "################################################\n",
    "# Analysis based on mixed-effects model       #\n",
    "\n",
    "import numpy as np\n",
    "plasma=np.log(pd.read_csv('plasma_volume.txt', sep='\\t', header = 0))\n",
    "# data frame with two columns --- second = method 1, first = method 2\n",
    "z=plasma.as_matrix(columns=None)\n",
    "#x-method2, y-method1\n",
    "x,y=z[:,0],z[:,1]\n",
    "\n",
    "Y_1=y\n",
    "\n",
    "Y_2=x\n",
    "\n",
    "mean_y1=np.mean(Y_1)\n",
    "\n",
    "mean_y2=np.mean(Y_2)\n",
    "\n",
    "n=len(Y_1)\n",
    "\n",
    "Variance_y1=np.var(Y_1)\n",
    "\n",
    "Variance_y2=np.var(Y_2)\n",
    "\n",
    "Covariancem_y12=np.cov(Y_1,Y_2)\n",
    "\n",
    "Covariance_y12=Covariancem_y12[0][1]\n",
    "\n",
    "Variance_y1=Covariancem_y12[0][0]\n",
    "\n",
    "Variance_y2=Covariancem_y12[1][1]\n",
    "\n",
    "meanu_b=mean_y1\n",
    "\n",
    "beta_0=mean_y2-mean_y1\n",
    "\n",
    "Variance_e1=Variance_y1-Covariance_y12\n",
    "\n",
    "Variance_e2=Variance_y2-Covariance_y12\n",
    "\n",
    "Variance_b=Covariance_y12\n",
    "\n",
    "print('Mixed-Effects model fitting')\n",
    "print('')\n",
    "\n",
    "print('u_b=',meanu_b)\n",
    "print('beta0=',beta_0)\n",
    "print('log(sig_b_sq)=',np.log(Variance_b))\n",
    "print('log(sig_1_sq)=',np.log(Variance_e1))\n",
    "print('log(sig_2_sq)=',np.log(Variance_e2))\n"
   ]
  },
  {
   "cell_type": "markdown",
   "metadata": {},
   "source": [
    "## 4.5(b)"
   ]
  },
  {
   "cell_type": "code",
   "execution_count": 45,
   "metadata": {},
   "outputs": [
    {
     "name": "stdout",
     "output_type": "stream",
     "text": [
      "lambda = 2.04614929459\n",
      "Standard deviation of the estimated precision ratio is  2.04614929459\n"
     ]
    }
   ],
   "source": [
    "print('lambda =',Variance_e1/Variance_e2)\n",
    "print('Standard deviation of the estimated precision ratio is ',(Variance_e1*(np.sqrt(2/(n-1))))/(Variance_e2*(np.sqrt(2/(n-1)))))"
   ]
  },
  {
   "cell_type": "markdown",
   "metadata": {},
   "source": [
    "\n",
    "As we can see the standard error of the estimated precision ratio is large.By this we can say that it is not estimated well.\n"
   ]
  },
  {
   "cell_type": "markdown",
   "metadata": {
    "collapsed": true
   },
   "source": [
    "## 4.5(c)"
   ]
  },
  {
   "cell_type": "code",
   "execution_count": 46,
   "metadata": {},
   "outputs": [
    {
     "data": {
      "image/png": "[encoded data removed]",
      "text/plain": [
       "<matplotlib.figure.Figure at 0x22735f9bb70>"
      ]
     },
     "execution_count": 46,
     "metadata": {},
     "output_type": "execute_result"
    }
   ],
   "source": [
    "import statsmodels.api as sm\n",
    "ppx=sm.ProbPlot(x)\n",
    "ppy=sm.ProbPlot(y)\n",
    "sm.qqplot_2samples(ppx,ppy,line='45')"
   ]
  },
  {
   "cell_type": "markdown",
   "metadata": {},
   "source": [
    "As we can see from the above QQ plot the straight line parallel to the reference line had the slope value equal to 1.By this we can say that the models are approximately linear so the model is adequate\n",
    "\n"
   ]
  },
  {
   "cell_type": "markdown",
   "metadata": {},
   "source": []
  },
  {
   "cell_type": "markdown",
   "metadata": {},
   "source": [
    "# Problem 7: Q 5.2\n",
    "Consider unlinked repeated measurements data associated with the model (5.1). The\n",
    "companion models for $Y_{j}$ and $Y_{j}^{*}j (j = 1; 2)$ are given by (5.6) and (5.23).\n",
    "\n",
    "(a) Show that the marginal distribution of $(Y_{1}; Y_{2})$ is given by (5.7). Deduce the\n",
    "distribution of D given in (5.8).\n",
    "\n",
    "(b) Show that the marginal distributions of $(Y_{j};Y_{j}^{*} )$ are given by (5.24) for j = 1\n",
    "and (5.25) for j = 2. Deduce the distributions of Dj given in (5.26).\n",
    "\n",
    "(c) Verify the expressions for intramethod CCC and TDI given in (5.27).\n",
    "(d) What is the joint distribution of $(Y_{1},Y_{1}^{*}, Y_{2},Y_{2}^{*})$ ?\n"
   ]
  },
  {
   "cell_type": "markdown",
   "metadata": {},
   "source": [
    "# Problem 8: Q 5.8\n",
    "The knee joint angle (in degrees) in a joint position called “full passive extension” is measured three consecutive times in 29 subjects using each of two goniometers. One is a Lamoreuxtype electrogoniometer and the other is a plastic manual goniometer.\n",
    "The data are presented in Table 5.4. Assume unlinked repeated measurements.\n",
    "\n",
    "(a) Perform an exploratory analysis of the data. Do you notice any outliers?\n",
    "\n",
    "(b) Fit model (5.1) and check its adequacy. In particular, does the homoscedasticity assumption seem appropriate, possibly after removing outliers, if any?\n",
    "\n",
    "(c) Evaluate similarity and repeatability of the methods.\n",
    "\n",
    "(d) Evaluate agreement between the methods. Is the agreement high enough to justify using the methods interchangeably, possibly after a recalibration?\n",
    "\n",
    "(e) Assess the impact of outliers, if any, on your conclusions.\n",
    "\n"
   ]
  },
  {
   "cell_type": "markdown",
   "metadata": {
    "collapsed": true
   },
   "source": [
    "### Please note that the Web site with data is at"
   ]
  },
  {
   "cell_type": "code",
   "execution_count": null,
   "metadata": {
    "collapsed": true
   },
   "outputs": [],
   "source": [
    " http://www.utdallas.edu/~pankaj/agreement_book/"
   ]
  }
 ],
 "metadata": {
  "anaconda-cloud": {},
  "kernelspec": {
   "display_name": "Python [default]",
   "language": "python",
   "name": "python3"
  },
  "language_info": {
   "codemirror_mode": {
    "name": "ipython",
    "version": 3
   },
   "file_extension": ".py",
   "mimetype": "text/x-python",
   "name": "python",
   "nbconvert_exporter": "python",
   "pygments_lexer": "ipython3",
   "version": "3.5.2"
  }
 },
 "nbformat": 4,
 "nbformat_minor": 1
}
