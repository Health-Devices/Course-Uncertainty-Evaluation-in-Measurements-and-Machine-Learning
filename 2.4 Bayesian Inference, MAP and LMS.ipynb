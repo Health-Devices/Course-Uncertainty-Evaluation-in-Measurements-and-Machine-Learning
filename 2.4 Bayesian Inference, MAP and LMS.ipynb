{
 "cells": [
  {
   "cell_type": "markdown",
   "metadata": {},
   "source": [
    "# Lecture 4   Bayesian Inference, MAP and LMS\n"
   ]
  },
  {
   "cell_type": "markdown",
   "metadata": {},
   "source": [
    "\n",
    "\n",
    "### Objectives\n",
    "\n",
    "+ Bayesian approach \n",
    "\n",
    "+ Different cases in Bayesian approach  \n",
    " \n",
    "+ Discrete,Continuous probability functions and their relationship with MAP and LMS estimated.      \n",
    "\n",
    "+ Point Estimation,Hypothesis Testing.\n",
    " \n",
    "+ Theory Behind MAP and LMS\n",
    "\n",
    "+ Use of Bayesian Approach in measurement\n",
    "\n",
    "  "
   ]
  },
  {
   "cell_type": "markdown",
   "metadata": {},
   "source": [
    "###  List of symbols used:\n",
    "\n",
    "$\\Theta$ - unknown random variable\n",
    "\n",
    "$\\theta$ - unknown parameter(constant)\n",
    "\n",
    "$X$      - known random variable\n",
    "\n",
    "$p$      - probability mass function\n",
    "\n",
    "$f$      - probability density function\n",
    "\n",
    "$\\hat{\\Theta}$ - estimator\n",
    "\n",
    "$\\hat{\\theta}$ - estimate"
   ]
  },
  {
   "attachments": {
    "1.PNG": {
     "image/png": "[encoded data removed]"
    }
   },
   "cell_type": "markdown",
   "metadata": {},
   "source": [
    "### Bayesian Approach\n",
    "\n",
    "  In general,bayesian inference is a method of statistical inference in which Bayes' theorem is used to update the probability for a hypothesis as more evidence or information becomes available. It is an important technique mainly in mathematical statistics and also in statistics. Bayesian updating is particularly important in the dynamic analysis of a sequence of data. Bayesian inference has found application in a wide range of works and fields, including science, engineering, philosophy, medicine, sport, and law......[1] \n",
    " \n",
    "  In this approach,$\\Theta$ is the unknown quantity of interest.It is modeled as a finite collection of random variables or as a random variable.Generally $\\Theta$ here represent physical quantities like position,velocity of vehicle or set of unknown parameters of a probabilistic model.Unless its stated explicitly we consider $\\Theta$ as a single random variable\n",
    "\n",
    "Here our aim is to find the information about $\\Theta$ by observing a collection $X=(X_1,....X_n)$ of related random variables, called observations or measurements or observation vector.To do this we assume some things like we know i) joint distribution of $\\Theta$ and $X$ ii)Prior distribution $p_\\Theta$ for discrete and $f_\\Theta$ for continuous iii)Conditional distribution $p_{X \\mid \\Theta}$ for discrete and $f_{X \\mid \\Theta}$ for continuous\n",
    "\n",
    "here $\\Theta$ is unknown and it is treated as random variable. prior distribution $p_\\Theta$ for discrete and $f_\\Theta$ for continuous comes from symmetry, known range, earlier studies, subjective or arbitrary.\n",
    "\n",
    "After observing the value of x of X ,the answer for the problem is provided by the posterior distribution of the bayesian interface which is $p_{\\Theta \\mid X}(\\theta \\mid x)$ for discrete and $f_{\\Theta \\mid X}(\\theta \\mid x)$ for discrete of $\\Theta$.\n",
    "\n",
    "The posterior distribution is calculated by using the baye's rule.It binds complete information of $\\Theta$ ,given available information.This is the starting point for the further analysis like Point Estimates,Error Analysis etc.....[2]\n",
    "\n",
    "Steps in Bayesian Inference model\n",
    "step 1: It starts with the joint distribution of the parameters unknown $\\Theta$ and Observation X. or The prior distribution  $p_\\Theta$ or  $f_\\Theta$ and the conditional distribution $p_{X \\mid \\Theta}$ (PMF) or $f_{X \\mid \\Theta}$ (PDF)\n",
    "\n",
    "Step 2: As the value x of the observation is given by the Observation process the posterior distribution $p_{\\Theta \\mid X}(\\theta \\mid x)$ (PMF) or $f_{\\Theta \\mid X}(\\theta \\mid x)$ (PDF)is calculated by using Bayes' rule.\n",
    "\n",
    "Step3: The output from the posterior distribution can be used for further analysis, Estimates or associated probabilities or error variances.\n",
    "\n",
    "\n",
    "### Summary of Bayesian Inference\n",
    "Prior distribution $p_{\\Theta}$ or $_{\\Theta}$ is calculated for random variable $\\Theta$ which is unknown\n",
    "\n",
    "Using a model $p_{\\Theta \\mid X}$ or $f_{\\Theta \\mid X}$ w.r.t Observation Vector X.\n",
    "\n",
    "Once we observe the value of x of X , we calculate Posterior distribution of $\\Theta$ by using the Bayes' rule.\n",
    "\n",
    "As there are four versions of Bayes' we should use appropriate version to find $p_{\\Theta \\mid X}(. \\mid X = x)$ ( posterior distribution)\n",
    "\n",
    "The output of the Bayesian inference is Posterior distribution  $p_{\\Theta \\mid X}(. \\mid X = x)$ (PMF) or $f_{\\Theta \\mid X}(. \\mid X = x)$ (PDF)\n",
    "\n",
    "Summary of Bayesian Inference Model Below figure.......(Copied from [2]) \n",
    "\n",
    "![1.PNG](attachment:1.PNG)\n",
    "\n",
    "  Above figure is  summary of Bayesian Inference model.Starting point is joint distribution of parameter $\\Theta$ and observation  $X$ or equivalently the prior and conditional PMF/PDF.Given the value $x$ of the observation $X$.The  posterior PMF/PDF is formed using Bayes rule.The posterior can be used to answer additional inference questions for example the calculation of estimates of $\\Theta$ and associated probabilities or error variances. \n",
    "\n",
    "\n",
    "\n",
    "### Four versions of Bayes Rule:\n",
    "\n",
    "There are four different versions of Bayes' rules as we are going to take two inputs $\\Theta$ $X$ for different combinations.\n",
    "\n",
    "\n",
    "i) $\\Theta$, $X$ \n",
    "are discrete:\n",
    "\n",
    "$$p_{\\Theta \\mid X}(\\theta \\mid x) = \\frac{p_{\\Theta}(\\theta)p_{X \\mid \\Theta}\n",
    "                        (x\\mid \\theta)}{\\sum_{\\theta^{'}} p_\\Theta(\\theta^{'}) P_{X\\mid \\Theta}(x \\mid \\theta^{'})} $$\n",
    "\n",
    "ii) $\\Theta$ is discrete and $X$ is continuous:\n",
    "                                   $$p_{\\Theta \\mid X}(\\theta \\mid x) = \\frac{p_{\\Theta}(\\theta)f_{X \\mid \\Theta}(x\\mid \\theta)}{\\sum_{\\theta^{'}}p_\\Theta(\\theta^{'}) f_{X\\mid \\Theta}(x \\mid \\theta^{'})} $$\n",
    "\n",
    "iii) $\\Theta$ is continuous and $X$ is discrete :\n",
    "                                  $$f_{\\Theta \\mid X}(\\theta \\mid x) = \\frac{f_{\\Theta}(\\theta)p_{X \\mid \\Theta}(x\\mid \\theta)}{\\int_{\\theta^{'}}f_\\Theta(\\theta^{'}) P_{X\\mid \\Theta}(x \\mid \\theta^{'})d\\theta^{'}} $$\n",
    "\n",
    "iv) $\\Theta$ , $X$ are continuous:\n",
    "               $$f_{\\Theta \\mid X}(\\theta \\mid x) = \\frac{f_{\\Theta}(\\theta)f_{X \\mid \\Theta}(x\\mid \\theta)}{\\int_{\\theta^{'}}f_\\Theta(\\theta^{'}) f_{X\\mid \\Theta}(x \\mid \\theta^{'})d\\theta^{'}} $$\n",
    "\n",
    "All four versions are syntactically similar.Generally here we are taking PDF for continuous random variable and changing it into PMF for discrete random variable.\n",
    "\n",
    "\n",
    "\n",
    "</ul> </li>\n",
    "\n"
   ]
  },
  {
   "attachments": {
    "2.PNG": {
     "image/png": "[encoded data removed]"
    }
   },
   "cell_type": "markdown",
   "metadata": {},
   "source": [
    "  ### Point Estimation,Hypothesis Testing, and The MAP rule:\n",
    "  \n",
    "  Let's first know about Posterior distribution,\n",
    "  It is the distribution which is prior and comes from the known range.It is what you believe(subjective)....[5]\n",
    "  \n",
    "  ### MAP Rule:\n",
    "  \n",
    "  The posterior distribution, $f_{X|Y}(x|y)$ or $P_{X|Y}(x|y)$, contains all the knowledge about the unknown quantity $X$. Therefore, we can use the posterior distribution to find point or interval estimates of $X$. One way to obtain a point estimate is to choose the value of x that maximizes the posterior PDF (or PMF). This is called the maximum a posteriori (MAP) estimation......[5]\n",
    "\n",
    "\n",
    "  Let's take an observation value x and select a value of $\\theta$ which is denoted as $\\hat{\\theta}$,that maximizes posterior distribution.....[2]   \n",
    "  \n",
    "$p_{\\Theta \\mid X}(\\theta\\mid x)$ [or $f_{\\Theta \\mid X}(\\theta\\mid x)$,if $\\Theta $ is continuous]:\n",
    "  \n",
    "($\\Theta$ discrete)\n",
    "\n",
    "$$\\hat{\\Theta} = arg\\underset{\\theta}{max} p_{\\Theta \\mid X}(\\theta \\mid x)$$\n",
    " \n",
    "($\\Theta$ continuous)\n",
    "$$\\hat{\\Theta} = arg\\underset{\\theta}{max} f_{\\Theta \\mid X}(\\theta \\mid x)$$   \n",
    "\n",
    "\n",
    "+ Equivalently, it selects $\\hat{\\theta}$ that maximizes over $\\theta$\n",
    "\n",
    "i)$\\quad$ If $\\Theta$ and X are discrete:\n",
    "\n",
    "$$p_{\\Theta}(\\theta)p_{ X \\mid \\Theta }( x \\mid \\theta )$$\n",
    "                    \n",
    "\n",
    "ii)$\\quad\\Theta$ is discrete and $X$ is continuous:\n",
    "                               \n",
    "$$p_{\\Theta}(\\theta)f_{ X \\mid \\Theta}( x \\mid \\theta )$$\n",
    "                                \n",
    "iii)$\\quad\\Theta$ is continuous and $X$ is discrete :\n",
    "\n",
    "$$f_{\\Theta}(\\theta)p_{ X \\mid \\Theta }( x \\mid \\theta )$$\n",
    "                    \n",
    "                                  \n",
    "iv)$\\quad \\Theta$ , $X$ are continuous:\n",
    "              \n",
    "$$f_{\\Theta}(\\theta)f_{ X \\mid \\Theta }( x \\mid \\theta )$$\n",
    "\n",
    "For any given value x and both conditional and unconditional probability of error, the MAP rule minimizes the probability of selecting incorrect hypothesis if $\\Theta$ takes finite number of values.....[2]\n",
    "\n",
    "below figure copied from.....[2]\n",
    "\n",
    "![2.PNG](attachment:2.PNG)\n",
    "\n",
    "Above figure is illustration of MAP rule for inference of a continuous parameter(left figure) and discrete parameter(right figure).\n",
    "\n",
    "                    \n",
    "###### example:\n",
    "Let X be the number of heads observed  in $n$ independent tosses of a biased coin. We assume that the\n",
    "prior distribution of $\\theta$, the probability of heads, is uniform over [0, 1] . We will derive the MAP estimator $\\theta$.....example copied from [2].\n",
    "\n",
    "  $$f_{\\Theta \\mid X }(\\theta \\mid X=x)=\\frac{f_{\\Theta}(\\theta)p_{ X \\mid \\Theta }( X=x \\mid \\theta )}{p_X(X=x)}$$\n",
    "  \n",
    "  $$p_{ X \\mid \\Theta }( X=x \\mid \\theta )=\\prod_{i=1}^{n}p_{ X \\mid \\Theta }( x \\mid \\theta )=\\binom{n}{x}\\theta^x( 1-\\theta)^{n-x}$$\n",
    "  \n",
    "  $$\\int_0^1p_{ X \\mid \\Theta }( X=x \\mid \\theta )f_{\\Theta}(\\theta)d\\theta=\\frac{1}{(n+1)\\binom{n}{x}}$$\n",
    "\n",
    "posterior PDF\n",
    "  $$f_{\\Theta \\mid X }(\\theta \\mid X=x)=\\frac{p_{ X \\mid \\Theta }( X=x \\mid \\theta )f_{\\Theta}(\\theta)}{\\int_0^1p_{ X \\mid \\Theta }( X=x \\mid \\theta )f_{\\Theta}(\\theta)d\\theta}$$\n",
    "  \n",
    "  $$\\quad\\quad\\quad\\quad\\quad\\quad=(n+1)\\binom{n}{x}\\theta^x( 1-\\theta)^{n-x}$$ \n",
    "  $x$ number of heads observed\n",
    "  \n",
    "  \n",
    "  To find $\\Theta_{MAP}$ deriving posterior distribution with respect to $\\theta$ and equating it to 0.\n",
    "  \n",
    "  $$\\frac{d}{d\\theta}\\left( (n+1)\\binom{n}{x}\\theta^x( 1-\\theta)^{n-x} \\right)=0$$\n",
    "  \n",
    "  ###### MAP estimate\n",
    "  $$ \\hat{\\theta}_{MAP}=\\frac{x}{n}$$ \n",
    "  \n",
    "  ###### MAP estimator\n",
    "  $$\\hat{\\Theta}_{MAP}=\\frac{X}{n}$$ "
   ]
  },
  {
   "cell_type": "code",
   "execution_count": 76,
   "metadata": {},
   "outputs": [
    {
     "name": "stdout",
     "output_type": "stream",
     "text": [
      "The MAP estimate 0.3003003003\n"
     ]
    },
    {
     "data": {
      "image/png": "[encoded data removed]",
      "text/plain": [
       "<matplotlib.figure.Figure at 0x18d8cdfd2e8>"
      ]
     },
     "metadata": {},
     "output_type": "display_data"
    }
   ],
   "source": [
    "import numpy as np\n",
    "import scipy.stats as st\n",
    "import matplotlib.pyplot as plt\n",
    "%matplotlib inline\n",
    "\n",
    "\n",
    "def posterior(n, x, t):\n",
    "    return (n + 1) * st.binom(n, t).pmf(x)\n",
    "\n",
    "n = 10 # number of samples\n",
    "x = 3 #number of heads obtained when biased coin is tossed\n",
    "theta = np.linspace(0., 1., 1000)\n",
    "d = posterior(n, x, theta)\n",
    "fig, ax = plt.subplots(1, 1)\n",
    "ax.plot(theta, d, '-k')\n",
    "ax.set_xlabel('theta parameter')\n",
    "ax.set_ylabel('Posterior distribution')\n",
    "ax.set_ylim(0, d.max() + 1)\n",
    "dist=d.max()\n",
    "MAP = theta[d.argmax()]\n",
    "print ('The MAP estimate',MAP)"
   ]
  },
  {
   "cell_type": "markdown",
   "metadata": {},
   "source": [
    "### Point Estimation:\n",
    "If we select a single numerical value i.e,'point estimate'  it represents our best guess of the value $\\Theta$.The term 'estimate' is used to represent the numerical value of $\\hat{\\Theta}$ which we choose to report based on actual observation $x$.By applying some function '$g$' to $x$ the value of $\\hat{\\Theta}$ is determined.Resulting $\\hat{\\Theta} = g(x)$ .The value $\\hat{\\Theta} = g(X)$ is called Estimator.\n",
    "\n",
    "Here $\\hat{\\Theta}$ is random variable as the estimation outcome depends on random observation values.\n",
    "\n",
    "$\\textbf{Maximum a posteriori Probability  Estimator:}$ The MAP estimator sets the $\\hat{\\Theta}$ to a value that maximizes the posterior distribution over all possible values of $\\Theta$,if the value $x$ of $X$ is observed.\n",
    "\n",
    "$$p_{\\Theta  \\mid X}(\\theta^* \\mid x) = max_\\theta p_{\\Theta \\mid X}(\\theta \\mid x)$$\n",
    "$$f_{\\Theta  \\mid X}(\\theta^* \\mid x) = max_\\theta f_{\\Theta \\mid X}(\\theta \\mid x)$$\n",
    "\n",
    "$\\textbf{Conditional Estimator(Least Mean Square):}$ Conditional estimator sets the $\\hat{\\Theta}$ to $\\textbf{E}$ $[\\Theta \\mid X = x]$ if the value $x$ of $X$ is observed.....[2]"
   ]
  },
  {
   "cell_type": "markdown",
   "metadata": {},
   "source": [
    "### Hypothesis Testing:\n",
    "In this, we may use Bayes' rule to calculate the posterior probabilities $\\textbf{P}$ $(\\Theta = \\theta_i \\mid X = x)$ = $p_{\\Theta\\mid X} (\\theta_i \\mid x))$ for each i.Once the value of $x$ of $X$ is observed.We can also use MAP rule to select the largest posterior probability,As it maximizes the probability of correct decision."
   ]
  },
  {
   "attachments": {
    "3.PNG": {
     "image/png": "[encoded data removed]"
    }
   },
   "cell_type": "markdown",
   "metadata": {},
   "source": [
    "### Bayesian Least Mean Square Estimation:\n",
    "It is the conditional expectation error which results in least mean squared error.\n",
    "\n",
    "$\\textbf{Mean squared Error:}$\n",
    " It is, the difference between the estimator and what is estimated.The mean squared error (MSE) or mean squared deviation (MSD) of an estimator  measures the average of the squares of the errors or deviations—that . MSE is a risk function, corresponding to the expected value of the squared error loss or quadratic loss. The difference occurs because of randomness or because the estimator doesn't account for information that could produce a more accurate estimate.\n",
    " \n",
    " $\\textbf{Estimator :}$\n",
    " \n",
    "The MSE of an estimator  $\\hat {\\theta }$ with respect to an unknown parameter $ \\theta $ is defined as\n",
    "\n",
    "$MSE(\\hat{\\theta})= E_\\hat{\\theta}[(\\hat{\\theta}- \\theta)^2]$............[4]\n",
    "\n",
    "\n",
    "\n",
    "$\\textbf {LMS Estimation in the absence of observations:}$\n",
    "          \n",
    "Let's estimate $\\Theta$ with an constant $\\hat{\\theta}$ and observation $X$ is missing.The estimation error $\\hat{\\theta} - \\Theta$ is random but the mean squared error $\\textbf{E}$[($\\Theta-\\hat{\\theta})^2$] is a number that depends on $\\hat{\\theta}$  and can be minimized over $\\hat{\\theta}$ .So, setting $\\hat{\\theta}$  equal to $\\textbf{E}[\\Theta]$ is the best possible estimate.\n",
    "\n",
    "  $\\textbf{E}[Z]^2$ =  $\\textbf{var(Z)} $ + $\\textbf{(E}[Z])^2$ formula is used by first equality in the above.\n",
    "  and the second holds as $\\hat{\\theta}$ is subtracted from random variable $\\Theta$.The variance remains same and the mean is reduced by $\\hat{\\theta}$.So,we know that  $\\textbf {var ($\\Theta$) }$ does not depend on $\\hat{\\theta}$ and  $\\hat{\\theta}$ is to be chosen to minimize the term $\\textbf{E}$[($\\Theta-\\hat{\\theta})^2$] which leads to $\\hat{\\theta}$ = $\\textbf { E ($\\Theta$) }$.......[2]\n",
    "  \n",
    "below figure copied from....[2]\n",
    "\n",
    "![3.PNG](attachment:3.PNG)\n",
    "\n",
    "$\\textbf{Fig:}$The mean squared error  $\\textbf{E}$[($\\Theta-\\hat{\\theta})^2$],as a function of estimate $\\hat{\\theta}$,is a quadratic in $\\hat{\\theta}$, and is minimum value of the mean squared error is $\\textbf{var}$$(\\Theta).$\n",
    " \n",
    " $\\textbf {LMS Estimation of $\\Theta$ based on X  :}$\n",
    "  \n",
    "  If we use an observation  $X$ to estimate $\\Theta$ so that the mean square error is minimized.And we know the value $x$ of $X$ it will be same scenario as above except we have everything coditioned here on $X$ = $x$.So,we can conclude and assert that  $\\textbf{E}$[($\\Theta \\mid X = X)$],conditional expectation  minimizes the conditional mean squared error $\\textbf{E}$[($\\Theta - \\theta)^2 \\mid X = X)$] over all constants $\\hat{\\theta}$....[2].\n",
    "  \n",
    "The estimator $g(X)$ associated with unconditional mean squared estimation is defined as $\\textbf{E}$[($\\Theta - \\mid g(X))^2 $].\n",
    "    \n",
    " If we assume $\\textbf{E}$[($\\Theta \\mid X)$]as an estimator of $X$ the above mentioned analysis shows when $g(X)$ = $\\textbf{E}$[($\\Theta \\mid X)$],the mean squared error is minimized.For any given value of $x$ of $X$ and $g(X)$ is a number.\n",
    " \n",
    "  $\\textbf{E}$[($\\Theta - E[\\Theta \\mid X])^2]$ $\\leq$  $\\textbf{E}$[($\\Theta - g(X))^2 $], for all estimators $g(X).$"
   ]
  },
  {
   "cell_type": "markdown",
   "metadata": {
    "collapsed": true
   },
   "source": [
    "$\\textbf{LMS Estimation with multiple observations or unknowns:}$\n",
    "\n",
    "In above discussion stated that $X$ was a single random variable.The entire argument and conditions apply even if $X$ is vector of random  variables $X = X_1,....X_n$.So,the mean square estimation error is minimized if we use $\\textbf{E}[\\Theta \\mid X_1...,X_n]$ as our estimator.\n",
    "\n",
    "$$\\textbf{E}[(\\Theta - E[\\Theta \\mid X_1...,X_n])^2]   \\leq   E[(\\Theta - g(X_1,....,X_n))^2],$$\n",
    "     \n",
    "For all estimators $g(X_1,....X_n).$\n",
    "\n",
    "For Estimating multiple parameters $\\Theta_1,....,\\Theta_m $,It is natural to consider \n",
    "$$\\textbf{E}[(\\Theta_1 - \\hat{\\Theta_1})^2]+.......+\\textbf{E}[(\\Theta_m - \\hat{\\Theta_m})^2].$$ and minimize it over all estimators  $\\Theta_1,....,\\Theta_m.$\n",
    "\n",
    "But  this is equivalent to finding i, an estimator $\\hat{\\Theta}$ that minimizes $\\textbf{E}[(\\Theta_1 - \\hat{\\Theta_1})^2]$ so, we are dealing with n decoupled estimation problems ,one for each unknown parameter\n",
    "$\\Theta_1$ resulting in $\\hat{\\Theta_i}$ = $\\textbf{ E}[\\Theta \\mid X_1...,X_n].$\n",
    "\n",
    "\n"
   ]
  },
  {
   "cell_type": "markdown",
   "metadata": {},
   "source": [
    "### Example:\n",
    "Let X be the number of heads observed  in $n$ independent tosses of a biased coin. We assume that the\n",
    "prior distribution of $\\theta$, the probability of heads, is uniform over [0, 1] . We will derive the LMS estimator $\\theta$.....example copied from [2].\n",
    "\n",
    "\n",
    "since $\\theta$ is a probability value, our prior must respect θ∈(0,1) . We will use the (conjugate) Beta prior:θ∼Beta($\\alpha,\\beta$).\n",
    "\n",
    "($\\alpha,\\beta$) are the model’s hyperparameters. Then the prior is specified as:\n",
    "\n",
    "$$f_\\Theta(\\theta;\\alpha,\\beta)=\\frac{1}{B(\\alpha,\\beta)}\\theta^{\\alpha-1}( 1-\\theta)^{\\beta-1}$$\n",
    "\n",
    "Beta function is given by,\n",
    "\n",
    "$$B(\\alpha,\\beta) = \\int_0^1 {\\theta}^{\\alpha-1}(1-\\theta)^{\\beta-1}d\\theta=\\frac{(\\alpha-1)!(\\beta-1)!}{(\\alpha+\\beta-1)!}$$\n",
    "\n",
    "B($\\alpha,\\beta$) is the Beta function. Note that to have a fully specified prior, we need to also specify the hyperparameters.\n",
    "\n",
    "For $\\alpha=1$ and $\\beta=1$ the beta distribution will be uniform distribution.\n",
    "\n",
    "posterior:\n",
    "\n",
    "$$f_{\\Theta \\mid X}(\\theta \\mid X;\\hat{\\alpha},\\hat{\\beta})=\\frac{1}{B(\\hat{\\alpha},\\hat{\\beta})}\\theta^{\\hat{\\alpha}-1}( 1-\\theta)^{\\hat{\\beta}-1}$$\n",
    "$\\hat\\alpha= k+\\alpha= k+1$ and $\\hat\\beta=n-k+\\beta=n-k+1$\n",
    "\n",
    "mth moment of beta density function is given by,\n",
    "$$E[\\Theta^m]=\\frac{1}{B(\\alpha,\\beta)}\\int_0^1 {\\theta}^{m+\\alpha-1}(1-\\theta)^{\\beta-1}d\\theta$$\n",
    "$$=\\frac{B(\\alpha+m,\\beta)}{B(\\alpha,\\beta)}\\quad\\quad\\quad\\quad $$\n",
    "$$ \\quad\\quad\\quad\\quad\\quad=\\frac{\\alpha(\\alpha+1).....(\\alpha+m-1)}{(\\alpha+\\beta)(\\alpha+\\beta+1)).....(\\alpha+\\beta+m-1)}$$\n",
    "\n",
    "Obtaining the conditional expectation estimate from above mean of the beta density formula:\n",
    "\n",
    "$$E[\\Theta \\mid X=k]=\\frac{\\alpha}{\\alpha+\\beta}=\\frac{k+1}{n+2}$$\n",
    "k=number of heads observed\n",
    "Mean of the beta density function"
   ]
  },
  {
   "cell_type": "code",
   "execution_count": 1,
   "metadata": {},
   "outputs": [
    {
     "name": "stdout",
     "output_type": "stream",
     "text": [
      "least mean square estimate 0.23529411764705882\n"
     ]
    },
    {
     "data": {
      "image/png": "[encoded data removed]",
      "text/plain": [
       "<matplotlib.figure.Figure at 0x10f6dd2b0>"
      ]
     },
     "metadata": {},
     "output_type": "display_data"
    }
   ],
   "source": [
    "import numpy as np\n",
    "import scipy.stats as st\n",
    "import matplotlib.pyplot as plt\n",
    "from scipy.stats import beta\n",
    "%matplotlib inline\n",
    "\n",
    "n = 100#number of trials\n",
    "theta = 0.3 #true value\n",
    "X = np.random.binomial(1, theta, n)\n",
    "A = np.linspace(0,1,100)#uniform dist\n",
    "a=1\n",
    "b=1\n",
    "B=st.beta(a,b).pdf(A)#uniform prior alpha=1 beta=1\n",
    "\n",
    "\n",
    "# The hyperparameters of the posterior\n",
    "a_hat = a + X.sum()\n",
    "b_hat = b + n - X.sum()\n",
    "\n",
    "\n",
    "mean, var, skew, kurt = beta.stats(a_hat, b_hat, moments='mvsk')\n",
    "print('least mean square estimate',mean)\n",
    "\n",
    "plt.title('Posterior Distribution')\n",
    "plt.plot(A, st.beta(a_hat, b_hat).pdf(A), 'r');\n",
    "\n",
    "# Plot the prior\n",
    "plt.plot(A, st.beta(a, b).pdf(A), 'g');\n",
    "\n",
    "plt.ylim(0,12)\n",
    "plt.legend(['Posterior (Analytic)', 'Prior']);\n",
    "plt.show()\n"
   ]
  },
  {
   "cell_type": "markdown",
   "metadata": {},
   "source": [
    "### Use of Bayesian Approach in measurements: \n",
    "\n",
    "$\\textbf{Repeated Measurements:}.$\n",
    "lets say a quantity Q is measured independently n times, the results are the values q = ( q1 . . . qn )T. No prior \n",
    "knowledge about Q is available. It is desired to obtain the corresponding best estimate and standard certainty.\n",
    " We can use Bayesian alternative. The first applies to the case in which the values q are assumed to be sampled \n",
    "from a normal probability model and  rectangular probability model. \n",
    "\n",
    "$\\textbf{Normal Probability Model :}$\n",
    " Whenever a set of observations $\\textbf{q}$ about Q is given, one should try to dwell on the physical reasons that lead to the appearance of different values. If the experimental evidence leads us to believe that the deviations of the $q_i$s from the (true) value of the quantity are caused by several random effects and that these deviations are independent of one another, it is reasonable to think of the data as being drawn independently from an infinite population of values whose frequency distribution is normal, centred at the unknown value of the quantity Q and having an unknown variance V .\n",
    "From the Bayesian point of view, Q and V are considered as being two measurands, only the first of which is identified with a physical quantity. The relationship between Q and $V$ does not arise from the measurement model, but from the probability model. The quantity $V$ is normally not of interest in itself, but its existence conditions what we can infer about Q. In Bayesian theory, a quantity such as V is called a nuisance parameter.\n",
    "Conditional on given values q of Q and v of V , the pdf for any given datum qi follows from the probability model and is\n",
    "\n",
    "$$f(q_i \\mid q, v) \\propto \\frac{1}{v^\\frac{1}{2}}exp\\left[-\\frac{1}{2}\\frac{{ (q_i - q)}^2}{ v}\\right]$$ \n",
    "\n",
    "In the context of BT, this density is interpreted as being proportional to the likelihood function $l(q, v|qi )$. Since the observations are assumed to be independent, the global likelihood $l(q,v|\\textbf{q})$ is obtained by multiplying the individual likelihoods. Moreover, since Q and V are also independent, and they act as location and scale parameters, respectively, their joint prior separates into the product of a constant (Bayes’ prior) for the former multiplied by v−1 (Jeffreys’ prior) for the latter. The joint posterior becomes..........[3].\n",
    "\n",
    "\n",
    "$$f(q ,v  \\mid \\textbf{q} ) \\propto \\frac{1}{v^\\frac{n}{2+1}}exp\\left[-\\frac{1}{2v}\\sum_{i=1}^{n}{{ (q_i - q)}^2}\\right]$$ \n",
    "\n",
    "By rearranging \n",
    "\n",
    "$$\\sum_{i=1}^{n}{{ (q_i - q)}^2}= (n-1)s^2 + n(q - \\bar q)^2 $$\n",
    "\n",
    "where $$\\bar q = \\frac{1}{n}\\sum_{i=1}^{n}{{q_i}}$$\n",
    "\n",
    "and \n",
    "\n",
    "$$ s^2 = \\frac{1}{n-1}\\sum_{i=1}^{n}{{ (q_i - \\bar q)}^2}$$\n",
    "\n",
    "$$f(q ,v  \\mid\\textbf{q}) \\propto \\frac{1}{v^\\frac{n}{2+1}}exp\\left[-\\frac{1}{2}\n",
    "\\frac{{(n-1)}{s^2}+n{(q -\\bar q)^2}}{v}\\right]$$\n",
    "\n",
    "Note that in this analysis q and s2 are just shorthand notation; these parameters should not be interpreted here as estimates of the mean and variance of the parent distribution.\n",
    "\n",
    "Inference about Q\n",
    "\n",
    "$$ u_q^2 = \\frac{(rs)^2}{n}.$$ \n",
    "\n",
    "where $r^2$ is variance of PDF.\n",
    "\n",
    "Inference about V\n",
    "\n",
    "\n",
    "\n",
    "$$ u_v^2 = \\frac{2(rs)^4}{n- 5}.$$\n",
    "\n",
    "$\\textbf{Example:}.$\n",
    "\n",
    " A quantity Q is measured repeatedly 10 times. The resulting numeric values are:\n",
    "7.489 7.503 7.433 7.549 7.526 7.396 7.543 7.509 7.504 7.383\n",
    "and the unit is mm. These values give $q_e = \\bar q $ = 7.484 mm\n",
    "$s^2$ = 0.003 492 mm2 and $r^2$ = 1.2857. The TA procedure gives $u_q$ = 0.019 mm. The Bayesian method produces instead $u_q$ = 0.021 mm. The latter also gives $v_e$ = 0.004 489 mm2 and $u_v$= 0.002 839 mm2.The below  figures represent the pdfs ......[3]\n",
    "\n",
    "\n",
    "\n",
    "\n",
    "\n",
    "\n",
    "\n",
    "\n",
    "\n",
    "\n",
    "\n"
   ]
  },
  {
   "attachments": {
    "12.PNG": {
     "image/png": "[encoded data removed]"
    }
   },
   "cell_type": "markdown",
   "metadata": {},
   "source": [
    "![12.PNG](attachment:12.PNG)\n",
    "\n",
    "The pdf for Q with normal probability model. The parameters are n = 10 and s2 = 0.003 492."
   ]
  },
  {
   "attachments": {
    "13.PNG": {
     "image/png": "[encoded data removed]"
    }
   },
   "cell_type": "markdown",
   "metadata": {},
   "source": [
    "![13.PNG](attachment:13.PNG)\n",
    "\n",
    "The pdf for V with normal probability model. The parameters are n = 10 and\n",
    "s2 = 0.003 492."
   ]
  },
  {
   "cell_type": "markdown",
   "metadata": {},
   "source": [
    "$\\textbf{Rectangular Probability Model :}$\n",
    "\n",
    "Suppose now that the normal probability model used in the previous subsection is not realistic. For example, assume that the value of Q cannot be taken as fixed, because it is known that it varies randomly between two limits that are not perfectly known. If the time interval between measurements is larger than the characteristic fluctuation time, the values q may be considered to be sampled from a rectangular parent distribution centred at Q and having a half-width W, the latter being a nuisance (scale) parameter.\n",
    "    Conditional on given values q of Q and w of W , the pdf for each datum qi , considered as a variable, is rectangular in the interval $(q −w, q +w).$ Accordingly, its likelihood is proportional to 1/w over this interval and is zero otherwise. The multiplication of all the individual likelihoods yields a global likelihood proportional to 1/wn valid for $q−w<q_1$,...,$q_n <q+w$. This last condition is equivalent to $q−w<q_a ≤ q_b <q+w$, where $q_a = min{q}$ and $q_b = max{q}$.\n",
    "    \n",
    "With a constant prior for Q and a 1/w prior for W, the joint posterior\n",
    "becomes\n",
    "\n",
    "\n",
    "$$f(q, w \\mid \\textbf{q}) \\propto \\frac{1}{w^{n+1}}$$ \n",
    "\n",
    "\n",
    "for  $q - w $< $q_a$ and $q_b$ < $q+w$\n",
    "\n",
    "\n",
    "\n",
    "\n",
    "Inference about Q\n",
    "\n",
    "$$ u_q^2 =  \\frac{\\delta ^2}{2(n - 2)(n - 3)}$$  where $\\delta = q_b - q_a$\n",
    "\n",
    "\n",
    "Inference about w\n",
    "\n",
    "\n",
    "$$ u_w^2 =  \\frac{2n}{(n - 2)^2(n - 3)}\\left(\\frac{\\delta}{2}\\right)^2$$\n",
    "\n"
   ]
  },
  {
   "attachments": {
    "14.PNG": {
     "image/png": "[encoded data removed]"
    }
   },
   "cell_type": "markdown",
   "metadata": {},
   "source": [
    "$\\textbf{Example:}.$ we have $q_a$ = 7.383 mm, $q_b$ =7.549mm and δ=0.166mm,from which $q_e =\\tilde{q}$= 7.466 mm, $u_q$ = 0.016 mm, $w_e$ = 0.104 mm and $u_w$ = 0.018 mm. Figures 6.8 and 6.9 depict the pdfs (6.16) and (6.17), respectively, that correspond to the values in this example. Because of its shape, the former may be termed the ‘cusp’ pdf..............[3]\n",
    "Below figures copied from.......[3].\n",
    "\n",
    "\n",
    "![14.PNG](attachment:14.PNG)\n",
    "\n",
    "The cusp pdf for Q with rectangular probability model. The parameters are\n",
    "$q_a$ = 7.383, $q_b$ = 7.549 and n = 10.\n",
    "\n",
    "\n"
   ]
  },
  {
   "attachments": {
    "15.PNG": {
     "image/png": "[encoded data removed]"
    }
   },
   "cell_type": "markdown",
   "metadata": {},
   "source": [
    "![15.PNG](attachment:15.PNG)\n",
    "\n",
    "The pdf for W with parameters n = 10 and $\\delta$ = 0.166."
   ]
  },
  {
   "cell_type": "markdown",
   "metadata": {},
   "source": [
    "### References\n",
    "\n",
    "[1] Bayesian inference https://en.wikipedia.org/wiki/Bayesian_inference\n",
    "\n",
    "[2] Dimitri P. Bertsekas and John N. Tsitsiklis INTRODUCTION TO PROBABILITY SECOND EDITION\n",
    "\n",
    "[3] Iganacio Lira EVALUATING THE MEASUREMENT UNCERTAINITY\n",
    "\n",
    "[4] Mean Squared Error https://en.wikipedia.org/wiki/Mean_squared_error\n",
    "\n",
    "[5] Bolic, M. (2018). Principles of Data and Error Analysis in Engineering Measurements.\n",
    "\n",
    "[6] https://github.com/hyzhak/mle/blob/master/machine-learning-10-601-hm2.ipynb"
   ]
  },
  {
   "cell_type": "code",
   "execution_count": null,
   "metadata": {
    "collapsed": true
   },
   "outputs": [],
   "source": []
  }
 ],
 "metadata": {
  "anaconda-cloud": {},
  "kernelspec": {
   "display_name": "Python [default]",
   "language": "python",
   "name": "python3"
  },
  "language_info": {
   "codemirror_mode": {
    "name": "ipython",
    "version": 3
   },
   "file_extension": ".py",
   "mimetype": "text/x-python",
   "name": "python",
   "nbconvert_exporter": "python",
   "pygments_lexer": "ipython3",
   "version": "3.5.2"
  }
 },
 "nbformat": 4,
 "nbformat_minor": 2
}
