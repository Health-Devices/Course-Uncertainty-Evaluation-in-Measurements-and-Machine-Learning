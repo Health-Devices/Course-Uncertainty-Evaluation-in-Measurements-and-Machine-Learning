{
 "cells": [
  {
   "cell_type": "markdown",
   "metadata": {},
   "source": [
    "# **ELG 7172B : **: Homework 2 Solutions"
   ]
  },
  {
   "cell_type": "markdown",
   "metadata": {},
   "source": [
    "##### Solutions are prepared by  Srinavasa Yachitula and Xiaoyan Li with small corrections by Prof. Miodrag Bolic  <br>\n",
    "**Due: Jan 29, 2018** <br>\n",
    "Total number of points is 10. Please solve 4 out of 5 problems. <br>\n",
    "Bonus is additional 5 points. Please do only one of the two bonus questions."
   ]
  },
  {
   "cell_type": "markdown",
   "metadata": {},
   "source": [
    "### Instructions:\n",
    "\n",
    "+ Upload your answers in an ipython notebook to UOttawa Bright Space.\n",
    "\n",
    "+ Your individual submissions should use the following filenames: ELG_7172B_YOURNAME_HW2.ipynb\n",
    "\n",
    "+ Your code should be in code cells as part of your ipython notebook. Do not use a different format. \n",
    "\n",
    "+ **Do not just send your code. The homework solutions should be in a report style. Be sure to add comments to your code as well as markdown cells where you describe your approach and discuss your results. **\n",
    "\n",
    "+ Please submit your notebook in an **executed** status, so that we can see all the results you computed. However, we will still run your code and all cells should reproduce the output when executed. \n",
    "\n",
    "+ If you have multiple files (e.g. you've added code files or images) create a tarball for all files in a single file and name it: ELG_7172B_YOURNAME_HW2.tar.gz or ELG_7172B_YOURNAME_HW2.zip\n",
    "\n",
    "\n",
    "\n",
    "_ _ _ _ _"
   ]
  },
  {
   "cell_type": "code",
   "execution_count": 33,
   "metadata": {},
   "outputs": [],
   "source": [
    "import numpy as np\n",
    "import matplotlib\n",
    "import matplotlib.pyplot as plt\n",
    "from mpl_toolkits.mplot3d import Axes3D\n",
    "%matplotlib inline\n",
    "\n",
    "import seaborn as sns\n",
    "sns.set_style(\"white\")\n",
    "\n",
    "import time\n",
    "\n",
    "import scipy.stats \n",
    "from scipy import stats"
   ]
  },
  {
   "cell_type": "markdown",
   "metadata": {},
   "source": [
    "# Problem 1:\n",
    "\n",
    "Below are some examples of the error models used in instrimentation: \n",
    "Quantization with ROUNDING [1]: Use uniform distribution, with resolution a.\n",
    "For example, if the smallest increment on a scale is 1/8 in, then a = 0.125 in and $\\sigma$ = 0.03608 in based on $\\sigma=a/\\sqrt(12)$. Example is A/D converter where $a=V_{range} / 2^n$ there $n$ is the resolution of A/D converter $V_{range}$ is the range of the voltage at the input of the A/D converter.\n",
    "\n",
    "Quantization with TRUNCATION [1]\n",
    "Digital displays often truncate readings: use uniform distribution, with resolution a.\n",
    "For example, if the smallest digit on a scale represents 0.01 lb, then a = 0.01 lb and $\\sigma$ = 0.00577 lb based on $\\sigma=a/\\sqrt(3)$. Please note that the standard deviation of the error is smaller than in the case of rounding. \n",
    "\n",
    "Reference: \n",
    "[1] C. Ratcliffe, B. Ratcliffe, Doubt-Free Uncertainty In Measurement, Springer, 2015.\n",
    "\n",
    "Find at least 3 other probability models used in literature for representing errors of measurements in science and/or engineering that use different distributions from the ones presented above. Show examples and point out to the references. You can use web, papers, books, slides,... Key words could be uncertainty propagation, error distribution, errors in measurements, metrology and errors and so on.  "
   ]
  },
  {
   "cell_type": "markdown",
   "metadata": {},
   "source": [
    "**Please answer this problem by adding cells here.**\n",
    "No answer provided."
   ]
  },
  {
   "cell_type": "markdown",
   "metadata": {},
   "source": [
    "# Problem 2:\n",
    "a) Observe the code below. Draw the relationship between the parameter w changing from 0 to 1 and the correlation coefficient. Why does the curve look like that.\n",
    "b) \n",
    "The water level in a particular lake depends on two sources, direct rainfall $X$ and inflow from a stream $Y$. The rainfall $Z$ around the lake can be considered as a random variable\n",
    "with a mean of $\\mu_{z}$ and a standard deviation of $\\sigma_{z}$. $X$ and $Y$ are related to $Z$ as \n",
    "\n",
    "$ X = a Z $\n",
    "\n",
    "$ Y = b + c Z $\n",
    "\n",
    "where a, b and c are constants . X and Y are functions of a random variable and are therefore also random. Calculate the correlation coefficient $\\rho_{x,y}$ and simulate this situation in Python by modifying the code below.\n",
    "\n",
    "\n"
   ]
  },
  {
   "cell_type": "markdown",
   "metadata": {},
   "source": [
    "Solition: <br>\n",
    "From $ Z \\sim (\\mu_{z}, \\sigma_{z}^2)$; $ X = a Z $; $ Y = b + c Z $, where a, b and c are constants, we have<br>\n",
    "\\begin{align}\n",
    "\\rho =\\frac{cov(X,Y)}{\\sigma_X \\sigma_Y}= \\frac{E[(X - E[X])(Y - E[Y])]}{\\sqrt{(E[(X - E[X])^2)E(Y-E[Y])^2)}} = \\frac{E[(aZ - a \\mu_{Z})((b + cZ)-(b + c \\mu_{Z}))]}{ac \\sigma_Z^2} = \\frac{E[ac(Z-\\mu_{Z})^2]}{ac\\sigma_Z^2} = \\frac{ac Var(Z)}{ac\\sigma_Z^2} = 1\n",
    "\\end{align}"
   ]
  },
  {
   "cell_type": "code",
   "execution_count": 34,
   "metadata": {},
   "outputs": [
    {
     "data": {
      "image/png": "[encoded data removed]",
      "text/plain": [
       "<matplotlib.figure.Figure at 0x1afa4407828>"
      ]
     },
     "metadata": {},
     "output_type": "display_data"
    },
    {
     "data": {
      "image/png": "[encoded data removed]",
      "text/plain": [
       "<matplotlib.figure.Figure at 0x1afa49eeb70>"
      ]
     },
     "metadata": {},
     "output_type": "display_data"
    }
   ],
   "source": [
    "def x_value(a, z):\n",
    "    return a * z\n",
    "def y_value(b, c, z ):\n",
    "    return b + c * z\n",
    "\n",
    "def get_xy_value(a,b,c,mu,sigma,num_samples=1000):\n",
    "  \n",
    "    # Sample a sequence of z and compute x and y.\n",
    "  \n",
    "    z = np.random.normal(loc=mu, scale=sigma, size =num_samples)\n",
    "    x = x_value(a, z)\n",
    "    y = y_value(b, c, z)\n",
    "    return x,y\n",
    "    \n",
    "def comp_rho(x,y):\n",
    "    \n",
    "    # Compute correlation coefficients using three methods.\n",
    "    \n",
    "    r1 = np.mean(((x - np.mean(x)) / np.std(x, ddof=1)) * ((y - np.mean(y)) / np.std(y, ddof=1)))\n",
    "    r2 = np.mean(stats.zscore(y) * stats.zscore(y)) \n",
    "    r3, p3 = stats.pearsonr(x, y)\n",
    "    return r1,r2,r3\n",
    "    \n",
    "x,y=get_xy_value(a=3, b=4, c=5, mu=2.0, sigma=6.5, num_samples=10000)\n",
    "plt.subplot(121)\n",
    "plt.hist(x, bins = 200, normed = True, color = 'g', histtype = 'step', lw =  3 )\n",
    "plt.hist(y, bins = 200, normed = True, color = 'r', histtype = 'step', lw =  3 )\n",
    "plt.text(30, .020,'x = aZ')\n",
    "plt.text(60, .010, 'y = b + cZ')\n",
    "plt.show()\n",
    "# let a change from 0 to 1, while fixing b, c, mu, sigma, compute and plot the corresponding correlation coefficients\n",
    "a_s=np.arange(0.05,1.05,0.05)\n",
    "b=4\n",
    "c=5\n",
    "mu=2.0\n",
    "sigma=6.5\n",
    "coefs1=np.zeros(shape=a_s.shape, dtype=float)\n",
    "coefs2=np.zeros(shape=a_s.shape, dtype=float)\n",
    "coefs3=np.zeros(shape=a_s.shape, dtype=float)\n",
    "for i in range(len(a_s)):\n",
    "    x,y=get_xy_value(a=a_s[i], b=b, c=c, mu=mu, sigma=sigma)\n",
    "    r1,r2,r3=comp_rho(x,y)\n",
    "    coefs1[i]=r1\n",
    "    coefs2[i]=r2\n",
    "    coefs3[i]=r3\n",
    "    \n",
    "plt.plot(a_s, coefs1, 'b-', label=\"r1\") \n",
    "plt.plot(a_s, coefs2, 'ro', label=\"r2\") \n",
    "plt.plot(a_s, coefs3, 'g+', label=\"r3\") \n",
    "plt.legend()\n",
    "plt.xlim((0,1))\n",
    "plt.ylim((-1,2))\n",
    "plt.xlabel(\"a_s\")\n",
    "plt.ylabel(\"rho\")\n",
    "plt.show()      \n"
   ]
  },
  {
   "cell_type": "markdown",
   "metadata": {},
   "source": [
    "# Problem 3:\n",
    "Normal probability calculation: Let X and Y be normal random variables, with $X\\sim N(0,1)$ and $Y\\sim N(1,4)$. <br>\n",
    "(a) Find $P(X\\leq1.5)$ and $P(X\\leq -1)$ (exactly in terms of cumulative density function $\\phi$, and in Python).<br>\n",
    "(b) What is the distribution of $Y-12$? Generate 1000 random numbers in Python of $Y$ and then compute $Y-12$ for each of them and draw histogram. What are the properties of the new distribution what you can observe from the histogram. Please start with the code given below.<br>\n",
    "(c) Find $P(-1\\leq Y\\leq 1)$ (exactly in terms of $\\phi$, and in Python).<br>\n",
    "\n"
   ]
  },
  {
   "cell_type": "markdown",
   "metadata": {},
   "source": [
    "Here is the example code from: https://github.com/rlabbe/Kalman-and-Bayesian-Filters-in-Python/blob/master/Supporting_Notebooks/Computing_and_plotting_PDFs.ipynb\n",
    "Please modify this code (it is given for the function $y=2x+12$).\n"
   ]
  },
  {
   "cell_type": "markdown",
   "metadata": {},
   "source": [
    "### a) $P(X\\leq 1.5)$ and $P(X\\leq -1) $\n",
    "\n",
    "$$P(X \\leq x)=\\phi \\left(\\frac{x-\\mu}{\\sigma}\\right)$$\n",
    "\n",
    "we will do the above procedure if the random variable X has normal distribution . But as it is standard normal $X\\sim N(0,1)$\n",
    "\n",
    "$$P(X \\leq 1.5)=\\phi(1.5)$$\n",
    "\n",
    "By Z distribution table $\\phi(1.5)=0.9332$\n",
    "\n",
    "$$P(X \\leq 1.5)=0.9332$$\n",
    "\n",
    "\n",
    "$$P(X \\leq -1)=1-P(X \\leq 1)$$\n",
    "\n",
    "$$=1-P(X \\leq 1)$$\n",
    "\n",
    "By Z distribution table $\\phi(1)=0.8413$\n",
    "\n",
    "$$=1-0.8413$$\n",
    "\n",
    "$$P(X \\leq -1)= 0.1587$$\n"
   ]
  },
  {
   "cell_type": "markdown",
   "metadata": {},
   "source": [
    "### python code for (a)"
   ]
  },
  {
   "cell_type": "code",
   "execution_count": 33,
   "metadata": {},
   "outputs": [
    {
     "name": "stdout",
     "output_type": "stream",
     "text": [
      "P(X<=1.5) = 0.933192798731\n",
      "P(X<=-1)  = 0.158655253931\n"
     ]
    }
   ],
   "source": [
    "import numpy as np\n",
    "from scipy.stats import norm\n",
    "\n",
    "mean=0                                # mean of x\n",
    "sd=1                                  # standard deviation of x \n",
    "x_1=1.5                               # for X<=1.5\n",
    "x_2=1                                 # for X<=-1\n",
    "\n",
    "P_1=norm.cdf(x_1,mean,sd)             # probability of X less than or equal to 1.5\n",
    "            \n",
    "P_2=1-norm.cdf(x_2,mean,sd)           #probability of X less than or equal to -1\n",
    "            \n",
    "print ('P(X<=1.5) =',P_1) \n",
    "print ('P(X<=-1)  =',P_2) "
   ]
  },
  {
   "cell_type": "markdown",
   "metadata": {},
   "source": [
    "## (b)\n",
    "Given Y is normal distribution with $X\\sim N(1,4)$\n",
    "\n",
    "As we know from the Linear function property of the random variable if X is normal distribution then Y=aX+b will also belong to the normal distribution.So the same applies to the Y-12 as it also uses linear function property w.r.t Y.\n",
    "\n",
    "Some properties of mean and variance\n",
    "\n",
    "if a is constant and X is a random variable\n",
    "\n",
    "$$E[X-a]=E[X]-a$$\n",
    "\n",
    "$$Var[X-a]=a^2 Var[X]$$\n",
    "\n",
    "By using that property we can say that the Y and Y-12 will have the same variance and mean of Y-12 will be mean of Y minus 12\n"
   ]
  },
  {
   "cell_type": "markdown",
   "metadata": {},
   "source": [
    "### python code for (b)\n"
   ]
  },
  {
   "cell_type": "code",
   "execution_count": 34,
   "metadata": {},
   "outputs": [
    {
     "data": {
      "image/png": "[encoded data removed]",
      "text/plain": [
       "<matplotlib.figure.Figure at 0x1345af247f0>"
      ]
     },
     "metadata": {},
     "output_type": "display_data"
    },
    {
     "name": "stdout",
     "output_type": "stream",
     "text": [
      "mean = -10.87\n",
      "variance  = 3.96\n"
     ]
    }
   ],
   "source": [
    "import numpy as np\n",
    "import matplotlib\n",
    "import matplotlib.pyplot as plt\n",
    "from mpl_toolkits.mplot3d import Axes3D\n",
    "%matplotlib inline\n",
    "\n",
    "import seaborn as sns\n",
    "sns.set_style(\"white\")\n",
    "\n",
    "import time\n",
    "\n",
    "import scipy.stats\n",
    "\n",
    "\n",
    "def function(y):                      # creating a function for calculation Y-12 \n",
    "    return y-12\n",
    "\n",
    "mean = 1                              # mean of Y \n",
    "variance = 4                          # Variance of Y\n",
    "sd = np.sqrt(variance)                # standard deviation of Y which is square root of variance\n",
    "y = np.random.normal(mean,sd,1000)    #creating normal distribution with 1000 random variables of Y\n",
    "y_12 = function(y)                   # transform data through f(Y)=Y-12\n",
    "\n",
    "plt.hist(y, bins=200, normed=True, histtype='step', lw=2)  # plotting the histogram for y\n",
    "plt.hist(y_12, bins=200, normed=True, histtype='step', lw=2) # plotting the histogram for x\n",
    "\n",
    "plt.ylim(0, .5)\n",
    "plt.show()\n",
    "\n",
    "print('mean = {:.2f}'.format(y_12.mean()))      # mean from historgram of y-12\n",
    "print('variance  = {:.2f}'.format(y_12.var()))  # variance from histogram of y-12"
   ]
  },
  {
   "cell_type": "markdown",
   "metadata": {},
   "source": [
    "From the histogram it it clear that both Y and Y-12 follows normal distribution. So the new distribution is normal distribution\n",
    "\n",
    "$$E[Y-12]=E[Y]-12$$\n",
    "\n",
    "$$=1-12$$\n",
    "\n",
    "$$E[Y-12]=-11$$\n",
    "\n",
    "$$var(Y-12)=var[Y]$$\n",
    "\n",
    "$$var(Y-12)=4$$\n",
    "\n",
    "We can see that the mean and variance of Y-12 from the code is similar to that of calculated answers\n",
    "\n",
    "The new distribution has mean of $Y-12$ around -11 and variane of $Y-12$ around 4 "
   ]
  },
  {
   "cell_type": "markdown",
   "metadata": {},
   "source": [
    "## (c)\n",
    "$$P(\\left(-1\\leq Y \\leq 1\\right)) = P(Z \\leq \\frac{1-1}{2})-P(Z \\leq \\frac{-1-1}{2})$$\n",
    "\n",
    "$$=P(Z \\leq 0)-P(Z \\leq -1)$$\n",
    "\n",
    "$$=P(Z \\leq 0)-(1-P(Z \\leq 1))$$\n",
    "\n",
    "$$=P(Z \\leq 0)-1+P(Z \\leq 1))$$\n",
    "\n",
    "$$=\\phi({0})+\\phi({1})-1 $$\n",
    "\n",
    "$$=0.5+0.8413-1$$\n",
    "\n",
    "$$P(\\left(-1\\leq Y \\leq 1\\right))=0.3413$$"
   ]
  },
  {
   "cell_type": "markdown",
   "metadata": {},
   "source": [
    "### python code for (c)"
   ]
  },
  {
   "cell_type": "code",
   "execution_count": 37,
   "metadata": {},
   "outputs": [
    {
     "name": "stdout",
     "output_type": "stream",
     "text": [
      "P(-1 <= Y <= 1) = 0.341344746069\n"
     ]
    }
   ],
   "source": [
    "import numpy as np\n",
    "from scipy.stats import norm\n",
    "\n",
    "mean=1                                             # mean of Y\n",
    "sd=2                                            # standard deviation of Y\n",
    "y1=1                                             # for y<=1     \n",
    "y2=-1                                           # for y>=-1\n",
    "P_y=norm.cdf(y1,mean,sd)-(norm.cdf(y2,mean,sd))    #probability of Y between -1 and 1\n",
    "print ('P(-1 <= Y <= 1) =',P_y) "
   ]
  },
  {
   "cell_type": "markdown",
   "metadata": {},
   "source": [
    "# Problem 4:\n",
    "Let X and Y be normal random variables, with X~N(0,1) and Y~N(1,4). Please confirm using simulations (by generating 10,000 numbers) the following formulas: <br>\n",
    "a) The product of two independent Gaussians is given by:\n",
    "\n",
    "$$\\begin{aligned}\\mu &=\\mu_1 * \\mu_2\\\\\n",
    "\\sigma^2 &= \\sigma^2_1 * \\sigma^2_2 + \\sigma^2_1 * \\mu^2_2 + \\sigma^2_2 * \\mu^2_1 \n",
    "\\end{aligned}$$\n",
    "\n",
    "b) The sum of two Gaussians is given by\n",
    "\n",
    "$$\\begin{gathered}\\mu = \\mu_1 + \\mu_2 \\\\\n",
    "\\sigma^2 = \\sigma^2_1 + \\sigma^2_2\n",
    "\\end{gathered}$$\n",
    "\n",
    "The code should include the following:\n",
    "- Generation of Gaussian random numbers as in the example from Problem 3.\n",
    "- Computation of the mean and variance using formulas given above\n",
    "- Extracting mean and variance from your histogram and comparisson with the results obtained from the formulas given above"
   ]
  },
  {
   "cell_type": "code",
   "execution_count": 29,
   "metadata": {},
   "outputs": [
    {
     "name": "stdout",
     "output_type": "stream",
     "text": [
      "product mean from formula 0\n",
      "product variance from formula 5\n",
      "product mean from histogram= 0.03\n",
      "product variance from histogram = 4.92\n"
     ]
    },
    {
     "data": {
      "image/png": "[encoded data removed]",
      "text/plain": [
       "<matplotlib.figure.Figure at 0x1afa4a8b6d8>"
      ]
     },
     "metadata": {},
     "output_type": "display_data"
    },
    {
     "name": "stdout",
     "output_type": "stream",
     "text": [
      "sum mean from formula 1\n",
      "sum variance from formula 5\n",
      "sum mean from histogram= 1.02\n",
      "sum variance from histogram = 4.89\n"
     ]
    },
    {
     "data": {
      "image/png": "[encoded data removed]",
      "text/plain": [
       "<matplotlib.figure.Figure at 0x1afa4779b00>"
      ]
     },
     "metadata": {},
     "output_type": "display_data"
    }
   ],
   "source": [
    "import numpy as np\n",
    "import matplotlib\n",
    "import matplotlib.pyplot as plt\n",
    "from mpl_toolkits.mplot3d import Axes3D\n",
    "%matplotlib inline\n",
    "\n",
    "import seaborn as sns\n",
    "sns.set_style(\"white\")\n",
    "\n",
    "import time\n",
    "\n",
    "import scipy.stats\n",
    "\n",
    "\n",
    "mean_x = 0                                                   # mean of x\n",
    "var_x=1                                                      # variance of x\n",
    "std_x = np.sqrt(var_x)                                       # standard deviation of x\n",
    "\n",
    "mean_y = 1                                                  # mean of y\n",
    "var_y=4                                                     # variance of y\n",
    "std_y= np.sqrt(var_y)                                       # standard deviation of y\n",
    "\n",
    "x = np.random.normal(loc=mean_x, scale=std_x, size=10000)   # creating normal distribution for x with 10,000 samples\n",
    "y = np.random.normal(loc=mean_y, scale=std_y, size=10000)   # creating normal distribution for y with 10,000 samples\n",
    "sum=x+y                                                     # X+Y distribution\n",
    "product=x*y                                                 # XY distribution\n",
    "\n",
    "#a\n",
    "\n",
    "#mean_pf=(mean_x*var_y+mean_y*var_x)/(var_x+var_y)           # mean formula for product from the question\n",
    "#var_pf= (var_x*var_y)/(var_x+var_y)\n",
    "mean_pf=(mean_x*mean_y)\n",
    "var_pf=var_x*var_y + var_x*mean_y**2+ var_y*mean_x**2\n",
    "std_pf=np.sqrt(var_pf)\n",
    "print('product mean from formula',mean_pf)\n",
    "print('product variance from formula',var_pf) \n",
    "\n",
    "product_pf = np.random.normal(loc=mean_pf, scale=std_pf, size=10000)\n",
    "plt.hist(product_pf, bins=200, normed=True, histtype='step', lw=2)   \n",
    "\n",
    "\n",
    "plt.hist(product, bins=200, normed=True, histtype='step', lw=2)       # plotting the histogram for XY distribution manually\n",
    "print('product mean from histogram= {:.2f}'.format(product.mean()))   # finding the value of mean from histogram of XY distribution\n",
    "print('product variance from histogram = {:.2f}'.format(product.var())) # finding the value of variance from histogram of XY distribution\n",
    "\n",
    "plt.ylim(0, 0.5)\n",
    "plt.show()\n",
    "\n",
    "\n",
    "#b\n",
    "\n",
    "mean_sf=mean_x+mean_y                                   # mean formula for sum from the question\n",
    "var_sf=var_x+var_y                                      # variance formula for sum the question                          \n",
    "std_sf=np.sqrt(var_sf)\n",
    "\n",
    "print('sum mean from formula',mean_sf)\n",
    "print('sum variance from formula',var_sf)\n",
    "sum_pf = np.random.normal(loc=mean_sf, scale=std_sf, size=10000) \n",
    "plt.hist(sum_pf, bins=200, normed=True, histtype='step', lw=2)\n",
    "\n",
    "\n",
    "plt.hist(sum, bins=200, normed=True, histtype='step', lw=2)     # plotting the histogram for X+Y distribution manually\n",
    "print('sum mean from histogram= {:.2f}'.format(sum.mean()))     # finding the value of mean from histogram of X+Y distribution\n",
    "print('sum variance from histogram = {:.2f}'.format(sum.var())) # finding the value of variance from histogram of X+Y distribution\n",
    "\n",
    "\n",
    "\n",
    "plt.ylim(0, 0.5)\n",
    "plt.show()\n",
    "\n"
   ]
  },
  {
   "cell_type": "markdown",
   "metadata": {},
   "source": [
    "# Problem 5:\n",
    "Let us consider a model where $x = x_t +e_x$, where $e_x$ is a random error\n",
    "term (i.e. has mean 0 and variance 1). That is, $x_t$ is the �true� value of the variable, and $x$ is the measure of the variable that is observed. The same model is used for the measurement of y, $y=y_t+e_y$, where $e_y$  is a random error term (i.e. has mean 0 and variance 1). \n",
    "\n",
    "A) Create data in Python (1000 points of x and y) that has the following properties\n",
    "$$\\Sigma = \\begin{bmatrix}2&0.7\\\\0.7&\\sqrt(8)\\end{bmatrix}$$\n",
    "$mean_x = 10$, $mean_y=7$, both $e_x$ and $e_y$ are standard Normal.\n",
    "using: $y= y_t + e_y$ and $x = x_t + e_x$.\n",
    "\n",
    "B) Compute mean and variance of x and y. What is the effect of the error term on the mean and variance of x and y.\n",
    "\n",
    "C) Compute the following covariances in Python: $cov (x, y_t)$ and $cov (x_t, y_t)$. From the lecture, you know how to compute, for example, $cov(x_t + e_x, y_t)$. Compare obtained result with the formulas from the lectures.\n",
    "\n",
    "D) Find the correlation coeeficient in Python.\n",
    "\n"
   ]
  },
  {
   "cell_type": "markdown",
   "metadata": {},
   "source": [
    "## Python code "
   ]
  },
  {
   "cell_type": "code",
   "execution_count": 38,
   "metadata": {},
   "outputs": [
    {
     "name": "stdout",
     "output_type": "stream",
     "text": [
      "mean of x is 9.96048711797\n",
      "mean of y is 6.93610819349\n",
      "variance of x is 3.09838239177\n",
      "variance of y is 3.76131383685\n",
      "The effect of error term on the mean of x is  -0.0395128820282\n",
      "The effect of error term on the mean of y is  -0.0638918065067\n",
      "The effect of error term on the variance of x is  1.09838239177\n",
      "The effect of error term on the variance of y is  0.94131383685\n",
      "covariance of x and yt is 0.584731997294\n",
      "covariance of xt and yt is 0.62039953721\n",
      "The correlation coefficient is  0.191729701285\n"
     ]
    }
   ],
   "source": [
    "import numpy as np\n",
    "from scipy import stats \n",
    "import statistics\n",
    "import matplotlib\n",
    "import matplotlib.pyplot as plt\n",
    "from mpl_toolkits.mplot3d import Axes3D\n",
    "%matplotlib inline\n",
    "\n",
    "\n",
    "mean_xt_yt=[10,7]       # mean of true value\n",
    "cov_xt_yt=[[2,0.7],[0.7,2.82]]    # covariance of true value\n",
    "\n",
    "# A \n",
    "xt,yt=np.random.multivariate_normal(mean_xt_yt,cov_xt_yt,1000).T    # multivariate normal distribution distribution with 1000 samples\n",
    "\n",
    "# B\n",
    "\n",
    "ex=np.random.normal(0,1,1000)  # normal distribution of random error term of x with 1000 samples given N(0,1)\n",
    "ey=np.random.normal(0,1,1000)  # normal distribution of random error term of y with 1000 samples given N(0,1)\n",
    "\n",
    "x=xt+ex        # given \n",
    "y=yt+ey        # given\n",
    "\n",
    "mean_x=np.mean(x)          # mean of x\n",
    "print('mean of x is' ,mean_x) \n",
    "mean_y=np.mean(y)          # mean of y\n",
    "print('mean of y is' ,mean_y)\n",
    "var_x=np.var(x)            # variance of x\n",
    "print('variance of x is' ,var_x)\n",
    "var_y=np.var(y)            # variance of y\n",
    "print('variance of y is' ,var_y)\n",
    "\n",
    "var_xt=cov_xt_yt[0][0]   # variance of xt\n",
    "var_yt=cov_xt_yt[1][1]   # variance of yt\n",
    "\n",
    "mean_xt=mean_xt_yt[0]    # mean of xt\n",
    "mean_yt=mean_xt_yt[1]    # mean of yt\n",
    "\n",
    "\n",
    "\n",
    "\n",
    "mean_effect_x=mean_x-mean_xt\n",
    "mean_effect_y=mean_y-mean_yt\n",
    "variance_effect_x=var_x-var_xt\n",
    "variance_effect_y=var_y-var_yt\n",
    "\n",
    "print('The effect of error term on the mean of x is ',mean_effect_x)\n",
    "print('The effect of error term on the mean of y is ',mean_effect_y)\n",
    "print('The effect of error term on the variance of x is ',variance_effect_x)\n",
    "print('The effect of error term on the variance of y is ',variance_effect_y)\n",
    "\n",
    "\n",
    "# C\n",
    "\n",
    "cov_1=np.cov(x,yt)      # covariance of x and yt\n",
    "print('covariance of x and yt is',cov_1[0][1])\n",
    "cov_2=np.cov(xt,yt)     # covariance of xt and yt\n",
    "print('covariance of xt and yt is',cov_2[0][1])\n",
    "\n",
    "# D\n",
    "\n",
    "r3,p3=stats.pearsonr(x,y)   # correlation coefficient\n",
    "print('The correlation coefficient is ', r3)"
   ]
  },
  {
   "cell_type": "markdown",
   "metadata": {},
   "source": [
    "From the ouput we can see that the effect of error term on the mean of x and y is 0 as the mean of error term is 0.\n",
    "The effect of error term on the variance of x and y is approximately equal to +1 as the variance of error term is 1.\n",
    "As we know if we add any gaussian with zero mean the actual mean of the distribution won't shift, if we add any gaussian with specific variance 'a' then the actual variance of the distribution shifts by 'a'"
   ]
  },
  {
   "cell_type": "markdown",
   "metadata": {
    "collapsed": true
   },
   "source": [
    "# Bonus problems \n",
    "\n",
    "### Bonus problem 1: \n",
    "Instead of solving problems using scipy.stats use one of these 2 Python tools: OpenTurns http://openturns.github.io/openturns/master/contents.html or Pyro (for those interested in PyTorch) http://docs.pyro.ai/primitive_dist.html "
   ]
  },
  {
   "cell_type": "markdown",
   "metadata": {},
   "source": [
    "### Bonus problem 2: \n",
    "Implement the following problem in Python by simulating multivariate normal and solve analytically. To generate multivariate Gaussian random numbers please use the code below from http://scipy-cookbook.readthedocs.io/items/CorrelatedRandomSamples.html\n",
    "\n",
    " Let $X=(X_1,X_2,X_3)^T$ have N(µ, Σ) distribution where $µ = (0, 0, 0)^T$  and\n",
    "$$\\Sigma = \\begin{bmatrix}1&-2&0\\\\-2&5&0\\\\0&0&2\\end{bmatrix}$$\n",
    "\n",
    "Find the joint distribution of the following pairs of random variables. Are they independently distributed? Provide explanations for your answers.<br>\n",
    "(i) $X_1$ and $X_2$. <br>\n",
    "(ii) $X_2$ and $X_3$. <br>\n",
    "(iii) ($X_1$, $X_2$) and $X_3$. <br>\n",
    "(iv) ($X_1$ + $X_2$)/2 and $X_3$. <br>\n",
    "(v) $X_2$ and $-2.5X_1 + X_2 - X_3$. <br>"
   ]
  },
  {
   "cell_type": "code",
   "execution_count": 39,
   "metadata": {},
   "outputs": [
    {
     "data": {
      "image/png": "[encoded data removed]",
      "text/plain": [
       "<matplotlib.figure.Figure at 0x1afa4908a90>"
      ]
     },
     "metadata": {},
     "output_type": "display_data"
    },
    {
     "data": {
      "image/png": "[encoded data removed]",
      "text/plain": [
       "<matplotlib.figure.Figure at 0x1afa487f1d0>"
      ]
     },
     "metadata": {},
     "output_type": "display_data"
    }
   ],
   "source": [
    "from scipy.linalg import eigh, cholesky\n",
    "from scipy.stats import norm\n",
    "from pylab import plot, show, axis, subplot, xlabel, ylabel, grid\n",
    "# Choice of cholesky or eigenvector method.\n",
    "method = 'cholesky'\n",
    "#method = 'eigenvectors'\n",
    "num_samples = 10000\n",
    "# The desired covariance matrix.\n",
    "r = np.array([\n",
    "    [ 1, -2, 0],\n",
    "    [ -2, 5, 0],\n",
    "    [ 0,  0, 2]\n",
    "    ])\n",
    "# Generate samples from three independent normally distributed random\n",
    "# variables (with mean 0 and std. dev. 1).\n",
    "y = norm.rvs(size=(3, num_samples))\n",
    "# We need a matrix `c` for which `c*c^T = r`. We can use, for example,\n",
    "# the Cholesky decomposition, or the we can construct `c` from the\n",
    "# eigenvectors and eigenvalues.\n",
    "if method == 'cholesky':\n",
    "# Compute the Cholesky decomposition.\n",
    "    c = cholesky(r, lower=True)\n",
    "else:\n",
    "# Compute the eigenvalues and eigenvectors.\n",
    "    evals, evecs = eigh(r)\n",
    "    # Construct c, so c*c^T = r.\n",
    "    c = np.dot(evecs, np.diag(np.sqrt(evals)))\n",
    "\n",
    "# Convert the data to correlated random variables.\n",
    "x = np.dot(c, y)\n",
    "\n",
    "# Plot various projections of the samples.\n",
    "\n",
    "subplot(2,2,1)\n",
    "plot(x[0], x[1], 'b.')\n",
    "ylabel('x2')\n",
    "axis('equal')\n",
    "grid(True)\n",
    "\n",
    "subplot(2,2,3)\n",
    "plot(x[0], x[2], 'b.')\n",
    "xlabel('x1')\n",
    "ylabel('x3')\n",
    "axis('equal')\n",
    "grid(True)\n",
    "\n",
    "subplot(2,2,4)\n",
    "plot(x[1], x[2], 'b.')\n",
    "xlabel('x2')\n",
    "axis('equal')\n",
    "grid(True)\n",
    "show()\n",
    "\n",
    "\n",
    "ax=subplot(221,projection='3d')\n",
    "ax.plot(x[0], x[1], x[2], 'r.')\n",
    "ax.set_xlabel(\"x1\")\n",
    "ax.set_ylabel(\"x2\")\n",
    "ax.set_zlabel(\"x3\")\n",
    "axis('equal')\n",
    "grid(True)\n",
    "\n",
    "subplot(2,2,3)\n",
    "plot(0.5*(x[0]+x[1]), x[2], 'r.')\n",
    "xlabel('x1+x2')\n",
    "ylabel('x3')\n",
    "axis('equal')\n",
    "grid(True)\n",
    "\n",
    "subplot(2,2,4)\n",
    "plot(x[1], -2.5*x[0]+x[1]-x[2], 'r.')\n",
    "xlabel('x2')\n",
    "ylabel('-2.5*x1+x2-x3')\n",
    "axis('equal')\n",
    "grid(True)\n",
    "show()"
   ]
  },
  {
   "cell_type": "markdown",
   "metadata": {
    "collapsed": true
   },
   "source": [
    "(i): $f(x_1, x_2) = N(\\begin{bmatrix}0\\\\0\\end{bmatrix},\\begin{bmatrix}1&-2\\\\-2&5\\end{bmatrix})$. $x_1$ and $x_2$ are not independent, because their covariance is not zero."
   ]
  },
  {
   "cell_type": "markdown",
   "metadata": {
    "collapsed": true
   },
   "source": [
    "(ii): $f(x_2, x_3) = N(\\begin{bmatrix}0\\\\0\\end{bmatrix},\\begin{bmatrix}5&0\\\\0&2\\end{bmatrix})=N(0,5)N(0,2)=f(x_2)f(x_3)$. Thus, $x_2$ and $x_3$ are indenpendent."
   ]
  },
  {
   "cell_type": "markdown",
   "metadata": {},
   "source": [
    "(iii) $f((x_1,x_2),x_3)=f(x_1,x_2,x_3)=f(x_1,x_2)f(x_3)$. $(x_1,x_2)$ is independent of $x_3$."
   ]
  },
  {
   "cell_type": "markdown",
   "metadata": {},
   "source": [
    "(iv) $E[\\frac{x_1+x_2}{2}]=\\frac{1}{2}E[x_1+x_2]=\\frac{1}{2}(E[x_1]+E[x_2])=0$,<br>\n",
    "$E[x_3]=0$,<br>\n",
    "$var(\\frac{x_1+x_2}{2})=\\frac{1}{4}(var(x_1+x_2))=\\frac{1}{4}[var(x_1)+var(x_2)+2cov(x_1,x_2)]=\\frac{1}{4}[1+5-4]=\\frac{1}{2}$,<br>\n",
    "$var(x_3)=2$,<br>\n",
    "$cov(\\frac{x_1+x_2}{2},x_3)=\\frac{1}{2}cov(x_1+x_2,x_3)=\\frac{1}{2}(cov(x_1,x_3)+cov(x_2,x_3))=\\frac{1}{2}(0+0)=0$.<br>\n",
    "Thus,<br>\n",
    "$f(\\frac{x_1+x_2}{2},x_3)=N(\\begin{bmatrix}0\\\\0\\end{bmatrix},\\begin{bmatrix}\\frac{1}{2} & 0\\\\0&2\\end{bmatrix})$. $\\frac{x_1+x_2}{2}$ and $x_3$ are independent, because their covariance is 0."
   ]
  },
  {
   "cell_type": "markdown",
   "metadata": {},
   "source": [
    "(v) \n",
    "\\begin{align}\n",
    "var(-2.5x_1+x_2-x_3)&=(-2.5)^2var(x_1)+var(x_2)+(-1)^2var(x_3) + cov(-2.5x_1,x_2) + cov(-2.5x_1,x_3) + cov(x_2,-x_3)\\\\\n",
    "&=6.25var(x_1)+var(x_2)+var(x_3) -2.5cov(x_1,x_2) -2.5cov(x_1,x_3) - cov(x_2,x_3)\\\\\n",
    "&=6.25 + 5 + 2 -2.5*(-2) - 2.5*0 - 0\\\\\n",
    "&=18.25,\n",
    "\\end{align}\n",
    "\n",
    "\\begin{align}\n",
    "cov(x_2, -2.5x_1 + x_2 -x_3)&=cov(x_2,-2.5x_1) + cov(x_2,x_2) + cov(x_2,-x_3)\\\\\n",
    "&=-2.5*cov(x_2,x_1) + var(x_2) - cov(x_2,x_3)\\\\\n",
    "&=-2.5*(-2) + 5 - 0\\\\\n",
    "&=5+5\\\\\n",
    "&=10.\n",
    "\\end{align}\n",
    "\n",
    "Thus, $f(x_2, -2.5x_1 + x_2 -x_3)=N(\\begin{bmatrix}0\\\\0\\end{bmatrix},\\begin{bmatrix}5 & 10\\\\10&18.25\\end{bmatrix})$. $x_2$ and $-2.5x_1 + x_2 -x_3$ are not independent, as their covariance is nonzero."
   ]
  },
  {
   "cell_type": "code",
   "execution_count": null,
   "metadata": {},
   "outputs": [],
   "source": []
  }
 ],
 "metadata": {
  "anaconda-cloud": {},
  "kernelspec": {
   "display_name": "Python [default]",
   "language": "python",
   "name": "python3"
  },
  "language_info": {
   "codemirror_mode": {
    "name": "ipython",
    "version": 3
   },
   "file_extension": ".py",
   "mimetype": "text/x-python",
   "name": "python",
   "nbconvert_exporter": "python",
   "pygments_lexer": "ipython3",
   "version": "3.5.2"
  }
 },
 "nbformat": 4,
 "nbformat_minor": 1
}
