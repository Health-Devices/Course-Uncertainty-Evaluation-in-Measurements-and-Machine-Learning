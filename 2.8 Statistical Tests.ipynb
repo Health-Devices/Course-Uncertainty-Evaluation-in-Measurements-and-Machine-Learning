{
 "cells": [
  {
   "cell_type": "markdown",
   "metadata": {},
   "source": [
    "# Lecture 6 Notes - Part 1\n"
   ]
  },
  {
   "cell_type": "markdown",
   "metadata": {},
   "source": [
    "# **INTRODUCTION **"
   ]
  },
  {
   "cell_type": "markdown",
   "metadata": {},
   "source": [
    "- The very basic question when it comes to dealing with a set of data is how to determine the data from a given distribution? or vice versa.<br>\n",
    "The following steps or options may help us in the first case.<br>\n",
    "1)  The data maybe checked **statistically **.(provided we know about the characteristics of the given data.)<br>\n",
    "2)  Estimate the parameters of the distribution.<br>\n",
    "   ** PARAMETRIC APPROACH **<br>\n",
    "In this approach the various distributions such as the \n",
    "- -normal<br>\n",
    "- -poisson<br>\n",
    "- -binomial<br>\n",
    "- -lognormal <br>\n",
    "- -weibull distributions (etc) <br>\n",
    "are used in order to check if the above data falls into anyone of the above mentioned category and thereby proceed from then on using the characteristics of the known distributions.<br>\n",
    "**NON-PARAMETRIC APPROACH **<br>\n",
    "This is a non statistical approach in which we estimate the shape of the distribution but we are not worried about the statistics of the same (i.e Mean, Standard deviation,..).This type of approach is used in the case of unsupervised learning.<br>\n",
    "The bayesian approach is a non parametric approach.<br>\n",
    "3) ** MODELLING**<br>\n",
    "Similar to that of the estimation process there are two types of approaches in modelling<br>\n",
    "- -**EXPLORATORY MODEL**: There is an explanation behind the selection of this model<br>\n",
    "- -**PREDICTIVE MODEL**:There is no proper explanation or science behind the model, just by prediction we select the model. <br>\n",
    "\n"
   ]
  },
  {
   "cell_type": "markdown",
   "metadata": {},
   "source": [
    "# **Quantitative Techniques **\n",
    "\n",
    "The Quantitative techniques are statistical methods. Exploratory Data Analysis and statistical methods are complemenatry to each other and never the supplemetary to each other. At first the Exploratory Data analysis is used in order to analyse the given data at first then the classical statistic method is used to provide the proper proof for the validation that we have from the EDA model.\n",
    "Many of the quantitative techniques fall into two broad categories:\n",
    "\n",
    "**Interval estimation**<br>\n",
    "The point estimate is generally carried out as it will not be possible to find out the population parameter in all the cases, Hence we make the necessary estimates from the sample. As we know that the sample estimate differ from the actual population parameter by a certain limit, this uncertainity is given a lower and an upper bound.This diference between the upper and lower limit of the interval is called the interval estimate.<br>[5]\n"
   ]
  },
  {
   "cell_type": "markdown",
   "metadata": {},
   "source": [
    "** Hypothesis Testing **\n",
    "\n",
    "What is normality testing?<br>\n",
    "It is the test used to determine if the data set is well modelled by a normal distribution and to compute how likely the random variable underlying it will be normally distibuted.[1]<br>\n",
    "**HYPOTHESIS TESTING**<br>\n",
    "\n",
    "Hypothesis testing in statistics is a way for you to test the results of a survey or experiment to see if we have meaningful results. we are basically determining whether our results are valid by figuring out the odds that the results have happened by chance. <br>\n",
    "Every time we perform a hypothesis test, this is the basic procedure that we will follow:<br>\n",
    "\n",
    "(1) We'll make an initial assumption about the population parameter <br>\n",
    "(i.e. The null hypothesis is defined in this case) $H_0$ <br>\n",
    "\n",
    "(**Note** :Null hypothesis can never be accepted either we reject the null or we fail to reject the null)<br>\n",
    "\n",
    "\n",
    "(2) We'll collect evidence from the data that is given, either it may be the true data or a data based on someones observation.<br>\n",
    "\n",
    "(3) Based on the available evidence (data), we'll decide whether to \"reject\" or \"not reject\" our initial assumption.<br>\n",
    "\n",
    "Further depending upon the type of the datta and the test that is carried out it can be a two sided or one sided test.<br>\n",
    "Example:<br>\n",
    "** One sided **<br>\n",
    "For example let us consider a new medicine is found and tested on a patient, If we were to find if there is any significant improvement in the treatment because of the new medicine.<br>\n",
    "$H_0$: The New medicine doesnt show any improvement in the treatment.<br>\n",
    "$H_1$:The New medcicine shows an improvement in the treatment.<br>\n",
    "** Two sided **<br>\n",
    "For example let us consider to test a data whether it follows a normal distribution.<br>\n",
    "$H_0$:The given distribution of the data is normal<br>\n",
    "$H_1$:The given distribution of the data is not normal <br>\n",
    "\n",
    "A better insight can be gained through an example :<br>\n",
    "A company produces a battery , the energy storage is gaussian .The mean an the standard deviation of the battery is given by <br>\n",
    "Mean: 200 MJ<br>\n",
    "std: 20MJ<br>\n",
    "Now the company produces the same range of battery using a new advanced method, rather than the traditional method. We also have that the data of one of the battery has the meean and std of 230 MJ and 20 MJ. <br>\n",
    "\n",
    "To determine : If the new method really has any effect on incresing the mean storage value of the battery.<br>\n",
    "\n",
    "Let us assume the null and then alternative hypothesis:\n",
    "$H_0$:The new method is no different from the traditional method and it produces no increase in the mean value of the storage<br>\n",
    "$H_1$:The new method increases the storage capacity of the battery significantly.<br>\n",
    "\n",
    "\n",
    "\n",
    "\n",
    "\n",
    "\n",
    "\n"
   ]
  },
  {
   "cell_type": "code",
   "execution_count": 85,
   "metadata": {},
   "outputs": [
    {
     "data": {
      "image/png": "[encoded data removed]",
      "text/plain": [
       "<matplotlib.figure.Figure at 0x11e4e76d8>"
      ]
     },
     "metadata": {},
     "output_type": "display_data"
    }
   ],
   "source": [
    "import numpy as np\n",
    "import matplotlib\n",
    "import matplotlib.pyplot as plt\n",
    "from mpl_toolkits.mplot3d import Axes3D\n",
    "%matplotlib inline\n",
    "\n",
    "import seaborn as sns\n",
    "sns.set_style(\"white\")\n",
    "\n",
    "import time\n",
    "\n",
    "import scipy.stats \n",
    "from scipy import stats\n",
    "import matplotlib.mlab as mlab\n",
    "import math\n",
    "\n",
    "mean_old=200\n",
    "std_old=20\n",
    "normal_old=np.random.normal(mean_old,std_old,100)\n",
    "x = np.linspace(mean_old - 3*std_old, mean_old + 3*std_old, 100)\n",
    "plt.title('The normal distribution of the energy storage of the battery')\n",
    "plt.plot(x,mlab.normpdf(x,mean_old,std_old))\n",
    "plt.xlabel('Enerygy storage in MJ')\n",
    "plt.show()\n",
    "\n"
   ]
  },
  {
   "cell_type": "markdown",
   "metadata": {},
   "source": [
    "  We now need to find out the Z-score of the given new mean of the battery produced using the new technology.<br>\n",
    "$$  Z=\\frac{x-\\mu}{\\sigma}$$<br>\n",
    "In this case the z value is equal to <br>\n",
    "$$ Z= (230 - 200)/(20)$$\n",
    "$$ Z=1.5 $$<br>\n",
    "The Z-critical value for 95% is given by the Z-table and it is equal to 1.96<br>\n",
    "\n",
    "  "
   ]
  },
  {
   "cell_type": "markdown",
   "metadata": {},
   "source": [
    "Therefore as the value of the z score is not more than the z critical value we cannot reject the null hypothesis $H_0$<br>\n",
    "This says that there is no significant difference between the old traditional wey of the production of battery and the new advanced method.<br>\n",
    "Hence we can conclude that the obtained battery with a higher mean storage capacity is just because of a chance .\n",
    "\n",
    "\n"
   ]
  },
  {
   "cell_type": "markdown",
   "metadata": {},
   "source": [
    "Now on considering another case where instead of one battery taken into consideration 4 batteries that are produced by\n",
    "the new advanced method is taken into consideration.<br>\n",
    "Here all the values remain the same except for the number of batteries taken into consideration.<br>\n",
    "n=4 in this case.<br>\n",
    "In this case the value of the Z can be given by:<br>\n",
    "$$  Z=\\frac{x-\\mu}{\\frac{\\sigma}{\\sqrt n}}$$<br>\n",
    "Now the value of the Z is <br>\n",
    "$$ Z= (230 - 200)/(20/\\sqrt 4)$$<br>\n",
    "$$ Z=3 $$<br>\n",
    "Now the value of Z is above the critical value of Z at 95% confidence interval,Hence now we can say with 95% confidence that the advanced method of the production of battery is more superior to that of the traditional way.<br>\n",
    "We reject the null hypothesis $H_0$ in this case.\n",
    "\n"
   ]
  },
  {
   "cell_type": "markdown",
   "metadata": {},
   "source": [
    "** T-test**<br>\n",
    "In the above examples it is clear that the population parameter of standard deviation is used, But in real case we do not use and have the population parameters , Hence we go for the T-tests where the standard deviation is calculated from the sample. <br>\n",
    "The confidence interval is given by <br>\n",
    "alpha level=0.95 or 95%<br>\n",
    "Degrees of freedom(n-1) = 3<br>\n",
    "mean=230<br>\n",
    "standard deviation=$\\frac{\\sigma}{\\sqrt n}$= 20/2=10 "
   ]
  },
  {
   "cell_type": "code",
   "execution_count": 83,
   "metadata": {},
   "outputs": [
    {
     "data": {
      "text/plain": [
       "(198.17553694715738, 261.82446305284265)"
      ]
     },
     "execution_count": 83,
     "metadata": {},
     "output_type": "execute_result"
    }
   ],
   "source": [
    "stats.t.interval(0.95,df=3,loc=230,scale=10)"
   ]
  },
  {
   "cell_type": "markdown",
   "metadata": {},
   "source": [
    "As the value of the new mean is included in the confidence interval, we can reject the null hypothesis and accept the alternative hypothesis.<br>\n",
    "The common errors that appear in the hypothesis is given by the following figure:<img src=\"hypo.jpg\">[2]<br>"
   ]
  },
  {
   "cell_type": "markdown",
   "metadata": {},
   "source": [
    "**Significance Level**:\tThe significance level, α, defines the sensitivity of the test.<br>\n",
    "A value of α = 0.05 means that we reject the null hypothesis 5% of the time when it is in fact true thus a very lower propability of rejecting the null hypothesis by a chance. This is also called the type I error or the producers risk.<br>\n",
    "The choice of α is somewhat arbitrary, although in practice values of 0.1, 0.05, and 0.01 are commonly used.<br>\n",
    "\n",
    "The probability of rejecting the null hypothesis when it is in fact false is called the power of the test and is denoted by 1 - β.It is the correct decision. <br>\n",
    "Its complement, the probability of accepting the null hypothesis when the alternative hypothesis is, in fact, true (type II error), is called β and can only be computed for a specific alternative hypothesis.It is also called as the consumers risk.[5]"
   ]
  },
  {
   "cell_type": "markdown",
   "metadata": {},
   "source": [
    "The common quantitative analysis tests used for the distributional measures are :<br>\n",
    "**Kolmogorov-Smirnov Goodness-of-Fit Test**<br>\n",
    "The Kolmogorov-Smirnov test is used to check if a sample comes from a population with a specific distribution.\n",
    "The Kolmogorov-Smirnov (K-S) test is based on the empirical distribution function (ECDF).An empirical cumulative distribution function (CDF) is a non-parametric estimator of the underlying CDF of a random variable.  It assigns a probability of 1/n to each datum, orders the data from smallest to largest in value, and calculates the sum of the assigned probabilities up to and including each datum.  The result is a step function that increases by 1/n at each datum.<br>[6]\n",
    "\n",
    "$$EN=n(i)/N$$\n",
    "where n(i) is the number of points less than Yi and the Yi are ordered from smallest to largest value. This is a step function that increases by 1/N at the value of each ordered data point. The K-S test is based on the maximum distance between these two curves.<br>\n",
    "The graph below is a plot of the empirical distribution function with a normal cumulative distribution function for 100 normal random numbers.<img src=\"k-s ecdf.gif\">[5]\n",
    "The null and alternative hypothesis are given as stated below :<br>\n",
    "$H_0$: The distribution of the data is similar to the one in the consideration.\n",
    "$H_1$: The distribution of the data is different.\n",
    "The test statistic of the Kolmogorov-Smirnov Goodness-of-Fit is given by :<br>\n",
    "$$D=max1≤i≤N(F(Yi)−\\frac{i−1}{N},\\frac{i}{N}−F(Yi))$$\n",
    "Once the test statistic is greater than the critical value depending upon the alpha level, then we can reject the null hypothesis and thereby conclude that the data does not follow the distribution which is under comparision.<br>\n",
    "Now let us consider an example for the analysis.\n",
    "We generated 100 random numbers for normal distribution. In all cases, the Kolmogorov-Smirnov test was applied to test for a normal distribution.[5]\n",
    "\n",
    "\n"
   ]
  },
  {
   "cell_type": "code",
   "execution_count": 93,
   "metadata": {},
   "outputs": [
    {
     "data": {
      "text/plain": [
       "KstestResult(statistic=0.092497394047590498, pvalue=0.33986342667566172)"
      ]
     },
     "execution_count": 93,
     "metadata": {},
     "output_type": "execute_result"
    }
   ],
   "source": [
    "#let us generate 100 normal variables with 0 as their mean and plot the normal propability plot[7]\n",
    "x = stats.norm.rvs(loc=0, size=100)\n",
    "stats.kstest(x,'norm')"
   ]
  },
  {
   "cell_type": "markdown",
   "metadata": {},
   "source": [
    "From the above results we can see that we will not be able to reject the null hypothesis.\n",
    "Thus we get that the given distribution is a normal distibution with 66% confidence. The test statistic D is given to be 0.0924 which again fails to be greater than the alpha value.<br>\n",
    "now lets test the same for the binomial distribution and check the values."
   ]
  },
  {
   "cell_type": "code",
   "execution_count": 100,
   "metadata": {},
   "outputs": [
    {
     "data": {
      "text/plain": [
       "KstestResult(statistic=0.063522495849565042, pvalue=0.00059620845064345396)"
      ]
     },
     "execution_count": 100,
     "metadata": {},
     "output_type": "execute_result"
    }
   ],
   "source": [
    "#let us assume a T- distribution random variate and check the same for normal distribution \n",
    "df = 2.74335149908\n",
    "r = stats.t.rvs(df, size=1000)\n",
    "stats.kstest(r,'norm')"
   ]
  },
  {
   "cell_type": "markdown",
   "metadata": {},
   "source": [
    "Thus from the above p value we can be nearly 100 % sure that the given distribution is not a normal one. The statistic value is quite high that the null hypothesis can be rejected. <br>\n",
    "Further the two sided and one sided tests can be done by using the keyword 'alternative'. Generally it is given as a two sided test but it can be made as a one sided one with the keyword 'less' or 'greater'.<br>\n",
    "\n",
    "The main drawback of this type of distribution is that it can only be used for the continuous distributions.Along with this , it tends to be very sensitive to the changes that occur in the center to the ones that occur in the tails.Further the main disadvantage that make all to prefer the other methods such as the Anderson-Darling Test is that if we are using the estimated data from the parameters that we know then this test does not hold good.<br>\n"
   ]
  },
  {
   "cell_type": "markdown",
   "metadata": {},
   "source": [
    "**Anderson-Darling Test**\n",
    "The Anderson-Darling test is again a modified version of the KS test , that is used to test if a sample of data came from a population with a specific distribution. The Anderson-Darling test makes use of the specific distribution in calculating critical values. This has the advantage of allowing a more sensitive test and the disadvantage that critical values must be calculated for each distribution. \n",
    "The test statistic is given by <br>\n",
    "$$A^2=−N−S $$\n",
    "where the S is given by<br>\n",
    "\n",
    "$$S = \\sum_{i=1}^{N}\\frac{(2i - 1)}{N}[\\ln{F(Y_{i})} +\n",
    "              \\ln{(1 - F(Y_{N+1-i}))}]$$\n",
    "The Null and the critical values are the same in both the K-S test and the Anderson test<br>\n",
    "now lets consider an example similar to that of the K-S test\n",
    "We generated 100 random numbers for normal, double exponential, Cauchy, and lognormal distributions. In all four cases, the Anderson-Darling test was applied to test for a normal distribution.\n"
   ]
  },
  {
   "cell_type": "code",
   "execution_count": 102,
   "metadata": {},
   "outputs": [
    {
     "data": {
      "text/plain": [
       "AndersonResult(statistic=0.41213703103500166, critical_values=array([ 0.555,  0.632,  0.759,  0.885,  1.053]), significance_level=array([ 15. ,  10. ,   5. ,   2.5,   1. ]))"
      ]
     },
     "execution_count": 102,
     "metadata": {},
     "output_type": "execute_result"
    }
   ],
   "source": [
    "x = stats.norm.rvs(loc=0, size=100)\n",
    "scipy.stats.anderson(x, dist='norm')"
   ]
  },
  {
   "cell_type": "markdown",
   "metadata": {},
   "source": [
    "From the above result we can see that the anderson test returns the critical values at the different alpha levels. As the distribution considered here is a normal distribution the critical values taken into consideration are 15%, 10%, 5%, 2.5%, 1%.<br>\n",
    "The statistic result is the test statistic . As the result obtained above is below than all the critical values we can hence conclude that the given sample data follows a normal distribution.<br>\n",
    "Similar to the previous case now lets assume that the binomial distribution as this case can also test for the discrete distributions.<br>\n"
   ]
  },
  {
   "cell_type": "code",
   "execution_count": 105,
   "metadata": {},
   "outputs": [
    {
     "data": {
      "text/plain": [
       "AndersonResult(statistic=1.6783529933454417, critical_values=array([ 0.555,  0.632,  0.759,  0.885,  1.053]), significance_level=array([ 15. ,  10. ,   5. ,   2.5,   1. ]))"
      ]
     },
     "execution_count": 105,
     "metadata": {},
     "output_type": "execute_result"
    }
   ],
   "source": [
    "r = stats.binom.rvs(n=10, p=0.5, size=100)\n",
    "scipy.stats.anderson(r, dist='norm')"
   ]
  },
  {
   "cell_type": "markdown",
   "metadata": {},
   "source": [
    "Thus from the above result we can confirm that the data that has been subjected to the anderson test , does not follow the normal distribution but it follows the binomial distribution. There by we reject the null hypothesis.In the similar manner the anderson test can be conducted for other distributions such as the lognormal , weibull, exponential and logistic distribution."
   ]
  },
  {
   "cell_type": "markdown",
   "metadata": {},
   "source": [
    "**Grubbs' Test for Outliers**<br>\n",
    "Grubbs' test is used to detect a single outlier in a univariate data set that follows an approximately normal distribution. An outlier is a value in the data that is either too low or high and often misrepresents the average value of the data.Grubbs' test is also known as the maximum normed residual test.\n",
    "Grubbs' test is defined for the hypothesis:<br>\n",
    "$H_0$:\tThere are no outliers in the data set<br>\n",
    "$H_1$:\tThere is exactly one outlier in the data set<br>\n",
    "The test statistic is given by the formula:<br>\n",
    "$$G = \\frac{\\max{|Y_{i} - \\bar{Y}|}} {s}$$<br>\n",
    "The test can be either two sided or one sided. If it is one sided then the formula used is <br>\n",
    "$$G = \\frac{\\bar{Y} - Y_{min}} {s}$$ to find the min outlier<br>\n",
    "$$G = \\frac{Y_{max} - \\bar{Y}} {s}$$ to find the max outlier<br>\n",
    "\n",
    "For a two sided test the null hypothesis is rejected if <br>\n",
    "$$G > \\frac{(N-1)} {\\sqrt{N}}\n",
    "                \\sqrt{\\frac{(t_{\\alpha/(2N),N-2})^2}\n",
    "                {N-2+(t_{\\alpha/(2N),N-2})^2}}$$<br>\n",
    "where the value of $t_{\\alpha/(2N),N-2}$ denotes the t value at N-2 degrees of freedom and the standard error of $\\alpha/(2N)$<br>\n",
    "Let us assume an example where the readings of the mass spectrometer reading an uranium isotope is given by the following measurements  199.31 199.53 200.19 200.82 201.92 201.95 202.18 245.57. <img src=\"grubb.gif\"><br>\n",
    "Thus from the plot we can clearly see the outlier.[9]\n"
   ]
  },
  {
   "cell_type": "code",
   "execution_count": 116,
   "metadata": {},
   "outputs": [
    {
     "data": {
      "text/plain": [
       "array([ 199.31,  199.53,  200.19,  200.82,  201.92,  201.95,  202.18])"
      ]
     },
     "execution_count": 116,
     "metadata": {},
     "output_type": "execute_result"
    }
   ],
   "source": [
    "#! pip install https://pypi.python.org/packages/b1/b6/686a53fbf3fb4c6fd912cca01999d9e9da90a83756040223a16afd2ed578/outlier_utils-0.0.3-py3-none-any.whl#md5=40decb3260f9ff94ebfd55a075579c93\n",
    "    \n",
    "from outliers import smirnov_grubbs as grubbs\n",
    "data = np.array([199.31,199.53,200.19,200.82,201.92,201.95,202.18,245.57])\n",
    "#Two sided test\n",
    "grubbs.test(data, alpha=0.05)\n"
   ]
  },
  {
   "cell_type": "markdown",
   "metadata": {},
   "source": [
    "Thus from the above output we see that the outlier 245.57 is removed from the array and hence the data available now is without any outlier"
   ]
  },
  {
   "cell_type": "markdown",
   "metadata": {},
   "source": [
    "# **Exploratory Data Analysis**<br>\n",
    "Exploratory Data Analysis (EDA) is a special approach to analyzing data. It’s where one can have an overview about the data and tries to make some sense of it. It’s often the first step in data analysis, implemented before any formal statistical techniques are applied.<br>\n",
    "The purpose of exploratory data analysis is to:\n",
    "- -Check for missing data and and make necessary assumptions on them.\n",
    "- -Gain insight into the data set and predict the structure.\n",
    "- -Check assumptions associated with any model fitting or hypothesis test.\n",
    "- -Create a list of outliers or other anomalies.\n",
    "- -Find parameter estimates and their associated confidence intervals or margins of error.\n",
    "- -Identify the most influential variables.[3]<br>\n",
    "\n",
    "\n"
   ]
  },
  {
   "cell_type": "markdown",
   "metadata": {},
   "source": [
    "**Normal Probability Plot**<br>\n",
    "It is a technique which is used to assess whether the graph is normally distributed.The data are plotted against a theoretical normal distribution in a way that the points should form an approximate straight line. Departures from this straight line indicates that the data analysed is deviating from the actual normal distribution.<br>\n",
    "<img src=\"normprpl.gif\">[4]<br>\n",
    "The normal probability plot is formed by:<br>\n",
    "Vertical axis: Ordered response values<br>\n",
    "Horizontal axis: Normal order statistic medians<br>\n",
    "\n"
   ]
  },
  {
   "cell_type": "code",
   "execution_count": 87,
   "metadata": {},
   "outputs": [
    {
     "data": {
      "image/png": "[encoded data removed]",
      "text/plain": [
       "<matplotlib.figure.Figure at 0x11e4c95f8>"
      ]
     },
     "metadata": {},
     "output_type": "display_data"
    }
   ],
   "source": [
    "#let us generate 100 normal variables with 0 as their mean and plot the normal propability plot\n",
    "x = stats.norm.rvs(loc=0, scale=1, size=100)\n",
    "res = stats.probplot(x, plot=plt)"
   ]
  },
  {
   "cell_type": "markdown",
   "metadata": {},
   "source": [
    "we can see from the above normal propability graph that binomial distribution does not follow the straight line and hence this gives us that the data being analysed in this case is not a normal distribution. Thus the normal propability plot essentially answers two of the important question <br>\n",
    "1)Either the given data is normally distributed ?<br>\n",
    "2)And if so the charactersitics if the skewness and the thickness of the tails.<br>[4]"
   ]
  },
  {
   "cell_type": "code",
   "execution_count": 96,
   "metadata": {},
   "outputs": [
    {
     "data": {
      "image/png": "[encoded data removed]",
      "text/plain": [
       "<matplotlib.figure.Figure at 0x11d42e8d0>"
      ]
     },
     "metadata": {},
     "output_type": "display_data"
    }
   ],
   "source": [
    "#now let us test the same for the binomial distribution and find the graph of the same\n",
    "r = stats.binom.rvs(n=10, p=0.5, size=100)\n",
    "res = stats.probplot(r, plot=plt)\n"
   ]
  },
  {
   "cell_type": "markdown",
   "metadata": {},
   "source": [
    "Thus we see that for a binomial distribution the NPP doesnt follow the straight line. But the major problem assocaited with this type of analysis is that we should know the distribution of the sample.This is not possible in all the case . Therefore we go for the Bootstrap method\n"
   ]
  },
  {
   "cell_type": "markdown",
   "metadata": {},
   "source": [
    "**Bootstrap method**<br>\n",
    "In this method the let us assume that we have two sets of the sample data S1 with size m and S2 with size n. Thereby selecting the values from the sample data we bootstrap the data.<br>\n",
    "Now the sample mean difference is found(observed value): $$T_o = S1_o − S2_o$$<br>\n",
    "Hypotheses and Alpha Level<br>\n",
    "- -H0: Both samples are from the same population<br>\n",
    "- -H1: Both samples are NOT from the same population and $\\mu_s1 > \\mu_s2$ at $\\alpha=0.05$<br>\n",
    "Bootstrap Procedure:<br>\n",
    "- -The two samples are joined and made into one sample of size (m+n).\n",
    "- -(m+n) number of observations are selected with replacement from the merjed sample.\n",
    "- -now the respective means of the first n and m observations are found $\\mu_n$ and $\\mu_m$ are found and the Test statistic is calculated$$ T_s= \\mu_n -\\mu_m$$\n",
    "- -The steps 1 and 2 are repeated a lot of times (for example 1000 )and the B-values for the test statistic is obtained.\n",
    "- -The desired p-value is given as:\n",
    "$$p(value) ∼= \\frac{number of times T_s > T_o} {\n",
    "B}$$<br>\n",
    "Reject or retain the $H_o$ value depending upon the value of the p value.<br>\n",
    "Two important points to be noted in the Bootstraping technique is that no assumption of the shape of the curve is made in this case and no prior information of the data is needed in order to estimate the bootstrap.<br>\n",
    "The sampling distribution $T_s$ doe not generally follow a t distribution.[10]"
   ]
  },
  {
   "cell_type": "markdown",
   "metadata": {},
   "source": [
    "#**Reference**\n",
    "[1]Normality test - Wikipedia\n",
    "\n",
    "[2]http://www.six-sigma-material.com/Alpha-and-Beta-Risks.html\n",
    "\n",
    "[3]http://www.statisticshowto.com/exploratory-data-analysis/\n",
    "\n",
    "[4] http://www.itl.nist.gov/div898/handbook/eda/section3/normprpl.htm\n",
    "\n",
    "[5]http://www.itl.nist.gov/div898/handbook/eda/section3/eda35.htm]\n",
    "\n",
    "[6]https://www.r-bloggers.com/exploratory-data-analysis-conceptual-foundations-of-empirical-cumulative-distribution-functions/\n",
    "\n",
    "[7]https://docs.scipy.org/doc/scipy-0.14.0/reference/generated/scipy.stats.kstest.html\n",
    "\n",
    "[8]http://www.itl.nist.gov/div898/handbook/eda/section3/eda35e.htm\n",
    "\n",
    "[9]http://www.itl.nist.gov/div898/handbook/eda/section3/eda35h1.htm\n",
    "\n",
    "[10]http://faculty.psy.ohio-state.edu/myung/personal/course/826/bootstrap_hypo.pdf"
   ]
  }
 ],
 "metadata": {
  "anaconda-cloud": {},
  "kernelspec": {
   "display_name": "Python [default]",
   "language": "python",
   "name": "python3"
  },
  "language_info": {
   "codemirror_mode": {
    "name": "ipython",
    "version": 3
   },
   "file_extension": ".py",
   "mimetype": "text/x-python",
   "name": "python",
   "nbconvert_exporter": "python",
   "pygments_lexer": "ipython3",
   "version": "3.5.2"
  }
 },
 "nbformat": 4,
 "nbformat_minor": 2
}
